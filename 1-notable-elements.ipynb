{
 "cells": [
  {
   "cell_type": "markdown",
   "id": "9df0fd2a",
   "metadata": {},
   "source": [
    "# Numerical semigroups and notable elements"
   ]
  },
  {
   "cell_type": "markdown",
   "id": "55aa7271",
   "metadata": {},
   "source": [
    "## Some basic definitions"
   ]
  },
  {
   "cell_type": "markdown",
   "id": "2e4a68a3",
   "metadata": {},
   "source": [
    "Recall that a numerical semigroup $S$ is a subset of the set of nonnegative integers, $\\mathbb{N}$, that is closed under addition, $0\\in S$, and there are only finitely many positive integers not belonging to $S$. The first two contidions imply that $(S,+)$ is a submonoid of $(\\mathbb{N},+)$. \n",
    "\n",
    "The set $\\mathbb{N}\\setminus S$ is known as the set of gaps of $S$, denoted $\\operatorname{G}(S)$, and the largest integer not belonging to $S$ is its Frobenius number, $\\operatorname{F}(S)$. The conductor of $S$, $\\operatorname{C}(S)$ has the following property: $\\operatorname{C}(S)+\\mathbb{N}\\subseteq S$."
   ]
  },
  {
   "cell_type": "code",
   "execution_count": 1,
   "id": "32195684",
   "metadata": {
    "vscode": {
     "languageId": "gap 4"
    }
   },
   "outputs": [
    {
     "data": {
      "text/plain": [
       "true"
      ]
     },
     "execution_count": 1,
     "metadata": {
      "text/plain": ""
     },
     "output_type": "execute_result"
    }
   ],
   "source": [
    "LoadPackage(\"num\");"
   ]
  },
  {
   "cell_type": "code",
   "execution_count": 2,
   "id": "ae156b75",
   "metadata": {
    "vscode": {
     "languageId": "gap 4"
    }
   },
   "outputs": [
    {
     "data": {
      "text/plain": [
       "<Numerical semigroup>"
      ]
     },
     "execution_count": 2,
     "metadata": {
      "text/plain": ""
     },
     "output_type": "execute_result"
    }
   ],
   "source": [
    "s:=NumericalSemigroupByGaps([1..5]);"
   ]
  },
  {
   "cell_type": "code",
   "execution_count": 3,
   "id": "ae1934c2",
   "metadata": {
    "vscode": {
     "languageId": "gap 4"
    }
   },
   "outputs": [
    {
     "data": {
      "text/plain": [
       "true"
      ]
     },
     "execution_count": 3,
     "metadata": {
      "text/plain": ""
     },
     "output_type": "execute_result"
    }
   ],
   "source": [
    "10 in s;"
   ]
  },
  {
   "cell_type": "code",
   "execution_count": 4,
   "id": "985a5c09",
   "metadata": {
    "vscode": {
     "languageId": "gap 4"
    }
   },
   "outputs": [
    {
     "data": {
      "text/plain": [
       "5"
      ]
     },
     "execution_count": 4,
     "metadata": {
      "text/plain": ""
     },
     "output_type": "execute_result"
    }
   ],
   "source": [
    "FrobeniusNumber(s);"
   ]
  },
  {
   "cell_type": "code",
   "execution_count": 5,
   "id": "426c6e41",
   "metadata": {
    "vscode": {
     "languageId": "gap 4"
    }
   },
   "outputs": [
    {
     "data": {
      "text/plain": [
       "[ 1 .. 5 ]"
      ]
     },
     "execution_count": 5,
     "metadata": {
      "text/plain": ""
     },
     "output_type": "execute_result"
    }
   ],
   "source": [
    "Gaps(s);"
   ]
  },
  {
   "cell_type": "markdown",
   "id": "487a3e2e",
   "metadata": {},
   "source": [
    "We can see which elements in the semigroup are in a given interval."
   ]
  },
  {
   "cell_type": "code",
   "execution_count": 6,
   "id": "843fba4c",
   "metadata": {
    "vscode": {
     "languageId": "gap 4"
    }
   },
   "outputs": [
    {
     "data": {
      "text/plain": [
       "[ 0, 6, 7, 8, 9, 10, 11, 12, 13, 14, 15, 16, 17, 18, 19, 20, 21, 22, 23, 24,   25, 26, 27, 28, 29, 30 ]"
      ]
     },
     "execution_count": 6,
     "metadata": {
      "text/plain": ""
     },
     "output_type": "execute_result"
    }
   ],
   "source": [
    "Intersection(s,[0..30]);"
   ]
  },
  {
   "cell_type": "markdown",
   "id": "46b1eb21",
   "metadata": {},
   "source": [
    "Or which is the $i$th element in the semigroup."
   ]
  },
  {
   "cell_type": "code",
   "execution_count": 7,
   "id": "11408bca",
   "metadata": {
    "vscode": {
     "languageId": "gap 4"
    }
   },
   "outputs": [
    {
     "data": {
      "text/plain": [
       "34"
      ]
     },
     "execution_count": 7,
     "metadata": {
      "text/plain": ""
     },
     "output_type": "execute_result"
    }
   ],
   "source": [
    "s[30];"
   ]
  },
  {
   "cell_type": "markdown",
   "id": "be510ce9",
   "metadata": {},
   "source": [
    "Or even, what are the first $n$ elements in the semigroup."
   ]
  },
  {
   "cell_type": "code",
   "execution_count": 8,
   "id": "6401a346",
   "metadata": {
    "vscode": {
     "languageId": "gap 4"
    }
   },
   "outputs": [
    {
     "data": {
      "text/plain": [
       "[ 0, 6, 7, 8, 9, 10, 11, 12, 13, 14, 15, 16, 17, 18, 19, 20, 21, 22, 23, 24 ]"
      ]
     },
     "execution_count": 8,
     "metadata": {
      "text/plain": ""
     },
     "output_type": "execute_result"
    }
   ],
   "source": [
    "s{[1..20]};"
   ]
  },
  {
   "cell_type": "markdown",
   "id": "937c9224",
   "metadata": {},
   "source": [
    "The genus of $S$ is the cardinality of $\\mathbb{N}\\setminus S$, denoted $\\operatorname{g}(S)$."
   ]
  },
  {
   "cell_type": "code",
   "execution_count": 9,
   "id": "2b23da44",
   "metadata": {
    "vscode": {
     "languageId": "gap 4"
    }
   },
   "outputs": [
    {
     "data": {
      "text/plain": [
       "5"
      ]
     },
     "execution_count": 9,
     "metadata": {
      "text/plain": ""
     },
     "output_type": "execute_result"
    }
   ],
   "source": [
    "Genus(s);"
   ]
  },
  {
   "cell_type": "markdown",
   "id": "02536b43",
   "metadata": {},
   "source": [
    "The set $S\\cap[0,\\operatorname{C}(S)]$ is known as the set of small elements of $S$ (if we remove the conductor, then somtimes is called the set of left or sporadic elements)."
   ]
  },
  {
   "cell_type": "code",
   "execution_count": 10,
   "id": "9d983145",
   "metadata": {
    "vscode": {
     "languageId": "gap 4"
    }
   },
   "outputs": [
    {
     "data": {
      "text/plain": [
       "[ 0, 6 ]"
      ]
     },
     "execution_count": 10,
     "metadata": {
      "text/plain": ""
     },
     "output_type": "execute_result"
    }
   ],
   "source": [
    "SmallElements(s);"
   ]
  },
  {
   "cell_type": "code",
   "execution_count": 11,
   "id": "881da35d",
   "metadata": {
    "vscode": {
     "languageId": "gap 4"
    }
   },
   "outputs": [
    {
     "data": {
      "text/plain": [
       "true"
      ]
     },
     "execution_count": 11,
     "metadata": {
      "text/plain": ""
     },
     "output_type": "execute_result"
    }
   ],
   "source": [
    "s=NumericalSemigroupBySmallElements([0,6]);"
   ]
  },
  {
   "cell_type": "markdown",
   "id": "f9330665",
   "metadata": {},
   "source": [
    "Denote by $\\operatorname{n}(S)=\\#\\{s \\in S : s<\\operatorname{F}(S)\\}$. It follows that $\\operatorname{n}(S)+\\operatorname{g}(S)=\\operatorname{F}(S)+1$. Since for every $n\\in S$ with $n<\\operatorname{F}(S)$ we have that $\\operatorname{F}(S)-n\\not\\in S$, we have that there are less left elements than gaps, and so the following inequality always holds."
   ]
  },
  {
   "cell_type": "code",
   "execution_count": 12,
   "id": "faf5d493",
   "metadata": {
    "scrolled": true,
    "vscode": {
     "languageId": "gap 4"
    }
   },
   "outputs": [
    {
     "data": {
      "text/plain": [
       "true"
      ]
     },
     "execution_count": 12,
     "metadata": {
      "text/plain": ""
     },
     "output_type": "execute_result"
    }
   ],
   "source": [
    "Genus(s)>= (FrobeniusNumber(s)+1)/2;"
   ]
  },
  {
   "cell_type": "markdown",
   "id": "5f2f30e7",
   "metadata": {},
   "source": [
    "Given $A$ a set of positive integers, the submonoid (under addition) of $\\mathbb{N}$ generated by $A$ is the intersection of all submonoids of $\\mathbb{N}$ contanining $A$, which can be described as \n",
    "$$ \\langle A\\rangle = \\left\\{ \\sum_{i=1}^n \\lambda_i a_i : n\\in\\mathbb{N}, \\lambda_i\\in \\mathbb{N}, a_i\\in A\\right\\}.$$\n",
    "The submonoid $\\langle A\\rangle$ is a numerical semigroup if and only if $\\gcd(A)=1$.\n",
    "\n",
    "We say that $A$ is a generating system of $S$ if $S=\\langle A\\rangle$, and that $A$ is a minimal generating system of $S$ if, in addition, no proper subset of $A$ generates $S$. \n",
    "\n",
    "Every numerical semgiroup has a unique minimal generating system: $S^*\\setminus (S^*+S^*)$, with $S^*=S\\setminus\\{0\\}$. Sometimes the elements in the minimal generating system of $S$ are called minimal generators, atoms, irreducible, or primitive elements of $S$. The cardinality of the minimal generating system of $S$ is known as the embedding dimension of $S$, denoted $\\operatorname{e}(S)$."
   ]
  },
  {
   "cell_type": "code",
   "execution_count": 13,
   "id": "42a27a8a",
   "metadata": {
    "vscode": {
     "languageId": "gap 4"
    }
   },
   "outputs": [
    {
     "data": {
      "text/plain": [
       "[ 6 .. 11 ]"
      ]
     },
     "execution_count": 13,
     "metadata": {
      "text/plain": ""
     },
     "output_type": "execute_result"
    }
   ],
   "source": [
    "Generators(s);"
   ]
  },
  {
   "cell_type": "code",
   "execution_count": 14,
   "id": "62cce96a",
   "metadata": {
    "vscode": {
     "languageId": "gap 4"
    }
   },
   "outputs": [
    {
     "data": {
      "text/plain": [
       "[ 6 .. 11 ]"
      ]
     },
     "execution_count": 14,
     "metadata": {
      "text/plain": ""
     },
     "output_type": "execute_result"
    }
   ],
   "source": [
    "MinimalGenerators(s);"
   ]
  },
  {
   "cell_type": "code",
   "execution_count": 15,
   "id": "b77dd575",
   "metadata": {
    "vscode": {
     "languageId": "gap 4"
    }
   },
   "outputs": [
    {
     "data": {
      "text/plain": [
       "6"
      ]
     },
     "execution_count": 15,
     "metadata": {
      "text/plain": ""
     },
     "output_type": "execute_result"
    }
   ],
   "source": [
    "EmbeddingDimension(s);"
   ]
  },
  {
   "cell_type": "markdown",
   "id": "96a05e3f",
   "metadata": {},
   "source": [
    "We can define a numerical semigoup by giving one of its generating sets."
   ]
  },
  {
   "cell_type": "code",
   "execution_count": 16,
   "id": "f7f45111",
   "metadata": {
    "vscode": {
     "languageId": "gap 4"
    }
   },
   "outputs": [
    {
     "data": {
      "text/plain": [
       "<Numerical semigroup with 3 generators>"
      ]
     },
     "execution_count": 16,
     "metadata": {
      "text/plain": ""
     },
     "output_type": "execute_result"
    }
   ],
   "source": [
    "s:=NumericalSemigroup(3,5,7);"
   ]
  },
  {
   "cell_type": "markdown",
   "id": "ff4c9756",
   "metadata": {},
   "source": [
    "The multiplicity of a numerical semigroup $S$ is the least positive integer in $S$ (and coincides with its smallest minimal generator), we will denote it by $\\operatorname{m}(S)$."
   ]
  },
  {
   "cell_type": "code",
   "execution_count": 17,
   "id": "8e72da0c",
   "metadata": {
    "vscode": {
     "languageId": "gap 4"
    }
   },
   "outputs": [
    {
     "data": {
      "text/plain": [
       "3"
      ]
     },
     "execution_count": 17,
     "metadata": {
      "text/plain": ""
     },
     "output_type": "execute_result"
    }
   ],
   "source": [
    "Multiplicity(s);"
   ]
  },
  {
   "cell_type": "markdown",
   "id": "d944e41f",
   "metadata": {},
   "source": [
    "## Apéry sets"
   ]
  },
  {
   "cell_type": "markdown",
   "id": "0e7031d6",
   "metadata": {},
   "source": [
    "One of the most important tools when studying numerical semigroups is the concept of Apéry sets. Given a numerical semigroup $S$ and $n$ a nonzero element of $S$ (one can define also Apéry sets for elements outside $S$, but we are not going to deal with them here), the Apéry set of $n$ in $S$ (or of $S$ with respect to $n$) is the set \n",
    "$$\\operatorname{Ap}(S,n)=\\{ s\\in S : s-n\\not\\in S\\}.$$\n",
    "This set has precisely $n$ elements, one in each congruence class modulo $n$. Moreover, for every $s\\in S$ there exist unique $k\\in \\mathbb{N}$ and $w\\in \\operatorname{Ap}(S,n)$ such that $s=kn+w$. This in particular implies that the embedding dimension of $S$ is always smaller than or equal to its multiplicity, since $(\\operatorname{Ap}(S,n))\\setminus\\{0\\}\\cup\\{n\\}$ is a minimal generating set of $S$ for all $n\\in S\\setminus\\{0\\}$."
   ]
  },
  {
   "cell_type": "code",
   "execution_count": 19,
   "id": "12f7e746",
   "metadata": {
    "vscode": {
     "languageId": "gap 4"
    }
   },
   "outputs": [
    {
     "data": {
      "text/plain": [
       "[ 0, 25, 26, 15, 16, 41, 6, 31, 20, 21, 10, 35 ]"
      ]
     },
     "execution_count": 19,
     "metadata": {
      "text/plain": ""
     },
     "output_type": "execute_result"
    }
   ],
   "source": [
    "s:=NumericalSemigroup(6,10,15);;\n",
    "AperyList(s,12);"
   ]
  },
  {
   "cell_type": "markdown",
   "id": "a0194713",
   "metadata": {},
   "source": [
    "If the second argument is not given, then the Apéry set is taken with respect to the multiplicity of the numerical semigroup."
   ]
  },
  {
   "cell_type": "code",
   "execution_count": 20,
   "id": "3285ac2a",
   "metadata": {
    "vscode": {
     "languageId": "gap 4"
    }
   },
   "outputs": [
    {
     "data": {
      "text/plain": [
       "[ 0, 25, 20, 15, 10, 35 ]"
      ]
     },
     "execution_count": 20,
     "metadata": {
      "text/plain": ""
     },
     "output_type": "execute_result"
    }
   ],
   "source": [
    "AperyList(s);"
   ]
  },
  {
   "cell_type": "markdown",
   "id": "01edd84a",
   "metadata": {},
   "source": [
    "The output is arranged in a list, so that in the $i$th position (starting in 0) we find the least element in $S$ congruent with $i$ modulo $n$. In this way, membership to $S$ becomes trivial once an Apéry set of the semigroup is known. \n",
    "\n",
    "This has some other interesting consequences:"
   ]
  },
  {
   "cell_type": "code",
   "execution_count": 21,
   "id": "e0fa9006",
   "metadata": {
    "vscode": {
     "languageId": "gap 4"
    }
   },
   "outputs": [
    {
     "data": {
      "text/plain": [
       "true"
      ]
     },
     "execution_count": 21,
     "metadata": {
      "text/plain": ""
     },
     "output_type": "execute_result"
    }
   ],
   "source": [
    "FrobeniusNumber(s)=Maximum(AperyList(s,12))-12;"
   ]
  },
  {
   "cell_type": "code",
   "execution_count": 22,
   "id": "80ea52c0",
   "metadata": {
    "vscode": {
     "languageId": "gap 4"
    }
   },
   "outputs": [
    {
     "data": {
      "text/plain": [
       "true"
      ]
     },
     "execution_count": 22,
     "metadata": {
      "text/plain": ""
     },
     "output_type": "execute_result"
    }
   ],
   "source": [
    "Genus(s)=(Sum(AperyList(s,12)))/12- (12-1)/2;"
   ]
  },
  {
   "cell_type": "markdown",
   "id": "87d869ba",
   "metadata": {},
   "source": [
    "Let $m$ be the multiplcity of $S$, and let $w_i$ be the element in the Apéry set of $m$ in $S$ congruent with $i$ modulo $m$. We can write $w_i=k_im+i$. The tuple $(k_1,\\dots,k_{m-1})$ is known as the Kunz coordinates of $S$. "
   ]
  },
  {
   "cell_type": "code",
   "execution_count": 23,
   "id": "7a9bf52e",
   "metadata": {
    "vscode": {
     "languageId": "gap 4"
    }
   },
   "outputs": [
    {
     "data": {
      "text/plain": [
       "[ 4, 3, 2, 1, 5 ]"
      ]
     },
     "execution_count": 23,
     "metadata": {
      "text/plain": ""
     },
     "output_type": "execute_result"
    }
   ],
   "source": [
    "KunzCoordinates(s);"
   ]
  },
  {
   "cell_type": "markdown",
   "id": "456448e3",
   "metadata": {},
   "source": [
    "Notice that every nonnegative integer $x$ can be written as $x=k m+i$ for some $k,n\\in \\mathbb{N}$, with $i<m$. It follows easily that $x\\in S$ if and only if $k\\ge k_i$. So it is at no surprise that the genus is precisely the sum of the Kunz coordinates of $S$, which is just a reformulation of the above statement on the genus.    "
   ]
  },
  {
   "cell_type": "code",
   "execution_count": 24,
   "id": "6def5599",
   "metadata": {
    "vscode": {
     "languageId": "gap 4"
    }
   },
   "outputs": [
    {
     "data": {
      "text/plain": [
       "true"
      ]
     },
     "execution_count": 24,
     "metadata": {
      "text/plain": ""
     },
     "output_type": "execute_result"
    }
   ],
   "source": [
    "Genus(s)=Sum(KunzCoordinates(s));"
   ]
  },
  {
   "cell_type": "markdown",
   "id": "29f24b6c",
   "metadata": {},
   "source": [
    "Notice that $w_i+w_j\\in S$ for all $i,j$, and thus $w_i+w_j=k_{ij}m+w_{i+j \\bmod n}$, this imposes some conditions on the tuples $(k_1,\\dots,k_{m-1})$ that can be Kunz coordinates of a numerical semigroup with multiplicity $m$. In fact, there is a one to one correspondence between numerical semigroups with multiplicity $m$ and integers points in what it is called the Kunz polyhedron."
   ]
  },
  {
   "cell_type": "code",
   "execution_count": 25,
   "id": "97f087fe",
   "metadata": {
    "vscode": {
     "languageId": "gap 4"
    }
   },
   "outputs": [
    {
     "data": {
      "text/plain": [
       "[ [ 1, 0, 0, 0, 0, -1 ], [ 0, 1, 0, 0, 0, -1 ], [ 0, 0, 1, 0, 0, -1 ],   [ 0, 0, 0, 1, 0, -1 ], [ 0, 0, 0, 0, 1, -1 ], [ 2, -1, 0, 0, 0, 0 ],   [ 1, 1, -1, 0, 0, 0 ], [ 1, 0, 1, -1, 0, 0 ], [ 1, 0, 0, 1, -1, 0 ],   [ 0, 2, 0, -1, 0, 0 ], [ 0, 1, 1, 0, -1, 0 ], [ -1, 1, 0, 0, 1, 1 ],   [ -1, 0, 1, 1, 0, 1 ], [ 0, -1, 1, 0, 1, 1 ], [ 0, -1, 0, 2, 0, 1 ],   [ 0, 0, -1, 1, 1, 1 ], [ 0, 0, 0, -1, 2, 1 ] ]"
      ]
     },
     "execution_count": 25,
     "metadata": {
      "text/plain": ""
     },
     "output_type": "execute_result"
    }
   ],
   "source": [
    "KunzPolytope(6);"
   ]
  },
  {
   "cell_type": "markdown",
   "id": "4c51b642",
   "metadata": {},
   "source": [
    "The first elements of this output mean that $x_i\\ge 1$, while for instance $[ 1, 0, 1, -1, 0, 0 ]$ translates to $x_1+x_3\\ge x_4$, and $ [ 0, 0, 0, -1, 2, 1 ]$ to $2x_5+1\\ge x_4$."
   ]
  },
  {
   "cell_type": "code",
   "execution_count": 27,
   "id": "5ec266be",
   "metadata": {
    "vscode": {
     "languageId": "gap 4"
    }
   },
   "outputs": [],
   "source": [
    "x:=List([1..5],i->Indeterminate(Rationals,i));;\n",
    "x1:=Concatenation(x,[1]);;"
   ]
  },
  {
   "cell_type": "code",
   "execution_count": 28,
   "id": "ccd84663",
   "metadata": {
    "vscode": {
     "languageId": "gap 4"
    }
   },
   "outputs": [
    {
     "name": "stdout",
     "output_type": "stream",
     "text": [
      "x_1-1 ≥ 0\n",
      "x_2-1 ≥ 0\n",
      "x_3-1 ≥ 0\n",
      "x_4-1 ≥ 0\n",
      "x_5-1 ≥ 0\n",
      "2*x_1-x_2 ≥ 0\n",
      "x_1+x_2-x_3 ≥ 0\n",
      "x_1+x_3-x_4 ≥ 0\n",
      "x_1+x_4-x_5 ≥ 0\n",
      "2*x_2-x_4 ≥ 0\n",
      "x_2+x_3-x_5 ≥ 0\n",
      "-x_1+x_2+x_5+1 ≥ 0\n",
      "-x_1+x_3+x_4+1 ≥ 0\n",
      "-x_2+x_3+x_5+1 ≥ 0\n",
      "-x_2+2*x_4+1 ≥ 0\n",
      "-x_3+x_4+x_5+1 ≥ 0\n",
      "-x_4+2*x_5+1 ≥ 0\n"
     ]
    }
   ],
   "source": [
    "for eq in KunzPolytope(6) do Print(eq*x1,\" ≥ 0\\n\"); od;"
   ]
  },
  {
   "cell_type": "markdown",
   "id": "e79a1050",
   "metadata": {},
   "source": [
    "## Pseudo-Frobenius numbers and type"
   ]
  },
  {
   "cell_type": "markdown",
   "id": "be905552",
   "metadata": {},
   "source": [
    "Let $S$ be a numerical semigroup. A pseudo-Frobenius number is an integer $f$ such that $f+S^*\\subseteq S$. In particular, the Frobenius number of $S$ is a pseudo-Frobenius number. The cardinality of the set of pseudo-Frobenius numbers of $S$, $\\operatorname{FP}(S)$, is known as the type of $S$.\n",
    "\n",
    "The semigroup $S$ induces the following ordering over the integers: $a \\le_S b$ if $b-a\\in S$. It easily follows that \n",
    "$$ \\operatorname{PF}(S)= \\operatorname{Maximals}_{\\le_S}(\\mathbb{N}\\setminus S).$$"
   ]
  },
  {
   "cell_type": "code",
   "execution_count": 29,
   "id": "6aca7ad8",
   "metadata": {
    "vscode": {
     "languageId": "gap 4"
    }
   },
   "outputs": [
    {
     "data": {
      "text/plain": [
       "<Numerical semigroup with 4 generators>"
      ]
     },
     "execution_count": 29,
     "metadata": {
      "text/plain": ""
     },
     "output_type": "execute_result"
    }
   ],
   "source": [
    "s:=NumericalSemigroup(6,11,13,21);"
   ]
  },
  {
   "cell_type": "code",
   "execution_count": 30,
   "id": "d97a89b4",
   "metadata": {
    "vscode": {
     "languageId": "gap 4"
    }
   },
   "outputs": [
    {
     "data": {
      "text/plain": [
       "[ 15, 16, 20 ]"
      ]
     },
     "execution_count": 30,
     "metadata": {
      "text/plain": ""
     },
     "output_type": "execute_result"
    }
   ],
   "source": [
    "PseudoFrobenius(s);"
   ]
  },
  {
   "cell_type": "code",
   "execution_count": 31,
   "id": "32e2d2d6",
   "metadata": {
    "scrolled": true,
    "vscode": {
     "languageId": "gap 4"
    }
   },
   "outputs": [
    {
     "data": {
      "text/plain": [
       "3"
      ]
     },
     "execution_count": 31,
     "metadata": {
      "text/plain": ""
     },
     "output_type": "execute_result"
    }
   ],
   "source": [
    "Type(s);"
   ]
  },
  {
   "cell_type": "markdown",
   "id": "02778161",
   "metadata": {},
   "source": [
    "Is is not difficult to prove that for any $n\\in S\\setminus\\{0\\}$,  $$n+\\operatorname{PF}(S)=\\operatorname{Maximals}_{\\le_S}(\\operatorname{Ap}(S,n)).$$"
   ]
  },
  {
   "cell_type": "code",
   "execution_count": 32,
   "id": "d46909b6",
   "metadata": {
    "vscode": {
     "languageId": "gap 4"
    }
   },
   "outputs": [
    {
     "data": {
      "text/plain": [
       "<general mapping: Domain([ 0, 11, 13, 21, 22, 26 ]) -> Domain([ 0, 11, 13, 21, 22, 26 ]) >"
      ]
     },
     "execution_count": 32,
     "metadata": {
      "text/plain": ""
     },
     "output_type": "execute_result"
    }
   ],
   "source": [
    "rap:=HasseDiagramOfAperyListOfNumericalSemigroup(s);"
   ]
  },
  {
   "cell_type": "code",
   "execution_count": 33,
   "id": "8ad6bb1c",
   "metadata": {
    "vscode": {
     "languageId": "gap 4"
    }
   },
   "outputs": [
    {
     "data": {
      "image/svg+xml": [
       "<?xml version=\"1.0\" encoding=\"UTF-8\" standalone=\"no\"?>\n",
       "<!DOCTYPE svg PUBLIC \"-//W3C//DTD SVG 1.1//EN\"\n",
       " \"http://www.w3.org/Graphics/SVG/1.1/DTD/svg11.dtd\">\n",
       "<!-- Generated by graphviz version 9.0.0 (20230911.1827)\n",
       " -->\n",
       "<!-- Title: NSGraph Pages: 1 -->\n",
       "<svg width=\"206pt\" height=\"188pt\"\n",
       " viewBox=\"0.00 0.00 206.00 188.00\" xmlns=\"http://www.w3.org/2000/svg\" xmlns:xlink=\"http://www.w3.org/1999/xlink\">\n",
       "<g id=\"graph0\" class=\"graph\" transform=\"scale(1 1) rotate(0) translate(4 184)\">\n",
       "<title>NSGraph</title>\n",
       "<polygon fill=\"white\" stroke=\"none\" points=\"-4,4 -4,-184 202,-184 202,4 -4,4\"/>\n",
       "<!-- 1 -->\n",
       "<g id=\"node1\" class=\"node\">\n",
       "<title>1</title>\n",
       "<ellipse fill=\"none\" stroke=\"black\" cx=\"99\" cy=\"-18\" rx=\"27\" ry=\"18\"/>\n",
       "<text text-anchor=\"middle\" x=\"99\" y=\"-12.95\" font-family=\"Times,serif\" font-size=\"14.00\">0</text>\n",
       "</g>\n",
       "<!-- 2 -->\n",
       "<g id=\"node2\" class=\"node\">\n",
       "<title>2</title>\n",
       "<ellipse fill=\"none\" stroke=\"black\" cx=\"27\" cy=\"-90\" rx=\"27\" ry=\"18\"/>\n",
       "<text text-anchor=\"middle\" x=\"27\" y=\"-84.95\" font-family=\"Times,serif\" font-size=\"14.00\">11</text>\n",
       "</g>\n",
       "<!-- 2&#45;&gt;1 -->\n",
       "<g id=\"edge1\" class=\"edge\">\n",
       "<title>2&#45;&gt;1</title>\n",
       "<path fill=\"none\" stroke=\"black\" d=\"M50,-66.64C61.16,-55.79 74.26,-43.05 84.1,-33.49\"/>\n",
       "<polygon fill=\"black\" stroke=\"black\" points=\"47.73,-63.96 43,-73.44 52.61,-68.98 47.73,-63.96\"/>\n",
       "</g>\n",
       "<!-- 3 -->\n",
       "<g id=\"node3\" class=\"node\">\n",
       "<title>3</title>\n",
       "<ellipse fill=\"none\" stroke=\"black\" cx=\"99\" cy=\"-90\" rx=\"27\" ry=\"18\"/>\n",
       "<text text-anchor=\"middle\" x=\"99\" y=\"-84.95\" font-family=\"Times,serif\" font-size=\"14.00\">13</text>\n",
       "</g>\n",
       "<!-- 3&#45;&gt;1 -->\n",
       "<g id=\"edge2\" class=\"edge\">\n",
       "<title>3&#45;&gt;1</title>\n",
       "<path fill=\"none\" stroke=\"black\" d=\"M99,-60.24C99,-52.04 99,-43.37 99,-36.1\"/>\n",
       "<polygon fill=\"black\" stroke=\"black\" points=\"95.5,-60.18 99,-70.18 102.5,-60.18 95.5,-60.18\"/>\n",
       "</g>\n",
       "<!-- 4 -->\n",
       "<g id=\"node4\" class=\"node\">\n",
       "<title>4</title>\n",
       "<ellipse fill=\"none\" stroke=\"black\" cx=\"171\" cy=\"-90\" rx=\"27\" ry=\"18\"/>\n",
       "<text text-anchor=\"middle\" x=\"171\" y=\"-84.95\" font-family=\"Times,serif\" font-size=\"14.00\">21</text>\n",
       "</g>\n",
       "<!-- 4&#45;&gt;1 -->\n",
       "<g id=\"edge3\" class=\"edge\">\n",
       "<title>4&#45;&gt;1</title>\n",
       "<path fill=\"none\" stroke=\"black\" d=\"M148,-66.64C136.84,-55.79 123.74,-43.05 113.9,-33.49\"/>\n",
       "<polygon fill=\"black\" stroke=\"black\" points=\"145.39,-68.98 155,-73.44 150.27,-63.96 145.39,-68.98\"/>\n",
       "</g>\n",
       "<!-- 5 -->\n",
       "<g id=\"node5\" class=\"node\">\n",
       "<title>5</title>\n",
       "<ellipse fill=\"none\" stroke=\"black\" cx=\"27\" cy=\"-162\" rx=\"27\" ry=\"18\"/>\n",
       "<text text-anchor=\"middle\" x=\"27\" y=\"-156.95\" font-family=\"Times,serif\" font-size=\"14.00\">22</text>\n",
       "</g>\n",
       "<!-- 5&#45;&gt;2 -->\n",
       "<g id=\"edge4\" class=\"edge\">\n",
       "<title>5&#45;&gt;2</title>\n",
       "<path fill=\"none\" stroke=\"black\" d=\"M27,-132.24C27,-124.04 27,-115.37 27,-108.1\"/>\n",
       "<polygon fill=\"black\" stroke=\"black\" points=\"23.5,-132.18 27,-142.18 30.5,-132.18 23.5,-132.18\"/>\n",
       "</g>\n",
       "<!-- 6 -->\n",
       "<g id=\"node6\" class=\"node\">\n",
       "<title>6</title>\n",
       "<ellipse fill=\"none\" stroke=\"black\" cx=\"99\" cy=\"-162\" rx=\"27\" ry=\"18\"/>\n",
       "<text text-anchor=\"middle\" x=\"99\" y=\"-156.95\" font-family=\"Times,serif\" font-size=\"14.00\">26</text>\n",
       "</g>\n",
       "<!-- 6&#45;&gt;3 -->\n",
       "<g id=\"edge5\" class=\"edge\">\n",
       "<title>6&#45;&gt;3</title>\n",
       "<path fill=\"none\" stroke=\"black\" d=\"M99,-132.24C99,-124.04 99,-115.37 99,-108.1\"/>\n",
       "<polygon fill=\"black\" stroke=\"black\" points=\"95.5,-132.18 99,-142.18 102.5,-132.18 95.5,-132.18\"/>\n",
       "</g>\n",
       "</g>\n",
       "</svg>\n"
      ]
     },
     "execution_count": 33,
     "metadata": {
      "image/svg+xml": {
       "height": 500,
       "width": 500
      }
     },
     "output_type": "execute_result"
    }
   ],
   "source": [
    "JupyterSplashDot(DotBinaryRelation(rap));"
   ]
  },
  {
   "cell_type": "code",
   "execution_count": 34,
   "id": "6a10fdb7",
   "metadata": {
    "vscode": {
     "languageId": "gap 4"
    }
   },
   "outputs": [
    {
     "data": {
      "text/plain": [
       "[ 21, 22, 26 ]"
      ]
     },
     "execution_count": 34,
     "metadata": {
      "text/plain": ""
     },
     "output_type": "execute_result"
    }
   ],
   "source": [
    "6+PseudoFrobenius(s);"
   ]
  },
  {
   "cell_type": "markdown",
   "id": "76c94cd9",
   "metadata": {},
   "source": [
    "The minimal elements in $S\\setminus\\{0\\}$ with respect to $\\le_S$ are precisely the minimal generators of $S$."
   ]
  },
  {
   "cell_type": "markdown",
   "id": "29e72446",
   "metadata": {},
   "source": [
    "For every element $n\\in S\\cap[0,\\operatorname{F}(S))\\cup (\\operatorname{PF}(S)\\setminus\\{\\operatorname{F}(S)\\})$, we have that $\\operatorname{F}(S)-n$ is a gap of $S$. Thus $\\operatorname{n}(S)+\\operatorname{t}(S)-1\\le \\operatorname{g}(S)$. By combining this with $\\operatorname{n}(S)+\\operatorname{g}(S)=\\operatorname{F}(S)+1$, we obtain\n",
    "$$\n",
    "\\operatorname{g}(S)\\ge \\frac{\\operatorname{F}(S)+\\operatorname{t}(S)}2.\n",
    "$$"
   ]
  },
  {
   "cell_type": "code",
   "execution_count": 35,
   "id": "5246d621",
   "metadata": {
    "vscode": {
     "languageId": "gap 4"
    }
   },
   "outputs": [
    {
     "data": {
      "text/plain": [
       "13"
      ]
     },
     "execution_count": 35,
     "metadata": {
      "text/plain": ""
     },
     "output_type": "execute_result"
    }
   ],
   "source": [
    "Genus(s);"
   ]
  },
  {
   "cell_type": "code",
   "execution_count": 36,
   "id": "85a248d1",
   "metadata": {
    "vscode": {
     "languageId": "gap 4"
    }
   },
   "outputs": [
    {
     "data": {
      "text/plain": [
       "23/2"
      ]
     },
     "execution_count": 36,
     "metadata": {
      "text/plain": ""
     },
     "output_type": "execute_result"
    }
   ],
   "source": [
    "(FrobeniusNumber(s)+Type(s))/2;"
   ]
  },
  {
   "cell_type": "markdown",
   "id": "33645eea",
   "metadata": {},
   "source": [
    "## Duality minimal generators  and special gaps"
   ]
  },
  {
   "cell_type": "markdown",
   "id": "1471e830",
   "metadata": {},
   "source": [
    "Notice that for a given numerical semigroup $S$, an element $n\\in S$ is a minimal generator if and only if $S\\setminus\\{n\\}$ is also a numerical semigroup (which has one more gap than $S$). Starting with $\\mathbb{N}$, by removing minimal generators we can construct all numerical semigroups with a given genus."
   ]
  },
  {
   "cell_type": "code",
   "execution_count": 41,
   "id": "b10640a2",
   "metadata": {
    "vscode": {
     "languageId": "gap 4"
    }
   },
   "outputs": [
    {
     "data": {
      "text/plain": [
       "<general mapping: Domain([ [ 1 ], [ 2, 3 ], [ 2, 5 ], [ 2, 7 ], [ 2, 9 ],   [ 3 .. 5 ], [ 3, 4 ], [ 3, 5, 7 ], [ 3, 5 ], [ 3, 7, 8 ], [ 4 .. 7 ],   [ 4, 5, 6 ], [ 4, 5, 7 ], [ 4, 6, 7, 9 ], [ 5 .. 9 ] ]) -> Domain([ [ 1 ], [ 2, 3 ], [ 2, 5 ], [ 2, 7 ], [ 2, 9 ], [ 3 .. 5 ], [ 3, 4 ],   [ 3, 5, 7 ], [ 3, 5 ], [ 3, 7, 8 ], [ 4 .. 7 ], [ 4, 5, 6 ], [ 4, 5, 7 ],   [ 4, 6, 7, 9 ], [ 5 .. 9 ] ]) >"
      ]
     },
     "execution_count": 41,
     "metadata": {
      "text/plain": ""
     },
     "output_type": "execute_result"
    }
   ],
   "source": [
    "c:=Union(List([0..4],i->NumericalSemigroupsWithGenus(i)));;\n",
    "cc:=Filtered(Cartesian(c,c),p->IsSubset(p[2],p[1]) and IsSubset(MinimalGenerators(p[2]),Difference(p[2],p[1])) \n",
    "                                and Length(Difference(p[2],p[1]))=1);;\n",
    "d:=Domain(List(c,MinimalGenerators));;\n",
    "pairs:=List(cc,p->Tuple([MinimalGenerators(p[1]),MinimalGenerators(p[2])]));;\n",
    "br:=BinaryRelationByElements(d,pairs);"
   ]
  },
  {
   "cell_type": "code",
   "execution_count": 42,
   "id": "af711a3d",
   "metadata": {
    "vscode": {
     "languageId": "gap 4"
    }
   },
   "outputs": [
    {
     "data": {
      "image/svg+xml": [
       "<?xml version=\"1.0\" encoding=\"UTF-8\" standalone=\"no\"?>\n",
       "<!DOCTYPE svg PUBLIC \"-//W3C//DTD SVG 1.1//EN\"\n",
       " \"http://www.w3.org/Graphics/SVG/1.1/DTD/svg11.dtd\">\n",
       "<!-- Generated by graphviz version 9.0.0 (20230911.1827)\n",
       " -->\n",
       "<!-- Title: NSGraph Pages: 1 -->\n",
       "<svg width=\"734pt\" height=\"332pt\"\n",
       " viewBox=\"0.00 0.00 734.02 332.00\" xmlns=\"http://www.w3.org/2000/svg\" xmlns:xlink=\"http://www.w3.org/1999/xlink\">\n",
       "<g id=\"graph0\" class=\"graph\" transform=\"scale(1 1) rotate(0) translate(4 328)\">\n",
       "<title>NSGraph</title>\n",
       "<polygon fill=\"white\" stroke=\"none\" points=\"-4,4 -4,-328 730.02,-328 730.02,4 -4,4\"/>\n",
       "<!-- 1 -->\n",
       "<g id=\"node1\" class=\"node\">\n",
       "<title>1</title>\n",
       "<ellipse fill=\"none\" stroke=\"black\" cx=\"323.51\" cy=\"-306\" rx=\"27\" ry=\"18\"/>\n",
       "<text text-anchor=\"middle\" x=\"323.51\" y=\"-300.95\" font-family=\"Times,serif\" font-size=\"14.00\">[ 1 ]</text>\n",
       "</g>\n",
       "<!-- 2 -->\n",
       "<g id=\"node2\" class=\"node\">\n",
       "<title>2</title>\n",
       "<ellipse fill=\"none\" stroke=\"black\" cx=\"323.51\" cy=\"-234\" rx=\"36.51\" ry=\"18\"/>\n",
       "<text text-anchor=\"middle\" x=\"323.51\" y=\"-228.95\" font-family=\"Times,serif\" font-size=\"14.00\">[ 2, 3 ]</text>\n",
       "</g>\n",
       "<!-- 1&#45;&gt;2 -->\n",
       "<g id=\"edge1\" class=\"edge\">\n",
       "<title>1&#45;&gt;2</title>\n",
       "<path fill=\"none\" stroke=\"black\" d=\"M323.51,-276.24C323.51,-268.04 323.51,-259.37 323.51,-252.1\"/>\n",
       "<polygon fill=\"black\" stroke=\"black\" points=\"320.01,-276.18 323.51,-286.18 327.01,-276.18 320.01,-276.18\"/>\n",
       "</g>\n",
       "<!-- 3 -->\n",
       "<g id=\"node3\" class=\"node\">\n",
       "<title>3</title>\n",
       "<ellipse fill=\"none\" stroke=\"black\" cx=\"275.51\" cy=\"-162\" rx=\"36.51\" ry=\"18\"/>\n",
       "<text text-anchor=\"middle\" x=\"275.51\" y=\"-156.95\" font-family=\"Times,serif\" font-size=\"14.00\">[ 2, 5 ]</text>\n",
       "</g>\n",
       "<!-- 2&#45;&gt;3 -->\n",
       "<g id=\"edge2\" class=\"edge\">\n",
       "<title>2&#45;&gt;3</title>\n",
       "<path fill=\"none\" stroke=\"black\" d=\"M305.82,-207.2C299.46,-197.93 292.47,-187.73 286.8,-179.47\"/>\n",
       "<polygon fill=\"black\" stroke=\"black\" points=\"302.74,-208.89 311.28,-215.16 308.51,-204.94 302.74,-208.89\"/>\n",
       "</g>\n",
       "<!-- 6 -->\n",
       "<g id=\"node6\" class=\"node\">\n",
       "<title>6</title>\n",
       "<ellipse fill=\"none\" stroke=\"black\" cx=\"371.51\" cy=\"-162\" rx=\"41.63\" ry=\"18\"/>\n",
       "<text text-anchor=\"middle\" x=\"371.51\" y=\"-156.95\" font-family=\"Times,serif\" font-size=\"14.00\">[ 3 .. 5 ]</text>\n",
       "</g>\n",
       "<!-- 2&#45;&gt;6 -->\n",
       "<g id=\"edge5\" class=\"edge\">\n",
       "<title>2&#45;&gt;6</title>\n",
       "<path fill=\"none\" stroke=\"black\" d=\"M341.2,-207.2C347.56,-197.93 354.55,-187.73 360.22,-179.47\"/>\n",
       "<polygon fill=\"black\" stroke=\"black\" points=\"338.51,-204.94 335.74,-215.16 344.28,-208.89 338.51,-204.94\"/>\n",
       "</g>\n",
       "<!-- 4 -->\n",
       "<g id=\"node4\" class=\"node\">\n",
       "<title>4</title>\n",
       "<ellipse fill=\"none\" stroke=\"black\" cx=\"146.51\" cy=\"-90\" rx=\"36.51\" ry=\"18\"/>\n",
       "<text text-anchor=\"middle\" x=\"146.51\" y=\"-84.95\" font-family=\"Times,serif\" font-size=\"14.00\">[ 2, 7 ]</text>\n",
       "</g>\n",
       "<!-- 3&#45;&gt;4 -->\n",
       "<g id=\"edge3\" class=\"edge\">\n",
       "<title>3&#45;&gt;4</title>\n",
       "<path fill=\"none\" stroke=\"black\" d=\"M241.45,-142.52C219.05,-130.36 190.31,-114.77 170.34,-103.93\"/>\n",
       "<polygon fill=\"black\" stroke=\"black\" points=\"239.76,-145.58 250.22,-147.28 243.1,-139.43 239.76,-145.58\"/>\n",
       "</g>\n",
       "<!-- 11 -->\n",
       "<g id=\"node11\" class=\"node\">\n",
       "<title>11</title>\n",
       "<ellipse fill=\"none\" stroke=\"black\" cx=\"275.51\" cy=\"-90\" rx=\"41.63\" ry=\"18\"/>\n",
       "<text text-anchor=\"middle\" x=\"275.51\" y=\"-84.95\" font-family=\"Times,serif\" font-size=\"14.00\">[ 4 .. 7 ]</text>\n",
       "</g>\n",
       "<!-- 3&#45;&gt;11 -->\n",
       "<g id=\"edge11\" class=\"edge\">\n",
       "<title>3&#45;&gt;11</title>\n",
       "<path fill=\"none\" stroke=\"black\" d=\"M275.51,-132.24C275.51,-124.04 275.51,-115.37 275.51,-108.1\"/>\n",
       "<polygon fill=\"black\" stroke=\"black\" points=\"272.01,-132.18 275.51,-142.18 279.01,-132.18 272.01,-132.18\"/>\n",
       "</g>\n",
       "<!-- 5 -->\n",
       "<g id=\"node5\" class=\"node\">\n",
       "<title>5</title>\n",
       "<ellipse fill=\"none\" stroke=\"black\" cx=\"36.51\" cy=\"-18\" rx=\"36.51\" ry=\"18\"/>\n",
       "<text text-anchor=\"middle\" x=\"36.51\" y=\"-12.95\" font-family=\"Times,serif\" font-size=\"14.00\">[ 2, 9 ]</text>\n",
       "</g>\n",
       "<!-- 4&#45;&gt;5 -->\n",
       "<g id=\"edge4\" class=\"edge\">\n",
       "<title>4&#45;&gt;5</title>\n",
       "<path fill=\"none\" stroke=\"black\" d=\"M115.16,-69.05C96.95,-57.46 74.46,-43.15 58.2,-32.8\"/>\n",
       "<polygon fill=\"black\" stroke=\"black\" points=\"113.18,-71.94 123.5,-74.36 116.94,-66.04 113.18,-71.94\"/>\n",
       "</g>\n",
       "<!-- 14 -->\n",
       "<g id=\"node14\" class=\"node\">\n",
       "<title>14</title>\n",
       "<ellipse fill=\"none\" stroke=\"black\" cx=\"146.51\" cy=\"-18\" rx=\"55.96\" ry=\"18\"/>\n",
       "<text text-anchor=\"middle\" x=\"146.51\" y=\"-12.95\" font-family=\"Times,serif\" font-size=\"14.00\">[ 4, 6, 7, 9 ]</text>\n",
       "</g>\n",
       "<!-- 4&#45;&gt;14 -->\n",
       "<g id=\"edge15\" class=\"edge\">\n",
       "<title>4&#45;&gt;14</title>\n",
       "<path fill=\"none\" stroke=\"black\" d=\"M146.51,-60.24C146.51,-52.04 146.51,-43.37 146.51,-36.1\"/>\n",
       "<polygon fill=\"black\" stroke=\"black\" points=\"143.01,-60.18 146.51,-70.18 150.01,-60.18 143.01,-60.18\"/>\n",
       "</g>\n",
       "<!-- 7 -->\n",
       "<g id=\"node7\" class=\"node\">\n",
       "<title>7</title>\n",
       "<ellipse fill=\"none\" stroke=\"black\" cx=\"371.51\" cy=\"-90\" rx=\"36.51\" ry=\"18\"/>\n",
       "<text text-anchor=\"middle\" x=\"371.51\" y=\"-84.95\" font-family=\"Times,serif\" font-size=\"14.00\">[ 3, 4 ]</text>\n",
       "</g>\n",
       "<!-- 6&#45;&gt;7 -->\n",
       "<g id=\"edge6\" class=\"edge\">\n",
       "<title>6&#45;&gt;7</title>\n",
       "<path fill=\"none\" stroke=\"black\" d=\"M371.51,-132.24C371.51,-124.04 371.51,-115.37 371.51,-108.1\"/>\n",
       "<polygon fill=\"black\" stroke=\"black\" points=\"368.01,-132.18 371.51,-142.18 375.01,-132.18 368.01,-132.18\"/>\n",
       "</g>\n",
       "<!-- 8 -->\n",
       "<g id=\"node8\" class=\"node\">\n",
       "<title>8</title>\n",
       "<ellipse fill=\"none\" stroke=\"black\" cx=\"535.51\" cy=\"-90\" rx=\"46.23\" ry=\"18\"/>\n",
       "<text text-anchor=\"middle\" x=\"535.51\" y=\"-84.95\" font-family=\"Times,serif\" font-size=\"14.00\">[ 3, 5, 7 ]</text>\n",
       "</g>\n",
       "<!-- 6&#45;&gt;8 -->\n",
       "<g id=\"edge7\" class=\"edge\">\n",
       "<title>6&#45;&gt;8</title>\n",
       "<path fill=\"none\" stroke=\"black\" d=\"M411.02,-144.14C439.96,-131.78 478.67,-115.26 505.19,-103.94\"/>\n",
       "<polygon fill=\"black\" stroke=\"black\" points=\"409.67,-140.91 401.84,-148.05 412.41,-147.35 409.67,-140.91\"/>\n",
       "</g>\n",
       "<!-- 6&#45;&gt;11 -->\n",
       "<g id=\"edge12\" class=\"edge\">\n",
       "<title>6&#45;&gt;11</title>\n",
       "<path fill=\"none\" stroke=\"black\" d=\"M341.88,-139.4C327.07,-128.6 309.51,-115.79 296.17,-106.07\"/>\n",
       "<polygon fill=\"black\" stroke=\"black\" points=\"339.78,-142.2 349.93,-145.26 343.91,-136.54 339.78,-142.2\"/>\n",
       "</g>\n",
       "<!-- 10 -->\n",
       "<g id=\"node10\" class=\"node\">\n",
       "<title>10</title>\n",
       "<ellipse fill=\"none\" stroke=\"black\" cx=\"588.51\" cy=\"-18\" rx=\"46.23\" ry=\"18\"/>\n",
       "<text text-anchor=\"middle\" x=\"588.51\" y=\"-12.95\" font-family=\"Times,serif\" font-size=\"14.00\">[ 3, 7, 8 ]</text>\n",
       "</g>\n",
       "<!-- 7&#45;&gt;10 -->\n",
       "<g id=\"edge9\" class=\"edge\">\n",
       "<title>7&#45;&gt;10</title>\n",
       "<path fill=\"none\" stroke=\"black\" d=\"M412.13,-75.9C452.95,-62.73 515.19,-42.65 553.78,-30.2\"/>\n",
       "<polygon fill=\"black\" stroke=\"black\" points=\"411.11,-72.55 402.67,-78.95 413.26,-79.21 411.11,-72.55\"/>\n",
       "</g>\n",
       "<!-- 7&#45;&gt;14 -->\n",
       "<g id=\"edge16\" class=\"edge\">\n",
       "<title>7&#45;&gt;14</title>\n",
       "<path fill=\"none\" stroke=\"black\" d=\"M332.85,-74.18C330.71,-73.43 328.59,-72.7 326.51,-72 279.57,-56.25 224.91,-40.52 188.25,-30.33\"/>\n",
       "<polygon fill=\"black\" stroke=\"black\" points=\"331.52,-77.43 342.12,-77.55 333.91,-70.85 331.52,-77.43\"/>\n",
       "</g>\n",
       "<!-- 9 -->\n",
       "<g id=\"node9\" class=\"node\">\n",
       "<title>9</title>\n",
       "<ellipse fill=\"none\" stroke=\"black\" cx=\"689.51\" cy=\"-18\" rx=\"36.51\" ry=\"18\"/>\n",
       "<text text-anchor=\"middle\" x=\"689.51\" y=\"-12.95\" font-family=\"Times,serif\" font-size=\"14.00\">[ 3, 5 ]</text>\n",
       "</g>\n",
       "<!-- 8&#45;&gt;9 -->\n",
       "<g id=\"edge8\" class=\"edge\">\n",
       "<title>8&#45;&gt;9</title>\n",
       "<path fill=\"none\" stroke=\"black\" d=\"M575.01,-71.04C602.78,-58.42 639.15,-41.89 663.37,-30.88\"/>\n",
       "<polygon fill=\"black\" stroke=\"black\" points=\"573.87,-67.72 566.22,-75.04 576.77,-74.09 573.87,-67.72\"/>\n",
       "</g>\n",
       "<!-- 8&#45;&gt;10 -->\n",
       "<g id=\"edge10\" class=\"edge\">\n",
       "<title>8&#45;&gt;10</title>\n",
       "<path fill=\"none\" stroke=\"black\" d=\"M554.82,-63.5C561.9,-54.15 569.72,-43.82 576.04,-35.47\"/>\n",
       "<polygon fill=\"black\" stroke=\"black\" points=\"552.23,-61.12 548.98,-71.2 557.81,-65.34 552.23,-61.12\"/>\n",
       "</g>\n",
       "<!-- 15 -->\n",
       "<g id=\"node15\" class=\"node\">\n",
       "<title>15</title>\n",
       "<ellipse fill=\"none\" stroke=\"black\" cx=\"482.51\" cy=\"-18\" rx=\"41.63\" ry=\"18\"/>\n",
       "<text text-anchor=\"middle\" x=\"482.51\" y=\"-12.95\" font-family=\"Times,serif\" font-size=\"14.00\">[ 5 .. 9 ]</text>\n",
       "</g>\n",
       "<!-- 8&#45;&gt;15 -->\n",
       "<g id=\"edge18\" class=\"edge\">\n",
       "<title>8&#45;&gt;15</title>\n",
       "<path fill=\"none\" stroke=\"black\" d=\"M516.2,-63.5C509.12,-54.15 501.3,-43.82 494.98,-35.47\"/>\n",
       "<polygon fill=\"black\" stroke=\"black\" points=\"513.21,-65.34 522.04,-71.2 518.79,-61.12 513.21,-65.34\"/>\n",
       "</g>\n",
       "<!-- 12 -->\n",
       "<g id=\"node12\" class=\"node\">\n",
       "<title>12</title>\n",
       "<ellipse fill=\"none\" stroke=\"black\" cx=\"266.51\" cy=\"-18\" rx=\"46.23\" ry=\"18\"/>\n",
       "<text text-anchor=\"middle\" x=\"266.51\" y=\"-12.95\" font-family=\"Times,serif\" font-size=\"14.00\">[ 4, 5, 6 ]</text>\n",
       "</g>\n",
       "<!-- 11&#45;&gt;12 -->\n",
       "<g id=\"edge13\" class=\"edge\">\n",
       "<title>11&#45;&gt;12</title>\n",
       "<path fill=\"none\" stroke=\"black\" d=\"M271.85,-60.53C270.78,-52.24 269.65,-43.45 268.71,-36.1\"/>\n",
       "<polygon fill=\"black\" stroke=\"black\" points=\"268.34,-60.72 273.09,-70.2 275.29,-59.83 268.34,-60.72\"/>\n",
       "</g>\n",
       "<!-- 13 -->\n",
       "<g id=\"node13\" class=\"node\">\n",
       "<title>13</title>\n",
       "<ellipse fill=\"none\" stroke=\"black\" cx=\"376.51\" cy=\"-18\" rx=\"46.23\" ry=\"18\"/>\n",
       "<text text-anchor=\"middle\" x=\"376.51\" y=\"-12.95\" font-family=\"Times,serif\" font-size=\"14.00\">[ 4, 5, 7 ]</text>\n",
       "</g>\n",
       "<!-- 11&#45;&gt;13 -->\n",
       "<g id=\"edge14\" class=\"edge\">\n",
       "<title>11&#45;&gt;13</title>\n",
       "<path fill=\"none\" stroke=\"black\" d=\"M306.23,-67.71C321.91,-56.84 340.61,-43.88 354.77,-34.07\"/>\n",
       "<polygon fill=\"black\" stroke=\"black\" points=\"304.4,-64.72 298.17,-73.29 308.39,-70.47 304.4,-64.72\"/>\n",
       "</g>\n",
       "<!-- 11&#45;&gt;14 -->\n",
       "<g id=\"edge17\" class=\"edge\">\n",
       "<title>11&#45;&gt;14</title>\n",
       "<path fill=\"none\" stroke=\"black\" d=\"M240.3,-69.9C219.54,-58.63 193.63,-44.57 174.31,-34.08\"/>\n",
       "<polygon fill=\"black\" stroke=\"black\" points=\"238.54,-72.92 249,-74.62 241.88,-66.77 238.54,-72.92\"/>\n",
       "</g>\n",
       "<!-- 11&#45;&gt;15 -->\n",
       "<g id=\"edge19\" class=\"edge\">\n",
       "<title>11&#45;&gt;15</title>\n",
       "<path fill=\"none\" stroke=\"black\" d=\"M318.27,-74.45C320.72,-73.62 323.15,-72.8 325.51,-72 368.7,-57.37 418.59,-40.54 450.33,-29.84\"/>\n",
       "<polygon fill=\"black\" stroke=\"black\" points=\"317.29,-71.09 308.95,-77.62 319.54,-77.72 317.29,-71.09\"/>\n",
       "</g>\n",
       "</g>\n",
       "</svg>\n"
      ]
     },
     "execution_count": 42,
     "metadata": {
      "image/svg+xml": {
       "height": 500,
       "width": 500
      }
     },
     "output_type": "execute_result"
    }
   ],
   "source": [
    "JupyterSplashDot(DotBinaryRelation(br));"
   ]
  },
  {
   "cell_type": "markdown",
   "id": "80e49453",
   "metadata": {},
   "source": [
    "For any numerical semigroup $S$ (other than $\\mathbb{N}$), the set $T=S\\cup\\{\\operatorname{F}(S)\\}$ is also a numerical semigroup. The semigroup $S$ is obtained from $T$ by removing a minimal generator larger than its Frobenius number.\n",
    "\n",
    "So if we remove minimal generators larger than the Frobenius number, we still obtain the same numerical semigroups, but the above directed graph becomes a tree."
   ]
  },
  {
   "cell_type": "code",
   "execution_count": 45,
   "id": "29388c55",
   "metadata": {
    "vscode": {
     "languageId": "gap 4"
    }
   },
   "outputs": [
    {
     "data": {
      "text/plain": [
       "<general mapping: Domain([ [ 1 ], [ 2, 3 ], [ 2, 5 ], [ 2, 7 ], [ 2, 9 ],   [ 3 .. 5 ], [ 3, 4 ], [ 3, 5, 7 ], [ 3, 5 ], [ 3, 7, 8 ], [ 4 .. 7 ],   [ 4, 5, 6 ], [ 4, 5, 7 ], [ 4, 6, 7, 9 ], [ 5 .. 9 ] ]) -> Domain([ [ 1 ], [ 2, 3 ], [ 2, 5 ], [ 2, 7 ], [ 2, 9 ], [ 3 .. 5 ], [ 3, 4 ],   [ 3, 5, 7 ], [ 3, 5 ], [ 3, 7, 8 ], [ 4 .. 7 ], [ 4, 5, 6 ], [ 4, 5, 7 ],   [ 4, 6, 7, 9 ], [ 5 .. 9 ] ]) >"
      ]
     },
     "execution_count": 45,
     "metadata": {
      "text/plain": ""
     },
     "output_type": "execute_result"
    }
   ],
   "source": [
    "cc:=Filtered(Cartesian(c,c),p->IsSubset(p[2],p[1]) and Difference(p[2],p[1])=[FrobeniusNumber(p[1])]);;\n",
    "pairs:=List(cc,p->Tuple([MinimalGenerators(p[1]),MinimalGenerators(p[2])]));;\n",
    "br:=BinaryRelationByElements(d,pairs);"
   ]
  },
  {
   "cell_type": "code",
   "execution_count": 46,
   "id": "35d13304",
   "metadata": {
    "vscode": {
     "languageId": "gap 4"
    }
   },
   "outputs": [
    {
     "data": {
      "image/svg+xml": [
       "<?xml version=\"1.0\" encoding=\"UTF-8\" standalone=\"no\"?>\n",
       "<!DOCTYPE svg PUBLIC \"-//W3C//DTD SVG 1.1//EN\"\n",
       " \"http://www.w3.org/Graphics/SVG/1.1/DTD/svg11.dtd\">\n",
       "<!-- Generated by graphviz version 9.0.0 (20230911.1827)\n",
       " -->\n",
       "<!-- Title: NSGraph Pages: 1 -->\n",
       "<svg width=\"734pt\" height=\"332pt\"\n",
       " viewBox=\"0.00 0.00 734.14 332.00\" xmlns=\"http://www.w3.org/2000/svg\" xmlns:xlink=\"http://www.w3.org/1999/xlink\">\n",
       "<g id=\"graph0\" class=\"graph\" transform=\"scale(1 1) rotate(0) translate(4 328)\">\n",
       "<title>NSGraph</title>\n",
       "<polygon fill=\"white\" stroke=\"none\" points=\"-4,4 -4,-328 730.14,-328 730.14,4 -4,4\"/>\n",
       "<!-- 1 -->\n",
       "<g id=\"node1\" class=\"node\">\n",
       "<title>1</title>\n",
       "<ellipse fill=\"none\" stroke=\"black\" cx=\"132.51\" cy=\"-306\" rx=\"27\" ry=\"18\"/>\n",
       "<text text-anchor=\"middle\" x=\"132.51\" y=\"-300.95\" font-family=\"Times,serif\" font-size=\"14.00\">[ 1 ]</text>\n",
       "</g>\n",
       "<!-- 2 -->\n",
       "<g id=\"node2\" class=\"node\">\n",
       "<title>2</title>\n",
       "<ellipse fill=\"none\" stroke=\"black\" cx=\"132.51\" cy=\"-234\" rx=\"36.51\" ry=\"18\"/>\n",
       "<text text-anchor=\"middle\" x=\"132.51\" y=\"-228.95\" font-family=\"Times,serif\" font-size=\"14.00\">[ 2, 3 ]</text>\n",
       "</g>\n",
       "<!-- 1&#45;&gt;2 -->\n",
       "<g id=\"edge1\" class=\"edge\">\n",
       "<title>1&#45;&gt;2</title>\n",
       "<path fill=\"none\" stroke=\"black\" d=\"M132.51,-276.24C132.51,-268.04 132.51,-259.37 132.51,-252.1\"/>\n",
       "<polygon fill=\"black\" stroke=\"black\" points=\"129.01,-276.18 132.51,-286.18 136.01,-276.18 129.01,-276.18\"/>\n",
       "</g>\n",
       "<!-- 3 -->\n",
       "<g id=\"node3\" class=\"node\">\n",
       "<title>3</title>\n",
       "<ellipse fill=\"none\" stroke=\"black\" cx=\"84.51\" cy=\"-162\" rx=\"36.51\" ry=\"18\"/>\n",
       "<text text-anchor=\"middle\" x=\"84.51\" y=\"-156.95\" font-family=\"Times,serif\" font-size=\"14.00\">[ 2, 5 ]</text>\n",
       "</g>\n",
       "<!-- 2&#45;&gt;3 -->\n",
       "<g id=\"edge2\" class=\"edge\">\n",
       "<title>2&#45;&gt;3</title>\n",
       "<path fill=\"none\" stroke=\"black\" d=\"M114.82,-207.2C108.46,-197.93 101.47,-187.73 95.8,-179.47\"/>\n",
       "<polygon fill=\"black\" stroke=\"black\" points=\"111.74,-208.89 120.28,-215.16 117.51,-204.94 111.74,-208.89\"/>\n",
       "</g>\n",
       "<!-- 6 -->\n",
       "<g id=\"node6\" class=\"node\">\n",
       "<title>6</title>\n",
       "<ellipse fill=\"none\" stroke=\"black\" cx=\"204.51\" cy=\"-162\" rx=\"41.63\" ry=\"18\"/>\n",
       "<text text-anchor=\"middle\" x=\"204.51\" y=\"-156.95\" font-family=\"Times,serif\" font-size=\"14.00\">[ 3 .. 5 ]</text>\n",
       "</g>\n",
       "<!-- 2&#45;&gt;6 -->\n",
       "<g id=\"edge5\" class=\"edge\">\n",
       "<title>2&#45;&gt;6</title>\n",
       "<path fill=\"none\" stroke=\"black\" d=\"M156.72,-209.46C167.04,-199.43 178.8,-187.99 188.08,-178.98\"/>\n",
       "<polygon fill=\"black\" stroke=\"black\" points=\"154.3,-206.93 149.57,-216.41 159.18,-211.95 154.3,-206.93\"/>\n",
       "</g>\n",
       "<!-- 4 -->\n",
       "<g id=\"node4\" class=\"node\">\n",
       "<title>4</title>\n",
       "<ellipse fill=\"none\" stroke=\"black\" cx=\"36.51\" cy=\"-90\" rx=\"36.51\" ry=\"18\"/>\n",
       "<text text-anchor=\"middle\" x=\"36.51\" y=\"-84.95\" font-family=\"Times,serif\" font-size=\"14.00\">[ 2, 7 ]</text>\n",
       "</g>\n",
       "<!-- 3&#45;&gt;4 -->\n",
       "<g id=\"edge3\" class=\"edge\">\n",
       "<title>3&#45;&gt;4</title>\n",
       "<path fill=\"none\" stroke=\"black\" d=\"M66.82,-135.2C60.46,-125.93 53.47,-115.73 47.8,-107.47\"/>\n",
       "<polygon fill=\"black\" stroke=\"black\" points=\"63.74,-136.89 72.28,-143.16 69.51,-132.94 63.74,-136.89\"/>\n",
       "</g>\n",
       "<!-- 5 -->\n",
       "<g id=\"node5\" class=\"node\">\n",
       "<title>5</title>\n",
       "<ellipse fill=\"none\" stroke=\"black\" cx=\"36.51\" cy=\"-18\" rx=\"36.51\" ry=\"18\"/>\n",
       "<text text-anchor=\"middle\" x=\"36.51\" y=\"-12.95\" font-family=\"Times,serif\" font-size=\"14.00\">[ 2, 9 ]</text>\n",
       "</g>\n",
       "<!-- 4&#45;&gt;5 -->\n",
       "<g id=\"edge4\" class=\"edge\">\n",
       "<title>4&#45;&gt;5</title>\n",
       "<path fill=\"none\" stroke=\"black\" d=\"M36.51,-60.24C36.51,-52.04 36.51,-43.37 36.51,-36.1\"/>\n",
       "<polygon fill=\"black\" stroke=\"black\" points=\"33.01,-60.18 36.51,-70.18 40.01,-60.18 33.01,-60.18\"/>\n",
       "</g>\n",
       "<!-- 7 -->\n",
       "<g id=\"node7\" class=\"node\">\n",
       "<title>7</title>\n",
       "<ellipse fill=\"none\" stroke=\"black\" cx=\"127.51\" cy=\"-90\" rx=\"36.51\" ry=\"18\"/>\n",
       "<text text-anchor=\"middle\" x=\"127.51\" y=\"-84.95\" font-family=\"Times,serif\" font-size=\"14.00\">[ 3, 4 ]</text>\n",
       "</g>\n",
       "<!-- 6&#45;&gt;7 -->\n",
       "<g id=\"edge6\" class=\"edge\">\n",
       "<title>6&#45;&gt;7</title>\n",
       "<path fill=\"none\" stroke=\"black\" d=\"M179.09,-137.89C167.65,-127.49 154.46,-115.5 144.29,-106.25\"/>\n",
       "<polygon fill=\"black\" stroke=\"black\" points=\"176.55,-140.31 186.3,-144.45 181.26,-135.13 176.55,-140.31\"/>\n",
       "</g>\n",
       "<!-- 8 -->\n",
       "<g id=\"node8\" class=\"node\">\n",
       "<title>8</title>\n",
       "<ellipse fill=\"none\" stroke=\"black\" cx=\"228.51\" cy=\"-90\" rx=\"46.23\" ry=\"18\"/>\n",
       "<text text-anchor=\"middle\" x=\"228.51\" y=\"-84.95\" font-family=\"Times,serif\" font-size=\"14.00\">[ 3, 5, 7 ]</text>\n",
       "</g>\n",
       "<!-- 6&#45;&gt;8 -->\n",
       "<g id=\"edge7\" class=\"edge\">\n",
       "<title>6&#45;&gt;8</title>\n",
       "<path fill=\"none\" stroke=\"black\" d=\"M214.17,-132.81C217.04,-124.44 220.1,-115.54 222.64,-108.1\"/>\n",
       "<polygon fill=\"black\" stroke=\"black\" points=\"210.86,-131.67 210.93,-142.26 217.49,-133.94 210.86,-131.67\"/>\n",
       "</g>\n",
       "<!-- 11 -->\n",
       "<g id=\"node11\" class=\"node\">\n",
       "<title>11</title>\n",
       "<ellipse fill=\"none\" stroke=\"black\" cx=\"448.51\" cy=\"-90\" rx=\"41.63\" ry=\"18\"/>\n",
       "<text text-anchor=\"middle\" x=\"448.51\" y=\"-84.95\" font-family=\"Times,serif\" font-size=\"14.00\">[ 4 .. 7 ]</text>\n",
       "</g>\n",
       "<!-- 6&#45;&gt;11 -->\n",
       "<g id=\"edge10\" class=\"edge\">\n",
       "<title>6&#45;&gt;11</title>\n",
       "<path fill=\"none\" stroke=\"black\" d=\"M249.63,-148.06C297.35,-134.36 371.56,-113.07 414.56,-100.74\"/>\n",
       "<polygon fill=\"black\" stroke=\"black\" points=\"248.79,-144.65 240.15,-150.78 250.73,-151.38 248.79,-144.65\"/>\n",
       "</g>\n",
       "<!-- 9 -->\n",
       "<g id=\"node9\" class=\"node\">\n",
       "<title>9</title>\n",
       "<ellipse fill=\"none\" stroke=\"black\" cx=\"127.51\" cy=\"-18\" rx=\"36.51\" ry=\"18\"/>\n",
       "<text text-anchor=\"middle\" x=\"127.51\" y=\"-12.95\" font-family=\"Times,serif\" font-size=\"14.00\">[ 3, 5 ]</text>\n",
       "</g>\n",
       "<!-- 8&#45;&gt;9 -->\n",
       "<g id=\"edge8\" class=\"edge\">\n",
       "<title>8&#45;&gt;9</title>\n",
       "<path fill=\"none\" stroke=\"black\" d=\"M197.54,-67.54C181.45,-56.39 162.24,-43.07 148,-33.21\"/>\n",
       "<polygon fill=\"black\" stroke=\"black\" points=\"195.14,-70.13 205.35,-72.95 199.12,-64.38 195.14,-70.13\"/>\n",
       "</g>\n",
       "<!-- 10 -->\n",
       "<g id=\"node10\" class=\"node\">\n",
       "<title>10</title>\n",
       "<ellipse fill=\"none\" stroke=\"black\" cx=\"228.51\" cy=\"-18\" rx=\"46.23\" ry=\"18\"/>\n",
       "<text text-anchor=\"middle\" x=\"228.51\" y=\"-12.95\" font-family=\"Times,serif\" font-size=\"14.00\">[ 3, 7, 8 ]</text>\n",
       "</g>\n",
       "<!-- 8&#45;&gt;10 -->\n",
       "<g id=\"edge9\" class=\"edge\">\n",
       "<title>8&#45;&gt;10</title>\n",
       "<path fill=\"none\" stroke=\"black\" d=\"M228.51,-60.24C228.51,-52.04 228.51,-43.37 228.51,-36.1\"/>\n",
       "<polygon fill=\"black\" stroke=\"black\" points=\"225.01,-60.18 228.51,-70.18 232.01,-60.18 225.01,-60.18\"/>\n",
       "</g>\n",
       "<!-- 12 -->\n",
       "<g id=\"node12\" class=\"node\">\n",
       "<title>12</title>\n",
       "<ellipse fill=\"none\" stroke=\"black\" cx=\"338.51\" cy=\"-18\" rx=\"46.23\" ry=\"18\"/>\n",
       "<text text-anchor=\"middle\" x=\"338.51\" y=\"-12.95\" font-family=\"Times,serif\" font-size=\"14.00\">[ 4, 5, 6 ]</text>\n",
       "</g>\n",
       "<!-- 11&#45;&gt;12 -->\n",
       "<g id=\"edge11\" class=\"edge\">\n",
       "<title>11&#45;&gt;12</title>\n",
       "<path fill=\"none\" stroke=\"black\" d=\"M416.49,-68.62C399.07,-57.54 377.91,-44.07 362.03,-33.97\"/>\n",
       "<polygon fill=\"black\" stroke=\"black\" points=\"414.12,-71.27 424.44,-73.68 417.88,-65.36 414.12,-71.27\"/>\n",
       "</g>\n",
       "<!-- 13 -->\n",
       "<g id=\"node13\" class=\"node\">\n",
       "<title>13</title>\n",
       "<ellipse fill=\"none\" stroke=\"black\" cx=\"448.51\" cy=\"-18\" rx=\"46.23\" ry=\"18\"/>\n",
       "<text text-anchor=\"middle\" x=\"448.51\" y=\"-12.95\" font-family=\"Times,serif\" font-size=\"14.00\">[ 4, 5, 7 ]</text>\n",
       "</g>\n",
       "<!-- 11&#45;&gt;13 -->\n",
       "<g id=\"edge12\" class=\"edge\">\n",
       "<title>11&#45;&gt;13</title>\n",
       "<path fill=\"none\" stroke=\"black\" d=\"M448.51,-60.24C448.51,-52.04 448.51,-43.37 448.51,-36.1\"/>\n",
       "<polygon fill=\"black\" stroke=\"black\" points=\"445.01,-60.18 448.51,-70.18 452.01,-60.18 445.01,-60.18\"/>\n",
       "</g>\n",
       "<!-- 14 -->\n",
       "<g id=\"node14\" class=\"node\">\n",
       "<title>14</title>\n",
       "<ellipse fill=\"none\" stroke=\"black\" cx=\"568.51\" cy=\"-18\" rx=\"55.96\" ry=\"18\"/>\n",
       "<text text-anchor=\"middle\" x=\"568.51\" y=\"-12.95\" font-family=\"Times,serif\" font-size=\"14.00\">[ 4, 6, 7, 9 ]</text>\n",
       "</g>\n",
       "<!-- 11&#45;&gt;14 -->\n",
       "<g id=\"edge13\" class=\"edge\">\n",
       "<title>11&#45;&gt;14</title>\n",
       "<path fill=\"none\" stroke=\"black\" d=\"M482.3,-69.29C501.37,-58.16 524.84,-44.47 542.48,-34.19\"/>\n",
       "<polygon fill=\"black\" stroke=\"black\" points=\"480.69,-66.18 473.81,-74.24 484.21,-72.22 480.69,-66.18\"/>\n",
       "</g>\n",
       "<!-- 15 -->\n",
       "<g id=\"node15\" class=\"node\">\n",
       "<title>15</title>\n",
       "<ellipse fill=\"none\" stroke=\"black\" cx=\"684.51\" cy=\"-18\" rx=\"41.63\" ry=\"18\"/>\n",
       "<text text-anchor=\"middle\" x=\"684.51\" y=\"-12.95\" font-family=\"Times,serif\" font-size=\"14.00\">[ 5 .. 9 ]</text>\n",
       "</g>\n",
       "<!-- 11&#45;&gt;15 -->\n",
       "<g id=\"edge14\" class=\"edge\">\n",
       "<title>11&#45;&gt;15</title>\n",
       "<path fill=\"none\" stroke=\"black\" d=\"M494.16,-76.51C531.7,-66.09 586.22,-50.65 633.51,-36 639.66,-34.09 646.2,-31.98 652.47,-29.91\"/>\n",
       "<polygon fill=\"black\" stroke=\"black\" points=\"493.24,-73.13 484.54,-79.17 495.11,-79.88 493.24,-73.13\"/>\n",
       "</g>\n",
       "</g>\n",
       "</svg>\n"
      ]
     },
     "execution_count": 46,
     "metadata": {
      "image/svg+xml": {
       "height": 500,
       "width": 500
      }
     },
     "output_type": "execute_result"
    }
   ],
   "source": [
    "JupyterSplashDot(DotBinaryRelation(br));"
   ]
  },
  {
   "cell_type": "markdown",
   "id": "8a34bbe5",
   "metadata": {},
   "source": [
    "Now let us think about the dual process: what are the gaps that I may add to a numerical semigroup in order to obtain a nuew numerical semigroup. We already know that we can always add the Frobenius number, but we may have some other options. Let $S$ be a numerical semigroup and let $f$ be a gap of $S$. As we want $S\\cup \\{f\\}$ to be a numerical semigroup, $f+S\\subseteq S\\cup\\{f\\}$, and consequently $f$ must be in $\\operatorname{PF}(S)$. But also $kf \\in S\\cup\\{f\\}$ for every positive integer $k$. This means that $2f, 3f\\in S$. The set of gaps having these properties are known as special gaps.\n",
    "$$\n",
    "\\operatorname{SG}(S)=\\{ g\\in \\operatorname{PF}(S) : 2g\\in S, 3g\\in S\\}.\n",
    "$$"
   ]
  },
  {
   "cell_type": "code",
   "execution_count": 47,
   "id": "91b99e4b",
   "metadata": {
    "vscode": {
     "languageId": "gap 4"
    }
   },
   "outputs": [],
   "source": [
    "s:=NumericalSemigroup(4,7,9,10);;"
   ]
  },
  {
   "cell_type": "code",
   "execution_count": 48,
   "id": "7e63fd8d",
   "metadata": {
    "vscode": {
     "languageId": "gap 4"
    }
   },
   "outputs": [
    {
     "data": {
      "text/plain": [
       "[ 5, 6 ]"
      ]
     },
     "execution_count": 48,
     "metadata": {
      "text/plain": ""
     },
     "output_type": "execute_result"
    }
   ],
   "source": [
    "SpecialGaps(s);"
   ]
  },
  {
   "cell_type": "markdown",
   "id": "b366e027",
   "metadata": {},
   "source": [
    "If we keep adding special gaps to our semigroup and the resulting semigroups, we will obtain the set of all oversemigroups of the given numerical semigroup."
   ]
  },
  {
   "cell_type": "code",
   "execution_count": 50,
   "id": "dfd654d1",
   "metadata": {
    "vscode": {
     "languageId": "gap 4"
    }
   },
   "outputs": [
    {
     "data": {
      "image/svg+xml": [
       "<?xml version=\"1.0\" encoding=\"UTF-8\" standalone=\"no\"?>\n",
       "<!DOCTYPE svg PUBLIC \"-//W3C//DTD SVG 1.1//EN\"\n",
       " \"http://www.w3.org/Graphics/SVG/1.1/DTD/svg11.dtd\">\n",
       "<!-- Generated by graphviz version 9.0.0 (20230911.1827)\n",
       " -->\n",
       "<!-- Title: NSGraph Pages: 1 -->\n",
       "<svg width=\"252pt\" height=\"352pt\"\n",
       " viewBox=\"0.00 0.00 252.31 351.76\" xmlns=\"http://www.w3.org/2000/svg\" xmlns:xlink=\"http://www.w3.org/1999/xlink\">\n",
       "<g id=\"graph0\" class=\"graph\" transform=\"scale(1 1) rotate(0) translate(4 347.76)\">\n",
       "<title>NSGraph</title>\n",
       "<polygon fill=\"white\" stroke=\"none\" points=\"-4,4 -4,-347.76 248.31,-347.76 248.31,4 -4,4\"/>\n",
       "<!-- 1 -->\n",
       "<g id=\"node1\" class=\"node\">\n",
       "<title>1</title>\n",
       "<ellipse fill=\"lightgrey\" stroke=\"black\" cx=\"116.62\" cy=\"-323.78\" rx=\"41.54\" ry=\"19.98\"/>\n",
       "<text text-anchor=\"middle\" x=\"116.62\" y=\"-320.61\" font-family=\"Times,serif\" font-size=\"14.00\">〈 1 〉</text>\n",
       "</g>\n",
       "<!-- 2 -->\n",
       "<g id=\"node2\" class=\"node\">\n",
       "<title>2</title>\n",
       "<ellipse fill=\"lightgrey\" stroke=\"black\" cx=\"116.62\" cy=\"-247.83\" rx=\"51.62\" ry=\"19.98\"/>\n",
       "<text text-anchor=\"middle\" x=\"116.62\" y=\"-244.66\" font-family=\"Times,serif\" font-size=\"14.00\">〈 2, 3 〉</text>\n",
       "</g>\n",
       "<!-- 1&#45;&gt;2 -->\n",
       "<g id=\"edge1\" class=\"edge\">\n",
       "<title>1&#45;&gt;2</title>\n",
       "<path fill=\"none\" stroke=\"black\" d=\"M116.62,-291.99C116.62,-283.91 116.62,-275.42 116.62,-268.13\"/>\n",
       "<polygon fill=\"black\" stroke=\"black\" points=\"113.12,-291.84 116.62,-301.84 120.12,-291.84 113.12,-291.84\"/>\n",
       "</g>\n",
       "<!-- 3 -->\n",
       "<g id=\"node3\" class=\"node\">\n",
       "<title>3</title>\n",
       "<ellipse fill=\"lightgrey\" stroke=\"black\" cx=\"51.62\" cy=\"-171.88\" rx=\"51.62\" ry=\"19.98\"/>\n",
       "<text text-anchor=\"middle\" x=\"51.62\" y=\"-168.7\" font-family=\"Times,serif\" font-size=\"14.00\">〈 2, 5 〉</text>\n",
       "</g>\n",
       "<!-- 2&#45;&gt;3 -->\n",
       "<g id=\"edge2\" class=\"edge\">\n",
       "<title>2&#45;&gt;3</title>\n",
       "<path fill=\"none\" stroke=\"black\" d=\"M93.13,-220.1C84.7,-210.51 75.39,-199.92 67.73,-191.2\"/>\n",
       "<polygon fill=\"black\" stroke=\"black\" points=\"90.32,-222.21 99.55,-227.41 95.58,-217.59 90.32,-222.21\"/>\n",
       "</g>\n",
       "<!-- 4 -->\n",
       "<g id=\"node4\" class=\"node\">\n",
       "<title>4</title>\n",
       "<ellipse fill=\"lightgrey\" stroke=\"black\" cx=\"182.62\" cy=\"-171.88\" rx=\"61.7\" ry=\"19.98\"/>\n",
       "<text text-anchor=\"middle\" x=\"182.62\" y=\"-168.7\" font-family=\"Times,serif\" font-size=\"14.00\">〈 3, 4, 5 〉</text>\n",
       "</g>\n",
       "<!-- 2&#45;&gt;4 -->\n",
       "<g id=\"edge3\" class=\"edge\">\n",
       "<title>2&#45;&gt;4</title>\n",
       "<path fill=\"none\" stroke=\"black\" d=\"M140.41,-220.17C148.9,-210.66 158.28,-200.15 166.03,-191.46\"/>\n",
       "<polygon fill=\"black\" stroke=\"black\" points=\"137.99,-217.63 133.94,-227.42 143.21,-222.29 137.99,-217.63\"/>\n",
       "</g>\n",
       "<!-- 5 -->\n",
       "<g id=\"node5\" class=\"node\">\n",
       "<title>5</title>\n",
       "<ellipse fill=\"none\" stroke=\"black\" cx=\"116.62\" cy=\"-95.93\" rx=\"71.77\" ry=\"19.98\"/>\n",
       "<text text-anchor=\"middle\" x=\"116.62\" y=\"-92.75\" font-family=\"Times,serif\" font-size=\"14.00\">〈 4, 5, 6, 7 〉</text>\n",
       "</g>\n",
       "<!-- 3&#45;&gt;5 -->\n",
       "<g id=\"edge4\" class=\"edge\">\n",
       "<title>3&#45;&gt;5</title>\n",
       "<path fill=\"none\" stroke=\"black\" d=\"M75.25,-144C83.48,-134.63 92.53,-124.34 100.06,-115.77\"/>\n",
       "<polygon fill=\"black\" stroke=\"black\" points=\"72.66,-141.64 68.69,-151.46 77.92,-146.26 72.66,-141.64\"/>\n",
       "</g>\n",
       "<!-- 4&#45;&gt;5 -->\n",
       "<g id=\"edge5\" class=\"edge\">\n",
       "<title>4&#45;&gt;5</title>\n",
       "<path fill=\"none\" stroke=\"black\" d=\"M158.3,-143.63C149.97,-134.3 140.85,-124.08 133.27,-115.58\"/>\n",
       "<polygon fill=\"black\" stroke=\"black\" points=\"155.69,-145.96 164.96,-151.09 160.91,-141.3 155.69,-145.96\"/>\n",
       "</g>\n",
       "<!-- 6 -->\n",
       "<g id=\"node6\" class=\"node\">\n",
       "<title>6</title>\n",
       "<ellipse fill=\"lightgrey\" stroke=\"black\" cx=\"116.62\" cy=\"-19.98\" rx=\"61.7\" ry=\"19.98\"/>\n",
       "<text text-anchor=\"middle\" x=\"116.62\" y=\"-16.8\" font-family=\"Times,serif\" font-size=\"14.00\">〈 4, 5, 7 〉</text>\n",
       "</g>\n",
       "<!-- 5&#45;&gt;6 -->\n",
       "<g id=\"edge6\" class=\"edge\">\n",
       "<title>5&#45;&gt;6</title>\n",
       "<path fill=\"none\" stroke=\"black\" d=\"M116.62,-64.13C116.62,-56.05 116.62,-47.56 116.62,-40.28\"/>\n",
       "<polygon fill=\"black\" stroke=\"black\" points=\"113.12,-63.98 116.62,-73.98 120.12,-63.98 113.12,-63.98\"/>\n",
       "</g>\n",
       "</g>\n",
       "</svg>\n"
      ]
     },
     "execution_count": 50,
     "metadata": {
      "image/svg+xml": {
       "height": 500,
       "width": 500
      }
     },
     "output_type": "execute_result"
    }
   ],
   "source": [
    "s:=NumericalSemigroup(4,5,7);;\n",
    "JupyterSplashDot(DotOverSemigroups(s));"
   ]
  },
  {
   "cell_type": "markdown",
   "id": "50b7a858",
   "metadata": {},
   "source": [
    "## When some bounds are attained"
   ]
  },
  {
   "cell_type": "markdown",
   "id": "70e8cea6",
   "metadata": {},
   "source": [
    "### Numerical semigroups with maximal embedding dimension"
   ]
  },
  {
   "cell_type": "markdown",
   "id": "87da1e15",
   "metadata": {},
   "source": [
    "We have already seen that the embedding dimension of a numerical semigroup is always less than or equal to the multiplicity. We say that a numerical semigroup $S$ has maximal embedding dimension if $\\operatorname{m}(S)=\\operatorname{e}(S)$."
   ]
  },
  {
   "cell_type": "code",
   "execution_count": 51,
   "id": "d17426c1",
   "metadata": {
    "vscode": {
     "languageId": "gap 4"
    }
   },
   "outputs": [],
   "source": [
    "s:=NumericalSemigroup(3,5,7);;"
   ]
  },
  {
   "cell_type": "code",
   "execution_count": 52,
   "id": "f75621dd",
   "metadata": {
    "vscode": {
     "languageId": "gap 4"
    }
   },
   "outputs": [
    {
     "data": {
      "text/plain": [
       "true"
      ]
     },
     "execution_count": 52,
     "metadata": {
      "text/plain": ""
     },
     "output_type": "execute_result"
    }
   ],
   "source": [
    "IsMED(s);"
   ]
  },
  {
   "cell_type": "markdown",
   "id": "5ed3cb5f",
   "metadata": {},
   "source": [
    "A numerical semigroup $S$ is of maximal embedding dimension if and only if $(S\\setminus\\{0\\})-\\operatorname{m}(S)$ is a numerical semigroup, or equivalently, for any $x,y\\in S$ with $x\\ge y \\ge \\operatorname{m}(S)$, we have $x+y-\\operatorname{m}(S)\\in S$.\n",
    "\n",
    "It turns out that the intersecction of two maximal embedding dimension numerical semigroups is again of maximal embedding dimension, and thus we can think about a maximal embedding dimension closure."
   ]
  },
  {
   "cell_type": "code",
   "execution_count": 53,
   "id": "2390e8cd",
   "metadata": {
    "vscode": {
     "languageId": "gap 4"
    }
   },
   "outputs": [],
   "source": [
    "s:=NumericalSemigroup(3,5);;"
   ]
  },
  {
   "cell_type": "code",
   "execution_count": 54,
   "id": "6489b0a9",
   "metadata": {
    "vscode": {
     "languageId": "gap 4"
    }
   },
   "outputs": [
    {
     "data": {
      "text/plain": [
       "[ 3, 5, 7 ]"
      ]
     },
     "execution_count": 54,
     "metadata": {
      "text/plain": ""
     },
     "output_type": "execute_result"
    }
   ],
   "source": [
    "MinimalGenerators(MEDClosure(s));"
   ]
  },
  {
   "cell_type": "markdown",
   "id": "c7ca6cf2",
   "metadata": {},
   "source": [
    "It also makes sense to talk abot the minimal generators as a numerical semigroup with maximal embedding dimension. An element $a$ in a numerical semigroup $S$ with maximal embedding dimension, with $a>\\operatorname{m}(S)$, will be in that minimal MED generating system if and only if $S\\setminus\\{a\\}$ is again a numerical semigroup with maximal embedding dimension. "
   ]
  },
  {
   "cell_type": "code",
   "execution_count": 55,
   "id": "ce38ccdb",
   "metadata": {
    "vscode": {
     "languageId": "gap 4"
    }
   },
   "outputs": [
    {
     "data": {
      "text/plain": [
       "[ 3, 5 ]"
      ]
     },
     "execution_count": 55,
     "metadata": {
      "text/plain": ""
     },
     "output_type": "execute_result"
    }
   ],
   "source": [
    "MinimalMEDGeneratingSystemOfMEDNumericalSemigroup(NumericalSemigroup(3,5,7));"
   ]
  },
  {
   "cell_type": "code",
   "execution_count": 56,
   "id": "22ccf278",
   "metadata": {
    "vscode": {
     "languageId": "gap 4"
    }
   },
   "outputs": [
    {
     "data": {
      "text/plain": [
       "<Numerical semigroup with 3 generators>"
      ]
     },
     "execution_count": 56,
     "metadata": {
      "text/plain": ""
     },
     "output_type": "execute_result"
    }
   ],
   "source": [
    "t:=RemoveMinimalGeneratorFromNumericalSemigroup(5,s);"
   ]
  },
  {
   "cell_type": "code",
   "execution_count": 57,
   "id": "cc662abc",
   "metadata": {
    "vscode": {
     "languageId": "gap 4"
    }
   },
   "outputs": [
    {
     "data": {
      "text/plain": [
       "[ 3, 8, 10 ]"
      ]
     },
     "execution_count": 57,
     "metadata": {
      "text/plain": ""
     },
     "output_type": "execute_result"
    }
   ],
   "source": [
    "MinimalGenerators(t);"
   ]
  },
  {
   "cell_type": "code",
   "execution_count": 58,
   "id": "01f89231",
   "metadata": {
    "vscode": {
     "languageId": "gap 4"
    }
   },
   "outputs": [
    {
     "data": {
      "text/plain": [
       "true"
      ]
     },
     "execution_count": 58,
     "metadata": {
      "text/plain": ""
     },
     "output_type": "execute_result"
    }
   ],
   "source": [
    "IsMED(t);"
   ]
  },
  {
   "cell_type": "markdown",
   "id": "61e55fbe",
   "metadata": {},
   "source": [
    "If $S=\\langle m=n_1< n_2< \\dots < n_m\\rangle$ is a numerical semigroup with maximal embedding dimension, then $\\operatorname{Ap}(S,m)=\\{0, n_2, \\dots, n_m\\}$, and thus $\\operatorname{t}(S)=m-1$. It is not hard to prove that $S$ has maximal embedding dimension if and only if it has maximal type."
   ]
  },
  {
   "cell_type": "code",
   "execution_count": 59,
   "id": "406d8732",
   "metadata": {
    "vscode": {
     "languageId": "gap 4"
    }
   },
   "outputs": [
    {
     "data": {
      "text/plain": [
       "2"
      ]
     },
     "execution_count": 59,
     "metadata": {
      "text/plain": ""
     },
     "output_type": "execute_result"
    }
   ],
   "source": [
    "Type(NumericalSemigroup(3,5,7));"
   ]
  },
  {
   "cell_type": "markdown",
   "id": "aba8580c",
   "metadata": {},
   "source": [
    "A particular class of numerical semigroups with maximal embedding dimension is that of Arf numerical semigroups. A numerical semigroup $S$ if Arf if for any $x,y,z\\in S$, with $x\\ge y\\ge z$, one gets $x+y-z\\in S$. Clearly, the intersection of two Arf numerical semigroups is again an Arf numerical semigroup."
   ]
  },
  {
   "cell_type": "code",
   "execution_count": 60,
   "id": "6d9e3711",
   "metadata": {
    "vscode": {
     "languageId": "gap 4"
    }
   },
   "outputs": [
    {
     "data": {
      "text/plain": [
       "[ 3, 5, 7 ]"
      ]
     },
     "execution_count": 60,
     "metadata": {
      "text/plain": ""
     },
     "output_type": "execute_result"
    }
   ],
   "source": [
    "MinimalGenerators(ArfNumericalSemigroupClosure(NumericalSemigroup(3,5)));"
   ]
  },
  {
   "cell_type": "markdown",
   "id": "2e5f007e",
   "metadata": {},
   "source": [
    "### Irreducible numerical semigroups"
   ]
  },
  {
   "cell_type": "markdown",
   "id": "a93705b3",
   "metadata": {},
   "source": [
    "We say that a numerical semigroup $S$ is irreducible if it cannot be expressed as the intersection of two numerical semigroups properly containing it.\n",
    "\n",
    "It can be (easily) shown that if we fix a positive integer $f$, then $S$ is irreducible if and only if it is maximal (with respect to inclusion) in the set of all numerical semigroups with Frobenius number $f$ (or equivalently, in the set of all numerical semigroups not containing $f$). \n",
    "\n",
    "Recall that $\\operatorname{g}(S)\\ge (\\operatorname{F}(S)+1)/2$. Having less genus means being \"bigger\", and so if $\\operatorname{F}(S)$ is odd, then $S$ is irreducible if and only if $\\operatorname{g}(S)= (\\operatorname{F}(S)+1)/2$.\n",
    "\n",
    "For $\\operatorname{F}(S)$ even, we obtain that $S$ is irreducible if and only if $\\operatorname{g}(S)=(\\operatorname{F}(S)+2)/2$.\n",
    "\n"
   ]
  },
  {
   "cell_type": "markdown",
   "id": "bbbd521d",
   "metadata": {},
   "source": [
    "Every numerical semigroup can be expressed as a finite intersection of irreducible numerical semigroups. Two minimal (non-redundant) expressions of the semigroup as intersection of irreducible numerical semigroup may have different factors."
   ]
  },
  {
   "cell_type": "code",
   "execution_count": 61,
   "id": "6e562c93",
   "metadata": {
    "vscode": {
     "languageId": "gap 4"
    }
   },
   "outputs": [
    {
     "data": {
      "text/plain": [
       "<Numerical semigroup with 3 generators>"
      ]
     },
     "execution_count": 61,
     "metadata": {
      "text/plain": ""
     },
     "output_type": "execute_result"
    }
   ],
   "source": [
    "s:=NumericalSemigroup(3,7,8);"
   ]
  },
  {
   "cell_type": "code",
   "execution_count": 62,
   "id": "1c467933",
   "metadata": {
    "vscode": {
     "languageId": "gap 4"
    }
   },
   "outputs": [
    {
     "data": {
      "text/plain": [
       "[ 0, 3, 6 ]"
      ]
     },
     "execution_count": 62,
     "metadata": {
      "text/plain": ""
     },
     "output_type": "execute_result"
    }
   ],
   "source": [
    "SmallElements(s);"
   ]
  },
  {
   "cell_type": "code",
   "execution_count": 63,
   "id": "a8b06ba2",
   "metadata": {
    "vscode": {
     "languageId": "gap 4"
    }
   },
   "outputs": [
    {
     "data": {
      "text/plain": [
       "false"
      ]
     },
     "execution_count": 63,
     "metadata": {
      "text/plain": ""
     },
     "output_type": "execute_result"
    }
   ],
   "source": [
    "IsIrreducible(s);"
   ]
  },
  {
   "cell_type": "code",
   "execution_count": 64,
   "id": "e13c1a8e",
   "metadata": {
    "vscode": {
     "languageId": "gap 4"
    }
   },
   "outputs": [
    {
     "data": {
      "text/plain": [
       "[ <Numerical semigroup with 2 generators>,   <Numerical semigroup with 3 generators> ]"
      ]
     },
     "execution_count": 64,
     "metadata": {
      "text/plain": ""
     },
     "output_type": "execute_result"
    }
   ],
   "source": [
    "l:=DecomposeIntoIrreducibles(s);"
   ]
  },
  {
   "cell_type": "code",
   "execution_count": 65,
   "id": "181ffddb",
   "metadata": {
    "vscode": {
     "languageId": "gap 4"
    }
   },
   "outputs": [
    {
     "data": {
      "text/plain": [
       "[ [ 0, 3, 4, 6 ], [ 0, 3, 5 ] ]"
      ]
     },
     "execution_count": 65,
     "metadata": {
      "text/plain": ""
     },
     "output_type": "execute_result"
    }
   ],
   "source": [
    "List(l,SmallElements);"
   ]
  },
  {
   "cell_type": "markdown",
   "id": "d68a3225",
   "metadata": {},
   "source": [
    "Notice also that for every integer $x$, both $x$ and $\\operatorname{F}(S)-x$ cannot be in $S$ (since otherwise their sum, which is $\\operatorname{F}(S)$, would be in $S$). If we want $S$ to have the least possible number of gaps once the Frobenius number is fixed, then we do not want $x$ and $\\operatorname{F}(S)-x$ to be gaps at the same time (unless they are the same and then $x=\\operatorname{F}(S)/2$). \n",
    "\n",
    "Assume that $\\operatorname{F}(S)$ is odd. Then we say that $S$ is symmetric if for any integer $x\\not\\in S$, we have that $\\operatorname{F}(S)-x\\in S$. A numerical semigroup with odd Frobenius number is irreducible if and only if it is symmetric.\n",
    "\n",
    "For the case $\\operatorname{F}(S)$ even, we have to take into account $\\operatorname{F}(S)/2$. A numerical semigroup $S$ is pseudo-symmetric if $\\operatorname{F}(S)$ is even and for any integer $x$ not in $S$ and different from $\\operatorname{F}(S)/2$, we have that $\\operatorname{F}(S)-x\\in S$. A numerical semigroup with even Frobenius number is irreducible if and only if it is pseudo-symmetric."
   ]
  },
  {
   "cell_type": "code",
   "execution_count": 66,
   "id": "066f0784",
   "metadata": {
    "vscode": {
     "languageId": "gap 4"
    }
   },
   "outputs": [
    {
     "data": {
      "text/plain": [
       "[ 4, 5 ]"
      ]
     },
     "execution_count": 66,
     "metadata": {
      "text/plain": ""
     },
     "output_type": "execute_result"
    }
   ],
   "source": [
    "PseudoFrobenius(s);"
   ]
  },
  {
   "cell_type": "code",
   "execution_count": 67,
   "id": "c2b09650",
   "metadata": {
    "vscode": {
     "languageId": "gap 4"
    }
   },
   "outputs": [
    {
     "data": {
      "text/plain": [
       "[ <Numerical semigroup>, <Numerical semigroup>, <Numerical semigroup>,   <Numerical semigroup>, <Numerical semigroup>, <Numerical semigroup>,   <Numerical semigroup>, <Numerical semigroup> ]"
      ]
     },
     "execution_count": 67,
     "metadata": {
      "text/plain": ""
     },
     "output_type": "execute_result"
    }
   ],
   "source": [
    "li:=IrreducibleNumericalSemigroupsWithFrobeniusNumber(13);"
   ]
  },
  {
   "cell_type": "code",
   "execution_count": 68,
   "id": "c187b16f",
   "metadata": {
    "vscode": {
     "languageId": "gap 4"
    }
   },
   "outputs": [
    {
     "data": {
      "text/plain": [
       "[ [ 13 ], [ 13 ], [ 13 ], [ 13 ], [ 13 ], [ 13 ], [ 13 ], [ 13 ] ]"
      ]
     },
     "execution_count": 68,
     "metadata": {
      "text/plain": ""
     },
     "output_type": "execute_result"
    }
   ],
   "source": [
    "List(li,PseudoFrobenius);"
   ]
  },
  {
   "cell_type": "code",
   "execution_count": 69,
   "id": "454cf482",
   "metadata": {
    "vscode": {
     "languageId": "gap 4"
    }
   },
   "outputs": [
    {
     "data": {
      "text/plain": [
       "[ <Numerical semigroup>, <Numerical semigroup>, <Numerical semigroup>,   <Numerical semigroup>, <Numerical semigroup>, <Numerical semigroup> ]"
      ]
     },
     "execution_count": 69,
     "metadata": {
      "text/plain": ""
     },
     "output_type": "execute_result"
    }
   ],
   "source": [
    "li:=IrreducibleNumericalSemigroupsWithFrobeniusNumber(14);"
   ]
  },
  {
   "cell_type": "code",
   "execution_count": 70,
   "id": "4984d8de",
   "metadata": {
    "vscode": {
     "languageId": "gap 4"
    }
   },
   "outputs": [
    {
     "data": {
      "text/plain": [
       "[ [ 7, 14 ], [ 7, 14 ], [ 7, 14 ], [ 7, 14 ], [ 7, 14 ], [ 7, 14 ] ]"
      ]
     },
     "execution_count": 70,
     "metadata": {
      "text/plain": ""
     },
     "output_type": "execute_result"
    }
   ],
   "source": [
    "List(li,PseudoFrobenius);"
   ]
  },
  {
   "cell_type": "markdown",
   "id": "3328206e",
   "metadata": {},
   "source": [
    "Symmetric numerical semigroups correspond with those numerical semigroups of type one, while $S$ is pseudo-symmetric if and only if $\\operatorname{PF}(S)=\\{\\operatorname{F}(S)/2, \\operatorname{F}(S)\\}$. As we have seen above, there are numerical semigroups with type two that are not pseudo-symmetric."
   ]
  },
  {
   "cell_type": "code",
   "execution_count": 71,
   "id": "cf210186",
   "metadata": {
    "vscode": {
     "languageId": "gap 4"
    }
   },
   "outputs": [
    {
     "data": {
      "text/plain": [
       "true"
      ]
     },
     "execution_count": 71,
     "metadata": {
      "text/plain": ""
     },
     "output_type": "execute_result"
    }
   ],
   "source": [
    "LoadPackage(\"jupyterviz\");"
   ]
  },
  {
   "cell_type": "code",
   "execution_count": 72,
   "id": "8a3344c8",
   "metadata": {
    "vscode": {
     "languageId": "gap 4"
    }
   },
   "outputs": [
    {
     "data": {
      "text/plain": [
       "[ [ 1, 1 ], [ 2, 1 ], [ 3, 1 ], [ 4, 1 ], [ 5, 2 ], [ 6, 1 ], [ 7, 3 ],   [ 8, 2 ], [ 9, 3 ], [ 10, 3 ], [ 11, 6 ], [ 12, 2 ], [ 13, 8 ], [ 14, 6 ],   [ 15, 7 ], [ 16, 7 ], [ 17, 15 ], [ 18, 7 ], [ 19, 20 ], [ 20, 11 ],   [ 21, 18 ], [ 22, 20 ], [ 23, 36 ], [ 24, 14 ], [ 25, 44 ] ]"
      ]
     },
     "execution_count": 72,
     "metadata": {
      "text/plain": ""
     },
     "output_type": "execute_result"
    }
   ],
   "source": [
    "li:=List([1..25], i->[i,Length(IrreducibleNumericalSemigroupsWithFrobeniusNumber(i))]);"
   ]
  },
  {
   "cell_type": "code",
   "execution_count": 73,
   "id": "7970e5d9",
   "metadata": {
    "vscode": {
     "languageId": "gap 4"
    }
   },
   "outputs": [
    {
     "name": "stdout",
     "output_type": "stream",
     "text": [
      "[ [   1,   1 ],\n",
      "  [   2,   1 ],\n",
      "  [   3,   1 ],\n",
      "  [   4,   1 ],\n",
      "  [   5,   2 ],\n",
      "  [   6,   1 ],\n",
      "  [   7,   3 ],\n",
      "  [   8,   2 ],\n",
      "  [   9,   3 ],\n",
      "  [  10,   3 ],\n",
      "  [  11,   6 ],\n",
      "  [  12,   2 ],\n",
      "  [  13,   8 ],\n",
      "  [  14,   6 ],\n",
      "  [  15,   7 ],\n",
      "  [  16,   7 ],\n",
      "  [  17,  15 ],\n",
      "  [  18,   7 ],\n",
      "  [  19,  20 ],\n",
      "  [  20,  11 ],\n",
      "  [  21,  18 ],\n",
      "  [  22,  20 ],\n",
      "  [  23,  36 ],\n",
      "  [  24,  14 ],\n",
      "  [  25,  44 ] ]\n"
     ]
    }
   ],
   "source": [
    "# Plot(li);\n",
    "Display(li);"
   ]
  },
  {
   "cell_type": "markdown",
   "id": "f8da086b",
   "metadata": {},
   "source": [
    "### Almost symmetric numerical semigroups"
   ]
  },
  {
   "cell_type": "markdown",
   "id": "93d4e4eb",
   "metadata": {},
   "source": [
    "Recall that for a numerical semigroup $S$, $\\operatorname{g}(S)\\ge (\\operatorname{F}(S)+\\operatorname{t}(S))/2$. We say that $S$ is almost symmetric if $\\operatorname{g}(S)= (\\operatorname{F}(S)+\\operatorname{t}(S))/2$. Consequently, these are numerical semigroups maximal with respect to inclusion once the type and the Frobenius number are fixed. \n",
    "\n",
    "Clearly, every irreducible numerical semigroup is almost symmetric."
   ]
  },
  {
   "cell_type": "code",
   "execution_count": 75,
   "id": "1db570e1",
   "metadata": {
    "vscode": {
     "languageId": "gap 4"
    }
   },
   "outputs": [
    {
     "data": {
      "text/plain": [
       "false"
      ]
     },
     "execution_count": 75,
     "metadata": {
      "text/plain": ""
     },
     "output_type": "execute_result"
    }
   ],
   "source": [
    "s:=NumericalSemigroup(3,7,8);;\n",
    "IsAlmostSymmetric(s);"
   ]
  },
  {
   "cell_type": "code",
   "execution_count": 76,
   "id": "1a3e836e",
   "metadata": {
    "vscode": {
     "languageId": "gap 4"
    }
   },
   "outputs": [
    {
     "data": {
      "text/plain": [
       "5"
      ]
     },
     "execution_count": 76,
     "metadata": {
      "text/plain": ""
     },
     "output_type": "execute_result"
    }
   ],
   "source": [
    "FrobeniusNumber(s);"
   ]
  },
  {
   "cell_type": "code",
   "execution_count": 77,
   "id": "668d8633",
   "metadata": {
    "vscode": {
     "languageId": "gap 4"
    }
   },
   "outputs": [
    {
     "data": {
      "text/plain": [
       "[ <Numerical semigroup>, <Numerical semigroup>, <Numerical semigroup>,   <Numerical semigroup> ]"
      ]
     },
     "execution_count": 77,
     "metadata": {
      "text/plain": ""
     },
     "output_type": "execute_result"
    }
   ],
   "source": [
    "la:=AlmostSymmetricNumericalSemigroupsWithFrobeniusNumber(5);"
   ]
  },
  {
   "cell_type": "code",
   "execution_count": 78,
   "id": "474f1235",
   "metadata": {
    "vscode": {
     "languageId": "gap 4"
    }
   },
   "outputs": [
    {
     "data": {
      "text/plain": [
       "[ [ 0, 6 ], [ 0, 4, 6 ], [ 0, 2, 4, 6 ], [ 0, 3, 4, 6 ] ]"
      ]
     },
     "execution_count": 78,
     "metadata": {
      "text/plain": ""
     },
     "output_type": "execute_result"
    }
   ],
   "source": [
    "List(la,SmallElements);"
   ]
  },
  {
   "cell_type": "code",
   "execution_count": 79,
   "id": "a27694a9",
   "metadata": {
    "vscode": {
     "languageId": "gap 4"
    }
   },
   "outputs": [
    {
     "data": {
      "text/plain": [
       "[ 0, 3, 6 ]"
      ]
     },
     "execution_count": 79,
     "metadata": {
      "text/plain": ""
     },
     "output_type": "execute_result"
    }
   ],
   "source": [
    "SmallElements(s);"
   ]
  },
  {
   "cell_type": "code",
   "execution_count": 84,
   "id": "d8202c08",
   "metadata": {
    "vscode": {
     "languageId": "gap 4"
    }
   },
   "outputs": [
    {
     "name": "stdout",
     "output_type": "stream",
     "text": [
      "[ [    1,    1 ],\n",
      "  [    2,    1 ],\n",
      "  [    3,    2 ],\n",
      "  [    4,    2 ],\n",
      "  [    5,    4 ],\n",
      "  [    6,    3 ],\n",
      "  [    7,    7 ],\n",
      "  [    8,    6 ],\n",
      "  [    9,   11 ],\n",
      "  [   10,    9 ],\n",
      "  [   11,   20 ],\n",
      "  [   12,   15 ],\n",
      "  [   13,   32 ],\n",
      "  [   14,   24 ],\n",
      "  [   15,   47 ],\n",
      "  [   16,   42 ],\n",
      "  [   17,   83 ],\n",
      "  [   18,   58 ],\n",
      "  [   19,  131 ],\n",
      "  [   20,  103 ],\n",
      "  [   21,  188 ],\n",
      "  [   22,  151 ],\n",
      "  [   23,  323 ],\n",
      "  [   24,  241 ],\n",
      "  [   25,  494 ] ]\n"
     ]
    }
   ],
   "source": [
    "li:=List([1..25], i->[i,Length(AlmostSymmetricNumericalSemigroupsWithFrobeniusNumber(i))]);;\n",
    "Display(li);"
   ]
  },
  {
   "cell_type": "markdown",
   "id": "c4af714e",
   "metadata": {},
   "source": [
    "There are many other generalizations of symmetry."
   ]
  }
 ],
 "metadata": {
  "kernelspec": {
   "display_name": "GAP 4",
   "language": "gap",
   "name": "gap-4"
  },
  "language_info": {
   "codemirror_mode": "gap",
   "file_extension": ".g",
   "mimetype": "text/x-gap",
   "name": "GAP 4",
   "nbconvert_exporter": "",
   "pygments_lexer": "gap",
   "version": "4.12.2"
  }
 },
 "nbformat": 4,
 "nbformat_minor": 5
}
