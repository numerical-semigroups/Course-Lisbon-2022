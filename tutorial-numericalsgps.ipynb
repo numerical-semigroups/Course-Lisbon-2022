{
 "cells": [
  {
   "cell_type": "markdown",
   "id": "9df0fd2a",
   "metadata": {},
   "source": [
    "# `NumericalSgps` an introduction - Lisbon 2022"
   ]
  },
  {
   "cell_type": "markdown",
   "id": "55aa7271",
   "metadata": {},
   "source": [
    "## Some basic definitions"
   ]
  },
  {
   "cell_type": "markdown",
   "id": "2e4a68a3",
   "metadata": {},
   "source": [
    "Recall that a numerical semigroup $S$ is a subset of the set of nonnegative integers, $\\mathbb{N}$, that is closed under addition, $0\\in S$, and there are only finitely many positive integers not belonging to $S$. The first two contidions imply that $(S,+)$ is a submonoid of $(\\mathbb{N},+)$. \n",
    "\n",
    "The set $\\mathbb{N}\\setminus S$ is known as the set of gaps of $S$, denoted $\\operatorname{G}(S)$, and the largest integer not belonging to $S$ is its Frobenius number, $\\operatorname{F}(S)$. The conductor of $S$, $\\operatorname{C}(S)$ has the following property: $\\operatorname{C}(S)+\\mathbb{N}\\subseteq S$."
   ]
  },
  {
   "cell_type": "code",
   "execution_count": 6,
   "id": "32195684",
   "metadata": {},
   "outputs": [
    {
     "data": {
      "text/plain": [
       "true"
      ]
     },
     "execution_count": 6,
     "metadata": {
      "text/plain": ""
     },
     "output_type": "execute_result"
    }
   ],
   "source": [
    "LoadPackage(\"num\");"
   ]
  },
  {
   "cell_type": "code",
   "execution_count": 7,
   "id": "ae156b75",
   "metadata": {},
   "outputs": [
    {
     "data": {
      "text/plain": [
       "Numerical semigroup"
      ]
     },
     "execution_count": 7,
     "metadata": {
      "text/plain": ""
     },
     "output_type": "execute_result"
    }
   ],
   "source": [
    "s:=NumericalSemigroupByGaps([1..5]);"
   ]
  },
  {
   "cell_type": "code",
   "execution_count": 8,
   "id": "ae1934c2",
   "metadata": {},
   "outputs": [
    {
     "data": {
      "text/plain": [
       "true"
      ]
     },
     "execution_count": 8,
     "metadata": {
      "text/plain": ""
     },
     "output_type": "execute_result"
    }
   ],
   "source": [
    "10 in s;"
   ]
  },
  {
   "cell_type": "code",
   "execution_count": 9,
   "id": "985a5c09",
   "metadata": {},
   "outputs": [
    {
     "data": {
      "text/plain": [
       "5"
      ]
     },
     "execution_count": 9,
     "metadata": {
      "text/plain": ""
     },
     "output_type": "execute_result"
    }
   ],
   "source": [
    "FrobeniusNumber(s);"
   ]
  },
  {
   "cell_type": "code",
   "execution_count": 10,
   "id": "426c6e41",
   "metadata": {},
   "outputs": [
    {
     "data": {
      "text/plain": [
       "[ 1, 2, 3, 4, 5 ]"
      ]
     },
     "execution_count": 10,
     "metadata": {
      "text/plain": ""
     },
     "output_type": "execute_result"
    }
   ],
   "source": [
    "Gaps(s);"
   ]
  },
  {
   "cell_type": "markdown",
   "id": "4d189564",
   "metadata": {},
   "source": [
    "We can see which elements in the semigroup are in a given interval."
   ]
  },
  {
   "cell_type": "code",
   "execution_count": 11,
   "id": "8850e7a0",
   "metadata": {},
   "outputs": [
    {
     "data": {
      "text/plain": [
       "[ 0, 6, 7, 8, 9, 10, 11, 12, 13, 14, 15, 16, 17, 18, 19, 20, 21, 22, 23, 24, 25, 26, 27, 28, 29, 30 ]"
      ]
     },
     "execution_count": 11,
     "metadata": {
      "text/plain": ""
     },
     "output_type": "execute_result"
    }
   ],
   "source": [
    "Intersection(s,[0..30]);"
   ]
  },
  {
   "cell_type": "markdown",
   "id": "82221c95",
   "metadata": {},
   "source": [
    "Or which is the $i$th element in the semigroup."
   ]
  },
  {
   "cell_type": "code",
   "execution_count": 12,
   "id": "ca815e16",
   "metadata": {},
   "outputs": [
    {
     "data": {
      "text/plain": [
       "34"
      ]
     },
     "execution_count": 12,
     "metadata": {
      "text/plain": ""
     },
     "output_type": "execute_result"
    }
   ],
   "source": [
    "s[30];"
   ]
  },
  {
   "cell_type": "markdown",
   "id": "fa27b209",
   "metadata": {},
   "source": [
    "Or even, what are the first $n$ elements in the semigroup."
   ]
  },
  {
   "cell_type": "code",
   "execution_count": 13,
   "id": "f43d8eea",
   "metadata": {},
   "outputs": [
    {
     "data": {
      "text/plain": [
       "[ 0, 6, 7, 8, 9, 10, 11, 12, 13, 14, 15, 16, 17, 18, 19, 20, 21, 22, 23, 24 ]"
      ]
     },
     "execution_count": 13,
     "metadata": {
      "text/plain": ""
     },
     "output_type": "execute_result"
    }
   ],
   "source": [
    "s{[1..20]};"
   ]
  },
  {
   "cell_type": "markdown",
   "id": "937c9224",
   "metadata": {},
   "source": [
    "The genus of $S$ is the cardinality of $\\mathbb{N}\\setminus S$, denoted $\\operatorname{g}(S)$."
   ]
  },
  {
   "cell_type": "code",
   "execution_count": 14,
   "id": "2b23da44",
   "metadata": {},
   "outputs": [
    {
     "data": {
      "text/plain": [
       "5"
      ]
     },
     "execution_count": 14,
     "metadata": {
      "text/plain": ""
     },
     "output_type": "execute_result"
    }
   ],
   "source": [
    "Genus(s);"
   ]
  },
  {
   "cell_type": "markdown",
   "id": "02536b43",
   "metadata": {},
   "source": [
    "The set $S\\cap[0,\\operatorname{C}(S)]$ is known as the set of small elements of $S$ (if we remove the conductor, then somtimes is called the set of left or sporadic elements)."
   ]
  },
  {
   "cell_type": "code",
   "execution_count": 15,
   "id": "9d983145",
   "metadata": {},
   "outputs": [
    {
     "data": {
      "text/plain": [
       "[ 0, 6 ]"
      ]
     },
     "execution_count": 15,
     "metadata": {
      "text/plain": ""
     },
     "output_type": "execute_result"
    }
   ],
   "source": [
    "SmallElements(s);"
   ]
  },
  {
   "cell_type": "code",
   "execution_count": 16,
   "id": "881da35d",
   "metadata": {},
   "outputs": [
    {
     "data": {
      "text/plain": [
       "true"
      ]
     },
     "execution_count": 16,
     "metadata": {
      "text/plain": ""
     },
     "output_type": "execute_result"
    }
   ],
   "source": [
    "s=NumericalSemigroupBySmallElements([0,6]);"
   ]
  },
  {
   "cell_type": "markdown",
   "id": "f9330665",
   "metadata": {},
   "source": [
    "Denote by $\\operatorname{n}(S)=\\#\\{s \\in S : s<\\operatorname{F}(S)\\}$. It follows that $\\operatorname{n}(S)+\\operatorname{g}(S)=\\operatorname{F}(S)+1$. Since for every $n\\in S$ with $n<\\operatorname{F}(S)$ we have that $\\operatorname{F}(S)-n\\not\\in S$, we have that there are less left elements than gaps, and so the following inequality always holds."
   ]
  },
  {
   "cell_type": "code",
   "execution_count": 17,
   "id": "faf5d493",
   "metadata": {
    "scrolled": true
   },
   "outputs": [
    {
     "data": {
      "text/plain": [
       "true"
      ]
     },
     "execution_count": 17,
     "metadata": {
      "text/plain": ""
     },
     "output_type": "execute_result"
    }
   ],
   "source": [
    "Genus(s)>= (FrobeniusNumber(s)+1)/2;"
   ]
  },
  {
   "cell_type": "markdown",
   "id": "5f2f30e7",
   "metadata": {},
   "source": [
    "Given $A$ a set of positive integers, the submonoid (under addition) of $\\mathbb{N}$ generated by $A$ is the intersection of all submonoids of $\\mathbb{N}$ contanining $A$, which can be described as \n",
    "$$ \\langle A\\rangle = \\left\\{ \\sum_{i=1}^n \\lambda_i a_i : n\\in\\mathbb{N}, \\lambda_i\\in \\mathbb{N}, a_i\\in A\\right\\}.$$\n",
    "The submonoid $\\langle A\\rangle$ is a numerical semigroup if and only if $\\gcd(A)=1$.\n",
    "\n",
    "We say that $A$ is a generating system of $S$ if $S=\\langle A\\rangle$, and that $A$ is a minimal generating system of $S$ if, in addition, no proper subset of $A$ generates $S$. \n",
    "\n",
    "Every numerical semgiroup has a unique minimal generating system: $S^*\\setminus (S^*+S^*)$, with $S^*=S\\setminus\\{0\\}$. Sometimes the elements in the minimal generating system of $S$ are called minimal generators, atoms, irreducible, or primitive elements of $S$. The cardinality of the minimal generating system of $S$ is known as the embedding dimension of $S$, denoted $\\operatorname{e}(S)$."
   ]
  },
  {
   "cell_type": "code",
   "execution_count": 18,
   "id": "42a27a8a",
   "metadata": {},
   "outputs": [
    {
     "data": {
      "text/plain": [
       "[ 6, 7, 8, 9, 10, 11 ]"
      ]
     },
     "execution_count": 18,
     "metadata": {
      "text/plain": ""
     },
     "output_type": "execute_result"
    }
   ],
   "source": [
    "Generators(s);"
   ]
  },
  {
   "cell_type": "code",
   "execution_count": 19,
   "id": "62cce96a",
   "metadata": {},
   "outputs": [
    {
     "data": {
      "text/plain": [
       "[ 6, 7, 8, 9, 10, 11 ]"
      ]
     },
     "execution_count": 19,
     "metadata": {
      "text/plain": ""
     },
     "output_type": "execute_result"
    }
   ],
   "source": [
    "MinimalGenerators(s);"
   ]
  },
  {
   "cell_type": "code",
   "execution_count": 20,
   "id": "b77dd575",
   "metadata": {},
   "outputs": [
    {
     "data": {
      "text/plain": [
       "6"
      ]
     },
     "execution_count": 20,
     "metadata": {
      "text/plain": ""
     },
     "output_type": "execute_result"
    }
   ],
   "source": [
    "EmbeddingDimension(s);"
   ]
  },
  {
   "cell_type": "markdown",
   "id": "96a05e3f",
   "metadata": {},
   "source": [
    "We can define a numerical semigoup by giving one of its generating sets."
   ]
  },
  {
   "cell_type": "code",
   "execution_count": 21,
   "id": "f7f45111",
   "metadata": {},
   "outputs": [
    {
     "data": {
      "text/plain": [
       "Numerical semigroup with 3 generators"
      ]
     },
     "execution_count": 21,
     "metadata": {
      "text/plain": ""
     },
     "output_type": "execute_result"
    }
   ],
   "source": [
    "s:=NumericalSemigroup(3,5,7);"
   ]
  },
  {
   "cell_type": "markdown",
   "id": "ff4c9756",
   "metadata": {},
   "source": [
    "The multiplicity of a numerical semigroup $S$ is the least positive integer in $S$ (and coincides with its smallest minimal generator), we will denote it by $\\operatorname{m}(S)$."
   ]
  },
  {
   "cell_type": "code",
   "execution_count": 22,
   "id": "8e72da0c",
   "metadata": {},
   "outputs": [
    {
     "data": {
      "text/plain": [
       "3"
      ]
     },
     "execution_count": 22,
     "metadata": {
      "text/plain": ""
     },
     "output_type": "execute_result"
    }
   ],
   "source": [
    "Multiplicity(s);"
   ]
  },
  {
   "cell_type": "markdown",
   "id": "d944e41f",
   "metadata": {},
   "source": [
    "## Apéry sets"
   ]
  },
  {
   "cell_type": "markdown",
   "id": "0e7031d6",
   "metadata": {},
   "source": [
    "One of the most important tools when studying numerical semigroups is the concept of Apéry sets. Given a numerical semigroup $S$ and $n$ a nonzero element of $S$ (one can define also Apéry sets for elements outside $S$, but we are not going to deal with them here), the Apéry set of $n$ in $S$ (or of $S$ with respect to $n$) is the set \n",
    "$$\\operatorname{Ap}(S,n)=\\{ s\\in S : s-n\\not\\in S\\}.$$\n",
    "This set has precisely $n$ elements, one in each congruence class modulo $n$. Moreover, for every $s\\in S$ there exist unique $k\\in \\mathbb{N}$ and $w\\in \\operatorname{Ap}(S,n)$ such that $s=kn+w$. This in particular implies that the embedding dimension of $S$ is always smaller than or equal to its multiplicity, since $(\\operatorname{Ap}(S,n))\\setminus\\{0\\}\\cup\\{n\\}$ is a minimal generating set of $S$ for all $n\\in S\\setminus\\{0\\}$."
   ]
  },
  {
   "cell_type": "code",
   "execution_count": 24,
   "id": "12f7e746",
   "metadata": {},
   "outputs": [
    {
     "data": {
      "text/plain": [
       "[ 0, 25, 26, 15, 16, 41, 6, 31, 20, 21, 10, 35 ]"
      ]
     },
     "execution_count": 24,
     "metadata": {
      "text/plain": ""
     },
     "output_type": "execute_result"
    }
   ],
   "source": [
    "s:=NumericalSemigroup(6,10,15);;\n",
    "AperyList(s,12);"
   ]
  },
  {
   "cell_type": "markdown",
   "id": "a0194713",
   "metadata": {},
   "source": [
    "If the second argument is not given, then the Apéry set is taken with respect to the multiplicity of the numerical semigroup."
   ]
  },
  {
   "cell_type": "code",
   "execution_count": 25,
   "id": "3285ac2a",
   "metadata": {},
   "outputs": [
    {
     "data": {
      "text/plain": [
       "[ 0, 25, 20, 15, 10, 35 ]"
      ]
     },
     "execution_count": 25,
     "metadata": {
      "text/plain": ""
     },
     "output_type": "execute_result"
    }
   ],
   "source": [
    "AperyList(s);"
   ]
  },
  {
   "cell_type": "markdown",
   "id": "01edd84a",
   "metadata": {},
   "source": [
    "The output is arranged in a list, so that in the $i$th position (starting in 0) we find the least element in $S$ congruent with $i$ modulo $n$. In this way, membership to $S$ becomes trivial once an Apéry set of the semigroup is known. \n",
    "\n",
    "This has some other interesting consequences:"
   ]
  },
  {
   "cell_type": "code",
   "execution_count": 26,
   "id": "e0fa9006",
   "metadata": {},
   "outputs": [
    {
     "data": {
      "text/plain": [
       "true"
      ]
     },
     "execution_count": 26,
     "metadata": {
      "text/plain": ""
     },
     "output_type": "execute_result"
    }
   ],
   "source": [
    "FrobeniusNumber(s)=Maximum(AperyList(s,12))-12;"
   ]
  },
  {
   "cell_type": "code",
   "execution_count": 27,
   "id": "80ea52c0",
   "metadata": {},
   "outputs": [
    {
     "data": {
      "text/plain": [
       "true"
      ]
     },
     "execution_count": 27,
     "metadata": {
      "text/plain": ""
     },
     "output_type": "execute_result"
    }
   ],
   "source": [
    "Genus(s)=(Sum(AperyList(s,12)))/12- (12-1)/2;"
   ]
  },
  {
   "cell_type": "markdown",
   "id": "87d869ba",
   "metadata": {},
   "source": [
    "Let $m$ be the multiplcity of $S$, and let $w_i$ be the element in the Apéry set of $m$ in $S$ congruent with $i$ modulo $m$. We can write $w_i=k_im+i$. The tuple $(k_1,\\dots,k_{m-1})$ is known as the Kunz coordinates of $S$. "
   ]
  },
  {
   "cell_type": "code",
   "execution_count": 28,
   "id": "7a9bf52e",
   "metadata": {},
   "outputs": [
    {
     "data": {
      "text/plain": [
       "[ 4, 3, 2, 1, 5 ]"
      ]
     },
     "execution_count": 28,
     "metadata": {
      "text/plain": ""
     },
     "output_type": "execute_result"
    }
   ],
   "source": [
    "KunzCoordinates(s);"
   ]
  },
  {
   "cell_type": "markdown",
   "id": "456448e3",
   "metadata": {},
   "source": [
    "Notice that every nonnegative integer $x$ can be written as $x=k m+i$ for some $k,n\\in \\mathbb{N}$, with $i<m$. It follows easily that $x\\in S$ if and only if $k\\ge k_i$. So it is at no surprise that the genus is precisely the sum of the Kunz coordinates of $S$, which is just a reformulation of the above statement on the genus.    "
   ]
  },
  {
   "cell_type": "code",
   "execution_count": 29,
   "id": "6def5599",
   "metadata": {},
   "outputs": [
    {
     "data": {
      "text/plain": [
       "true"
      ]
     },
     "execution_count": 29,
     "metadata": {
      "text/plain": ""
     },
     "output_type": "execute_result"
    }
   ],
   "source": [
    "Genus(s)=Sum(KunzCoordinates(s));"
   ]
  },
  {
   "cell_type": "markdown",
   "id": "29f24b6c",
   "metadata": {},
   "source": [
    "Notice that $w_i+w_j\\in S$ for all $i,j$, and thus $w_i+w_j=k_{ij}m+w_{i+j \\bmod n}$, this imposes some conditions on the tuples $(k_1,\\dots,k_{m-1})$ that can be Kunz coordinates of a numerical semigroup with multiplicity $m$. In fact, there is a one to one correspondence between numerical semigroups with multiplicity $m$ and integers points in what it is called the Kunz polyhedron."
   ]
  },
  {
   "cell_type": "code",
   "execution_count": 30,
   "id": "97f087fe",
   "metadata": {},
   "outputs": [
    {
     "data": {
      "text/plain": [
       "[ [ 1, 0, 0, 0, 0, -1 ], [ 0, 1, 0, 0, 0, -1 ], [ 0, 0, 1, 0, 0, -1 ], [ 0, 0, 0, 1, 0, -1 ], [ 0, 0, 0, 0, 1, -1 ], [ 2, -1, 0, 0, 0, 0 ], [ 1, 1, -1, 0, 0, 0 ], [ 1, 0, 1, -1, 0, 0 ], [ 1, 0, 0, 1, -1, 0 ], [ 0, 2, 0, -1, 0, 0 ], [ 0, 1, 1, 0, -1, 0 ], [ -1, 1, 0, 0, 1, 1 ], [ -1, 0, 1, 1, 0, 1 ], [ 0, -1, 1, 0, 1, 1 ], [ 0, -1, 0, 2, 0, 1 ], [ 0, 0, -1, 1, 1, 1 ], [ 0, 0, 0, -1, 2, 1 ] ]"
      ]
     },
     "execution_count": 30,
     "metadata": {
      "text/plain": ""
     },
     "output_type": "execute_result"
    }
   ],
   "source": [
    "KunzPolytope(6);"
   ]
  },
  {
   "cell_type": "markdown",
   "id": "4c51b642",
   "metadata": {},
   "source": [
    "The first elements of this output mean that $x_i\\ge 1$, while for instance $[ 1, 0, 1, -1, 0, 0 ]$ translates to $x_1+x_3\\ge x_4$, and $ [ 0, 0, 0, -1, 2, 1 ]$ to $2x_5+1\\ge x_4$."
   ]
  },
  {
   "cell_type": "code",
   "execution_count": 32,
   "id": "5ec266be",
   "metadata": {},
   "outputs": [],
   "source": [
    "x:=List([1..5],i->Indeterminate(Rationals,i));;\n",
    "x1:=Concatenation(x,[1]);;"
   ]
  },
  {
   "cell_type": "code",
   "execution_count": 33,
   "id": "ccd84663",
   "metadata": {},
   "outputs": [
    {
     "name": "stdout",
     "output_type": "stream",
     "text": [
      "x_1-1 ≥ 0\n",
      "x_2-1 ≥ 0\n",
      "x_3-1 ≥ 0\n",
      "x_4-1 ≥ 0\n",
      "x_5-1 ≥ 0\n",
      "2*x_1-x_2 ≥ 0\n",
      "x_1+x_2-x_3 ≥ 0\n",
      "x_1+x_3-x_4 ≥ 0\n",
      "x_1+x_4-x_5 ≥ 0\n",
      "2*x_2-x_4 ≥ 0\n",
      "x_2+x_3-x_5 ≥ 0\n",
      "-x_1+x_2+x_5+1 ≥ 0\n",
      "-x_1+x_3+x_4+1 ≥ 0\n",
      "-x_2+x_3+x_5+1 ≥ 0\n",
      "-x_2+2*x_4+1 ≥ 0\n",
      "-x_3+x_4+x_5+1 ≥ 0\n",
      "-x_4+2*x_5+1 ≥ 0\n"
     ]
    }
   ],
   "source": [
    "for eq in KunzPolytope(6) do Print(eq*x1,\" ≥ 0\\n\"); od;"
   ]
  },
  {
   "cell_type": "markdown",
   "id": "e79a1050",
   "metadata": {},
   "source": [
    "# Pseudo-Frobenius numbers and type"
   ]
  },
  {
   "cell_type": "markdown",
   "id": "be905552",
   "metadata": {},
   "source": [
    "Let $S$ be a numerical semigroup. A pseudo-Frobenius number is an integer $f$ such that $f+S^*\\subseteq S$. In particular, the Frobenius number of $S$ is a pseudo-Frobenius number. The cardinality of the set of pseudo-Frobenius numbers of $S$, $\\operatorname{FP}(S)$, is known as the type of $S$.\n",
    "\n",
    "The semigroup $S$ induces the following ordering over the integers: $a \\le_S b$ if $b-a\\in S$. It easily follows that \n",
    "$$ \\operatorname{PF}(S)= \\operatorname{Maximals}_{\\le_S}(\\mathbb{N}\\setminus S).$$"
   ]
  },
  {
   "cell_type": "code",
   "execution_count": 34,
   "id": "6aca7ad8",
   "metadata": {},
   "outputs": [
    {
     "data": {
      "text/plain": [
       "Numerical semigroup with 4 generators"
      ]
     },
     "execution_count": 34,
     "metadata": {
      "text/plain": ""
     },
     "output_type": "execute_result"
    }
   ],
   "source": [
    "s:=NumericalSemigroup(6,11,13,21);"
   ]
  },
  {
   "cell_type": "code",
   "execution_count": 35,
   "id": "d97a89b4",
   "metadata": {},
   "outputs": [
    {
     "data": {
      "text/plain": [
       "[ 15, 16, 20 ]"
      ]
     },
     "execution_count": 35,
     "metadata": {
      "text/plain": ""
     },
     "output_type": "execute_result"
    }
   ],
   "source": [
    "PseudoFrobenius(s);"
   ]
  },
  {
   "cell_type": "code",
   "execution_count": 36,
   "id": "32e2d2d6",
   "metadata": {
    "scrolled": true
   },
   "outputs": [
    {
     "data": {
      "text/plain": [
       "3"
      ]
     },
     "execution_count": 36,
     "metadata": {
      "text/plain": ""
     },
     "output_type": "execute_result"
    }
   ],
   "source": [
    "Type(s);"
   ]
  },
  {
   "cell_type": "markdown",
   "id": "02778161",
   "metadata": {},
   "source": [
    "Is is not difficult to prove that for any $n\\in S\\setminus\\{0\\}$,  $$n+\\operatorname{PF}(S)=\\operatorname{Maximals}_{\\le_S}(\\operatorname{Ap}(S,n)).$$"
   ]
  },
  {
   "cell_type": "code",
   "execution_count": 37,
   "id": "d46909b6",
   "metadata": {},
   "outputs": [
    {
     "data": {
      "text/plain": [
       "<object>"
      ]
     },
     "execution_count": 37,
     "metadata": {
      "text/plain": ""
     },
     "output_type": "execute_result"
    }
   ],
   "source": [
    "rap:=HasseDiagramOfAperyListOfNumericalSemigroup(s);"
   ]
  },
  {
   "cell_type": "code",
   "execution_count": 38,
   "id": "8ad6bb1c",
   "metadata": {},
   "outputs": [
    {
     "data": {
      "image/svg+xml": [
       "<?xml version=\"1.0\" encoding=\"UTF-8\" standalone=\"no\"?>\n",
       "<!DOCTYPE svg PUBLIC \"-//W3C//DTD SVG 1.1//EN\"\n",
       " \"http://www.w3.org/Graphics/SVG/1.1/DTD/svg11.dtd\">\n",
       "<!-- Generated by graphviz version 2.40.1 (20161225.0304)\n",
       " -->\n",
       "<!-- Title: NSGraph Pages: 1 -->\n",
       "<svg width=\"206pt\" height=\"188pt\"\n",
       " viewBox=\"0.00 0.00 206.00 188.00\" xmlns=\"http://www.w3.org/2000/svg\" xmlns:xlink=\"http://www.w3.org/1999/xlink\">\n",
       "<g id=\"graph0\" class=\"graph\" transform=\"scale(1 1) rotate(0) translate(4 184)\">\n",
       "<title>NSGraph</title>\n",
       "<polygon fill=\"#ffffff\" stroke=\"transparent\" points=\"-4,4 -4,-184 202,-184 202,4 -4,4\"/>\n",
       "<!-- 1 -->\n",
       "<g id=\"node1\" class=\"node\">\n",
       "<title>1</title>\n",
       "<ellipse fill=\"none\" stroke=\"#000000\" cx=\"99\" cy=\"-18\" rx=\"27\" ry=\"18\"/>\n",
       "<text text-anchor=\"middle\" x=\"99\" y=\"-14.3\" font-family=\"Times,serif\" font-size=\"14.00\" fill=\"#000000\">0</text>\n",
       "</g>\n",
       "<!-- 2 -->\n",
       "<g id=\"node2\" class=\"node\">\n",
       "<title>2</title>\n",
       "<ellipse fill=\"none\" stroke=\"#000000\" cx=\"27\" cy=\"-90\" rx=\"27\" ry=\"18\"/>\n",
       "<text text-anchor=\"middle\" x=\"27\" y=\"-86.3\" font-family=\"Times,serif\" font-size=\"14.00\" fill=\"#000000\">11</text>\n",
       "</g>\n",
       "<!-- 2&#45;&gt;1 -->\n",
       "<g id=\"edge1\" class=\"edge\">\n",
       "<title>2&#45;&gt;1</title>\n",
       "<path fill=\"none\" stroke=\"#000000\" d=\"M49.5883,-67.4117C60.7123,-56.2877 73.8297,-43.1703 83.7527,-33.2473\"/>\n",
       "<polygon fill=\"#000000\" stroke=\"#000000\" points=\"46.8656,-65.1847 42.2693,-74.7307 51.8153,-70.1344 46.8656,-65.1847\"/>\n",
       "</g>\n",
       "<!-- 3 -->\n",
       "<g id=\"node3\" class=\"node\">\n",
       "<title>3</title>\n",
       "<ellipse fill=\"none\" stroke=\"#000000\" cx=\"99\" cy=\"-90\" rx=\"27\" ry=\"18\"/>\n",
       "<text text-anchor=\"middle\" x=\"99\" y=\"-86.3\" font-family=\"Times,serif\" font-size=\"14.00\" fill=\"#000000\">13</text>\n",
       "</g>\n",
       "<!-- 3&#45;&gt;1 -->\n",
       "<g id=\"edge2\" class=\"edge\">\n",
       "<title>3&#45;&gt;1</title>\n",
       "<path fill=\"none\" stroke=\"#000000\" d=\"M99,-61.5726C99,-53.1084 99,-44.0593 99,-36.4133\"/>\n",
       "<polygon fill=\"#000000\" stroke=\"#000000\" points=\"95.5001,-61.8313 99,-71.8314 102.5001,-61.8314 95.5001,-61.8313\"/>\n",
       "</g>\n",
       "<!-- 4 -->\n",
       "<g id=\"node4\" class=\"node\">\n",
       "<title>4</title>\n",
       "<ellipse fill=\"none\" stroke=\"#000000\" cx=\"171\" cy=\"-90\" rx=\"27\" ry=\"18\"/>\n",
       "<text text-anchor=\"middle\" x=\"171\" y=\"-86.3\" font-family=\"Times,serif\" font-size=\"14.00\" fill=\"#000000\">21</text>\n",
       "</g>\n",
       "<!-- 4&#45;&gt;1 -->\n",
       "<g id=\"edge3\" class=\"edge\">\n",
       "<title>4&#45;&gt;1</title>\n",
       "<path fill=\"none\" stroke=\"#000000\" d=\"M148.4117,-67.4117C137.2877,-56.2877 124.1703,-43.1703 114.2473,-33.2473\"/>\n",
       "<polygon fill=\"#000000\" stroke=\"#000000\" points=\"146.1847,-70.1344 155.7307,-74.7307 151.1344,-65.1847 146.1847,-70.1344\"/>\n",
       "</g>\n",
       "<!-- 5 -->\n",
       "<g id=\"node5\" class=\"node\">\n",
       "<title>5</title>\n",
       "<ellipse fill=\"none\" stroke=\"#000000\" cx=\"27\" cy=\"-162\" rx=\"27\" ry=\"18\"/>\n",
       "<text text-anchor=\"middle\" x=\"27\" y=\"-158.3\" font-family=\"Times,serif\" font-size=\"14.00\" fill=\"#000000\">22</text>\n",
       "</g>\n",
       "<!-- 5&#45;&gt;2 -->\n",
       "<g id=\"edge4\" class=\"edge\">\n",
       "<title>5&#45;&gt;2</title>\n",
       "<path fill=\"none\" stroke=\"#000000\" d=\"M27,-133.5726C27,-125.1084 27,-116.0593 27,-108.4133\"/>\n",
       "<polygon fill=\"#000000\" stroke=\"#000000\" points=\"23.5001,-133.8313 27,-143.8314 30.5001,-133.8314 23.5001,-133.8313\"/>\n",
       "</g>\n",
       "<!-- 6 -->\n",
       "<g id=\"node6\" class=\"node\">\n",
       "<title>6</title>\n",
       "<ellipse fill=\"none\" stroke=\"#000000\" cx=\"99\" cy=\"-162\" rx=\"27\" ry=\"18\"/>\n",
       "<text text-anchor=\"middle\" x=\"99\" y=\"-158.3\" font-family=\"Times,serif\" font-size=\"14.00\" fill=\"#000000\">26</text>\n",
       "</g>\n",
       "<!-- 6&#45;&gt;3 -->\n",
       "<g id=\"edge5\" class=\"edge\">\n",
       "<title>6&#45;&gt;3</title>\n",
       "<path fill=\"none\" stroke=\"#000000\" d=\"M99,-133.5726C99,-125.1084 99,-116.0593 99,-108.4133\"/>\n",
       "<polygon fill=\"#000000\" stroke=\"#000000\" points=\"95.5001,-133.8313 99,-143.8314 102.5001,-133.8314 95.5001,-133.8313\"/>\n",
       "</g>\n",
       "</g>\n",
       "</svg>\n"
      ]
     },
     "execution_count": 38,
     "metadata": {
      "image/svg+xml": {
       "height": 500,
       "width": 500
      }
     },
     "output_type": "execute_result"
    }
   ],
   "source": [
    "JupyterSplashDot(DotBinaryRelation(rap));"
   ]
  },
  {
   "cell_type": "code",
   "execution_count": 39,
   "id": "6a10fdb7",
   "metadata": {},
   "outputs": [
    {
     "data": {
      "text/plain": [
       "[ 21, 22, 26 ]"
      ]
     },
     "execution_count": 39,
     "metadata": {
      "text/plain": ""
     },
     "output_type": "execute_result"
    }
   ],
   "source": [
    "6+PseudoFrobenius(s);"
   ]
  },
  {
   "cell_type": "markdown",
   "id": "76c94cd9",
   "metadata": {},
   "source": [
    "The minimal elements in $S\\setminus\\{0\\}$ with respect to $\\le_S$ are precisely the minimal generators of $S$."
   ]
  },
  {
   "cell_type": "markdown",
   "id": "11425bb1",
   "metadata": {},
   "source": [
    "For every element $n\\in S\\cap[0,\\operatorname{F}(S))\\cup (\\operatorname{PF}(S)\\setminus\\{\\operatorname{F}(S)\\})$, we have that $\\operatorname{F}(S)-n$ is a gap of $S$. Thus $\\operatorname{n}(S)+\\operatorname{t}(S)-1\\le \\operatorname{g}(S)$. By combining this with $\\operatorname{n}(S)+\\operatorname{g}(S)=\\operatorname{F}(S)+1$, we obtain\n",
    "$$\n",
    "\\operatorname{g}(S)\\ge \\frac{\\operatorname{F}(S)+\\operatorname{t}(S)}2.\n",
    "$$"
   ]
  },
  {
   "cell_type": "code",
   "execution_count": 40,
   "id": "82c04923",
   "metadata": {},
   "outputs": [
    {
     "data": {
      "text/plain": [
       "13"
      ]
     },
     "execution_count": 40,
     "metadata": {
      "text/plain": ""
     },
     "output_type": "execute_result"
    }
   ],
   "source": [
    "Genus(s);"
   ]
  },
  {
   "cell_type": "code",
   "execution_count": 41,
   "id": "24e21b0a",
   "metadata": {},
   "outputs": [
    {
     "data": {
      "text/plain": [
       "23/2"
      ]
     },
     "execution_count": 41,
     "metadata": {
      "text/plain": ""
     },
     "output_type": "execute_result"
    }
   ],
   "source": [
    "(FrobeniusNumber(s)+Type(s))/2;"
   ]
  },
  {
   "cell_type": "markdown",
   "id": "33645eea",
   "metadata": {},
   "source": [
    "## Duality minimal generators  and special gaps"
   ]
  },
  {
   "cell_type": "markdown",
   "id": "1471e830",
   "metadata": {},
   "source": [
    "Notice that for a given numerical semigroup $S$, an element $n\\in S$ is a minimal generator if and only if $S\\setminus\\{n\\}$ is also a numerical semigroup (which has one more gap than $S$). Starting with $\\mathbb{N}$, by removing minimal generators we can construct all numerical semigroups with a given genus."
   ]
  },
  {
   "cell_type": "code",
   "execution_count": 46,
   "id": "913f5956",
   "metadata": {},
   "outputs": [
    {
     "data": {
      "text/plain": [
       "<object>"
      ]
     },
     "execution_count": 46,
     "metadata": {
      "text/plain": ""
     },
     "output_type": "execute_result"
    }
   ],
   "source": [
    "c:=Union(List([0..4],i->NumericalSemigroupsWithGenus(i)));;\n",
    "cc:=Filtered(Cartesian(c,c),p->IsSubset(p[2],p[1]) and IsSubset(MinimalGenerators(p[2]),Difference(p[2],p[1])) \n",
    "                                and Length(Difference(p[2],p[1]))=1);;\n",
    "d:=Domain(List(c,MinimalGenerators));;\n",
    "pairs:=List(cc,p->Tuple([MinimalGenerators(p[1]),MinimalGenerators(p[2])]));;\n",
    "br:=BinaryRelationByElements(d,pairs);"
   ]
  },
  {
   "cell_type": "code",
   "execution_count": 47,
   "id": "bcff10ad",
   "metadata": {
    "scrolled": false
   },
   "outputs": [
    {
     "data": {
      "image/svg+xml": [
       "<?xml version=\"1.0\" encoding=\"UTF-8\" standalone=\"no\"?>\n",
       "<!DOCTYPE svg PUBLIC \"-//W3C//DTD SVG 1.1//EN\"\n",
       " \"http://www.w3.org/Graphics/SVG/1.1/DTD/svg11.dtd\">\n",
       "<!-- Generated by graphviz version 2.40.1 (20161225.0304)\n",
       " -->\n",
       "<!-- Title: NSGraph Pages: 1 -->\n",
       "<svg width=\"708pt\" height=\"332pt\"\n",
       " viewBox=\"0.00 0.00 708.19 332.00\" xmlns=\"http://www.w3.org/2000/svg\" xmlns:xlink=\"http://www.w3.org/1999/xlink\">\n",
       "<g id=\"graph0\" class=\"graph\" transform=\"scale(1 1) rotate(0) translate(4 328)\">\n",
       "<title>NSGraph</title>\n",
       "<polygon fill=\"#ffffff\" stroke=\"transparent\" points=\"-4,4 -4,-328 704.1938,-328 704.1938,4 -4,4\"/>\n",
       "<!-- 1 -->\n",
       "<g id=\"node1\" class=\"node\">\n",
       "<title>1</title>\n",
       "<ellipse fill=\"none\" stroke=\"#000000\" cx=\"362.0969\" cy=\"-306\" rx=\"27\" ry=\"18\"/>\n",
       "<text text-anchor=\"middle\" x=\"362.0969\" y=\"-302.3\" font-family=\"Times,serif\" font-size=\"14.00\" fill=\"#000000\">[ 1 ]</text>\n",
       "</g>\n",
       "<!-- 2 -->\n",
       "<g id=\"node2\" class=\"node\">\n",
       "<title>2</title>\n",
       "<ellipse fill=\"none\" stroke=\"#000000\" cx=\"362.0969\" cy=\"-234\" rx=\"35.194\" ry=\"18\"/>\n",
       "<text text-anchor=\"middle\" x=\"362.0969\" y=\"-230.3\" font-family=\"Times,serif\" font-size=\"14.00\" fill=\"#000000\">[ 2, 3 ]</text>\n",
       "</g>\n",
       "<!-- 1&#45;&gt;2 -->\n",
       "<g id=\"edge1\" class=\"edge\">\n",
       "<title>1&#45;&gt;2</title>\n",
       "<path fill=\"none\" stroke=\"#000000\" d=\"M362.0969,-277.5726C362.0969,-269.1084 362.0969,-260.0593 362.0969,-252.4133\"/>\n",
       "<polygon fill=\"#000000\" stroke=\"#000000\" points=\"358.597,-277.8313 362.0969,-287.8314 365.597,-277.8314 358.597,-277.8313\"/>\n",
       "</g>\n",
       "<!-- 3 -->\n",
       "<g id=\"node3\" class=\"node\">\n",
       "<title>3</title>\n",
       "<ellipse fill=\"none\" stroke=\"#000000\" cx=\"311.0969\" cy=\"-162\" rx=\"35.194\" ry=\"18\"/>\n",
       "<text text-anchor=\"middle\" x=\"311.0969\" y=\"-158.3\" font-family=\"Times,serif\" font-size=\"14.00\" fill=\"#000000\">[ 2, 5 ]</text>\n",
       "</g>\n",
       "<!-- 2&#45;&gt;3 -->\n",
       "<g id=\"edge2\" class=\"edge\">\n",
       "<title>2&#45;&gt;3</title>\n",
       "<path fill=\"none\" stroke=\"#000000\" d=\"M344.1526,-208.6669C337.1762,-198.8178 329.3703,-187.7977 323.0964,-178.9405\"/>\n",
       "<polygon fill=\"#000000\" stroke=\"#000000\" points=\"341.3743,-210.7998 350.0106,-216.937 347.0865,-206.7537 341.3743,-210.7998\"/>\n",
       "</g>\n",
       "<!-- 6 -->\n",
       "<g id=\"node6\" class=\"node\">\n",
       "<title>6</title>\n",
       "<ellipse fill=\"none\" stroke=\"#000000\" cx=\"413.0969\" cy=\"-162\" rx=\"44.393\" ry=\"18\"/>\n",
       "<text text-anchor=\"middle\" x=\"413.0969\" y=\"-158.3\" font-family=\"Times,serif\" font-size=\"14.00\" fill=\"#000000\">[ 3, 4, 5 ]</text>\n",
       "</g>\n",
       "<!-- 2&#45;&gt;6 -->\n",
       "<g id=\"edge5\" class=\"edge\">\n",
       "<title>2&#45;&gt;6</title>\n",
       "<path fill=\"none\" stroke=\"#000000\" d=\"M380.1607,-208.4981C386.9758,-198.8768 394.5674,-188.1593 400.7431,-179.4407\"/>\n",
       "<polygon fill=\"#000000\" stroke=\"#000000\" points=\"377.1073,-206.7537 374.1832,-216.937 382.8195,-210.7998 377.1073,-206.7537\"/>\n",
       "</g>\n",
       "<!-- 4 -->\n",
       "<g id=\"node4\" class=\"node\">\n",
       "<title>4</title>\n",
       "<ellipse fill=\"none\" stroke=\"#000000\" cx=\"142.0969\" cy=\"-90\" rx=\"35.194\" ry=\"18\"/>\n",
       "<text text-anchor=\"middle\" x=\"142.0969\" y=\"-86.3\" font-family=\"Times,serif\" font-size=\"14.00\" fill=\"#000000\">[ 2, 7 ]</text>\n",
       "</g>\n",
       "<!-- 3&#45;&gt;4 -->\n",
       "<g id=\"edge3\" class=\"edge\">\n",
       "<title>3&#45;&gt;4</title>\n",
       "<path fill=\"none\" stroke=\"#000000\" d=\"M274.5755,-146.4406C242.8877,-132.9405 197.7368,-113.7046 169.1823,-101.5393\"/>\n",
       "<polygon fill=\"#000000\" stroke=\"#000000\" points=\"273.3724,-149.7324 283.9441,-150.432 276.1161,-143.2925 273.3724,-149.7324\"/>\n",
       "</g>\n",
       "<!-- 11 -->\n",
       "<g id=\"node11\" class=\"node\">\n",
       "<title>11</title>\n",
       "<ellipse fill=\"none\" stroke=\"#000000\" cx=\"311.0969\" cy=\"-90\" rx=\"53.8905\" ry=\"18\"/>\n",
       "<text text-anchor=\"middle\" x=\"311.0969\" y=\"-86.3\" font-family=\"Times,serif\" font-size=\"14.00\" fill=\"#000000\">[ 4, 5, 6, 7 ]</text>\n",
       "</g>\n",
       "<!-- 3&#45;&gt;11 -->\n",
       "<g id=\"edge11\" class=\"edge\">\n",
       "<title>3&#45;&gt;11</title>\n",
       "<path fill=\"none\" stroke=\"#000000\" d=\"M311.0969,-133.5726C311.0969,-125.1084 311.0969,-116.0593 311.0969,-108.4133\"/>\n",
       "<polygon fill=\"#000000\" stroke=\"#000000\" points=\"307.597,-133.8313 311.0969,-143.8314 314.597,-133.8314 307.597,-133.8313\"/>\n",
       "</g>\n",
       "<!-- 5 -->\n",
       "<g id=\"node5\" class=\"node\">\n",
       "<title>5</title>\n",
       "<ellipse fill=\"none\" stroke=\"#000000\" cx=\"35.0969\" cy=\"-18\" rx=\"35.194\" ry=\"18\"/>\n",
       "<text text-anchor=\"middle\" x=\"35.0969\" y=\"-14.3\" font-family=\"Times,serif\" font-size=\"14.00\" fill=\"#000000\">[ 2, 9 ]</text>\n",
       "</g>\n",
       "<!-- 4&#45;&gt;5 -->\n",
       "<g id=\"edge4\" class=\"edge\">\n",
       "<title>4&#45;&gt;5</title>\n",
       "<path fill=\"none\" stroke=\"#000000\" d=\"M112.3834,-70.0058C94.6281,-58.0584 72.4839,-43.1576 56.4557,-32.3723\"/>\n",
       "<polygon fill=\"#000000\" stroke=\"#000000\" points=\"110.4504,-72.9238 120.701,-75.6028 114.3584,-67.1162 110.4504,-72.9238\"/>\n",
       "</g>\n",
       "<!-- 14 -->\n",
       "<g id=\"node14\" class=\"node\">\n",
       "<title>14</title>\n",
       "<ellipse fill=\"none\" stroke=\"#000000\" cx=\"142.0969\" cy=\"-18\" rx=\"53.8905\" ry=\"18\"/>\n",
       "<text text-anchor=\"middle\" x=\"142.0969\" y=\"-14.3\" font-family=\"Times,serif\" font-size=\"14.00\" fill=\"#000000\">[ 4, 6, 7, 9 ]</text>\n",
       "</g>\n",
       "<!-- 4&#45;&gt;14 -->\n",
       "<g id=\"edge15\" class=\"edge\">\n",
       "<title>4&#45;&gt;14</title>\n",
       "<path fill=\"none\" stroke=\"#000000\" d=\"M142.0969,-61.5726C142.0969,-53.1084 142.0969,-44.0593 142.0969,-36.4133\"/>\n",
       "<polygon fill=\"#000000\" stroke=\"#000000\" points=\"138.597,-61.8313 142.0969,-71.8314 145.597,-61.8314 138.597,-61.8313\"/>\n",
       "</g>\n",
       "<!-- 7 -->\n",
       "<g id=\"node7\" class=\"node\">\n",
       "<title>7</title>\n",
       "<ellipse fill=\"none\" stroke=\"#000000\" cx=\"418.0969\" cy=\"-90\" rx=\"35.194\" ry=\"18\"/>\n",
       "<text text-anchor=\"middle\" x=\"418.0969\" y=\"-86.3\" font-family=\"Times,serif\" font-size=\"14.00\" fill=\"#000000\">[ 3, 4 ]</text>\n",
       "</g>\n",
       "<!-- 6&#45;&gt;7 -->\n",
       "<g id=\"edge6\" class=\"edge\">\n",
       "<title>6&#45;&gt;7</title>\n",
       "<path fill=\"none\" stroke=\"#000000\" d=\"M415.0514,-133.8545C415.6448,-125.3097 416.2813,-116.1442 416.8182,-108.4133\"/>\n",
       "<polygon fill=\"#000000\" stroke=\"#000000\" points=\"411.5599,-133.6129 414.3586,-143.8314 418.5431,-134.0979 411.5599,-133.6129\"/>\n",
       "</g>\n",
       "<!-- 8 -->\n",
       "<g id=\"node8\" class=\"node\">\n",
       "<title>8</title>\n",
       "<ellipse fill=\"none\" stroke=\"#000000\" cx=\"517.0969\" cy=\"-90\" rx=\"44.393\" ry=\"18\"/>\n",
       "<text text-anchor=\"middle\" x=\"517.0969\" y=\"-86.3\" font-family=\"Times,serif\" font-size=\"14.00\" fill=\"#000000\">[ 3, 5, 7 ]</text>\n",
       "</g>\n",
       "<!-- 6&#45;&gt;8 -->\n",
       "<g id=\"edge7\" class=\"edge\">\n",
       "<title>6&#45;&gt;8</title>\n",
       "<path fill=\"none\" stroke=\"#000000\" d=\"M444.2727,-140.4168C460.457,-129.2122 479.8652,-115.7758 494.5745,-105.5924\"/>\n",
       "<polygon fill=\"#000000\" stroke=\"#000000\" points=\"441.893,-137.8073 435.6633,-146.3771 445.8775,-143.5626 441.893,-137.8073\"/>\n",
       "</g>\n",
       "<!-- 6&#45;&gt;11 -->\n",
       "<g id=\"edge12\" class=\"edge\">\n",
       "<title>6&#45;&gt;11</title>\n",
       "<path fill=\"none\" stroke=\"#000000\" d=\"M382.7017,-140.5446C367.1784,-129.587 348.5935,-116.4682 334.2482,-106.3421\"/>\n",
       "<polygon fill=\"#000000\" stroke=\"#000000\" points=\"380.7763,-143.4696 390.9644,-146.3771 384.8131,-137.7508 380.7763,-143.4696\"/>\n",
       "</g>\n",
       "<!-- 10 -->\n",
       "<g id=\"node10\" class=\"node\">\n",
       "<title>10</title>\n",
       "<ellipse fill=\"none\" stroke=\"#000000\" cx=\"568.0969\" cy=\"-18\" rx=\"44.393\" ry=\"18\"/>\n",
       "<text text-anchor=\"middle\" x=\"568.0969\" y=\"-14.3\" font-family=\"Times,serif\" font-size=\"14.00\" fill=\"#000000\">[ 3, 7, 8 ]</text>\n",
       "</g>\n",
       "<!-- 7&#45;&gt;10 -->\n",
       "<g id=\"edge9\" class=\"edge\">\n",
       "<title>7&#45;&gt;10</title>\n",
       "<path fill=\"none\" stroke=\"#000000\" d=\"M453.0872,-73.2046C479.3041,-60.6205 514.7431,-43.6098 539.3231,-31.8114\"/>\n",
       "<polygon fill=\"#000000\" stroke=\"#000000\" points=\"451.3835,-70.1401 443.8828,-77.6228 454.4126,-76.4507 451.3835,-70.1401\"/>\n",
       "</g>\n",
       "<!-- 7&#45;&gt;14 -->\n",
       "<g id=\"edge16\" class=\"edge\">\n",
       "<title>7&#45;&gt;14</title>\n",
       "<path fill=\"none\" stroke=\"#000000\" d=\"M381.9358,-74.6148C379.3019,-73.677 376.67,-72.7934 374.0969,-72 300.7101,-49.3712 279.6168,-54.5596 205.0969,-36 197.8118,-34.1856 190.0957,-32.1104 182.6549,-30.0293\"/>\n",
       "<polygon fill=\"#000000\" stroke=\"#000000\" points=\"380.7896,-77.9231 391.3813,-78.1843 383.2642,-71.3751 380.7896,-77.9231\"/>\n",
       "</g>\n",
       "<!-- 9 -->\n",
       "<g id=\"node9\" class=\"node\">\n",
       "<title>9</title>\n",
       "<ellipse fill=\"none\" stroke=\"#000000\" cx=\"665.0969\" cy=\"-18\" rx=\"35.194\" ry=\"18\"/>\n",
       "<text text-anchor=\"middle\" x=\"665.0969\" y=\"-14.3\" font-family=\"Times,serif\" font-size=\"14.00\" fill=\"#000000\">[ 3, 5 ]</text>\n",
       "</g>\n",
       "<!-- 8&#45;&gt;9 -->\n",
       "<g id=\"edge8\" class=\"edge\">\n",
       "<title>8&#45;&gt;9</title>\n",
       "<path fill=\"none\" stroke=\"#000000\" d=\"M554.6582,-71.7269C581.2537,-58.7886 616.2171,-41.7793 639.6127,-30.3977\"/>\n",
       "<polygon fill=\"#000000\" stroke=\"#000000\" points=\"553.094,-68.5956 545.6328,-76.1177 556.1563,-74.8903 553.094,-68.5956\"/>\n",
       "</g>\n",
       "<!-- 8&#45;&gt;10 -->\n",
       "<g id=\"edge10\" class=\"edge\">\n",
       "<title>8&#45;&gt;10</title>\n",
       "<path fill=\"none\" stroke=\"#000000\" d=\"M535.3667,-64.2074C542.1082,-54.69 549.5846,-44.1349 555.6881,-35.5182\"/>\n",
       "<polygon fill=\"#000000\" stroke=\"#000000\" points=\"532.3667,-62.3875 529.4426,-72.5708 538.0789,-66.4336 532.3667,-62.3875\"/>\n",
       "</g>\n",
       "<!-- 15 -->\n",
       "<g id=\"node15\" class=\"node\">\n",
       "<title>15</title>\n",
       "<ellipse fill=\"none\" stroke=\"#000000\" cx=\"466.0969\" cy=\"-18\" rx=\"40.0939\" ry=\"18\"/>\n",
       "<text text-anchor=\"middle\" x=\"466.0969\" y=\"-14.3\" font-family=\"Times,serif\" font-size=\"14.00\" fill=\"#000000\">[ 5 .. 9 ]</text>\n",
       "</g>\n",
       "<!-- 8&#45;&gt;15 -->\n",
       "<g id=\"edge18\" class=\"edge\">\n",
       "<title>8&#45;&gt;15</title>\n",
       "<path fill=\"none\" stroke=\"#000000\" d=\"M498.7812,-64.1426C491.9864,-54.55 484.4506,-43.9111 478.3289,-35.2687\"/>\n",
       "<polygon fill=\"#000000\" stroke=\"#000000\" points=\"496.1149,-66.4336 504.7512,-72.5708 501.8271,-62.3875 496.1149,-66.4336\"/>\n",
       "</g>\n",
       "<!-- 12 -->\n",
       "<g id=\"node12\" class=\"node\">\n",
       "<title>12</title>\n",
       "<ellipse fill=\"none\" stroke=\"#000000\" cx=\"258.0969\" cy=\"-18\" rx=\"44.393\" ry=\"18\"/>\n",
       "<text text-anchor=\"middle\" x=\"258.0969\" y=\"-14.3\" font-family=\"Times,serif\" font-size=\"14.00\" fill=\"#000000\">[ 4, 5, 6 ]</text>\n",
       "</g>\n",
       "<!-- 11&#45;&gt;12 -->\n",
       "<g id=\"edge13\" class=\"edge\">\n",
       "<title>11&#45;&gt;12</title>\n",
       "<path fill=\"none\" stroke=\"#000000\" d=\"M292.0617,-64.1408C285.0214,-54.5767 277.2158,-43.9728 270.8644,-35.3446\"/>\n",
       "<polygon fill=\"#000000\" stroke=\"#000000\" points=\"289.2489,-66.2237 297.9958,-72.2022 294.8862,-62.074 289.2489,-66.2237\"/>\n",
       "</g>\n",
       "<!-- 13 -->\n",
       "<g id=\"node13\" class=\"node\">\n",
       "<title>13</title>\n",
       "<ellipse fill=\"none\" stroke=\"#000000\" cx=\"364.0969\" cy=\"-18\" rx=\"44.393\" ry=\"18\"/>\n",
       "<text text-anchor=\"middle\" x=\"364.0969\" y=\"-14.3\" font-family=\"Times,serif\" font-size=\"14.00\" fill=\"#000000\">[ 4, 5, 7 ]</text>\n",
       "</g>\n",
       "<!-- 11&#45;&gt;13 -->\n",
       "<g id=\"edge14\" class=\"edge\">\n",
       "<title>11&#45;&gt;13</title>\n",
       "<path fill=\"none\" stroke=\"#000000\" d=\"M330.1321,-64.1408C337.1724,-54.5767 344.978,-43.9728 351.3293,-35.3446\"/>\n",
       "<polygon fill=\"#000000\" stroke=\"#000000\" points=\"327.3075,-62.074 324.198,-72.2022 332.9449,-66.2237 327.3075,-62.074\"/>\n",
       "</g>\n",
       "<!-- 11&#45;&gt;14 -->\n",
       "<g id=\"edge17\" class=\"edge\">\n",
       "<title>11&#45;&gt;14</title>\n",
       "<path fill=\"none\" stroke=\"#000000\" d=\"M268.2933,-71.7641C239.4728,-59.4856 202.0166,-43.5279 175.4165,-32.1953\"/>\n",
       "<polygon fill=\"#000000\" stroke=\"#000000\" points=\"267.1362,-75.0755 277.7079,-75.7751 269.8799,-68.6356 267.1362,-75.0755\"/>\n",
       "</g>\n",
       "<!-- 11&#45;&gt;15 -->\n",
       "<g id=\"edge19\" class=\"edge\">\n",
       "<title>11&#45;&gt;15</title>\n",
       "<path fill=\"none\" stroke=\"#000000\" d=\"M352.0765,-70.9643C379.1946,-58.3675 414.0467,-42.1781 438.0416,-31.0321\"/>\n",
       "<polygon fill=\"#000000\" stroke=\"#000000\" points=\"350.4323,-67.8688 342.8375,-75.256 353.3813,-74.2174 350.4323,-67.8688\"/>\n",
       "</g>\n",
       "</g>\n",
       "</svg>\n"
      ]
     },
     "execution_count": 47,
     "metadata": {
      "image/svg+xml": {
       "height": 500,
       "width": 500
      }
     },
     "output_type": "execute_result"
    }
   ],
   "source": [
    "JupyterSplashDot(DotBinaryRelation(br));"
   ]
  },
  {
   "cell_type": "markdown",
   "id": "243be06c",
   "metadata": {},
   "source": [
    "For any numerical semigroup $S$ (other than $\\mathbb{N}$), the set $T=S\\cup\\{\\operatorname{F}(S)\\}$ is also a numerical semigroup. The semigroup $S$ is obtained from $T$ by removing a minimal generator larger than its Frobenius number.\n",
    "\n",
    "So if we remove minimal generators larger than the Frobenius number, we still obtain the same numerical semigroups, but the above directed graph becomes a tree."
   ]
  },
  {
   "cell_type": "code",
   "execution_count": 50,
   "id": "f01b806e",
   "metadata": {},
   "outputs": [
    {
     "data": {
      "text/plain": [
       "<object>"
      ]
     },
     "execution_count": 50,
     "metadata": {
      "text/plain": ""
     },
     "output_type": "execute_result"
    }
   ],
   "source": [
    "cc:=Filtered(Cartesian(c,c),p->IsSubset(p[2],p[1]) and Difference(p[2],p[1])=[FrobeniusNumber(p[1])]);;\n",
    "pairs:=List(cc,p->Tuple([MinimalGenerators(p[1]),MinimalGenerators(p[2])]));;\n",
    "br:=BinaryRelationByElements(d,pairs);"
   ]
  },
  {
   "cell_type": "code",
   "execution_count": 51,
   "id": "cffea47e",
   "metadata": {},
   "outputs": [
    {
     "data": {
      "image/svg+xml": [
       "<?xml version=\"1.0\" encoding=\"UTF-8\" standalone=\"no\"?>\n",
       "<!DOCTYPE svg PUBLIC \"-//W3C//DTD SVG 1.1//EN\"\n",
       " \"http://www.w3.org/Graphics/SVG/1.1/DTD/svg11.dtd\">\n",
       "<!-- Generated by graphviz version 2.40.1 (20161225.0304)\n",
       " -->\n",
       "<!-- Title: NSGraph Pages: 1 -->\n",
       "<svg width=\"708pt\" height=\"332pt\"\n",
       " viewBox=\"0.00 0.00 708.39 332.00\" xmlns=\"http://www.w3.org/2000/svg\" xmlns:xlink=\"http://www.w3.org/1999/xlink\">\n",
       "<g id=\"graph0\" class=\"graph\" transform=\"scale(1 1) rotate(0) translate(4 328)\">\n",
       "<title>NSGraph</title>\n",
       "<polygon fill=\"#ffffff\" stroke=\"transparent\" points=\"-4,4 -4,-328 704.3933,-328 704.3933,4 -4,4\"/>\n",
       "<!-- 1 -->\n",
       "<g id=\"node1\" class=\"node\">\n",
       "<title>1</title>\n",
       "<ellipse fill=\"none\" stroke=\"#000000\" cx=\"127.0969\" cy=\"-306\" rx=\"27\" ry=\"18\"/>\n",
       "<text text-anchor=\"middle\" x=\"127.0969\" y=\"-302.3\" font-family=\"Times,serif\" font-size=\"14.00\" fill=\"#000000\">[ 1 ]</text>\n",
       "</g>\n",
       "<!-- 2 -->\n",
       "<g id=\"node2\" class=\"node\">\n",
       "<title>2</title>\n",
       "<ellipse fill=\"none\" stroke=\"#000000\" cx=\"127.0969\" cy=\"-234\" rx=\"35.194\" ry=\"18\"/>\n",
       "<text text-anchor=\"middle\" x=\"127.0969\" y=\"-230.3\" font-family=\"Times,serif\" font-size=\"14.00\" fill=\"#000000\">[ 2, 3 ]</text>\n",
       "</g>\n",
       "<!-- 1&#45;&gt;2 -->\n",
       "<g id=\"edge1\" class=\"edge\">\n",
       "<title>1&#45;&gt;2</title>\n",
       "<path fill=\"none\" stroke=\"#000000\" d=\"M127.0969,-277.5726C127.0969,-269.1084 127.0969,-260.0593 127.0969,-252.4133\"/>\n",
       "<polygon fill=\"#000000\" stroke=\"#000000\" points=\"123.597,-277.8313 127.0969,-287.8314 130.597,-277.8314 123.597,-277.8313\"/>\n",
       "</g>\n",
       "<!-- 3 -->\n",
       "<g id=\"node3\" class=\"node\">\n",
       "<title>3</title>\n",
       "<ellipse fill=\"none\" stroke=\"#000000\" cx=\"79.0969\" cy=\"-162\" rx=\"35.194\" ry=\"18\"/>\n",
       "<text text-anchor=\"middle\" x=\"79.0969\" y=\"-158.3\" font-family=\"Times,serif\" font-size=\"14.00\" fill=\"#000000\">[ 2, 5 ]</text>\n",
       "</g>\n",
       "<!-- 2&#45;&gt;3 -->\n",
       "<g id=\"edge2\" class=\"edge\">\n",
       "<title>2&#45;&gt;3</title>\n",
       "<path fill=\"none\" stroke=\"#000000\" d=\"M110.0956,-208.4981C103.6815,-198.8768 96.5364,-188.1593 90.724,-179.4407\"/>\n",
       "<polygon fill=\"#000000\" stroke=\"#000000\" points=\"107.2623,-210.558 115.7216,-216.937 113.0867,-206.675 107.2623,-210.558\"/>\n",
       "</g>\n",
       "<!-- 6 -->\n",
       "<g id=\"node6\" class=\"node\">\n",
       "<title>6</title>\n",
       "<ellipse fill=\"none\" stroke=\"#000000\" cx=\"198.0969\" cy=\"-162\" rx=\"44.393\" ry=\"18\"/>\n",
       "<text text-anchor=\"middle\" x=\"198.0969\" y=\"-158.3\" font-family=\"Times,serif\" font-size=\"14.00\" fill=\"#000000\">[ 3, 4, 5 ]</text>\n",
       "</g>\n",
       "<!-- 2&#45;&gt;6 -->\n",
       "<g id=\"edge5\" class=\"edge\">\n",
       "<title>2&#45;&gt;6</title>\n",
       "<path fill=\"none\" stroke=\"#000000\" d=\"M150.3078,-210.4621C160.5121,-200.1141 172.2617,-188.199 181.5569,-178.7729\"/>\n",
       "<polygon fill=\"#000000\" stroke=\"#000000\" points=\"147.7372,-208.0842 143.2079,-217.6621 152.7215,-212.9992 147.7372,-208.0842\"/>\n",
       "</g>\n",
       "<!-- 4 -->\n",
       "<g id=\"node4\" class=\"node\">\n",
       "<title>4</title>\n",
       "<ellipse fill=\"none\" stroke=\"#000000\" cx=\"35.0969\" cy=\"-90\" rx=\"35.194\" ry=\"18\"/>\n",
       "<text text-anchor=\"middle\" x=\"35.0969\" y=\"-86.3\" font-family=\"Times,serif\" font-size=\"14.00\" fill=\"#000000\">[ 2, 7 ]</text>\n",
       "</g>\n",
       "<!-- 3&#45;&gt;4 -->\n",
       "<g id=\"edge3\" class=\"edge\">\n",
       "<title>3&#45;&gt;4</title>\n",
       "<path fill=\"none\" stroke=\"#000000\" d=\"M63.1155,-135.8486C57.3004,-126.3331 50.8776,-115.823 45.65,-107.2687\"/>\n",
       "<polygon fill=\"#000000\" stroke=\"#000000\" points=\"60.2447,-137.8631 68.4457,-144.5708 66.2177,-134.2129 60.2447,-137.8631\"/>\n",
       "</g>\n",
       "<!-- 5 -->\n",
       "<g id=\"node5\" class=\"node\">\n",
       "<title>5</title>\n",
       "<ellipse fill=\"none\" stroke=\"#000000\" cx=\"35.0969\" cy=\"-18\" rx=\"35.194\" ry=\"18\"/>\n",
       "<text text-anchor=\"middle\" x=\"35.0969\" y=\"-14.3\" font-family=\"Times,serif\" font-size=\"14.00\" fill=\"#000000\">[ 2, 9 ]</text>\n",
       "</g>\n",
       "<!-- 4&#45;&gt;5 -->\n",
       "<g id=\"edge4\" class=\"edge\">\n",
       "<title>4&#45;&gt;5</title>\n",
       "<path fill=\"none\" stroke=\"#000000\" d=\"M35.0969,-61.5726C35.0969,-53.1084 35.0969,-44.0593 35.0969,-36.4133\"/>\n",
       "<polygon fill=\"#000000\" stroke=\"#000000\" points=\"31.597,-61.8313 35.0969,-71.8314 38.597,-61.8314 31.597,-61.8313\"/>\n",
       "</g>\n",
       "<!-- 7 -->\n",
       "<g id=\"node7\" class=\"node\">\n",
       "<title>7</title>\n",
       "<ellipse fill=\"none\" stroke=\"#000000\" cx=\"123.0969\" cy=\"-90\" rx=\"35.194\" ry=\"18\"/>\n",
       "<text text-anchor=\"middle\" x=\"123.0969\" y=\"-86.3\" font-family=\"Times,serif\" font-size=\"14.00\" fill=\"#000000\">[ 3, 4 ]</text>\n",
       "</g>\n",
       "<!-- 6&#45;&gt;7 -->\n",
       "<g id=\"edge6\" class=\"edge\">\n",
       "<title>6&#45;&gt;7</title>\n",
       "<path fill=\"none\" stroke=\"#000000\" d=\"M173.4125,-138.303C162.4186,-127.7489 149.7544,-115.5912 139.8817,-106.1134\"/>\n",
       "<polygon fill=\"#000000\" stroke=\"#000000\" points=\"171.0641,-140.9003 180.7019,-145.3008 175.9118,-135.8506 171.0641,-140.9003\"/>\n",
       "</g>\n",
       "<!-- 8 -->\n",
       "<g id=\"node8\" class=\"node\">\n",
       "<title>8</title>\n",
       "<ellipse fill=\"none\" stroke=\"#000000\" cx=\"220.0969\" cy=\"-90\" rx=\"44.393\" ry=\"18\"/>\n",
       "<text text-anchor=\"middle\" x=\"220.0969\" y=\"-86.3\" font-family=\"Times,serif\" font-size=\"14.00\" fill=\"#000000\">[ 3, 5, 7 ]</text>\n",
       "</g>\n",
       "<!-- 6&#45;&gt;8 -->\n",
       "<g id=\"edge7\" class=\"edge\">\n",
       "<title>6&#45;&gt;8</title>\n",
       "<path fill=\"none\" stroke=\"#000000\" d=\"M206.5713,-134.2657C209.2741,-125.42 212.192,-115.8704 214.6233,-107.9134\"/>\n",
       "<polygon fill=\"#000000\" stroke=\"#000000\" points=\"203.2234,-133.2451 203.6484,-143.8314 209.9179,-135.2906 203.2234,-133.2451\"/>\n",
       "</g>\n",
       "<!-- 11 -->\n",
       "<g id=\"node11\" class=\"node\">\n",
       "<title>11</title>\n",
       "<ellipse fill=\"none\" stroke=\"#000000\" cx=\"432.0969\" cy=\"-90\" rx=\"53.8905\" ry=\"18\"/>\n",
       "<text text-anchor=\"middle\" x=\"432.0969\" y=\"-86.3\" font-family=\"Times,serif\" font-size=\"14.00\" fill=\"#000000\">[ 4, 5, 6, 7 ]</text>\n",
       "</g>\n",
       "<!-- 6&#45;&gt;11 -->\n",
       "<g id=\"edge10\" class=\"edge\">\n",
       "<title>6&#45;&gt;11</title>\n",
       "<path fill=\"none\" stroke=\"#000000\" d=\"M243.0595,-148.1653C286.2295,-134.8823 350.8203,-115.0082 392.2062,-102.2741\"/>\n",
       "<polygon fill=\"#000000\" stroke=\"#000000\" points=\"241.9109,-144.8568 233.3824,-151.1429 243.9695,-151.5472 241.9109,-144.8568\"/>\n",
       "</g>\n",
       "<!-- 9 -->\n",
       "<g id=\"node9\" class=\"node\">\n",
       "<title>9</title>\n",
       "<ellipse fill=\"none\" stroke=\"#000000\" cx=\"123.0969\" cy=\"-18\" rx=\"35.194\" ry=\"18\"/>\n",
       "<text text-anchor=\"middle\" x=\"123.0969\" y=\"-14.3\" font-family=\"Times,serif\" font-size=\"14.00\" fill=\"#000000\">[ 3, 5 ]</text>\n",
       "</g>\n",
       "<!-- 8&#45;&gt;9 -->\n",
       "<g id=\"edge8\" class=\"edge\">\n",
       "<title>8&#45;&gt;9</title>\n",
       "<path fill=\"none\" stroke=\"#000000\" d=\"M190.4248,-67.9754C175.1304,-56.6228 156.8789,-43.0753 143.2395,-32.9512\"/>\n",
       "<polygon fill=\"#000000\" stroke=\"#000000\" points=\"188.4536,-70.871 198.5694,-74.0209 192.6258,-65.2502 188.4536,-70.871\"/>\n",
       "</g>\n",
       "<!-- 10 -->\n",
       "<g id=\"node10\" class=\"node\">\n",
       "<title>10</title>\n",
       "<ellipse fill=\"none\" stroke=\"#000000\" cx=\"220.0969\" cy=\"-18\" rx=\"44.393\" ry=\"18\"/>\n",
       "<text text-anchor=\"middle\" x=\"220.0969\" y=\"-14.3\" font-family=\"Times,serif\" font-size=\"14.00\" fill=\"#000000\">[ 3, 7, 8 ]</text>\n",
       "</g>\n",
       "<!-- 8&#45;&gt;10 -->\n",
       "<g id=\"edge9\" class=\"edge\">\n",
       "<title>8&#45;&gt;10</title>\n",
       "<path fill=\"none\" stroke=\"#000000\" d=\"M220.0969,-61.5726C220.0969,-53.1084 220.0969,-44.0593 220.0969,-36.4133\"/>\n",
       "<polygon fill=\"#000000\" stroke=\"#000000\" points=\"216.597,-61.8313 220.0969,-71.8314 223.597,-61.8314 216.597,-61.8313\"/>\n",
       "</g>\n",
       "<!-- 12 -->\n",
       "<g id=\"node12\" class=\"node\">\n",
       "<title>12</title>\n",
       "<ellipse fill=\"none\" stroke=\"#000000\" cx=\"326.0969\" cy=\"-18\" rx=\"44.393\" ry=\"18\"/>\n",
       "<text text-anchor=\"middle\" x=\"326.0969\" y=\"-14.3\" font-family=\"Times,serif\" font-size=\"14.00\" fill=\"#000000\">[ 4, 5, 6 ]</text>\n",
       "</g>\n",
       "<!-- 11&#45;&gt;12 -->\n",
       "<g id=\"edge11\" class=\"edge\">\n",
       "<title>11&#45;&gt;12</title>\n",
       "<path fill=\"none\" stroke=\"#000000\" d=\"M399.5968,-67.9244C383.2586,-56.8268 363.8479,-43.6422 349.0779,-33.6098\"/>\n",
       "<polygon fill=\"#000000\" stroke=\"#000000\" points=\"398.0696,-71.1182 408.3084,-73.8418 402.0028,-65.3277 398.0696,-71.1182\"/>\n",
       "</g>\n",
       "<!-- 13 -->\n",
       "<g id=\"node13\" class=\"node\">\n",
       "<title>13</title>\n",
       "<ellipse fill=\"none\" stroke=\"#000000\" cx=\"432.0969\" cy=\"-18\" rx=\"44.393\" ry=\"18\"/>\n",
       "<text text-anchor=\"middle\" x=\"432.0969\" y=\"-14.3\" font-family=\"Times,serif\" font-size=\"14.00\" fill=\"#000000\">[ 4, 5, 7 ]</text>\n",
       "</g>\n",
       "<!-- 11&#45;&gt;13 -->\n",
       "<g id=\"edge12\" class=\"edge\">\n",
       "<title>11&#45;&gt;13</title>\n",
       "<path fill=\"none\" stroke=\"#000000\" d=\"M432.0969,-61.5726C432.0969,-53.1084 432.0969,-44.0593 432.0969,-36.4133\"/>\n",
       "<polygon fill=\"#000000\" stroke=\"#000000\" points=\"428.597,-61.8313 432.0969,-71.8314 435.597,-61.8314 428.597,-61.8313\"/>\n",
       "</g>\n",
       "<!-- 14 -->\n",
       "<g id=\"node14\" class=\"node\">\n",
       "<title>14</title>\n",
       "<ellipse fill=\"none\" stroke=\"#000000\" cx=\"548.0969\" cy=\"-18\" rx=\"53.8905\" ry=\"18\"/>\n",
       "<text text-anchor=\"middle\" x=\"548.0969\" y=\"-14.3\" font-family=\"Times,serif\" font-size=\"14.00\" fill=\"#000000\">[ 4, 6, 7, 9 ]</text>\n",
       "</g>\n",
       "<!-- 11&#45;&gt;14 -->\n",
       "<g id=\"edge13\" class=\"edge\">\n",
       "<title>11&#45;&gt;14</title>\n",
       "<path fill=\"none\" stroke=\"#000000\" d=\"M466.8141,-68.4514C484.6758,-57.3648 506.0697,-44.0858 522.4247,-33.9345\"/>\n",
       "<polygon fill=\"#000000\" stroke=\"#000000\" points=\"464.4917,-65.7734 457.841,-74.0209 468.1832,-71.7209 464.4917,-65.7734\"/>\n",
       "</g>\n",
       "<!-- 15 -->\n",
       "<g id=\"node15\" class=\"node\">\n",
       "<title>15</title>\n",
       "<ellipse fill=\"none\" stroke=\"#000000\" cx=\"660.0969\" cy=\"-18\" rx=\"40.0939\" ry=\"18\"/>\n",
       "<text text-anchor=\"middle\" x=\"660.0969\" y=\"-14.3\" font-family=\"Times,serif\" font-size=\"14.00\" fill=\"#000000\">[ 5 .. 9 ]</text>\n",
       "</g>\n",
       "<!-- 11&#45;&gt;15 -->\n",
       "<g id=\"edge14\" class=\"edge\">\n",
       "<title>11&#45;&gt;15</title>\n",
       "<path fill=\"none\" stroke=\"#000000\" d=\"M483.3214,-75.4191C519.254,-64.9786 568.3235,-50.2943 611.0969,-36 616.9418,-34.0467 623.1389,-31.8611 629.0887,-29.7044\"/>\n",
       "<polygon fill=\"#000000\" stroke=\"#000000\" points=\"482.1834,-72.1048 473.5511,-78.2475 484.1299,-78.8287 482.1834,-72.1048\"/>\n",
       "</g>\n",
       "</g>\n",
       "</svg>\n"
      ]
     },
     "execution_count": 51,
     "metadata": {
      "image/svg+xml": {
       "height": 500,
       "width": 500
      }
     },
     "output_type": "execute_result"
    }
   ],
   "source": [
    "JupyterSplashDot(DotBinaryRelation(br));"
   ]
  },
  {
   "cell_type": "markdown",
   "id": "1d30e0be",
   "metadata": {},
   "source": [
    "Now let us think about the dual process: what are the gaps that I may add to a numerical semigroup in order to obtain a nuew numerical semigroup. We already know that we can always add the Frobenius number, but we may have some other options. Let $S$ be a numerical semigroup and let $f$ be a gap of $S$. As we want $S\\cup \\{f\\}$ to be a numerical semigroup, $f+S\\subseteq S\\cup\\{f\\}$, and consequently $f$ must be in $\\operatorname{PF}(S)$. But also $kf \\in S\\cup\\{f\\}$ for every positive integer $k$. This means that $2f, 3f\\in S$. The set of gaps having these properties are known as special gaps.\n",
    "$$\n",
    "\\operatorname{SG}(S)=\\{ g\\in \\operatorname{PF}(S) : 2g\\in S, 3g\\in S\\}.\n",
    "$$"
   ]
  },
  {
   "cell_type": "code",
   "execution_count": 52,
   "id": "77e6d52c",
   "metadata": {},
   "outputs": [],
   "source": [
    "s:=NumericalSemigroup(4,7,9,10);;"
   ]
  },
  {
   "cell_type": "code",
   "execution_count": 53,
   "id": "b604fafa",
   "metadata": {},
   "outputs": [
    {
     "data": {
      "text/plain": [
       "[ 5, 6 ]"
      ]
     },
     "execution_count": 53,
     "metadata": {
      "text/plain": ""
     },
     "output_type": "execute_result"
    }
   ],
   "source": [
    "SpecialGaps(s);"
   ]
  },
  {
   "cell_type": "markdown",
   "id": "cbf988ee",
   "metadata": {},
   "source": [
    "If we keep adding special gaps to our semigroup and the resulting semigroups, we will obtain the set of all oversemigroups of the given numerical semigroup."
   ]
  },
  {
   "cell_type": "code",
   "execution_count": 55,
   "id": "8d74570c",
   "metadata": {},
   "outputs": [
    {
     "data": {
      "image/svg+xml": [
       "<?xml version=\"1.0\" encoding=\"UTF-8\" standalone=\"no\"?>\n",
       "<!DOCTYPE svg PUBLIC \"-//W3C//DTD SVG 1.1//EN\"\n",
       " \"http://www.w3.org/Graphics/SVG/1.1/DTD/svg11.dtd\">\n",
       "<!-- Generated by graphviz version 2.40.1 (20161225.0304)\n",
       " -->\n",
       "<!-- Title: NSGraph Pages: 1 -->\n",
       "<svg width=\"184pt\" height=\"332pt\"\n",
       " viewBox=\"0.00 0.00 184.29 332.00\" xmlns=\"http://www.w3.org/2000/svg\" xmlns:xlink=\"http://www.w3.org/1999/xlink\">\n",
       "<g id=\"graph0\" class=\"graph\" transform=\"scale(1 1) rotate(0) translate(4 328)\">\n",
       "<title>NSGraph</title>\n",
       "<polygon fill=\"#ffffff\" stroke=\"transparent\" points=\"-4,4 -4,-328 180.293,-328 180.293,4 -4,4\"/>\n",
       "<!-- 1 -->\n",
       "<g id=\"node1\" class=\"node\">\n",
       "<title>1</title>\n",
       "<ellipse fill=\"#d3d3d3\" stroke=\"#000000\" cx=\"83.0969\" cy=\"-306\" rx=\"27\" ry=\"18\"/>\n",
       "<text text-anchor=\"middle\" x=\"83.0969\" y=\"-302.3\" font-family=\"Times,serif\" font-size=\"14.00\" fill=\"#000000\">〈 1 〉</text>\n",
       "</g>\n",
       "<!-- 2 -->\n",
       "<g id=\"node2\" class=\"node\">\n",
       "<title>2</title>\n",
       "<ellipse fill=\"#d3d3d3\" stroke=\"#000000\" cx=\"83.0969\" cy=\"-234\" rx=\"35.194\" ry=\"18\"/>\n",
       "<text text-anchor=\"middle\" x=\"83.0969\" y=\"-230.3\" font-family=\"Times,serif\" font-size=\"14.00\" fill=\"#000000\">〈 2, 3 〉</text>\n",
       "</g>\n",
       "<!-- 1&#45;&gt;2 -->\n",
       "<g id=\"edge1\" class=\"edge\">\n",
       "<title>1&#45;&gt;2</title>\n",
       "<path fill=\"none\" stroke=\"#000000\" d=\"M83.0969,-277.5726C83.0969,-269.1084 83.0969,-260.0593 83.0969,-252.4133\"/>\n",
       "<polygon fill=\"#000000\" stroke=\"#000000\" points=\"79.597,-277.8313 83.0969,-287.8314 86.597,-277.8314 79.597,-277.8313\"/>\n",
       "</g>\n",
       "<!-- 3 -->\n",
       "<g id=\"node3\" class=\"node\">\n",
       "<title>3</title>\n",
       "<ellipse fill=\"#d3d3d3\" stroke=\"#000000\" cx=\"35.0969\" cy=\"-162\" rx=\"35.194\" ry=\"18\"/>\n",
       "<text text-anchor=\"middle\" x=\"35.0969\" y=\"-158.3\" font-family=\"Times,serif\" font-size=\"14.00\" fill=\"#000000\">〈 2, 5 〉</text>\n",
       "</g>\n",
       "<!-- 2&#45;&gt;3 -->\n",
       "<g id=\"edge2\" class=\"edge\">\n",
       "<title>2&#45;&gt;3</title>\n",
       "<path fill=\"none\" stroke=\"#000000\" d=\"M66.0956,-208.4981C59.6815,-198.8768 52.5364,-188.1593 46.724,-179.4407\"/>\n",
       "<polygon fill=\"#000000\" stroke=\"#000000\" points=\"63.2623,-210.558 71.7216,-216.937 69.0867,-206.675 63.2623,-210.558\"/>\n",
       "</g>\n",
       "<!-- 4 -->\n",
       "<g id=\"node4\" class=\"node\">\n",
       "<title>4</title>\n",
       "<ellipse fill=\"#d3d3d3\" stroke=\"#000000\" cx=\"132.0969\" cy=\"-162\" rx=\"44.393\" ry=\"18\"/>\n",
       "<text text-anchor=\"middle\" x=\"132.0969\" y=\"-158.3\" font-family=\"Times,serif\" font-size=\"14.00\" fill=\"#000000\">〈 3, 4, 5 〉</text>\n",
       "</g>\n",
       "<!-- 2&#45;&gt;4 -->\n",
       "<g id=\"edge3\" class=\"edge\">\n",
       "<title>2&#45;&gt;4</title>\n",
       "<path fill=\"none\" stroke=\"#000000\" d=\"M100.4523,-208.4981C107.0001,-198.8768 114.2941,-188.1593 120.2275,-179.4407\"/>\n",
       "<polygon fill=\"#000000\" stroke=\"#000000\" points=\"97.442,-206.7007 94.7092,-216.937 103.229,-210.6391 97.442,-206.7007\"/>\n",
       "</g>\n",
       "<!-- 5 -->\n",
       "<g id=\"node5\" class=\"node\">\n",
       "<title>5</title>\n",
       "<ellipse fill=\"none\" stroke=\"#000000\" cx=\"83.0969\" cy=\"-90\" rx=\"53.8905\" ry=\"18\"/>\n",
       "<text text-anchor=\"middle\" x=\"83.0969\" y=\"-86.3\" font-family=\"Times,serif\" font-size=\"14.00\" fill=\"#000000\">〈 4, 5, 6, 7 〉</text>\n",
       "</g>\n",
       "<!-- 3&#45;&gt;5 -->\n",
       "<g id=\"edge4\" class=\"edge\">\n",
       "<title>3&#45;&gt;5</title>\n",
       "<path fill=\"none\" stroke=\"#000000\" d=\"M52.0548,-136.5631C58.4186,-127.0175 65.5071,-116.3847 71.3019,-107.6924\"/>\n",
       "<polygon fill=\"#000000\" stroke=\"#000000\" points=\"49.1071,-134.675 46.4722,-144.937 54.9314,-138.558 49.1071,-134.675\"/>\n",
       "</g>\n",
       "<!-- 4&#45;&gt;5 -->\n",
       "<g id=\"edge5\" class=\"edge\">\n",
       "<title>4&#45;&gt;5</title>\n",
       "<path fill=\"none\" stroke=\"#000000\" d=\"M114.5876,-136.2721C108.1617,-126.8299 101.0354,-116.3587 95.1896,-107.7689\"/>\n",
       "<polygon fill=\"#000000\" stroke=\"#000000\" points=\"111.7156,-138.2729 120.2354,-144.5708 117.5026,-134.3345 111.7156,-138.2729\"/>\n",
       "</g>\n",
       "<!-- 6 -->\n",
       "<g id=\"node6\" class=\"node\">\n",
       "<title>6</title>\n",
       "<ellipse fill=\"#d3d3d3\" stroke=\"#000000\" cx=\"83.0969\" cy=\"-18\" rx=\"44.393\" ry=\"18\"/>\n",
       "<text text-anchor=\"middle\" x=\"83.0969\" y=\"-14.3\" font-family=\"Times,serif\" font-size=\"14.00\" fill=\"#000000\">〈 4, 5, 7 〉</text>\n",
       "</g>\n",
       "<!-- 5&#45;&gt;6 -->\n",
       "<g id=\"edge6\" class=\"edge\">\n",
       "<title>5&#45;&gt;6</title>\n",
       "<path fill=\"none\" stroke=\"#000000\" d=\"M83.0969,-61.5726C83.0969,-53.1084 83.0969,-44.0593 83.0969,-36.4133\"/>\n",
       "<polygon fill=\"#000000\" stroke=\"#000000\" points=\"79.597,-61.8313 83.0969,-71.8314 86.597,-61.8314 79.597,-61.8313\"/>\n",
       "</g>\n",
       "</g>\n",
       "</svg>\n"
      ]
     },
     "execution_count": 55,
     "metadata": {
      "image/svg+xml": {
       "height": 500,
       "width": 500
      }
     },
     "output_type": "execute_result"
    }
   ],
   "source": [
    "s:=NumericalSemigroup(4,5,7);;\n",
    "JupyterSplashDot(DotOverSemigroups(s));"
   ]
  },
  {
   "cell_type": "markdown",
   "id": "504de369",
   "metadata": {},
   "source": [
    "## When some bounds are attained"
   ]
  },
  {
   "cell_type": "markdown",
   "id": "ea7cfcbe",
   "metadata": {},
   "source": [
    "### Numerical semigroups with maximal embedding dimension"
   ]
  },
  {
   "cell_type": "markdown",
   "id": "6aea759e",
   "metadata": {},
   "source": [
    "We have already seen that the embedding dimension of a numerical semigroup is always less than or equal to the multiplicity. We say that a numerical semigroup $S$ has maximal embedding dimension if $\\operatorname{m}(S)=\\operatorname{e}(S)$."
   ]
  },
  {
   "cell_type": "code",
   "execution_count": 56,
   "id": "e2a23867",
   "metadata": {},
   "outputs": [],
   "source": [
    "s:=NumericalSemigroup(3,5,7);;"
   ]
  },
  {
   "cell_type": "code",
   "execution_count": 57,
   "id": "a85105a2",
   "metadata": {},
   "outputs": [
    {
     "data": {
      "text/plain": [
       "true"
      ]
     },
     "execution_count": 57,
     "metadata": {
      "text/plain": ""
     },
     "output_type": "execute_result"
    }
   ],
   "source": [
    "IsMED(s);"
   ]
  },
  {
   "cell_type": "markdown",
   "id": "7d9a1b4d",
   "metadata": {},
   "source": [
    "A numerical semigroup $S$ is of maximal embedding dimension if and only if $(S\\setminus\\{0\\})-\\operatorname{m}(S)$ is a numerical semigroup, or equivalently, for any $x,y\\in S$ with $x\\ge y \\ge \\operatorname{m}(S)$, we have $x+y-\\operatorname{m}(S)\\in S$.\n",
    "\n",
    "It turns out that the intersecction of two maximal embedding dimension numerical semigroups is again of maximal embedding dimension, and thus we can think about a maximal embedding dimension closure."
   ]
  },
  {
   "cell_type": "code",
   "execution_count": 58,
   "id": "12f9648a",
   "metadata": {},
   "outputs": [],
   "source": [
    "s:=NumericalSemigroup(3,5);;"
   ]
  },
  {
   "cell_type": "code",
   "execution_count": 59,
   "id": "9b73c911",
   "metadata": {},
   "outputs": [
    {
     "data": {
      "text/plain": [
       "[ 3, 5, 7 ]"
      ]
     },
     "execution_count": 59,
     "metadata": {
      "text/plain": ""
     },
     "output_type": "execute_result"
    }
   ],
   "source": [
    "MinimalGenerators(MEDClosure(s));"
   ]
  },
  {
   "cell_type": "markdown",
   "id": "89f65484",
   "metadata": {},
   "source": [
    "It also makes sense to talk abot the minimal generators as a numerical semigroup with maximal embedding dimension. An element $a$ in a numerical semigroup $S$ with maximal embedding dimension, with $a>\\operatorname{m}(S)$, will be in that minimal MED generating system if and only if $S\\setminus\\{a\\}$ is again a numerical semigroup with maximal embedding dimension. "
   ]
  },
  {
   "cell_type": "code",
   "execution_count": 60,
   "id": "cfa4792e",
   "metadata": {},
   "outputs": [
    {
     "data": {
      "text/plain": [
       "[ 3, 5 ]"
      ]
     },
     "execution_count": 60,
     "metadata": {
      "text/plain": ""
     },
     "output_type": "execute_result"
    }
   ],
   "source": [
    "MinimalMEDGeneratingSystemOfMEDNumericalSemigroup(NumericalSemigroup(3,5,7));"
   ]
  },
  {
   "cell_type": "code",
   "execution_count": 61,
   "id": "ebc06bac",
   "metadata": {},
   "outputs": [
    {
     "data": {
      "text/plain": [
       "Numerical semigroup with 3 generators"
      ]
     },
     "execution_count": 61,
     "metadata": {
      "text/plain": ""
     },
     "output_type": "execute_result"
    }
   ],
   "source": [
    "t:=RemoveMinimalGeneratorFromNumericalSemigroup(5,s);"
   ]
  },
  {
   "cell_type": "code",
   "execution_count": 62,
   "id": "230d3251",
   "metadata": {},
   "outputs": [
    {
     "data": {
      "text/plain": [
       "[ 3, 8, 10 ]"
      ]
     },
     "execution_count": 62,
     "metadata": {
      "text/plain": ""
     },
     "output_type": "execute_result"
    }
   ],
   "source": [
    "MinimalGenerators(t);"
   ]
  },
  {
   "cell_type": "code",
   "execution_count": 63,
   "id": "92e50986",
   "metadata": {},
   "outputs": [
    {
     "data": {
      "text/plain": [
       "true"
      ]
     },
     "execution_count": 63,
     "metadata": {
      "text/plain": ""
     },
     "output_type": "execute_result"
    }
   ],
   "source": [
    "IsMED(t);"
   ]
  },
  {
   "cell_type": "markdown",
   "id": "3cc5535b",
   "metadata": {},
   "source": [
    "If $S=\\langle m=n_1< n_2< \\dots < n_m\\rangle$ is a numerical semigroup with maximal embedding dimension, then $\\operatorname{Ap}(S,m)=\\{0, n_2, \\dots, n_m\\}$, and thus $\\operatorname{t}(S)=m-1$. It is not hard to prove that $S$ has maximal embedding dimension if and only if it has maximal type."
   ]
  },
  {
   "cell_type": "code",
   "execution_count": 65,
   "id": "511c093f",
   "metadata": {},
   "outputs": [
    {
     "data": {
      "text/plain": [
       "2"
      ]
     },
     "execution_count": 65,
     "metadata": {
      "text/plain": ""
     },
     "output_type": "execute_result"
    }
   ],
   "source": [
    "Type(NumericalSemigroup(3,5,7));"
   ]
  },
  {
   "cell_type": "markdown",
   "id": "c442ff99",
   "metadata": {},
   "source": [
    "A particular class of numerical semigroups with maximal embedding dimension is that of Arf numerical semigroups. A numerical semigroup $S$ if Arf if for any $x,y,z\\in S$, with $x\\ge y\\ge z$, one gets $x+y-z\\in S$. Clearly, the intersection of two Arf numerical semigroups is again an Arf numerical semigroup."
   ]
  },
  {
   "cell_type": "code",
   "execution_count": 67,
   "id": "21752c98",
   "metadata": {},
   "outputs": [
    {
     "data": {
      "text/plain": [
       "[ 3, 5, 7 ]"
      ]
     },
     "execution_count": 67,
     "metadata": {
      "text/plain": ""
     },
     "output_type": "execute_result"
    }
   ],
   "source": [
    "MinimalGenerators(ArfNumericalSemigroupClosure(NumericalSemigroup(3,5)));"
   ]
  },
  {
   "cell_type": "markdown",
   "id": "6dc23274",
   "metadata": {},
   "source": [
    "### Irreducible numerical semigroups"
   ]
  },
  {
   "cell_type": "markdown",
   "id": "6aabf377",
   "metadata": {},
   "source": [
    "We say that a numerical semigroup $S$ is irreducible if it cannot be expressed as the intersection of two numerical semigroups properly containing it.\n",
    "\n",
    "It can be (easily) shown that if we fix a positive integer $f$, then $S$ is irreducible if and only if it is maximal (with respect to inclusion) in the set of all numerical semigroups with Frobenius number $f$ (or equivalently, in the set of all numerical semigroups not containing $f$). \n",
    "\n",
    "Recall that $\\operatorname{g}(S)\\ge (\\operatorname{F}(S)+1)/2$. Having less genus means being \"bigger\", and so if $\\operatorname{F}(S)$ is odd, then $S$ is irreducible if and only if $\\operatorname{g}(S)= (\\operatorname{F}(S)+1)/2$.\n",
    "\n",
    "For $\\operatorname{F}(S)$ even, we obtain that $S$ is irreducible if and only if $\\operatorname{g}(S)=(\\operatorname{F}(S)+2)/2$.\n",
    "\n"
   ]
  },
  {
   "cell_type": "markdown",
   "id": "463213f4",
   "metadata": {},
   "source": [
    "Every numerical semigroup can be expressed as a finite intersection of irreducible numerical semigroups. Two minimal (non-redundant) expressions of the semigroup as intersection of irreducible numerical semigroup may have different factors."
   ]
  },
  {
   "cell_type": "code",
   "execution_count": 70,
   "id": "81f0ace4",
   "metadata": {},
   "outputs": [
    {
     "data": {
      "text/plain": [
       "Numerical semigroup with 3 generators"
      ]
     },
     "execution_count": 70,
     "metadata": {
      "text/plain": ""
     },
     "output_type": "execute_result"
    }
   ],
   "source": [
    "s:=NumericalSemigroup(3,7,8);"
   ]
  },
  {
   "cell_type": "code",
   "execution_count": 74,
   "id": "b91525f5",
   "metadata": {},
   "outputs": [
    {
     "data": {
      "text/plain": [
       "[ 0, 3, 6 ]"
      ]
     },
     "execution_count": 74,
     "metadata": {
      "text/plain": ""
     },
     "output_type": "execute_result"
    }
   ],
   "source": [
    "SmallElements(s);"
   ]
  },
  {
   "cell_type": "code",
   "execution_count": 71,
   "id": "0821cca4",
   "metadata": {},
   "outputs": [
    {
     "data": {
      "text/plain": [
       "false"
      ]
     },
     "execution_count": 71,
     "metadata": {
      "text/plain": ""
     },
     "output_type": "execute_result"
    }
   ],
   "source": [
    "IsIrreducible(s);"
   ]
  },
  {
   "cell_type": "code",
   "execution_count": 72,
   "id": "ae4eaaf2",
   "metadata": {},
   "outputs": [
    {
     "data": {
      "text/plain": [
       "[ Numerical semigroup with 2 generators, Numerical semigroup with 3 generators ]"
      ]
     },
     "execution_count": 72,
     "metadata": {
      "text/plain": ""
     },
     "output_type": "execute_result"
    }
   ],
   "source": [
    "l:=DecomposeIntoIrreducibles(s);"
   ]
  },
  {
   "cell_type": "code",
   "execution_count": 73,
   "id": "2823b716",
   "metadata": {},
   "outputs": [
    {
     "data": {
      "text/plain": [
       "[ [ 0, 3, 4, 6 ], [ 0, 3, 5 ] ]"
      ]
     },
     "execution_count": 73,
     "metadata": {
      "text/plain": ""
     },
     "output_type": "execute_result"
    }
   ],
   "source": [
    "List(l,SmallElements);"
   ]
  },
  {
   "cell_type": "markdown",
   "id": "51abee24",
   "metadata": {},
   "source": [
    "Notice also that for every integer $x$, both $x$ and $\\operatorname{F}(S)-x$ cannot be in $S$ (since otherwise their sum, which is $\\operatorname{F}(S)$, would be in $S$). If we want $S$ to have the least possible number of gaps once the Frobenius number is fixed, then we do not want $x$ and $\\operatorname{F}(S)-x$ to be gaps at the same time (unless they are the same and then $x=\\operatorname{F}(S)/2$). \n",
    "\n",
    "Assume that $\\operatorname{F}(S)$ is odd. Then we say that $S$ is symmetric if for any integer $x\\not\\in S$, we have that $\\operatorname{F}(S)-x\\in S$. A numerical semigroup with odd Frobenius number is irreducible if and only if it is symmetric.\n",
    "\n",
    "For the case $\\operatorname{F}(S)$ even, we have to take into account $\\operatorname{F}(S)/2$. A numerical semigroup $S$ is pseudo-symmetric if $\\operatorname{F}(S)$ is even and for any integer $x$ not in $S$ and different from $\\operatorname{F}(S)/2$, we have that $\\operatorname{F}(S)-x\\in S$. A numerical semigroup with even Frobenius number is irreducible if and only if it is pseudo-symmetric."
   ]
  },
  {
   "cell_type": "code",
   "execution_count": 75,
   "id": "5184f068",
   "metadata": {},
   "outputs": [
    {
     "data": {
      "text/plain": [
       "[ 4, 5 ]"
      ]
     },
     "execution_count": 75,
     "metadata": {
      "text/plain": ""
     },
     "output_type": "execute_result"
    }
   ],
   "source": [
    "PseudoFrobenius(s);"
   ]
  },
  {
   "cell_type": "code",
   "execution_count": 76,
   "id": "86de29b5",
   "metadata": {},
   "outputs": [
    {
     "data": {
      "text/plain": [
       "[ Numerical semigroup, Numerical semigroup, Numerical semigroup, Numerical semigroup, Numerical semigroup, Numerical semigroup, Numerical semigroup, Numerical semigroup ]"
      ]
     },
     "execution_count": 76,
     "metadata": {
      "text/plain": ""
     },
     "output_type": "execute_result"
    }
   ],
   "source": [
    "li:=IrreducibleNumericalSemigroupsWithFrobeniusNumber(13);"
   ]
  },
  {
   "cell_type": "code",
   "execution_count": 77,
   "id": "483c85a4",
   "metadata": {},
   "outputs": [
    {
     "data": {
      "text/plain": [
       "[ [ 13 ], [ 13 ], [ 13 ], [ 13 ], [ 13 ], [ 13 ], [ 13 ], [ 13 ] ]"
      ]
     },
     "execution_count": 77,
     "metadata": {
      "text/plain": ""
     },
     "output_type": "execute_result"
    }
   ],
   "source": [
    "List(li,PseudoFrobenius);"
   ]
  },
  {
   "cell_type": "code",
   "execution_count": 78,
   "id": "aa55ae40",
   "metadata": {},
   "outputs": [
    {
     "data": {
      "text/plain": [
       "[ Numerical semigroup, Numerical semigroup, Numerical semigroup, Numerical semigroup, Numerical semigroup, Numerical semigroup ]"
      ]
     },
     "execution_count": 78,
     "metadata": {
      "text/plain": ""
     },
     "output_type": "execute_result"
    }
   ],
   "source": [
    "li:=IrreducibleNumericalSemigroupsWithFrobeniusNumber(14);"
   ]
  },
  {
   "cell_type": "code",
   "execution_count": 79,
   "id": "205bf8de",
   "metadata": {},
   "outputs": [
    {
     "data": {
      "text/plain": [
       "[ [ 7, 14 ], [ 7, 14 ], [ 7, 14 ], [ 7, 14 ], [ 7, 14 ], [ 7, 14 ] ]"
      ]
     },
     "execution_count": 79,
     "metadata": {
      "text/plain": ""
     },
     "output_type": "execute_result"
    }
   ],
   "source": [
    "List(li,PseudoFrobenius);"
   ]
  },
  {
   "cell_type": "markdown",
   "id": "22ce7410",
   "metadata": {},
   "source": [
    "Symmetric numerical semigroups correspond with those numerical semigroups of type one, while $S$ is pseudo-symmetric if and only if $\\operatorname{PF}(S)=\\{\\operatorname{F}(S)/2, \\operatorname{F}(S)\\}$. As we have seen above, there are numerical semigroups with type two that are not pseudo-symmetric."
   ]
  },
  {
   "cell_type": "code",
   "execution_count": 82,
   "id": "042423ff",
   "metadata": {},
   "outputs": [
    {
     "data": {
      "text/plain": [
       "true"
      ]
     },
     "execution_count": 82,
     "metadata": {
      "text/plain": ""
     },
     "output_type": "execute_result"
    }
   ],
   "source": [
    "LoadPackage(\"jupyterviz\");"
   ]
  },
  {
   "cell_type": "code",
   "execution_count": 87,
   "id": "ead720b1",
   "metadata": {},
   "outputs": [
    {
     "data": {
      "text/plain": [
       "[ [ 1, 1 ], [ 2, 1 ], [ 3, 1 ], [ 4, 1 ], [ 5, 2 ], [ 6, 1 ], [ 7, 3 ], [ 8, 2 ], [ 9, 3 ], [ 10, 3 ], [ 11, 6 ], [ 12, 2 ], [ 13, 8 ], [ 14, 6 ], [ 15, 7 ], [ 16, 7 ], [ 17, 15 ], [ 18, 7 ], [ 19, 20 ], [ 20, 11 ], [ 21, 18 ], [ 22, 20 ], [ 23, 36 ], [ 24, 14 ], [ 25, 44 ] ]"
      ]
     },
     "execution_count": 87,
     "metadata": {
      "text/plain": ""
     },
     "output_type": "execute_result"
    }
   ],
   "source": [
    "li:=List([1..25], i->[i,Length(IrreducibleNumericalSemigroupsWithFrobeniusNumber(i))]);"
   ]
  },
  {
   "cell_type": "code",
   "execution_count": 88,
   "id": "c42421cd",
   "metadata": {},
   "outputs": [
    {
     "data": {
      "application/javascript": [
       "( function ( element ) {\n",
       "if(!window.hasOwnProperty(\"runGAP\")){window.runGAP=function(code,callback){if(!Jupyter||!Jupyter.notebook||!Jupyter.notebook.kernel)return callback(null,\"JavaScript-based output must be re-evaluated when the notebook\"+\" is reloaded.  (Re-run the cell to clear this problem.)\");var errorMessages=[];var timeout=null;Jupyter.notebook.kernel.execute(code,{iopub:{output:function(message){if(\"data\"in message.content)return callback(message.content.data,null);if(!(\"text\"in message.content))return callback(null,message.content);errorMessages.push(message.content.text);if(timeout!==null)clearTimeout(timeout);timeout=setTimeout(function(){callback(null,errorMessages.join(\"\\n\"))},200)},clear_output:function(message){}},shell:{reply:function(message){}},input:function(message){}},{})}}if(!window.hasOwnProperty(\"librariesLoadedFromGAP\")){window.librariesLoadedFromGAP={}}function myCallback(){if(!window.hasOwnProperty(\"librariesLoadedFromGAP\")){window.librariesLoadedFromGAP={}}function myCallback(){window.createVisualization(element,{\"data\" : {\"data\" : [{\"x\" : [1,2,3,4,5,6,7,8,9,10,11,12,13,14,15,16,17,18,19,20,21,22,23,24,25],\"y\" : [1,1,1,1,2,1,3,2,3,3,6,2,8,6,7,7,15,7,20,11,18,20,36,14,44],\"type\" : \"line\"}],\"layout\" : {\"height\" : 400}},\"tool\" : \"plotly\"}\n",
       ",function(element,visualization){\n",
       "});\n",
       "}if(window.librariesLoadedFromGAP.hasOwnProperty(\"viz-tool-plotly\"\n",
       ")){myCallback()}else{var filenameString=JSON.stringify(\"viz-tool-plotly\"\n",
       ");var GAPcode=\"JUPVIZFileContents( LoadJavaScriptFile( \"+filenameString+\" ) );\";window.runGAP(GAPcode,function(result,error){if(error)throw Error(\"When loading library \"+filenameString+\": \"+error);result=result[\"text/plain\"];window.librariesLoadedFromGAP[\"viz-tool-plotly\"\n",
       "]=result;try{var whatItEvaluatesTo=eval(result)}catch(e){throw Error(\"Error evaluating code for library \"+filenameString+\": \"+e)}return myCallback()})}\n",
       "}if(window.librariesLoadedFromGAP.hasOwnProperty(\"main\"\n",
       ")){myCallback()}else{var filenameString=JSON.stringify(\"main\"\n",
       ");var GAPcode=\"JUPVIZFileContents( LoadJavaScriptFile( \"+filenameString+\" ) );\";window.runGAP(GAPcode,function(result,error){if(error)throw Error(\"When loading library \"+filenameString+\": \"+error);result=result[\"text/plain\"];window.librariesLoadedFromGAP[\"main\"\n",
       "]=result;try{var whatItEvaluatesTo=eval(result)}catch(e){throw Error(\"Error evaluating code for library \"+filenameString+\": \"+e)}return myCallback()})}\n",
       ";\n",
       "} )( element.get( 0 ) )"
      ]
     },
     "execution_count": 88,
     "metadata": {
      "application/javascript": ""
     },
     "output_type": "execute_result"
    }
   ],
   "source": [
    "Plot(li);"
   ]
  },
  {
   "cell_type": "markdown",
   "id": "48fb745c",
   "metadata": {},
   "source": [
    "### Almost symmetric numerical semigroups"
   ]
  },
  {
   "cell_type": "markdown",
   "id": "5a3b1d7c",
   "metadata": {},
   "source": [
    "Recall that for a numerical semigroup $S$, $\\operatorname{g}(S)\\ge (\\operatorname{F}(S)+\\operatorname{t}(S))/2$. We say that $S$ is almost symmetric if $\\operatorname{g}(S)= (\\operatorname{F}(S)+\\operatorname{t}(S))/2$. Consequently, these are numerical semigroups maximal with respect to inclusion once the type and the Frobenius number are fixed. \n",
    "\n",
    "Clearly, every irreducible numerical semigroup is almost symmetric."
   ]
  },
  {
   "cell_type": "code",
   "execution_count": 91,
   "id": "44d96ef5",
   "metadata": {},
   "outputs": [
    {
     "data": {
      "text/plain": [
       "false"
      ]
     },
     "execution_count": 91,
     "metadata": {
      "text/plain": ""
     },
     "output_type": "execute_result"
    }
   ],
   "source": [
    "s:=NumericalSemigroup(3,7,8);;\n",
    "IsAlmostSymmetric(s);"
   ]
  },
  {
   "cell_type": "code",
   "execution_count": 92,
   "id": "7cf0d1a2",
   "metadata": {},
   "outputs": [
    {
     "data": {
      "text/plain": [
       "5"
      ]
     },
     "execution_count": 92,
     "metadata": {
      "text/plain": ""
     },
     "output_type": "execute_result"
    }
   ],
   "source": [
    "FrobeniusNumber(s);"
   ]
  },
  {
   "cell_type": "code",
   "execution_count": 94,
   "id": "8deb8357",
   "metadata": {},
   "outputs": [
    {
     "data": {
      "text/plain": [
       "[ Numerical semigroup, Numerical semigroup, Numerical semigroup, Numerical semigroup ]"
      ]
     },
     "execution_count": 94,
     "metadata": {
      "text/plain": ""
     },
     "output_type": "execute_result"
    }
   ],
   "source": [
    "la:=AlmostSymmetricNumericalSemigroupsWithFrobeniusNumber(5);"
   ]
  },
  {
   "cell_type": "code",
   "execution_count": 96,
   "id": "4368eddf",
   "metadata": {},
   "outputs": [
    {
     "data": {
      "text/plain": [
       "[ [ 0, 6 ], [ 0, 4, 6 ], [ 0, 2, 4, 6 ], [ 0, 3, 4, 6 ] ]"
      ]
     },
     "execution_count": 96,
     "metadata": {
      "text/plain": ""
     },
     "output_type": "execute_result"
    }
   ],
   "source": [
    "List(la,SmallElements);"
   ]
  },
  {
   "cell_type": "code",
   "execution_count": 97,
   "id": "b66f523b",
   "metadata": {},
   "outputs": [
    {
     "data": {
      "text/plain": [
       "[ 0, 3, 6 ]"
      ]
     },
     "execution_count": 97,
     "metadata": {
      "text/plain": ""
     },
     "output_type": "execute_result"
    }
   ],
   "source": [
    "SmallElements(s);"
   ]
  },
  {
   "cell_type": "code",
   "execution_count": 98,
   "id": "fca55b66",
   "metadata": {},
   "outputs": [
    {
     "data": {
      "text/plain": [
       "[ [ 1, 1 ], [ 2, 1 ], [ 3, 2 ], [ 4, 2 ], [ 5, 4 ], [ 6, 3 ], [ 7, 7 ], [ 8, 6 ], [ 9, 11 ], [ 10, 9 ], [ 11, 20 ], [ 12, 15 ], [ 13, 32 ], [ 14, 24 ], [ 15, 47 ], [ 16, 42 ], [ 17, 83 ], [ 18, 58 ], [ 19, 131 ], [ 20, 103 ], [ 21, 188 ], [ 22, 151 ], [ 23, 323 ], [ 24, 241 ], [ 25, 494 ] ]"
      ]
     },
     "execution_count": 98,
     "metadata": {
      "text/plain": ""
     },
     "output_type": "execute_result"
    }
   ],
   "source": [
    "li:=List([1..25], i->[i,Length(AlmostSymmetricNumericalSemigroupsWithFrobeniusNumber(i))]);"
   ]
  },
  {
   "cell_type": "code",
   "execution_count": 99,
   "id": "1fa26402",
   "metadata": {},
   "outputs": [
    {
     "data": {
      "application/javascript": [
       "( function ( element ) {\n",
       "if(!window.hasOwnProperty(\"runGAP\")){window.runGAP=function(code,callback){if(!Jupyter||!Jupyter.notebook||!Jupyter.notebook.kernel)return callback(null,\"JavaScript-based output must be re-evaluated when the notebook\"+\" is reloaded.  (Re-run the cell to clear this problem.)\");var errorMessages=[];var timeout=null;Jupyter.notebook.kernel.execute(code,{iopub:{output:function(message){if(\"data\"in message.content)return callback(message.content.data,null);if(!(\"text\"in message.content))return callback(null,message.content);errorMessages.push(message.content.text);if(timeout!==null)clearTimeout(timeout);timeout=setTimeout(function(){callback(null,errorMessages.join(\"\\n\"))},200)},clear_output:function(message){}},shell:{reply:function(message){}},input:function(message){}},{})}}if(!window.hasOwnProperty(\"librariesLoadedFromGAP\")){window.librariesLoadedFromGAP={}}function myCallback(){if(!window.hasOwnProperty(\"librariesLoadedFromGAP\")){window.librariesLoadedFromGAP={}}function myCallback(){window.createVisualization(element,{\"data\" : {\"data\" : [{\"x\" : [1,2,3,4,5,6,7,8,9,10,11,12,13,14,15,16,17,18,19,20,21,22,23,24,25],\"y\" : [1,1,2,2,4,3,7,6,11,9,20,15,32,24,47,42,83,58,131,103,188,151,323,241,494],\"type\" : \"line\"}],\"layout\" : {\"height\" : 400}},\"tool\" : \"plotly\"}\n",
       ",function(element,visualization){\n",
       "});\n",
       "}if(window.librariesLoadedFromGAP.hasOwnProperty(\"viz-tool-plotly\"\n",
       ")){myCallback()}else{var filenameString=JSON.stringify(\"viz-tool-plotly\"\n",
       ");var GAPcode=\"JUPVIZFileContents( LoadJavaScriptFile( \"+filenameString+\" ) );\";window.runGAP(GAPcode,function(result,error){if(error)throw Error(\"When loading library \"+filenameString+\": \"+error);result=result[\"text/plain\"];window.librariesLoadedFromGAP[\"viz-tool-plotly\"\n",
       "]=result;try{var whatItEvaluatesTo=eval(result)}catch(e){throw Error(\"Error evaluating code for library \"+filenameString+\": \"+e)}return myCallback()})}\n",
       "}if(window.librariesLoadedFromGAP.hasOwnProperty(\"main\"\n",
       ")){myCallback()}else{var filenameString=JSON.stringify(\"main\"\n",
       ");var GAPcode=\"JUPVIZFileContents( LoadJavaScriptFile( \"+filenameString+\" ) );\";window.runGAP(GAPcode,function(result,error){if(error)throw Error(\"When loading library \"+filenameString+\": \"+error);result=result[\"text/plain\"];window.librariesLoadedFromGAP[\"main\"\n",
       "]=result;try{var whatItEvaluatesTo=eval(result)}catch(e){throw Error(\"Error evaluating code for library \"+filenameString+\": \"+e)}return myCallback()})}\n",
       ";\n",
       "} )( element.get( 0 ) )"
      ]
     },
     "execution_count": 99,
     "metadata": {
      "application/javascript": ""
     },
     "output_type": "execute_result"
    }
   ],
   "source": [
    "Plot(li);"
   ]
  },
  {
   "cell_type": "markdown",
   "id": "f47f8dfd",
   "metadata": {},
   "source": [
    "There are many other generalizations of symmetry."
   ]
  },
  {
   "cell_type": "markdown",
   "id": "02a59eb6",
   "metadata": {},
   "source": [
    "## Minimal presentations"
   ]
  },
  {
   "cell_type": "markdown",
   "id": "022ff443",
   "metadata": {},
   "source": [
    "In mathematics many algebraic objects are given by means of (free) generators and some relations among them. For numerical semigroups it is sometimes useful to have representation of this form.\n",
    "\n",
    "Let $S$ be a numerical semigroup minimally generated by $\\{n_1,\\dots,n_e\\}$. Every element $s\\in S$ admits an expression of the form $s=a_1n_1+\\dots+ a_e n_e$, and for every $(a_1,\\dots,a_e)\\in \\mathbb{N}^e$, the integer $a_1n_1+\\dots+a_en_e\\in S$. Thus, the following (monoid) morphism \n",
    "$$\n",
    "\\varphi_S: \\mathbb{N}^e \\to S,\\ \\varphi_S(a_1,\\dots,a_e)=a_1n_1+\\dots+a_en_e\n",
    "$$\n",
    "is surjective. There is an isomorphism theorem for monoids, and consequently we have that $\\mathbb{N}^e/\\ker \\varphi_S$ is isomorphic to $S$ as a monoid, where $\\ker \\phi_S=\\{ (a,b)\\in \\mathbb{N}^e : \\varphi_S(a)=\\varphi_S(b)\\}$. As a congruence, $\\ker \\varphi_S$ admints a system of generators, which is known as a presentation for $S$. \n",
    "\n",
    "A minimal presentation for $S$ is just a minimal generating system of $\\ker \\varphi_S$."
   ]
  },
  {
   "cell_type": "code",
   "execution_count": 100,
   "id": "edacdac8",
   "metadata": {},
   "outputs": [
    {
     "data": {
      "text/plain": [
       "Numerical semigroup with 2 generators"
      ]
     },
     "execution_count": 100,
     "metadata": {
      "text/plain": ""
     },
     "output_type": "execute_result"
    }
   ],
   "source": [
    "s:=NumericalSemigroup(2,3);"
   ]
  },
  {
   "cell_type": "code",
   "execution_count": 101,
   "id": "daecf1ff",
   "metadata": {},
   "outputs": [
    {
     "data": {
      "text/plain": [
       "[ [ [ 0, 2 ], [ 3, 0 ] ] ]"
      ]
     },
     "execution_count": 101,
     "metadata": {
      "text/plain": ""
     },
     "output_type": "execute_result"
    }
   ],
   "source": [
    "MinimalPresentation(s);"
   ]
  },
  {
   "cell_type": "markdown",
   "id": "a6b7237d",
   "metadata": {},
   "source": [
    "Thus $\\langle 2,3\\rangle$ can be viewed as the monoid generated by $a$ and $b$, which fulfil the relation $3a=2b$. "
   ]
  },
  {
   "cell_type": "markdown",
   "id": "4d240f64",
   "metadata": {},
   "source": [
    "Given $s\\in S$, the set $\\varphi_S^{-1}(s)$ corresponds to all the expressions that $s$ migh have in terms of the minimal generators of $S$. We will call this set, the set of factorizations of $s$, and we will denote it by $\\mathsf{Z}(s)$."
   ]
  },
  {
   "cell_type": "code",
   "execution_count": 102,
   "id": "270ab9b3",
   "metadata": {},
   "outputs": [
    {
     "data": {
      "text/plain": [
       "[ [ 3, 0 ], [ 0, 2 ] ]"
      ]
     },
     "execution_count": 102,
     "metadata": {
      "text/plain": ""
     },
     "output_type": "execute_result"
    }
   ],
   "source": [
    "Factorizations(6,s);"
   ]
  },
  {
   "cell_type": "code",
   "execution_count": 104,
   "id": "0cbf46e9",
   "metadata": {},
   "outputs": [
    {
     "data": {
      "text/plain": [
       "[ [ 10, 0 ], [ 7, 2 ], [ 4, 4 ], [ 1, 6 ] ]"
      ]
     },
     "execution_count": 104,
     "metadata": {
      "text/plain": ""
     },
     "output_type": "execute_result"
    }
   ],
   "source": [
    "Factorizations(20,s);"
   ]
  },
  {
   "cell_type": "markdown",
   "id": "fdc26a18",
   "metadata": {},
   "source": [
    "A set $\\rho$ generates a congruence $\\sigma$ on $\\mathbb{N}^e$ if for any pair $(a,b)\\in \\sigma$ there exists a chain $a_1,\\dots,a_n$ such that\n",
    "\n",
    "- $a_1=a$, $a_n=b$,\n",
    "- for all $i$, there exists $c_i\\in \\mathbb{N}^e$ and $(\\alpha_i,\\beta_i)$ such that $(a_i,a_{i+1})=(\\alpha_i+c_i,\\beta_i+c_i)$ and either $(\\alpha_i,\\beta_i)\\in \\rho$ or $(\\beta_i,\\alpha_i)\\in \\rho$.\n",
    "\n",
    "You can see the sequence $a_1,\\dots,a_n$ as a chain of transformations from $a$ to $b$, and at each step we are applying a relation (or trade) chanbe $\\alpha_i$ by $\\beta_i$ (or viceversa). \n",
    "\n",
    "For instance, in the above example $((10,0),(1,6))\\in \\ker\\varphi_S$. We start with $(10,0)$ and apply the only minimal relation we have on our numerical semigroup: $((10,0),(10-3,2))\\in \\sigma$. If we do this a couple of times more, we obtain the chaing $(10,0)$, $(7,2)$, $(4,4)$, and $(1,6)$. "
   ]
  },
  {
   "cell_type": "code",
   "execution_count": 107,
   "id": "75d1815a",
   "metadata": {},
   "outputs": [
    {
     "data": {
      "text/plain": [
       "[ [ [ 0, 0, 2 ], [ 3, 1, 0 ] ], [ [ 0, 1, 1 ], [ 4, 0, 0 ] ], [ [ 0, 2, 0 ], [ 1, 0, 1 ] ] ]"
      ]
     },
     "execution_count": 107,
     "metadata": {
      "text/plain": ""
     },
     "output_type": "execute_result"
    }
   ],
   "source": [
    "s:=NumericalSemigroup(3,5,7);;\n",
    "MinimalPresentation(s);"
   ]
  },
  {
   "cell_type": "code",
   "execution_count": 108,
   "id": "c60b08d7",
   "metadata": {},
   "outputs": [
    {
     "data": {
      "text/plain": [
       "[ [ 5, 1, 0 ], [ 0, 4, 0 ], [ 1, 2, 1 ], [ 2, 0, 2 ] ]"
      ]
     },
     "execution_count": 108,
     "metadata": {
      "text/plain": ""
     },
     "output_type": "execute_result"
    }
   ],
   "source": [
    "Factorizations(20,s);"
   ]
  },
  {
   "cell_type": "markdown",
   "id": "118994be",
   "metadata": {},
   "source": [
    "Assume that we want to check that $((5,1,0),(2,0,2))$ can be obtained from the minimal relations of $S$. Notice that these two factorizations have some common support, in fact $(5,1,0)=(3,1,0)+(2,0,0)$ and $(2,0,2)=(0,0,2)+(2,0,0)$. Thus, if we find a chain going from $(3,1,0)$ to $(0,0,2)$, then by adding $(2,0,0)$ to all the steps, we obtain a chain connecting our original factorizations.  But we already have this chain, since $((0,0,2),(3,1,0))$ is already in our minimal presentation.\n",
    "\n",
    "The idea can be extended to factorizations of larger elements in $S$. Whenever they have a common \"factor\", remove it, and try to connect the new factorizations. This motivates the definition of $\\mathcal{R}$-classes. \n",
    "\n",
    "Let $X$ be a subset of $\\mathbb{N}^e$. We say that $x,y\\in X$ are connected if there exists a sequence $x_1,\\dots,x_n\\in X$ (for some $n\\in\\mathbb{N}$) such that \n",
    "\n",
    "- $x_1=x$, $x_n=y$,\n",
    "- for every $i$, $x_i$ and $x_{i+1}$ have common support.\n",
    "\n",
    "The connected components of $X$ under this relation are called $R$-classes of $X$."
   ]
  },
  {
   "cell_type": "code",
   "execution_count": 109,
   "id": "bae59f17",
   "metadata": {},
   "outputs": [
    {
     "data": {
      "text/plain": [
       "1"
      ]
     },
     "execution_count": 109,
     "metadata": {
      "text/plain": ""
     },
     "output_type": "execute_result"
    }
   ],
   "source": [
    "Length(RClassesOfSetOfFactorizations(Factorizations(20,s)));"
   ]
  },
  {
   "cell_type": "markdown",
   "id": "5c958e22",
   "metadata": {},
   "source": [
    "The idea is that whenever we are in the same $R$-class, we can connect any two factorizations with a chain where two consequtive elements have common support. For these two elements, we remove the common part, moving now to the factorizations of an element smaller than the original one. If these two new factorizations are in the same $R$-class, we repeat the process. This will end when we arrive at factorizations in different $R$-classes, and then we only have to connect all the chains that we found translated accordingly. \n",
    "\n",
    "Let us illustrate this with an example."
   ]
  },
  {
   "cell_type": "code",
   "execution_count": 113,
   "id": "317b7844",
   "metadata": {},
   "outputs": [
    {
     "data": {
      "text/plain": [
       "[ [ 7, 0, 0 ], [ 2, 3, 0 ], [ 3, 1, 1 ], [ 0, 0, 3 ] ]"
      ]
     },
     "execution_count": 113,
     "metadata": {
      "text/plain": ""
     },
     "output_type": "execute_result"
    }
   ],
   "source": [
    "Factorizations(21,s);"
   ]
  },
  {
   "cell_type": "code",
   "execution_count": 114,
   "id": "77909354",
   "metadata": {},
   "outputs": [
    {
     "data": {
      "text/plain": [
       "[ [ [ 0, 0, 3 ], [ 2, 3, 0 ], [ 3, 1, 1 ], [ 7, 0, 0 ] ] ]"
      ]
     },
     "execution_count": 114,
     "metadata": {
      "text/plain": ""
     },
     "output_type": "execute_result"
    }
   ],
   "source": [
    "RClassesOfSetOfFactorizations(Factorizations(21,s));"
   ]
  },
  {
   "cell_type": "code",
   "execution_count": 116,
   "id": "45ff09f0",
   "metadata": {},
   "outputs": [
    {
     "data": {
      "image/svg+xml": [
       "<?xml version=\"1.0\" encoding=\"UTF-8\" standalone=\"no\"?>\n",
       "<!DOCTYPE svg PUBLIC \"-//W3C//DTD SVG 1.1//EN\"\n",
       " \"http://www.w3.org/Graphics/SVG/1.1/DTD/svg11.dtd\">\n",
       "<!-- Generated by graphviz version 2.40.1 (20161225.0304)\n",
       " -->\n",
       "<!-- Title: NSGraph Pages: 1 -->\n",
       "<svg width=\"150pt\" height=\"305pt\"\n",
       " viewBox=\"0.00 0.00 150.49 305.00\" xmlns=\"http://www.w3.org/2000/svg\" xmlns:xlink=\"http://www.w3.org/1999/xlink\">\n",
       "<g id=\"graph0\" class=\"graph\" transform=\"scale(1 1) rotate(0) translate(4 301)\">\n",
       "<title>NSGraph</title>\n",
       "<polygon fill=\"#ffffff\" stroke=\"transparent\" points=\"-4,4 -4,-301 146.4925,-301 146.4925,4 -4,4\"/>\n",
       "<!-- 1 -->\n",
       "<g id=\"node1\" class=\"node\">\n",
       "<title>1</title>\n",
       "<ellipse fill=\"none\" stroke=\"#000000\" cx=\"100.2463\" cy=\"-279\" rx=\"42.4939\" ry=\"18\"/>\n",
       "<text text-anchor=\"middle\" x=\"100.2463\" y=\"-275.3\" font-family=\"Times,serif\" font-size=\"14.00\" fill=\"#000000\"> (7, 0, 0)</text>\n",
       "</g>\n",
       "<!-- 2 -->\n",
       "<g id=\"node2\" class=\"node\">\n",
       "<title>2</title>\n",
       "<ellipse fill=\"none\" stroke=\"#000000\" cx=\"42.2463\" cy=\"-192\" rx=\"42.4939\" ry=\"18\"/>\n",
       "<text text-anchor=\"middle\" x=\"42.2463\" y=\"-188.3\" font-family=\"Times,serif\" font-size=\"14.00\" fill=\"#000000\"> (2, 3, 0)</text>\n",
       "</g>\n",
       "<!-- 1&#45;&#45;2 -->\n",
       "<g id=\"edge4\" class=\"edge\">\n",
       "<title>1&#45;&#45;2</title>\n",
       "<path fill=\"none\" stroke=\"#000000\" d=\"M88.5091,-261.3943C78.4463,-246.3001 64.0237,-224.6661 53.966,-209.5796\"/>\n",
       "<text text-anchor=\"middle\" x=\"78.7463\" y=\"-231.8\" font-family=\"Times,serif\" font-size=\"14.00\" fill=\"#000000\">5</text>\n",
       "</g>\n",
       "<!-- 3 -->\n",
       "<g id=\"node3\" class=\"node\">\n",
       "<title>3</title>\n",
       "<ellipse fill=\"none\" stroke=\"#000000\" cx=\"81.2463\" cy=\"-105\" rx=\"42.4939\" ry=\"18\"/>\n",
       "<text text-anchor=\"middle\" x=\"81.2463\" y=\"-101.3\" font-family=\"Times,serif\" font-size=\"14.00\" fill=\"#000000\"> (3, 1, 1)</text>\n",
       "</g>\n",
       "<!-- 1&#45;&#45;3 -->\n",
       "<g id=\"edge2\" class=\"edge\">\n",
       "<title>1&#45;&#45;3</title>\n",
       "<path fill=\"none\" stroke=\"#000000\" d=\"M99.6139,-260.7358C98.7516,-239.7462 96.8799,-204.2931 93.2463,-174 91.161,-156.6157 87.6248,-136.9567 84.9297,-123.0825\"/>\n",
       "<text text-anchor=\"middle\" x=\"100.7463\" y=\"-188.3\" font-family=\"Times,serif\" font-size=\"14.00\" fill=\"#000000\">4</text>\n",
       "</g>\n",
       "<!-- 2&#45;&#45;3 -->\n",
       "<g id=\"edge1\" class=\"edge\">\n",
       "<title>2&#45;&#45;3</title>\n",
       "<path fill=\"none\" stroke=\"#000000\" d=\"M50.3271,-173.9735C57.0651,-158.9427 66.6116,-137.6465 73.3092,-122.7057\"/>\n",
       "<text text-anchor=\"middle\" x=\"67.7463\" y=\"-144.8\" font-family=\"Times,serif\" font-size=\"14.00\" fill=\"#000000\">2</text>\n",
       "</g>\n",
       "<!-- 4 -->\n",
       "<g id=\"node4\" class=\"node\">\n",
       "<title>4</title>\n",
       "<ellipse fill=\"none\" stroke=\"#000000\" cx=\"81.2463\" cy=\"-18\" rx=\"42.4939\" ry=\"18\"/>\n",
       "<text text-anchor=\"middle\" x=\"81.2463\" y=\"-14.3\" font-family=\"Times,serif\" font-size=\"14.00\" fill=\"#000000\"> (0, 0, 3)</text>\n",
       "</g>\n",
       "<!-- 3&#45;&#45;4 -->\n",
       "<g id=\"edge3\" class=\"edge\">\n",
       "<title>3&#45;&#45;4</title>\n",
       "<path fill=\"none\" stroke=\"#000000\" d=\"M81.2463,-86.9735C81.2463,-72.0422 81.2463,-50.9283 81.2463,-36.0034\"/>\n",
       "<text text-anchor=\"middle\" x=\"84.7463\" y=\"-57.8\" font-family=\"Times,serif\" font-size=\"14.00\" fill=\"#000000\">4</text>\n",
       "</g>\n",
       "</g>\n",
       "</svg>\n"
      ]
     },
     "execution_count": 116,
     "metadata": {
      "image/svg+xml": {
       "height": 500,
       "width": 500
      }
     },
     "output_type": "execute_result"
    }
   ],
   "source": [
    "JupyterSplashDot(DotEliahouGraph(Factorizations(21,s)));"
   ]
  },
  {
   "cell_type": "markdown",
   "id": "a99e44db",
   "metadata": {},
   "source": [
    "We know that $((7,0,0),(0,0,3))\\in \\ker\\varphi_S$, and we want to see how can we obtain this pair from the minimal relations of $S$. Both $(7,0,0)$ and $(0,0,3)$ are in the same $R$-class. We can, instance, connect them with the sequence $(7,0,0)$, $(3,1,1)$, $(0,0,3)$. By transitivity, if we find a chain of trades going from  $(7,0,0)$  to $(3,1,1))$ and another from $(3,1,1)$ to $(0,0,3)$, by joining them we will find a chain from $(7,0,0)$ to $(0,0,3)$. \n",
    "\n",
    "By removing the common part of $(7,0,0)$ and $(3,1,1)$, we obtain $(4,0,0)$ and $(0,1,1)$, and the pair $((4,0,0),(0,1,1))$ is in our minimal presentation. We do the same with $(3,1,1)$ and $(0,0,3)$, obtaining $(3,1,0)$ and $(0,0,2)$, and $((0,0,2),(3,1,0))$ is in our minimal presentation. Let $\\sigma=\\ker\\varphi_S$. Then $(7,0,0)=((4,0,0)+(3,0,0))\\sigma ((0,1,1)+(3,0,0))=(3,1,1)\\sigma ((3,1,0)+(0,0,1))\\sigma ((0,0,2)+(0,0,1))=(0,0,3)$.\n",
    "\n",
    "In this construction, elements with more than one $R$-class are crucial. These elements are called Betti elements (or degrees) of $S$."
   ]
  },
  {
   "cell_type": "code",
   "execution_count": 117,
   "id": "2d748eae",
   "metadata": {},
   "outputs": [
    {
     "data": {
      "text/plain": [
       "[ 10, 12, 14 ]"
      ]
     },
     "execution_count": 117,
     "metadata": {
      "text/plain": ""
     },
     "output_type": "execute_result"
    }
   ],
   "source": [
    "bs:=BettiElements(s);"
   ]
  },
  {
   "cell_type": "code",
   "execution_count": 118,
   "id": "1b0aacd0",
   "metadata": {},
   "outputs": [
    {
     "data": {
      "text/plain": [
       "[ [ [ [ 0, 2, 0 ] ], [ [ 1, 0, 1 ] ] ], [ [ [ 4, 0, 0 ] ], [ [ 0, 1, 1 ] ] ], [ [ [ 3, 1, 0 ] ], [ [ 0, 0, 2 ] ] ] ]"
      ]
     },
     "execution_count": 118,
     "metadata": {
      "text/plain": ""
     },
     "output_type": "execute_result"
    }
   ],
   "source": [
    "List(bs,b-> RClassesOfSetOfFactorizations(Factorizations(b,s)));"
   ]
  },
  {
   "cell_type": "markdown",
   "id": "a8731528",
   "metadata": {},
   "source": [
    "It is not hard to prove that if $s\\in S$ is a Betti element, then $s=n_i+w$ with $i>2$ and $w\\in \\operatorname{Ap}(S,n_1)$. Thus the number of Betti elements is finite. As a consequence of this, all minimal presentations have the same cardinality, since we only need relations \"connecting\" different $R$-classes of the factorizations of the Betti elements of $s$. This also provides a way do determine all minimal relations of a numerical semigroup (up to symmetry)."
   ]
  },
  {
   "cell_type": "code",
   "execution_count": 119,
   "id": "e15beb51",
   "metadata": {},
   "outputs": [
    {
     "data": {
      "text/plain": [
       "[ [ [ 1, 0, 1 ], [ 0, 2, 0 ] ], [ [ 3, 1, 0 ], [ 0, 0, 2 ] ], [ [ 4, 0, 0 ], [ 0, 1, 1 ] ] ]"
      ]
     },
     "execution_count": 119,
     "metadata": {
      "text/plain": ""
     },
     "output_type": "execute_result"
    }
   ],
   "source": [
    "AllMinimalRelationsOfNumericalSemigroup(s);"
   ]
  },
  {
   "cell_type": "markdown",
   "id": "d0ad38c7",
   "metadata": {},
   "source": [
    "Minimal presentations of numerical semigroups with embedding dimension two have cardinality one. Thos for embedding dimension three have cardinality two or three. There are numerical semigroups with embedding dimension four with arbitrarily large minimal presentations."
   ]
  }
 ],
 "metadata": {
  "kernelspec": {
   "display_name": "GAP 4",
   "language": "gap",
   "name": "gap-4"
  },
  "language_info": {
   "codemirror_mode": "gap",
   "file_extension": ".g",
   "mimetype": "text/x-gap",
   "name": "GAP 4",
   "nbconvert_exporter": "",
   "pygments_lexer": "gap",
   "version": "4.10.0"
  }
 },
 "nbformat": 4,
 "nbformat_minor": 5
}
