{
 "cells": [
  {
   "cell_type": "markdown",
   "id": "9df0fd2a",
   "metadata": {},
   "source": [
    "# `NumericalSgps` an introduction - Lisbon 2022"
   ]
  },
  {
   "cell_type": "markdown",
   "id": "55aa7271",
   "metadata": {},
   "source": [
    "## Some basic definitions"
   ]
  },
  {
   "cell_type": "markdown",
   "id": "2e4a68a3",
   "metadata": {},
   "source": [
    "Recall that a numerical semigroup $S$ is a subset of the set of nonnegative integers, $\\mathbb{N}$, that is closed under addition, $0\\in S$, and there are only finitely many positive integers not belonging to $S$. The first two contidions imply that $(S,+)$ is a submonoid of $(\\mathbb{N},+)$. \n",
    "\n",
    "The set $\\mathbb{N}\\setminus S$ is known as the set of gaps of $S$, denoted $\\operatorname{G}(S)$, and the largest integer not belonging to $S$ is its Frobenius number, $\\operatorname{F}(S)$. The conductor of $S$, $\\operatorname{C}(S)$ has the following property: $\\operatorname{C}(S)+\\mathbb{N}\\subseteq S$."
   ]
  },
  {
   "cell_type": "code",
   "execution_count": null,
   "id": "32195684",
   "metadata": {},
   "outputs": [
    {
     "data": {
      "text/plain": [
       "true"
      ]
     },
     "execution_count": 1,
     "metadata": {
      "text/plain": ""
     },
     "output_type": "execute_result"
    }
   ],
   "source": [
    "LoadPackage(\"num\");"
   ]
  },
  {
   "cell_type": "code",
   "execution_count": 2,
   "id": "ae156b75",
   "metadata": {},
   "outputs": [
    {
     "data": {
      "text/plain": [
       "Numerical semigroup"
      ]
     },
     "execution_count": 2,
     "metadata": {
      "text/plain": ""
     },
     "output_type": "execute_result"
    }
   ],
   "source": [
    "s:=NumericalSemigroupByGaps([1..5]);"
   ]
  },
  {
   "cell_type": "code",
   "execution_count": 3,
   "id": "ae1934c2",
   "metadata": {},
   "outputs": [
    {
     "data": {
      "text/plain": [
       "true"
      ]
     },
     "execution_count": 3,
     "metadata": {
      "text/plain": ""
     },
     "output_type": "execute_result"
    }
   ],
   "source": [
    "10 in s;"
   ]
  },
  {
   "cell_type": "code",
   "execution_count": 4,
   "id": "985a5c09",
   "metadata": {},
   "outputs": [
    {
     "data": {
      "text/plain": [
       "5"
      ]
     },
     "execution_count": 4,
     "metadata": {
      "text/plain": ""
     },
     "output_type": "execute_result"
    }
   ],
   "source": [
    "FrobeniusNumber(s);"
   ]
  },
  {
   "cell_type": "code",
   "execution_count": 5,
   "id": "426c6e41",
   "metadata": {},
   "outputs": [
    {
     "data": {
      "text/plain": [
       "[ 1, 2, 3, 4, 5 ]"
      ]
     },
     "execution_count": 5,
     "metadata": {
      "text/plain": ""
     },
     "output_type": "execute_result"
    }
   ],
   "source": [
    "Gaps(s);"
   ]
  },
  {
   "cell_type": "markdown",
   "id": "487a3e2e",
   "metadata": {},
   "source": [
    "We can see which elements in the semigroup are in a given interval."
   ]
  },
  {
   "cell_type": "code",
   "execution_count": 6,
   "id": "843fba4c",
   "metadata": {},
   "outputs": [
    {
     "data": {
      "text/plain": [
       "[ 0, 6, 7, 8, 9, 10, 11, 12, 13, 14, 15, 16, 17, 18, 19, 20, 21, 22, 23, 24, 25, 26, 27, 28, 29, 30 ]"
      ]
     },
     "execution_count": 6,
     "metadata": {
      "text/plain": ""
     },
     "output_type": "execute_result"
    }
   ],
   "source": [
    "Intersection(s,[0..30]);"
   ]
  },
  {
   "cell_type": "markdown",
   "id": "46b1eb21",
   "metadata": {},
   "source": [
    "Or which is the $i$th element in the semigroup."
   ]
  },
  {
   "cell_type": "code",
   "execution_count": 7,
   "id": "11408bca",
   "metadata": {},
   "outputs": [
    {
     "data": {
      "text/plain": [
       "34"
      ]
     },
     "execution_count": 7,
     "metadata": {
      "text/plain": ""
     },
     "output_type": "execute_result"
    }
   ],
   "source": [
    "s[30];"
   ]
  },
  {
   "cell_type": "markdown",
   "id": "be510ce9",
   "metadata": {},
   "source": [
    "Or even, what are the first $n$ elements in the semigroup."
   ]
  },
  {
   "cell_type": "code",
   "execution_count": 8,
   "id": "6401a346",
   "metadata": {},
   "outputs": [
    {
     "data": {
      "text/plain": [
       "[ 0, 6, 7, 8, 9, 10, 11, 12, 13, 14, 15, 16, 17, 18, 19, 20, 21, 22, 23, 24 ]"
      ]
     },
     "execution_count": 8,
     "metadata": {
      "text/plain": ""
     },
     "output_type": "execute_result"
    }
   ],
   "source": [
    "s{[1..20]};"
   ]
  },
  {
   "cell_type": "markdown",
   "id": "937c9224",
   "metadata": {},
   "source": [
    "The genus of $S$ is the cardinality of $\\mathbb{N}\\setminus S$, denoted $\\operatorname{g}(S)$."
   ]
  },
  {
   "cell_type": "code",
   "execution_count": 9,
   "id": "2b23da44",
   "metadata": {},
   "outputs": [
    {
     "data": {
      "text/plain": [
       "5"
      ]
     },
     "execution_count": 9,
     "metadata": {
      "text/plain": ""
     },
     "output_type": "execute_result"
    }
   ],
   "source": [
    "Genus(s);"
   ]
  },
  {
   "cell_type": "markdown",
   "id": "02536b43",
   "metadata": {},
   "source": [
    "The set $S\\cap[0,\\operatorname{C}(S)]$ is known as the set of small elements of $S$ (if we remove the conductor, then somtimes is called the set of left or sporadic elements)."
   ]
  },
  {
   "cell_type": "code",
   "execution_count": 10,
   "id": "9d983145",
   "metadata": {},
   "outputs": [
    {
     "data": {
      "text/plain": [
       "[ 0, 6 ]"
      ]
     },
     "execution_count": 10,
     "metadata": {
      "text/plain": ""
     },
     "output_type": "execute_result"
    }
   ],
   "source": [
    "SmallElements(s);"
   ]
  },
  {
   "cell_type": "code",
   "execution_count": 11,
   "id": "881da35d",
   "metadata": {},
   "outputs": [
    {
     "data": {
      "text/plain": [
       "true"
      ]
     },
     "execution_count": 11,
     "metadata": {
      "text/plain": ""
     },
     "output_type": "execute_result"
    }
   ],
   "source": [
    "s=NumericalSemigroupBySmallElements([0,6]);"
   ]
  },
  {
   "cell_type": "markdown",
   "id": "f9330665",
   "metadata": {},
   "source": [
    "Denote by $\\operatorname{n}(S)=\\#\\{s \\in S : s<\\operatorname{F}(S)\\}$. It follows that $\\operatorname{n}(S)+\\operatorname{g}(S)=\\operatorname{F}(S)+1$. Since for every $n\\in S$ with $n<\\operatorname{F}(S)$ we have that $\\operatorname{F}(S)-n\\not\\in S$, we have that there are less left elements than gaps, and so the following inequality always holds."
   ]
  },
  {
   "cell_type": "code",
   "execution_count": 12,
   "id": "faf5d493",
   "metadata": {
    "scrolled": true
   },
   "outputs": [
    {
     "data": {
      "text/plain": [
       "true"
      ]
     },
     "execution_count": 12,
     "metadata": {
      "text/plain": ""
     },
     "output_type": "execute_result"
    }
   ],
   "source": [
    "Genus(s)>= (FrobeniusNumber(s)+1)/2;"
   ]
  },
  {
   "cell_type": "markdown",
   "id": "5f2f30e7",
   "metadata": {},
   "source": [
    "Given $A$ a set of positive integers, the submonoid (under addition) of $\\mathbb{N}$ generated by $A$ is the intersection of all submonoids of $\\mathbb{N}$ contanining $A$, which can be described as \n",
    "$$ \\langle A\\rangle = \\left\\{ \\sum_{i=1}^n \\lambda_i a_i : n\\in\\mathbb{N}, \\lambda_i\\in \\mathbb{N}, a_i\\in A\\right\\}.$$\n",
    "The submonoid $\\langle A\\rangle$ is a numerical semigroup if and only if $\\gcd(A)=1$.\n",
    "\n",
    "We say that $A$ is a generating system of $S$ if $S=\\langle A\\rangle$, and that $A$ is a minimal generating system of $S$ if, in addition, no proper subset of $A$ generates $S$. \n",
    "\n",
    "Every numerical semgiroup has a unique minimal generating system: $S^*\\setminus (S^*+S^*)$, with $S^*=S\\setminus\\{0\\}$. Sometimes the elements in the minimal generating system of $S$ are called minimal generators, atoms, irreducible, or primitive elements of $S$. The cardinality of the minimal generating system of $S$ is known as the embedding dimension of $S$, denoted $\\operatorname{e}(S)$."
   ]
  },
  {
   "cell_type": "code",
   "execution_count": 13,
   "id": "42a27a8a",
   "metadata": {},
   "outputs": [
    {
     "data": {
      "text/plain": [
       "[ 6, 7, 8, 9, 10, 11 ]"
      ]
     },
     "execution_count": 13,
     "metadata": {
      "text/plain": ""
     },
     "output_type": "execute_result"
    }
   ],
   "source": [
    "Generators(s);"
   ]
  },
  {
   "cell_type": "code",
   "execution_count": 14,
   "id": "62cce96a",
   "metadata": {},
   "outputs": [
    {
     "data": {
      "text/plain": [
       "[ 6, 7, 8, 9, 10, 11 ]"
      ]
     },
     "execution_count": 14,
     "metadata": {
      "text/plain": ""
     },
     "output_type": "execute_result"
    }
   ],
   "source": [
    "MinimalGenerators(s);"
   ]
  },
  {
   "cell_type": "code",
   "execution_count": 15,
   "id": "b77dd575",
   "metadata": {},
   "outputs": [
    {
     "data": {
      "text/plain": [
       "6"
      ]
     },
     "execution_count": 15,
     "metadata": {
      "text/plain": ""
     },
     "output_type": "execute_result"
    }
   ],
   "source": [
    "EmbeddingDimension(s);"
   ]
  },
  {
   "cell_type": "markdown",
   "id": "96a05e3f",
   "metadata": {},
   "source": [
    "We can define a numerical semigoup by giving one of its generating sets."
   ]
  },
  {
   "cell_type": "code",
   "execution_count": 16,
   "id": "f7f45111",
   "metadata": {},
   "outputs": [
    {
     "data": {
      "text/plain": [
       "Numerical semigroup with 3 generators"
      ]
     },
     "execution_count": 16,
     "metadata": {
      "text/plain": ""
     },
     "output_type": "execute_result"
    }
   ],
   "source": [
    "s:=NumericalSemigroup(3,5,7);"
   ]
  },
  {
   "cell_type": "markdown",
   "id": "ff4c9756",
   "metadata": {},
   "source": [
    "The multiplicity of a numerical semigroup $S$ is the least positive integer in $S$ (and coincides with its smallest minimal generator), we will denote it by $\\operatorname{m}(S)$."
   ]
  },
  {
   "cell_type": "code",
   "execution_count": 17,
   "id": "8e72da0c",
   "metadata": {},
   "outputs": [
    {
     "data": {
      "text/plain": [
       "3"
      ]
     },
     "execution_count": 17,
     "metadata": {
      "text/plain": ""
     },
     "output_type": "execute_result"
    }
   ],
   "source": [
    "Multiplicity(s);"
   ]
  },
  {
   "cell_type": "markdown",
   "id": "d944e41f",
   "metadata": {},
   "source": [
    "## Apéry sets"
   ]
  },
  {
   "cell_type": "markdown",
   "id": "0e7031d6",
   "metadata": {},
   "source": [
    "One of the most important tools when studying numerical semigroups is the concept of Apéry sets. Given a numerical semigroup $S$ and $n$ a nonzero element of $S$ (one can define also Apéry sets for elements outside $S$, but we are not going to deal with them here), the Apéry set of $n$ in $S$ (or of $S$ with respect to $n$) is the set \n",
    "$$\\operatorname{Ap}(S,n)=\\{ s\\in S : s-n\\not\\in S\\}.$$\n",
    "This set has precisely $n$ elements, one in each congruence class modulo $n$. Moreover, for every $s\\in S$ there exist unique $k\\in \\mathbb{N}$ and $w\\in \\operatorname{Ap}(S,n)$ such that $s=kn+w$. This in particular implies that the embedding dimension of $S$ is always smaller than or equal to its multiplicity, since $(\\operatorname{Ap}(S,n))\\setminus\\{0\\}\\cup\\{n\\}$ is a minimal generating set of $S$ for all $n\\in S\\setminus\\{0\\}$."
   ]
  },
  {
   "cell_type": "code",
   "execution_count": 19,
   "id": "12f7e746",
   "metadata": {},
   "outputs": [
    {
     "data": {
      "text/plain": [
       "[ 0, 25, 26, 15, 16, 41, 6, 31, 20, 21, 10, 35 ]"
      ]
     },
     "execution_count": 19,
     "metadata": {
      "text/plain": ""
     },
     "output_type": "execute_result"
    }
   ],
   "source": [
    "s:=NumericalSemigroup(6,10,15);;\n",
    "AperyList(s,12);"
   ]
  },
  {
   "cell_type": "markdown",
   "id": "a0194713",
   "metadata": {},
   "source": [
    "If the second argument is not given, then the Apéry set is taken with respect to the multiplicity of the numerical semigroup."
   ]
  },
  {
   "cell_type": "code",
   "execution_count": 20,
   "id": "3285ac2a",
   "metadata": {},
   "outputs": [
    {
     "data": {
      "text/plain": [
       "[ 0, 25, 20, 15, 10, 35 ]"
      ]
     },
     "execution_count": 20,
     "metadata": {
      "text/plain": ""
     },
     "output_type": "execute_result"
    }
   ],
   "source": [
    "AperyList(s);"
   ]
  },
  {
   "cell_type": "markdown",
   "id": "01edd84a",
   "metadata": {},
   "source": [
    "The output is arranged in a list, so that in the $i$th position (starting in 0) we find the least element in $S$ congruent with $i$ modulo $n$. In this way, membership to $S$ becomes trivial once an Apéry set of the semigroup is known. \n",
    "\n",
    "This has some other interesting consequences:"
   ]
  },
  {
   "cell_type": "code",
   "execution_count": 21,
   "id": "e0fa9006",
   "metadata": {},
   "outputs": [
    {
     "data": {
      "text/plain": [
       "true"
      ]
     },
     "execution_count": 21,
     "metadata": {
      "text/plain": ""
     },
     "output_type": "execute_result"
    }
   ],
   "source": [
    "FrobeniusNumber(s)=Maximum(AperyList(s,12))-12;"
   ]
  },
  {
   "cell_type": "code",
   "execution_count": 22,
   "id": "80ea52c0",
   "metadata": {},
   "outputs": [
    {
     "data": {
      "text/plain": [
       "true"
      ]
     },
     "execution_count": 22,
     "metadata": {
      "text/plain": ""
     },
     "output_type": "execute_result"
    }
   ],
   "source": [
    "Genus(s)=(Sum(AperyList(s,12)))/12- (12-1)/2;"
   ]
  },
  {
   "cell_type": "markdown",
   "id": "87d869ba",
   "metadata": {},
   "source": [
    "Let $m$ be the multiplcity of $S$, and let $w_i$ be the element in the Apéry set of $m$ in $S$ congruent with $i$ modulo $m$. We can write $w_i=k_im+i$. The tuple $(k_1,\\dots,k_{m-1})$ is known as the Kunz coordinates of $S$. "
   ]
  },
  {
   "cell_type": "code",
   "execution_count": 23,
   "id": "7a9bf52e",
   "metadata": {},
   "outputs": [
    {
     "data": {
      "text/plain": [
       "[ 4, 3, 2, 1, 5 ]"
      ]
     },
     "execution_count": 23,
     "metadata": {
      "text/plain": ""
     },
     "output_type": "execute_result"
    }
   ],
   "source": [
    "KunzCoordinates(s);"
   ]
  },
  {
   "cell_type": "markdown",
   "id": "456448e3",
   "metadata": {},
   "source": [
    "Notice that every nonnegative integer $x$ can be written as $x=k m+i$ for some $k,n\\in \\mathbb{N}$, with $i<m$. It follows easily that $x\\in S$ if and only if $k\\ge k_i$. So it is at no surprise that the genus is precisely the sum of the Kunz coordinates of $S$, which is just a reformulation of the above statement on the genus.    "
   ]
  },
  {
   "cell_type": "code",
   "execution_count": 24,
   "id": "6def5599",
   "metadata": {},
   "outputs": [
    {
     "data": {
      "text/plain": [
       "true"
      ]
     },
     "execution_count": 24,
     "metadata": {
      "text/plain": ""
     },
     "output_type": "execute_result"
    }
   ],
   "source": [
    "Genus(s)=Sum(KunzCoordinates(s));"
   ]
  },
  {
   "cell_type": "markdown",
   "id": "29f24b6c",
   "metadata": {},
   "source": [
    "Notice that $w_i+w_j\\in S$ for all $i,j$, and thus $w_i+w_j=k_{ij}m+w_{i+j \\bmod n}$, this imposes some conditions on the tuples $(k_1,\\dots,k_{m-1})$ that can be Kunz coordinates of a numerical semigroup with multiplicity $m$. In fact, there is a one to one correspondence between numerical semigroups with multiplicity $m$ and integers points in what it is called the Kunz polyhedron."
   ]
  },
  {
   "cell_type": "code",
   "execution_count": 25,
   "id": "97f087fe",
   "metadata": {},
   "outputs": [
    {
     "data": {
      "text/plain": [
       "[ [ 1, 0, 0, 0, 0, -1 ], [ 0, 1, 0, 0, 0, -1 ], [ 0, 0, 1, 0, 0, -1 ], [ 0, 0, 0, 1, 0, -1 ], [ 0, 0, 0, 0, 1, -1 ], [ 2, -1, 0, 0, 0, 0 ], [ 1, 1, -1, 0, 0, 0 ], [ 1, 0, 1, -1, 0, 0 ], [ 1, 0, 0, 1, -1, 0 ], [ 0, 2, 0, -1, 0, 0 ], [ 0, 1, 1, 0, -1, 0 ], [ -1, 1, 0, 0, 1, 1 ], [ -1, 0, 1, 1, 0, 1 ], [ 0, -1, 1, 0, 1, 1 ], [ 0, -1, 0, 2, 0, 1 ], [ 0, 0, -1, 1, 1, 1 ], [ 0, 0, 0, -1, 2, 1 ] ]"
      ]
     },
     "execution_count": 25,
     "metadata": {
      "text/plain": ""
     },
     "output_type": "execute_result"
    }
   ],
   "source": [
    "KunzPolytope(6);"
   ]
  },
  {
   "cell_type": "markdown",
   "id": "4c51b642",
   "metadata": {},
   "source": [
    "The first elements of this output mean that $x_i\\ge 1$, while for instance $[ 1, 0, 1, -1, 0, 0 ]$ translates to $x_1+x_3\\ge x_4$, and $ [ 0, 0, 0, -1, 2, 1 ]$ to $2x_5+1\\ge x_4$."
   ]
  },
  {
   "cell_type": "code",
   "execution_count": 27,
   "id": "5ec266be",
   "metadata": {},
   "outputs": [],
   "source": [
    "x:=List([1..5],i->Indeterminate(Rationals,i));;\n",
    "x1:=Concatenation(x,[1]);;"
   ]
  },
  {
   "cell_type": "code",
   "execution_count": 28,
   "id": "ccd84663",
   "metadata": {},
   "outputs": [
    {
     "name": "stdout",
     "output_type": "stream",
     "text": [
      "x_1-1 ≥ 0\n",
      "x_2-1 ≥ 0\n",
      "x_3-1 ≥ 0\n",
      "x_4-1 ≥ 0\n",
      "x_5-1 ≥ 0\n",
      "2*x_1-x_2 ≥ 0\n",
      "x_1+x_2-x_3 ≥ 0\n",
      "x_1+x_3-x_4 ≥ 0\n",
      "x_1+x_4-x_5 ≥ 0\n",
      "2*x_2-x_4 ≥ 0\n",
      "x_2+x_3-x_5 ≥ 0\n",
      "-x_1+x_2+x_5+1 ≥ 0\n",
      "-x_1+x_3+x_4+1 ≥ 0\n",
      "-x_2+x_3+x_5+1 ≥ 0\n",
      "-x_2+2*x_4+1 ≥ 0\n",
      "-x_3+x_4+x_5+1 ≥ 0\n",
      "-x_4+2*x_5+1 ≥ 0\n"
     ]
    }
   ],
   "source": [
    "for eq in KunzPolytope(6) do Print(eq*x1,\" ≥ 0\\n\"); od;"
   ]
  },
  {
   "cell_type": "markdown",
   "id": "e79a1050",
   "metadata": {},
   "source": [
    "# Pseudo-Frobenius numbers and type"
   ]
  },
  {
   "cell_type": "markdown",
   "id": "be905552",
   "metadata": {},
   "source": [
    "Let $S$ be a numerical semigroup. A pseudo-Frobenius number is an integer $f$ such that $f+S^*\\subseteq S$. In particular, the Frobenius number of $S$ is a pseudo-Frobenius number. The cardinality of the set of pseudo-Frobenius numbers of $S$, $\\operatorname{FP}(S)$, is known as the type of $S$.\n",
    "\n",
    "The semigroup $S$ induces the following ordering over the integers: $a \\le_S b$ if $b-a\\in S$. It easily follows that \n",
    "$$ \\operatorname{PF}(S)= \\operatorname{Maximals}_{\\le_S}(\\mathbb{N}\\setminus S).$$"
   ]
  },
  {
   "cell_type": "code",
   "execution_count": 29,
   "id": "6aca7ad8",
   "metadata": {},
   "outputs": [
    {
     "data": {
      "text/plain": [
       "Numerical semigroup with 4 generators"
      ]
     },
     "execution_count": 29,
     "metadata": {
      "text/plain": ""
     },
     "output_type": "execute_result"
    }
   ],
   "source": [
    "s:=NumericalSemigroup(6,11,13,21);"
   ]
  },
  {
   "cell_type": "code",
   "execution_count": 30,
   "id": "d97a89b4",
   "metadata": {},
   "outputs": [
    {
     "data": {
      "text/plain": [
       "[ 15, 16, 20 ]"
      ]
     },
     "execution_count": 30,
     "metadata": {
      "text/plain": ""
     },
     "output_type": "execute_result"
    }
   ],
   "source": [
    "PseudoFrobenius(s);"
   ]
  },
  {
   "cell_type": "code",
   "execution_count": 31,
   "id": "32e2d2d6",
   "metadata": {
    "scrolled": true
   },
   "outputs": [
    {
     "data": {
      "text/plain": [
       "3"
      ]
     },
     "execution_count": 31,
     "metadata": {
      "text/plain": ""
     },
     "output_type": "execute_result"
    }
   ],
   "source": [
    "Type(s);"
   ]
  },
  {
   "cell_type": "markdown",
   "id": "02778161",
   "metadata": {},
   "source": [
    "Is is not difficult to prove that for any $n\\in S\\setminus\\{0\\}$,  $$n+\\operatorname{PF}(S)=\\operatorname{Maximals}_{\\le_S}(\\operatorname{Ap}(S,n)).$$"
   ]
  },
  {
   "cell_type": "code",
   "execution_count": 32,
   "id": "d46909b6",
   "metadata": {},
   "outputs": [
    {
     "data": {
      "text/plain": [
       "<object>"
      ]
     },
     "execution_count": 32,
     "metadata": {
      "text/plain": ""
     },
     "output_type": "execute_result"
    }
   ],
   "source": [
    "rap:=HasseDiagramOfAperyListOfNumericalSemigroup(s);"
   ]
  },
  {
   "cell_type": "code",
   "execution_count": 33,
   "id": "8ad6bb1c",
   "metadata": {},
   "outputs": [
    {
     "data": {
      "image/svg+xml": [
       "<?xml version=\"1.0\" encoding=\"UTF-8\" standalone=\"no\"?>\n",
       "<!DOCTYPE svg PUBLIC \"-//W3C//DTD SVG 1.1//EN\"\n",
       " \"http://www.w3.org/Graphics/SVG/1.1/DTD/svg11.dtd\">\n",
       "<!-- Generated by graphviz version 2.40.1 (20161225.0304)\n",
       " -->\n",
       "<!-- Title: NSGraph Pages: 1 -->\n",
       "<svg width=\"206pt\" height=\"188pt\"\n",
       " viewBox=\"0.00 0.00 206.00 188.00\" xmlns=\"http://www.w3.org/2000/svg\" xmlns:xlink=\"http://www.w3.org/1999/xlink\">\n",
       "<g id=\"graph0\" class=\"graph\" transform=\"scale(1 1) rotate(0) translate(4 184)\">\n",
       "<title>NSGraph</title>\n",
       "<polygon fill=\"#ffffff\" stroke=\"transparent\" points=\"-4,4 -4,-184 202,-184 202,4 -4,4\"/>\n",
       "<!-- 1 -->\n",
       "<g id=\"node1\" class=\"node\">\n",
       "<title>1</title>\n",
       "<ellipse fill=\"none\" stroke=\"#000000\" cx=\"99\" cy=\"-18\" rx=\"27\" ry=\"18\"/>\n",
       "<text text-anchor=\"middle\" x=\"99\" y=\"-14.3\" font-family=\"Times,serif\" font-size=\"14.00\" fill=\"#000000\">0</text>\n",
       "</g>\n",
       "<!-- 2 -->\n",
       "<g id=\"node2\" class=\"node\">\n",
       "<title>2</title>\n",
       "<ellipse fill=\"none\" stroke=\"#000000\" cx=\"27\" cy=\"-90\" rx=\"27\" ry=\"18\"/>\n",
       "<text text-anchor=\"middle\" x=\"27\" y=\"-86.3\" font-family=\"Times,serif\" font-size=\"14.00\" fill=\"#000000\">11</text>\n",
       "</g>\n",
       "<!-- 2&#45;&gt;1 -->\n",
       "<g id=\"edge1\" class=\"edge\">\n",
       "<title>2&#45;&gt;1</title>\n",
       "<path fill=\"none\" stroke=\"#000000\" d=\"M49.5883,-67.4117C60.7123,-56.2877 73.8297,-43.1703 83.7527,-33.2473\"/>\n",
       "<polygon fill=\"#000000\" stroke=\"#000000\" points=\"46.8656,-65.1847 42.2693,-74.7307 51.8153,-70.1344 46.8656,-65.1847\"/>\n",
       "</g>\n",
       "<!-- 3 -->\n",
       "<g id=\"node3\" class=\"node\">\n",
       "<title>3</title>\n",
       "<ellipse fill=\"none\" stroke=\"#000000\" cx=\"99\" cy=\"-90\" rx=\"27\" ry=\"18\"/>\n",
       "<text text-anchor=\"middle\" x=\"99\" y=\"-86.3\" font-family=\"Times,serif\" font-size=\"14.00\" fill=\"#000000\">13</text>\n",
       "</g>\n",
       "<!-- 3&#45;&gt;1 -->\n",
       "<g id=\"edge2\" class=\"edge\">\n",
       "<title>3&#45;&gt;1</title>\n",
       "<path fill=\"none\" stroke=\"#000000\" d=\"M99,-61.5726C99,-53.1084 99,-44.0593 99,-36.4133\"/>\n",
       "<polygon fill=\"#000000\" stroke=\"#000000\" points=\"95.5001,-61.8313 99,-71.8314 102.5001,-61.8314 95.5001,-61.8313\"/>\n",
       "</g>\n",
       "<!-- 4 -->\n",
       "<g id=\"node4\" class=\"node\">\n",
       "<title>4</title>\n",
       "<ellipse fill=\"none\" stroke=\"#000000\" cx=\"171\" cy=\"-90\" rx=\"27\" ry=\"18\"/>\n",
       "<text text-anchor=\"middle\" x=\"171\" y=\"-86.3\" font-family=\"Times,serif\" font-size=\"14.00\" fill=\"#000000\">21</text>\n",
       "</g>\n",
       "<!-- 4&#45;&gt;1 -->\n",
       "<g id=\"edge3\" class=\"edge\">\n",
       "<title>4&#45;&gt;1</title>\n",
       "<path fill=\"none\" stroke=\"#000000\" d=\"M148.4117,-67.4117C137.2877,-56.2877 124.1703,-43.1703 114.2473,-33.2473\"/>\n",
       "<polygon fill=\"#000000\" stroke=\"#000000\" points=\"146.1847,-70.1344 155.7307,-74.7307 151.1344,-65.1847 146.1847,-70.1344\"/>\n",
       "</g>\n",
       "<!-- 5 -->\n",
       "<g id=\"node5\" class=\"node\">\n",
       "<title>5</title>\n",
       "<ellipse fill=\"none\" stroke=\"#000000\" cx=\"27\" cy=\"-162\" rx=\"27\" ry=\"18\"/>\n",
       "<text text-anchor=\"middle\" x=\"27\" y=\"-158.3\" font-family=\"Times,serif\" font-size=\"14.00\" fill=\"#000000\">22</text>\n",
       "</g>\n",
       "<!-- 5&#45;&gt;2 -->\n",
       "<g id=\"edge4\" class=\"edge\">\n",
       "<title>5&#45;&gt;2</title>\n",
       "<path fill=\"none\" stroke=\"#000000\" d=\"M27,-133.5726C27,-125.1084 27,-116.0593 27,-108.4133\"/>\n",
       "<polygon fill=\"#000000\" stroke=\"#000000\" points=\"23.5001,-133.8313 27,-143.8314 30.5001,-133.8314 23.5001,-133.8313\"/>\n",
       "</g>\n",
       "<!-- 6 -->\n",
       "<g id=\"node6\" class=\"node\">\n",
       "<title>6</title>\n",
       "<ellipse fill=\"none\" stroke=\"#000000\" cx=\"99\" cy=\"-162\" rx=\"27\" ry=\"18\"/>\n",
       "<text text-anchor=\"middle\" x=\"99\" y=\"-158.3\" font-family=\"Times,serif\" font-size=\"14.00\" fill=\"#000000\">26</text>\n",
       "</g>\n",
       "<!-- 6&#45;&gt;3 -->\n",
       "<g id=\"edge5\" class=\"edge\">\n",
       "<title>6&#45;&gt;3</title>\n",
       "<path fill=\"none\" stroke=\"#000000\" d=\"M99,-133.5726C99,-125.1084 99,-116.0593 99,-108.4133\"/>\n",
       "<polygon fill=\"#000000\" stroke=\"#000000\" points=\"95.5001,-133.8313 99,-143.8314 102.5001,-133.8314 95.5001,-133.8313\"/>\n",
       "</g>\n",
       "</g>\n",
       "</svg>\n"
      ]
     },
     "execution_count": 33,
     "metadata": {
      "image/svg+xml": {
       "height": 500,
       "width": 500
      }
     },
     "output_type": "execute_result"
    }
   ],
   "source": [
    "JupyterSplashDot(DotBinaryRelation(rap));"
   ]
  },
  {
   "cell_type": "code",
   "execution_count": 34,
   "id": "6a10fdb7",
   "metadata": {},
   "outputs": [
    {
     "data": {
      "text/plain": [
       "[ 21, 22, 26 ]"
      ]
     },
     "execution_count": 34,
     "metadata": {
      "text/plain": ""
     },
     "output_type": "execute_result"
    }
   ],
   "source": [
    "6+PseudoFrobenius(s);"
   ]
  },
  {
   "cell_type": "markdown",
   "id": "76c94cd9",
   "metadata": {},
   "source": [
    "The minimal elements in $S\\setminus\\{0\\}$ with respect to $\\le_S$ are precisely the minimal generators of $S$."
   ]
  },
  {
   "cell_type": "markdown",
   "id": "29e72446",
   "metadata": {},
   "source": [
    "For every element $n\\in S\\cap[0,\\operatorname{F}(S))\\cup (\\operatorname{PF}(S)\\setminus\\{\\operatorname{F}(S)\\})$, we have that $\\operatorname{F}(S)-n$ is a gap of $S$. Thus $\\operatorname{n}(S)+\\operatorname{t}(S)-1\\le \\operatorname{g}(S)$. By combining this with $\\operatorname{n}(S)+\\operatorname{g}(S)=\\operatorname{F}(S)+1$, we obtain\n",
    "$$\n",
    "\\operatorname{g}(S)\\ge \\frac{\\operatorname{F}(S)+\\operatorname{t}(S)}2.\n",
    "$$"
   ]
  },
  {
   "cell_type": "code",
   "execution_count": 35,
   "id": "5246d621",
   "metadata": {},
   "outputs": [
    {
     "data": {
      "text/plain": [
       "13"
      ]
     },
     "execution_count": 35,
     "metadata": {
      "text/plain": ""
     },
     "output_type": "execute_result"
    }
   ],
   "source": [
    "Genus(s);"
   ]
  },
  {
   "cell_type": "code",
   "execution_count": 36,
   "id": "85a248d1",
   "metadata": {},
   "outputs": [
    {
     "data": {
      "text/plain": [
       "23/2"
      ]
     },
     "execution_count": 36,
     "metadata": {
      "text/plain": ""
     },
     "output_type": "execute_result"
    }
   ],
   "source": [
    "(FrobeniusNumber(s)+Type(s))/2;"
   ]
  },
  {
   "cell_type": "markdown",
   "id": "33645eea",
   "metadata": {},
   "source": [
    "## Duality minimal generators  and special gaps"
   ]
  },
  {
   "cell_type": "markdown",
   "id": "1471e830",
   "metadata": {},
   "source": [
    "Notice that for a given numerical semigroup $S$, an element $n\\in S$ is a minimal generator if and only if $S\\setminus\\{n\\}$ is also a numerical semigroup (which has one more gap than $S$). Starting with $\\mathbb{N}$, by removing minimal generators we can construct all numerical semigroups with a given genus."
   ]
  },
  {
   "cell_type": "code",
   "execution_count": 41,
   "id": "b10640a2",
   "metadata": {},
   "outputs": [
    {
     "data": {
      "text/plain": [
       "<object>"
      ]
     },
     "execution_count": 41,
     "metadata": {
      "text/plain": ""
     },
     "output_type": "execute_result"
    }
   ],
   "source": [
    "c:=Union(List([0..4],i->NumericalSemigroupsWithGenus(i)));;\n",
    "cc:=Filtered(Cartesian(c,c),p->IsSubset(p[2],p[1]) and IsSubset(MinimalGenerators(p[2]),Difference(p[2],p[1])) \n",
    "                                and Length(Difference(p[2],p[1]))=1);;\n",
    "d:=Domain(List(c,MinimalGenerators));;\n",
    "pairs:=List(cc,p->Tuple([MinimalGenerators(p[1]),MinimalGenerators(p[2])]));;\n",
    "br:=BinaryRelationByElements(d,pairs);"
   ]
  },
  {
   "cell_type": "code",
   "execution_count": 42,
   "id": "af711a3d",
   "metadata": {
    "scrolled": false
   },
   "outputs": [
    {
     "data": {
      "image/svg+xml": [
       "<?xml version=\"1.0\" encoding=\"UTF-8\" standalone=\"no\"?>\n",
       "<!DOCTYPE svg PUBLIC \"-//W3C//DTD SVG 1.1//EN\"\n",
       " \"http://www.w3.org/Graphics/SVG/1.1/DTD/svg11.dtd\">\n",
       "<!-- Generated by graphviz version 2.40.1 (20161225.0304)\n",
       " -->\n",
       "<!-- Title: NSGraph Pages: 1 -->\n",
       "<svg width=\"708pt\" height=\"332pt\"\n",
       " viewBox=\"0.00 0.00 708.19 332.00\" xmlns=\"http://www.w3.org/2000/svg\" xmlns:xlink=\"http://www.w3.org/1999/xlink\">\n",
       "<g id=\"graph0\" class=\"graph\" transform=\"scale(1 1) rotate(0) translate(4 328)\">\n",
       "<title>NSGraph</title>\n",
       "<polygon fill=\"#ffffff\" stroke=\"transparent\" points=\"-4,4 -4,-328 704.1938,-328 704.1938,4 -4,4\"/>\n",
       "<!-- 1 -->\n",
       "<g id=\"node1\" class=\"node\">\n",
       "<title>1</title>\n",
       "<ellipse fill=\"none\" stroke=\"#000000\" cx=\"362.0969\" cy=\"-306\" rx=\"27\" ry=\"18\"/>\n",
       "<text text-anchor=\"middle\" x=\"362.0969\" y=\"-302.3\" font-family=\"Times,serif\" font-size=\"14.00\" fill=\"#000000\">[ 1 ]</text>\n",
       "</g>\n",
       "<!-- 2 -->\n",
       "<g id=\"node2\" class=\"node\">\n",
       "<title>2</title>\n",
       "<ellipse fill=\"none\" stroke=\"#000000\" cx=\"362.0969\" cy=\"-234\" rx=\"35.194\" ry=\"18\"/>\n",
       "<text text-anchor=\"middle\" x=\"362.0969\" y=\"-230.3\" font-family=\"Times,serif\" font-size=\"14.00\" fill=\"#000000\">[ 2, 3 ]</text>\n",
       "</g>\n",
       "<!-- 1&#45;&gt;2 -->\n",
       "<g id=\"edge1\" class=\"edge\">\n",
       "<title>1&#45;&gt;2</title>\n",
       "<path fill=\"none\" stroke=\"#000000\" d=\"M362.0969,-277.5726C362.0969,-269.1084 362.0969,-260.0593 362.0969,-252.4133\"/>\n",
       "<polygon fill=\"#000000\" stroke=\"#000000\" points=\"358.597,-277.8313 362.0969,-287.8314 365.597,-277.8314 358.597,-277.8313\"/>\n",
       "</g>\n",
       "<!-- 3 -->\n",
       "<g id=\"node3\" class=\"node\">\n",
       "<title>3</title>\n",
       "<ellipse fill=\"none\" stroke=\"#000000\" cx=\"311.0969\" cy=\"-162\" rx=\"35.194\" ry=\"18\"/>\n",
       "<text text-anchor=\"middle\" x=\"311.0969\" y=\"-158.3\" font-family=\"Times,serif\" font-size=\"14.00\" fill=\"#000000\">[ 2, 5 ]</text>\n",
       "</g>\n",
       "<!-- 2&#45;&gt;3 -->\n",
       "<g id=\"edge2\" class=\"edge\">\n",
       "<title>2&#45;&gt;3</title>\n",
       "<path fill=\"none\" stroke=\"#000000\" d=\"M344.1526,-208.6669C337.1762,-198.8178 329.3703,-187.7977 323.0964,-178.9405\"/>\n",
       "<polygon fill=\"#000000\" stroke=\"#000000\" points=\"341.3743,-210.7998 350.0106,-216.937 347.0865,-206.7537 341.3743,-210.7998\"/>\n",
       "</g>\n",
       "<!-- 6 -->\n",
       "<g id=\"node6\" class=\"node\">\n",
       "<title>6</title>\n",
       "<ellipse fill=\"none\" stroke=\"#000000\" cx=\"413.0969\" cy=\"-162\" rx=\"44.393\" ry=\"18\"/>\n",
       "<text text-anchor=\"middle\" x=\"413.0969\" y=\"-158.3\" font-family=\"Times,serif\" font-size=\"14.00\" fill=\"#000000\">[ 3, 4, 5 ]</text>\n",
       "</g>\n",
       "<!-- 2&#45;&gt;6 -->\n",
       "<g id=\"edge5\" class=\"edge\">\n",
       "<title>2&#45;&gt;6</title>\n",
       "<path fill=\"none\" stroke=\"#000000\" d=\"M380.1607,-208.4981C386.9758,-198.8768 394.5674,-188.1593 400.7431,-179.4407\"/>\n",
       "<polygon fill=\"#000000\" stroke=\"#000000\" points=\"377.1073,-206.7537 374.1832,-216.937 382.8195,-210.7998 377.1073,-206.7537\"/>\n",
       "</g>\n",
       "<!-- 4 -->\n",
       "<g id=\"node4\" class=\"node\">\n",
       "<title>4</title>\n",
       "<ellipse fill=\"none\" stroke=\"#000000\" cx=\"142.0969\" cy=\"-90\" rx=\"35.194\" ry=\"18\"/>\n",
       "<text text-anchor=\"middle\" x=\"142.0969\" y=\"-86.3\" font-family=\"Times,serif\" font-size=\"14.00\" fill=\"#000000\">[ 2, 7 ]</text>\n",
       "</g>\n",
       "<!-- 3&#45;&gt;4 -->\n",
       "<g id=\"edge3\" class=\"edge\">\n",
       "<title>3&#45;&gt;4</title>\n",
       "<path fill=\"none\" stroke=\"#000000\" d=\"M274.5755,-146.4406C242.8877,-132.9405 197.7368,-113.7046 169.1823,-101.5393\"/>\n",
       "<polygon fill=\"#000000\" stroke=\"#000000\" points=\"273.3724,-149.7324 283.9441,-150.432 276.1161,-143.2925 273.3724,-149.7324\"/>\n",
       "</g>\n",
       "<!-- 11 -->\n",
       "<g id=\"node11\" class=\"node\">\n",
       "<title>11</title>\n",
       "<ellipse fill=\"none\" stroke=\"#000000\" cx=\"311.0969\" cy=\"-90\" rx=\"53.8905\" ry=\"18\"/>\n",
       "<text text-anchor=\"middle\" x=\"311.0969\" y=\"-86.3\" font-family=\"Times,serif\" font-size=\"14.00\" fill=\"#000000\">[ 4, 5, 6, 7 ]</text>\n",
       "</g>\n",
       "<!-- 3&#45;&gt;11 -->\n",
       "<g id=\"edge11\" class=\"edge\">\n",
       "<title>3&#45;&gt;11</title>\n",
       "<path fill=\"none\" stroke=\"#000000\" d=\"M311.0969,-133.5726C311.0969,-125.1084 311.0969,-116.0593 311.0969,-108.4133\"/>\n",
       "<polygon fill=\"#000000\" stroke=\"#000000\" points=\"307.597,-133.8313 311.0969,-143.8314 314.597,-133.8314 307.597,-133.8313\"/>\n",
       "</g>\n",
       "<!-- 5 -->\n",
       "<g id=\"node5\" class=\"node\">\n",
       "<title>5</title>\n",
       "<ellipse fill=\"none\" stroke=\"#000000\" cx=\"35.0969\" cy=\"-18\" rx=\"35.194\" ry=\"18\"/>\n",
       "<text text-anchor=\"middle\" x=\"35.0969\" y=\"-14.3\" font-family=\"Times,serif\" font-size=\"14.00\" fill=\"#000000\">[ 2, 9 ]</text>\n",
       "</g>\n",
       "<!-- 4&#45;&gt;5 -->\n",
       "<g id=\"edge4\" class=\"edge\">\n",
       "<title>4&#45;&gt;5</title>\n",
       "<path fill=\"none\" stroke=\"#000000\" d=\"M112.3834,-70.0058C94.6281,-58.0584 72.4839,-43.1576 56.4557,-32.3723\"/>\n",
       "<polygon fill=\"#000000\" stroke=\"#000000\" points=\"110.4504,-72.9238 120.701,-75.6028 114.3584,-67.1162 110.4504,-72.9238\"/>\n",
       "</g>\n",
       "<!-- 14 -->\n",
       "<g id=\"node14\" class=\"node\">\n",
       "<title>14</title>\n",
       "<ellipse fill=\"none\" stroke=\"#000000\" cx=\"142.0969\" cy=\"-18\" rx=\"53.8905\" ry=\"18\"/>\n",
       "<text text-anchor=\"middle\" x=\"142.0969\" y=\"-14.3\" font-family=\"Times,serif\" font-size=\"14.00\" fill=\"#000000\">[ 4, 6, 7, 9 ]</text>\n",
       "</g>\n",
       "<!-- 4&#45;&gt;14 -->\n",
       "<g id=\"edge15\" class=\"edge\">\n",
       "<title>4&#45;&gt;14</title>\n",
       "<path fill=\"none\" stroke=\"#000000\" d=\"M142.0969,-61.5726C142.0969,-53.1084 142.0969,-44.0593 142.0969,-36.4133\"/>\n",
       "<polygon fill=\"#000000\" stroke=\"#000000\" points=\"138.597,-61.8313 142.0969,-71.8314 145.597,-61.8314 138.597,-61.8313\"/>\n",
       "</g>\n",
       "<!-- 7 -->\n",
       "<g id=\"node7\" class=\"node\">\n",
       "<title>7</title>\n",
       "<ellipse fill=\"none\" stroke=\"#000000\" cx=\"418.0969\" cy=\"-90\" rx=\"35.194\" ry=\"18\"/>\n",
       "<text text-anchor=\"middle\" x=\"418.0969\" y=\"-86.3\" font-family=\"Times,serif\" font-size=\"14.00\" fill=\"#000000\">[ 3, 4 ]</text>\n",
       "</g>\n",
       "<!-- 6&#45;&gt;7 -->\n",
       "<g id=\"edge6\" class=\"edge\">\n",
       "<title>6&#45;&gt;7</title>\n",
       "<path fill=\"none\" stroke=\"#000000\" d=\"M415.0514,-133.8545C415.6448,-125.3097 416.2813,-116.1442 416.8182,-108.4133\"/>\n",
       "<polygon fill=\"#000000\" stroke=\"#000000\" points=\"411.5599,-133.6129 414.3586,-143.8314 418.5431,-134.0979 411.5599,-133.6129\"/>\n",
       "</g>\n",
       "<!-- 8 -->\n",
       "<g id=\"node8\" class=\"node\">\n",
       "<title>8</title>\n",
       "<ellipse fill=\"none\" stroke=\"#000000\" cx=\"517.0969\" cy=\"-90\" rx=\"44.393\" ry=\"18\"/>\n",
       "<text text-anchor=\"middle\" x=\"517.0969\" y=\"-86.3\" font-family=\"Times,serif\" font-size=\"14.00\" fill=\"#000000\">[ 3, 5, 7 ]</text>\n",
       "</g>\n",
       "<!-- 6&#45;&gt;8 -->\n",
       "<g id=\"edge7\" class=\"edge\">\n",
       "<title>6&#45;&gt;8</title>\n",
       "<path fill=\"none\" stroke=\"#000000\" d=\"M444.2727,-140.4168C460.457,-129.2122 479.8652,-115.7758 494.5745,-105.5924\"/>\n",
       "<polygon fill=\"#000000\" stroke=\"#000000\" points=\"441.893,-137.8073 435.6633,-146.3771 445.8775,-143.5626 441.893,-137.8073\"/>\n",
       "</g>\n",
       "<!-- 6&#45;&gt;11 -->\n",
       "<g id=\"edge12\" class=\"edge\">\n",
       "<title>6&#45;&gt;11</title>\n",
       "<path fill=\"none\" stroke=\"#000000\" d=\"M382.7017,-140.5446C367.1784,-129.587 348.5935,-116.4682 334.2482,-106.3421\"/>\n",
       "<polygon fill=\"#000000\" stroke=\"#000000\" points=\"380.7763,-143.4696 390.9644,-146.3771 384.8131,-137.7508 380.7763,-143.4696\"/>\n",
       "</g>\n",
       "<!-- 10 -->\n",
       "<g id=\"node10\" class=\"node\">\n",
       "<title>10</title>\n",
       "<ellipse fill=\"none\" stroke=\"#000000\" cx=\"568.0969\" cy=\"-18\" rx=\"44.393\" ry=\"18\"/>\n",
       "<text text-anchor=\"middle\" x=\"568.0969\" y=\"-14.3\" font-family=\"Times,serif\" font-size=\"14.00\" fill=\"#000000\">[ 3, 7, 8 ]</text>\n",
       "</g>\n",
       "<!-- 7&#45;&gt;10 -->\n",
       "<g id=\"edge9\" class=\"edge\">\n",
       "<title>7&#45;&gt;10</title>\n",
       "<path fill=\"none\" stroke=\"#000000\" d=\"M453.0872,-73.2046C479.3041,-60.6205 514.7431,-43.6098 539.3231,-31.8114\"/>\n",
       "<polygon fill=\"#000000\" stroke=\"#000000\" points=\"451.3835,-70.1401 443.8828,-77.6228 454.4126,-76.4507 451.3835,-70.1401\"/>\n",
       "</g>\n",
       "<!-- 7&#45;&gt;14 -->\n",
       "<g id=\"edge16\" class=\"edge\">\n",
       "<title>7&#45;&gt;14</title>\n",
       "<path fill=\"none\" stroke=\"#000000\" d=\"M381.9358,-74.6148C379.3019,-73.677 376.67,-72.7934 374.0969,-72 300.7101,-49.3712 279.6168,-54.5596 205.0969,-36 197.8118,-34.1856 190.0957,-32.1104 182.6549,-30.0293\"/>\n",
       "<polygon fill=\"#000000\" stroke=\"#000000\" points=\"380.7896,-77.9231 391.3813,-78.1843 383.2642,-71.3751 380.7896,-77.9231\"/>\n",
       "</g>\n",
       "<!-- 9 -->\n",
       "<g id=\"node9\" class=\"node\">\n",
       "<title>9</title>\n",
       "<ellipse fill=\"none\" stroke=\"#000000\" cx=\"665.0969\" cy=\"-18\" rx=\"35.194\" ry=\"18\"/>\n",
       "<text text-anchor=\"middle\" x=\"665.0969\" y=\"-14.3\" font-family=\"Times,serif\" font-size=\"14.00\" fill=\"#000000\">[ 3, 5 ]</text>\n",
       "</g>\n",
       "<!-- 8&#45;&gt;9 -->\n",
       "<g id=\"edge8\" class=\"edge\">\n",
       "<title>8&#45;&gt;9</title>\n",
       "<path fill=\"none\" stroke=\"#000000\" d=\"M554.6582,-71.7269C581.2537,-58.7886 616.2171,-41.7793 639.6127,-30.3977\"/>\n",
       "<polygon fill=\"#000000\" stroke=\"#000000\" points=\"553.094,-68.5956 545.6328,-76.1177 556.1563,-74.8903 553.094,-68.5956\"/>\n",
       "</g>\n",
       "<!-- 8&#45;&gt;10 -->\n",
       "<g id=\"edge10\" class=\"edge\">\n",
       "<title>8&#45;&gt;10</title>\n",
       "<path fill=\"none\" stroke=\"#000000\" d=\"M535.3667,-64.2074C542.1082,-54.69 549.5846,-44.1349 555.6881,-35.5182\"/>\n",
       "<polygon fill=\"#000000\" stroke=\"#000000\" points=\"532.3667,-62.3875 529.4426,-72.5708 538.0789,-66.4336 532.3667,-62.3875\"/>\n",
       "</g>\n",
       "<!-- 15 -->\n",
       "<g id=\"node15\" class=\"node\">\n",
       "<title>15</title>\n",
       "<ellipse fill=\"none\" stroke=\"#000000\" cx=\"466.0969\" cy=\"-18\" rx=\"40.0939\" ry=\"18\"/>\n",
       "<text text-anchor=\"middle\" x=\"466.0969\" y=\"-14.3\" font-family=\"Times,serif\" font-size=\"14.00\" fill=\"#000000\">[ 5 .. 9 ]</text>\n",
       "</g>\n",
       "<!-- 8&#45;&gt;15 -->\n",
       "<g id=\"edge18\" class=\"edge\">\n",
       "<title>8&#45;&gt;15</title>\n",
       "<path fill=\"none\" stroke=\"#000000\" d=\"M498.7812,-64.1426C491.9864,-54.55 484.4506,-43.9111 478.3289,-35.2687\"/>\n",
       "<polygon fill=\"#000000\" stroke=\"#000000\" points=\"496.1149,-66.4336 504.7512,-72.5708 501.8271,-62.3875 496.1149,-66.4336\"/>\n",
       "</g>\n",
       "<!-- 12 -->\n",
       "<g id=\"node12\" class=\"node\">\n",
       "<title>12</title>\n",
       "<ellipse fill=\"none\" stroke=\"#000000\" cx=\"258.0969\" cy=\"-18\" rx=\"44.393\" ry=\"18\"/>\n",
       "<text text-anchor=\"middle\" x=\"258.0969\" y=\"-14.3\" font-family=\"Times,serif\" font-size=\"14.00\" fill=\"#000000\">[ 4, 5, 6 ]</text>\n",
       "</g>\n",
       "<!-- 11&#45;&gt;12 -->\n",
       "<g id=\"edge13\" class=\"edge\">\n",
       "<title>11&#45;&gt;12</title>\n",
       "<path fill=\"none\" stroke=\"#000000\" d=\"M292.0617,-64.1408C285.0214,-54.5767 277.2158,-43.9728 270.8644,-35.3446\"/>\n",
       "<polygon fill=\"#000000\" stroke=\"#000000\" points=\"289.2489,-66.2237 297.9958,-72.2022 294.8862,-62.074 289.2489,-66.2237\"/>\n",
       "</g>\n",
       "<!-- 13 -->\n",
       "<g id=\"node13\" class=\"node\">\n",
       "<title>13</title>\n",
       "<ellipse fill=\"none\" stroke=\"#000000\" cx=\"364.0969\" cy=\"-18\" rx=\"44.393\" ry=\"18\"/>\n",
       "<text text-anchor=\"middle\" x=\"364.0969\" y=\"-14.3\" font-family=\"Times,serif\" font-size=\"14.00\" fill=\"#000000\">[ 4, 5, 7 ]</text>\n",
       "</g>\n",
       "<!-- 11&#45;&gt;13 -->\n",
       "<g id=\"edge14\" class=\"edge\">\n",
       "<title>11&#45;&gt;13</title>\n",
       "<path fill=\"none\" stroke=\"#000000\" d=\"M330.1321,-64.1408C337.1724,-54.5767 344.978,-43.9728 351.3293,-35.3446\"/>\n",
       "<polygon fill=\"#000000\" stroke=\"#000000\" points=\"327.3075,-62.074 324.198,-72.2022 332.9449,-66.2237 327.3075,-62.074\"/>\n",
       "</g>\n",
       "<!-- 11&#45;&gt;14 -->\n",
       "<g id=\"edge17\" class=\"edge\">\n",
       "<title>11&#45;&gt;14</title>\n",
       "<path fill=\"none\" stroke=\"#000000\" d=\"M268.2933,-71.7641C239.4728,-59.4856 202.0166,-43.5279 175.4165,-32.1953\"/>\n",
       "<polygon fill=\"#000000\" stroke=\"#000000\" points=\"267.1362,-75.0755 277.7079,-75.7751 269.8799,-68.6356 267.1362,-75.0755\"/>\n",
       "</g>\n",
       "<!-- 11&#45;&gt;15 -->\n",
       "<g id=\"edge19\" class=\"edge\">\n",
       "<title>11&#45;&gt;15</title>\n",
       "<path fill=\"none\" stroke=\"#000000\" d=\"M352.0765,-70.9643C379.1946,-58.3675 414.0467,-42.1781 438.0416,-31.0321\"/>\n",
       "<polygon fill=\"#000000\" stroke=\"#000000\" points=\"350.4323,-67.8688 342.8375,-75.256 353.3813,-74.2174 350.4323,-67.8688\"/>\n",
       "</g>\n",
       "</g>\n",
       "</svg>\n"
      ]
     },
     "execution_count": 42,
     "metadata": {
      "image/svg+xml": {
       "height": 500,
       "width": 500
      }
     },
     "output_type": "execute_result"
    }
   ],
   "source": [
    "JupyterSplashDot(DotBinaryRelation(br));"
   ]
  },
  {
   "cell_type": "markdown",
   "id": "80e49453",
   "metadata": {},
   "source": [
    "For any numerical semigroup $S$ (other than $\\mathbb{N}$), the set $T=S\\cup\\{\\operatorname{F}(S)\\}$ is also a numerical semigroup. The semigroup $S$ is obtained from $T$ by removing a minimal generator larger than its Frobenius number.\n",
    "\n",
    "So if we remove minimal generators larger than the Frobenius number, we still obtain the same numerical semigroups, but the above directed graph becomes a tree."
   ]
  },
  {
   "cell_type": "code",
   "execution_count": 45,
   "id": "29388c55",
   "metadata": {},
   "outputs": [
    {
     "data": {
      "text/plain": [
       "<object>"
      ]
     },
     "execution_count": 45,
     "metadata": {
      "text/plain": ""
     },
     "output_type": "execute_result"
    }
   ],
   "source": [
    "cc:=Filtered(Cartesian(c,c),p->IsSubset(p[2],p[1]) and Difference(p[2],p[1])=[FrobeniusNumber(p[1])]);;\n",
    "pairs:=List(cc,p->Tuple([MinimalGenerators(p[1]),MinimalGenerators(p[2])]));;\n",
    "br:=BinaryRelationByElements(d,pairs);"
   ]
  },
  {
   "cell_type": "code",
   "execution_count": 46,
   "id": "35d13304",
   "metadata": {},
   "outputs": [
    {
     "data": {
      "image/svg+xml": [
       "<?xml version=\"1.0\" encoding=\"UTF-8\" standalone=\"no\"?>\n",
       "<!DOCTYPE svg PUBLIC \"-//W3C//DTD SVG 1.1//EN\"\n",
       " \"http://www.w3.org/Graphics/SVG/1.1/DTD/svg11.dtd\">\n",
       "<!-- Generated by graphviz version 2.40.1 (20161225.0304)\n",
       " -->\n",
       "<!-- Title: NSGraph Pages: 1 -->\n",
       "<svg width=\"708pt\" height=\"332pt\"\n",
       " viewBox=\"0.00 0.00 708.39 332.00\" xmlns=\"http://www.w3.org/2000/svg\" xmlns:xlink=\"http://www.w3.org/1999/xlink\">\n",
       "<g id=\"graph0\" class=\"graph\" transform=\"scale(1 1) rotate(0) translate(4 328)\">\n",
       "<title>NSGraph</title>\n",
       "<polygon fill=\"#ffffff\" stroke=\"transparent\" points=\"-4,4 -4,-328 704.3933,-328 704.3933,4 -4,4\"/>\n",
       "<!-- 1 -->\n",
       "<g id=\"node1\" class=\"node\">\n",
       "<title>1</title>\n",
       "<ellipse fill=\"none\" stroke=\"#000000\" cx=\"127.0969\" cy=\"-306\" rx=\"27\" ry=\"18\"/>\n",
       "<text text-anchor=\"middle\" x=\"127.0969\" y=\"-302.3\" font-family=\"Times,serif\" font-size=\"14.00\" fill=\"#000000\">[ 1 ]</text>\n",
       "</g>\n",
       "<!-- 2 -->\n",
       "<g id=\"node2\" class=\"node\">\n",
       "<title>2</title>\n",
       "<ellipse fill=\"none\" stroke=\"#000000\" cx=\"127.0969\" cy=\"-234\" rx=\"35.194\" ry=\"18\"/>\n",
       "<text text-anchor=\"middle\" x=\"127.0969\" y=\"-230.3\" font-family=\"Times,serif\" font-size=\"14.00\" fill=\"#000000\">[ 2, 3 ]</text>\n",
       "</g>\n",
       "<!-- 1&#45;&gt;2 -->\n",
       "<g id=\"edge1\" class=\"edge\">\n",
       "<title>1&#45;&gt;2</title>\n",
       "<path fill=\"none\" stroke=\"#000000\" d=\"M127.0969,-277.5726C127.0969,-269.1084 127.0969,-260.0593 127.0969,-252.4133\"/>\n",
       "<polygon fill=\"#000000\" stroke=\"#000000\" points=\"123.597,-277.8313 127.0969,-287.8314 130.597,-277.8314 123.597,-277.8313\"/>\n",
       "</g>\n",
       "<!-- 3 -->\n",
       "<g id=\"node3\" class=\"node\">\n",
       "<title>3</title>\n",
       "<ellipse fill=\"none\" stroke=\"#000000\" cx=\"79.0969\" cy=\"-162\" rx=\"35.194\" ry=\"18\"/>\n",
       "<text text-anchor=\"middle\" x=\"79.0969\" y=\"-158.3\" font-family=\"Times,serif\" font-size=\"14.00\" fill=\"#000000\">[ 2, 5 ]</text>\n",
       "</g>\n",
       "<!-- 2&#45;&gt;3 -->\n",
       "<g id=\"edge2\" class=\"edge\">\n",
       "<title>2&#45;&gt;3</title>\n",
       "<path fill=\"none\" stroke=\"#000000\" d=\"M110.0956,-208.4981C103.6815,-198.8768 96.5364,-188.1593 90.724,-179.4407\"/>\n",
       "<polygon fill=\"#000000\" stroke=\"#000000\" points=\"107.2623,-210.558 115.7216,-216.937 113.0867,-206.675 107.2623,-210.558\"/>\n",
       "</g>\n",
       "<!-- 6 -->\n",
       "<g id=\"node6\" class=\"node\">\n",
       "<title>6</title>\n",
       "<ellipse fill=\"none\" stroke=\"#000000\" cx=\"198.0969\" cy=\"-162\" rx=\"44.393\" ry=\"18\"/>\n",
       "<text text-anchor=\"middle\" x=\"198.0969\" y=\"-158.3\" font-family=\"Times,serif\" font-size=\"14.00\" fill=\"#000000\">[ 3, 4, 5 ]</text>\n",
       "</g>\n",
       "<!-- 2&#45;&gt;6 -->\n",
       "<g id=\"edge5\" class=\"edge\">\n",
       "<title>2&#45;&gt;6</title>\n",
       "<path fill=\"none\" stroke=\"#000000\" d=\"M150.3078,-210.4621C160.5121,-200.1141 172.2617,-188.199 181.5569,-178.7729\"/>\n",
       "<polygon fill=\"#000000\" stroke=\"#000000\" points=\"147.7372,-208.0842 143.2079,-217.6621 152.7215,-212.9992 147.7372,-208.0842\"/>\n",
       "</g>\n",
       "<!-- 4 -->\n",
       "<g id=\"node4\" class=\"node\">\n",
       "<title>4</title>\n",
       "<ellipse fill=\"none\" stroke=\"#000000\" cx=\"35.0969\" cy=\"-90\" rx=\"35.194\" ry=\"18\"/>\n",
       "<text text-anchor=\"middle\" x=\"35.0969\" y=\"-86.3\" font-family=\"Times,serif\" font-size=\"14.00\" fill=\"#000000\">[ 2, 7 ]</text>\n",
       "</g>\n",
       "<!-- 3&#45;&gt;4 -->\n",
       "<g id=\"edge3\" class=\"edge\">\n",
       "<title>3&#45;&gt;4</title>\n",
       "<path fill=\"none\" stroke=\"#000000\" d=\"M63.1155,-135.8486C57.3004,-126.3331 50.8776,-115.823 45.65,-107.2687\"/>\n",
       "<polygon fill=\"#000000\" stroke=\"#000000\" points=\"60.2447,-137.8631 68.4457,-144.5708 66.2177,-134.2129 60.2447,-137.8631\"/>\n",
       "</g>\n",
       "<!-- 5 -->\n",
       "<g id=\"node5\" class=\"node\">\n",
       "<title>5</title>\n",
       "<ellipse fill=\"none\" stroke=\"#000000\" cx=\"35.0969\" cy=\"-18\" rx=\"35.194\" ry=\"18\"/>\n",
       "<text text-anchor=\"middle\" x=\"35.0969\" y=\"-14.3\" font-family=\"Times,serif\" font-size=\"14.00\" fill=\"#000000\">[ 2, 9 ]</text>\n",
       "</g>\n",
       "<!-- 4&#45;&gt;5 -->\n",
       "<g id=\"edge4\" class=\"edge\">\n",
       "<title>4&#45;&gt;5</title>\n",
       "<path fill=\"none\" stroke=\"#000000\" d=\"M35.0969,-61.5726C35.0969,-53.1084 35.0969,-44.0593 35.0969,-36.4133\"/>\n",
       "<polygon fill=\"#000000\" stroke=\"#000000\" points=\"31.597,-61.8313 35.0969,-71.8314 38.597,-61.8314 31.597,-61.8313\"/>\n",
       "</g>\n",
       "<!-- 7 -->\n",
       "<g id=\"node7\" class=\"node\">\n",
       "<title>7</title>\n",
       "<ellipse fill=\"none\" stroke=\"#000000\" cx=\"123.0969\" cy=\"-90\" rx=\"35.194\" ry=\"18\"/>\n",
       "<text text-anchor=\"middle\" x=\"123.0969\" y=\"-86.3\" font-family=\"Times,serif\" font-size=\"14.00\" fill=\"#000000\">[ 3, 4 ]</text>\n",
       "</g>\n",
       "<!-- 6&#45;&gt;7 -->\n",
       "<g id=\"edge6\" class=\"edge\">\n",
       "<title>6&#45;&gt;7</title>\n",
       "<path fill=\"none\" stroke=\"#000000\" d=\"M173.4125,-138.303C162.4186,-127.7489 149.7544,-115.5912 139.8817,-106.1134\"/>\n",
       "<polygon fill=\"#000000\" stroke=\"#000000\" points=\"171.0641,-140.9003 180.7019,-145.3008 175.9118,-135.8506 171.0641,-140.9003\"/>\n",
       "</g>\n",
       "<!-- 8 -->\n",
       "<g id=\"node8\" class=\"node\">\n",
       "<title>8</title>\n",
       "<ellipse fill=\"none\" stroke=\"#000000\" cx=\"220.0969\" cy=\"-90\" rx=\"44.393\" ry=\"18\"/>\n",
       "<text text-anchor=\"middle\" x=\"220.0969\" y=\"-86.3\" font-family=\"Times,serif\" font-size=\"14.00\" fill=\"#000000\">[ 3, 5, 7 ]</text>\n",
       "</g>\n",
       "<!-- 6&#45;&gt;8 -->\n",
       "<g id=\"edge7\" class=\"edge\">\n",
       "<title>6&#45;&gt;8</title>\n",
       "<path fill=\"none\" stroke=\"#000000\" d=\"M206.5713,-134.2657C209.2741,-125.42 212.192,-115.8704 214.6233,-107.9134\"/>\n",
       "<polygon fill=\"#000000\" stroke=\"#000000\" points=\"203.2234,-133.2451 203.6484,-143.8314 209.9179,-135.2906 203.2234,-133.2451\"/>\n",
       "</g>\n",
       "<!-- 11 -->\n",
       "<g id=\"node11\" class=\"node\">\n",
       "<title>11</title>\n",
       "<ellipse fill=\"none\" stroke=\"#000000\" cx=\"432.0969\" cy=\"-90\" rx=\"53.8905\" ry=\"18\"/>\n",
       "<text text-anchor=\"middle\" x=\"432.0969\" y=\"-86.3\" font-family=\"Times,serif\" font-size=\"14.00\" fill=\"#000000\">[ 4, 5, 6, 7 ]</text>\n",
       "</g>\n",
       "<!-- 6&#45;&gt;11 -->\n",
       "<g id=\"edge10\" class=\"edge\">\n",
       "<title>6&#45;&gt;11</title>\n",
       "<path fill=\"none\" stroke=\"#000000\" d=\"M243.0595,-148.1653C286.2295,-134.8823 350.8203,-115.0082 392.2062,-102.2741\"/>\n",
       "<polygon fill=\"#000000\" stroke=\"#000000\" points=\"241.9109,-144.8568 233.3824,-151.1429 243.9695,-151.5472 241.9109,-144.8568\"/>\n",
       "</g>\n",
       "<!-- 9 -->\n",
       "<g id=\"node9\" class=\"node\">\n",
       "<title>9</title>\n",
       "<ellipse fill=\"none\" stroke=\"#000000\" cx=\"123.0969\" cy=\"-18\" rx=\"35.194\" ry=\"18\"/>\n",
       "<text text-anchor=\"middle\" x=\"123.0969\" y=\"-14.3\" font-family=\"Times,serif\" font-size=\"14.00\" fill=\"#000000\">[ 3, 5 ]</text>\n",
       "</g>\n",
       "<!-- 8&#45;&gt;9 -->\n",
       "<g id=\"edge8\" class=\"edge\">\n",
       "<title>8&#45;&gt;9</title>\n",
       "<path fill=\"none\" stroke=\"#000000\" d=\"M190.4248,-67.9754C175.1304,-56.6228 156.8789,-43.0753 143.2395,-32.9512\"/>\n",
       "<polygon fill=\"#000000\" stroke=\"#000000\" points=\"188.4536,-70.871 198.5694,-74.0209 192.6258,-65.2502 188.4536,-70.871\"/>\n",
       "</g>\n",
       "<!-- 10 -->\n",
       "<g id=\"node10\" class=\"node\">\n",
       "<title>10</title>\n",
       "<ellipse fill=\"none\" stroke=\"#000000\" cx=\"220.0969\" cy=\"-18\" rx=\"44.393\" ry=\"18\"/>\n",
       "<text text-anchor=\"middle\" x=\"220.0969\" y=\"-14.3\" font-family=\"Times,serif\" font-size=\"14.00\" fill=\"#000000\">[ 3, 7, 8 ]</text>\n",
       "</g>\n",
       "<!-- 8&#45;&gt;10 -->\n",
       "<g id=\"edge9\" class=\"edge\">\n",
       "<title>8&#45;&gt;10</title>\n",
       "<path fill=\"none\" stroke=\"#000000\" d=\"M220.0969,-61.5726C220.0969,-53.1084 220.0969,-44.0593 220.0969,-36.4133\"/>\n",
       "<polygon fill=\"#000000\" stroke=\"#000000\" points=\"216.597,-61.8313 220.0969,-71.8314 223.597,-61.8314 216.597,-61.8313\"/>\n",
       "</g>\n",
       "<!-- 12 -->\n",
       "<g id=\"node12\" class=\"node\">\n",
       "<title>12</title>\n",
       "<ellipse fill=\"none\" stroke=\"#000000\" cx=\"326.0969\" cy=\"-18\" rx=\"44.393\" ry=\"18\"/>\n",
       "<text text-anchor=\"middle\" x=\"326.0969\" y=\"-14.3\" font-family=\"Times,serif\" font-size=\"14.00\" fill=\"#000000\">[ 4, 5, 6 ]</text>\n",
       "</g>\n",
       "<!-- 11&#45;&gt;12 -->\n",
       "<g id=\"edge11\" class=\"edge\">\n",
       "<title>11&#45;&gt;12</title>\n",
       "<path fill=\"none\" stroke=\"#000000\" d=\"M399.5968,-67.9244C383.2586,-56.8268 363.8479,-43.6422 349.0779,-33.6098\"/>\n",
       "<polygon fill=\"#000000\" stroke=\"#000000\" points=\"398.0696,-71.1182 408.3084,-73.8418 402.0028,-65.3277 398.0696,-71.1182\"/>\n",
       "</g>\n",
       "<!-- 13 -->\n",
       "<g id=\"node13\" class=\"node\">\n",
       "<title>13</title>\n",
       "<ellipse fill=\"none\" stroke=\"#000000\" cx=\"432.0969\" cy=\"-18\" rx=\"44.393\" ry=\"18\"/>\n",
       "<text text-anchor=\"middle\" x=\"432.0969\" y=\"-14.3\" font-family=\"Times,serif\" font-size=\"14.00\" fill=\"#000000\">[ 4, 5, 7 ]</text>\n",
       "</g>\n",
       "<!-- 11&#45;&gt;13 -->\n",
       "<g id=\"edge12\" class=\"edge\">\n",
       "<title>11&#45;&gt;13</title>\n",
       "<path fill=\"none\" stroke=\"#000000\" d=\"M432.0969,-61.5726C432.0969,-53.1084 432.0969,-44.0593 432.0969,-36.4133\"/>\n",
       "<polygon fill=\"#000000\" stroke=\"#000000\" points=\"428.597,-61.8313 432.0969,-71.8314 435.597,-61.8314 428.597,-61.8313\"/>\n",
       "</g>\n",
       "<!-- 14 -->\n",
       "<g id=\"node14\" class=\"node\">\n",
       "<title>14</title>\n",
       "<ellipse fill=\"none\" stroke=\"#000000\" cx=\"548.0969\" cy=\"-18\" rx=\"53.8905\" ry=\"18\"/>\n",
       "<text text-anchor=\"middle\" x=\"548.0969\" y=\"-14.3\" font-family=\"Times,serif\" font-size=\"14.00\" fill=\"#000000\">[ 4, 6, 7, 9 ]</text>\n",
       "</g>\n",
       "<!-- 11&#45;&gt;14 -->\n",
       "<g id=\"edge13\" class=\"edge\">\n",
       "<title>11&#45;&gt;14</title>\n",
       "<path fill=\"none\" stroke=\"#000000\" d=\"M466.8141,-68.4514C484.6758,-57.3648 506.0697,-44.0858 522.4247,-33.9345\"/>\n",
       "<polygon fill=\"#000000\" stroke=\"#000000\" points=\"464.4917,-65.7734 457.841,-74.0209 468.1832,-71.7209 464.4917,-65.7734\"/>\n",
       "</g>\n",
       "<!-- 15 -->\n",
       "<g id=\"node15\" class=\"node\">\n",
       "<title>15</title>\n",
       "<ellipse fill=\"none\" stroke=\"#000000\" cx=\"660.0969\" cy=\"-18\" rx=\"40.0939\" ry=\"18\"/>\n",
       "<text text-anchor=\"middle\" x=\"660.0969\" y=\"-14.3\" font-family=\"Times,serif\" font-size=\"14.00\" fill=\"#000000\">[ 5 .. 9 ]</text>\n",
       "</g>\n",
       "<!-- 11&#45;&gt;15 -->\n",
       "<g id=\"edge14\" class=\"edge\">\n",
       "<title>11&#45;&gt;15</title>\n",
       "<path fill=\"none\" stroke=\"#000000\" d=\"M483.3214,-75.4191C519.254,-64.9786 568.3235,-50.2943 611.0969,-36 616.9418,-34.0467 623.1389,-31.8611 629.0887,-29.7044\"/>\n",
       "<polygon fill=\"#000000\" stroke=\"#000000\" points=\"482.1834,-72.1048 473.5511,-78.2475 484.1299,-78.8287 482.1834,-72.1048\"/>\n",
       "</g>\n",
       "</g>\n",
       "</svg>\n"
      ]
     },
     "execution_count": 46,
     "metadata": {
      "image/svg+xml": {
       "height": 500,
       "width": 500
      }
     },
     "output_type": "execute_result"
    }
   ],
   "source": [
    "JupyterSplashDot(DotBinaryRelation(br));"
   ]
  },
  {
   "cell_type": "markdown",
   "id": "8a34bbe5",
   "metadata": {},
   "source": [
    "Now let us think about the dual process: what are the gaps that I may add to a numerical semigroup in order to obtain a nuew numerical semigroup. We already know that we can always add the Frobenius number, but we may have some other options. Let $S$ be a numerical semigroup and let $f$ be a gap of $S$. As we want $S\\cup \\{f\\}$ to be a numerical semigroup, $f+S\\subseteq S\\cup\\{f\\}$, and consequently $f$ must be in $\\operatorname{PF}(S)$. But also $kf \\in S\\cup\\{f\\}$ for every positive integer $k$. This means that $2f, 3f\\in S$. The set of gaps having these properties are known as special gaps.\n",
    "$$\n",
    "\\operatorname{SG}(S)=\\{ g\\in \\operatorname{PF}(S) : 2g\\in S, 3g\\in S\\}.\n",
    "$$"
   ]
  },
  {
   "cell_type": "code",
   "execution_count": 47,
   "id": "91b99e4b",
   "metadata": {},
   "outputs": [],
   "source": [
    "s:=NumericalSemigroup(4,7,9,10);;"
   ]
  },
  {
   "cell_type": "code",
   "execution_count": 48,
   "id": "7e63fd8d",
   "metadata": {},
   "outputs": [
    {
     "data": {
      "text/plain": [
       "[ 5, 6 ]"
      ]
     },
     "execution_count": 48,
     "metadata": {
      "text/plain": ""
     },
     "output_type": "execute_result"
    }
   ],
   "source": [
    "SpecialGaps(s);"
   ]
  },
  {
   "cell_type": "markdown",
   "id": "b366e027",
   "metadata": {},
   "source": [
    "If we keep adding special gaps to our semigroup and the resulting semigroups, we will obtain the set of all oversemigroups of the given numerical semigroup."
   ]
  },
  {
   "cell_type": "code",
   "execution_count": 50,
   "id": "dfd654d1",
   "metadata": {},
   "outputs": [
    {
     "data": {
      "image/svg+xml": [
       "<?xml version=\"1.0\" encoding=\"UTF-8\" standalone=\"no\"?>\n",
       "<!DOCTYPE svg PUBLIC \"-//W3C//DTD SVG 1.1//EN\"\n",
       " \"http://www.w3.org/Graphics/SVG/1.1/DTD/svg11.dtd\">\n",
       "<!-- Generated by graphviz version 2.40.1 (20161225.0304)\n",
       " -->\n",
       "<!-- Title: NSGraph Pages: 1 -->\n",
       "<svg width=\"184pt\" height=\"332pt\"\n",
       " viewBox=\"0.00 0.00 184.29 332.00\" xmlns=\"http://www.w3.org/2000/svg\" xmlns:xlink=\"http://www.w3.org/1999/xlink\">\n",
       "<g id=\"graph0\" class=\"graph\" transform=\"scale(1 1) rotate(0) translate(4 328)\">\n",
       "<title>NSGraph</title>\n",
       "<polygon fill=\"#ffffff\" stroke=\"transparent\" points=\"-4,4 -4,-328 180.293,-328 180.293,4 -4,4\"/>\n",
       "<!-- 1 -->\n",
       "<g id=\"node1\" class=\"node\">\n",
       "<title>1</title>\n",
       "<ellipse fill=\"#d3d3d3\" stroke=\"#000000\" cx=\"83.0969\" cy=\"-306\" rx=\"27\" ry=\"18\"/>\n",
       "<text text-anchor=\"middle\" x=\"83.0969\" y=\"-302.3\" font-family=\"Times,serif\" font-size=\"14.00\" fill=\"#000000\">〈 1 〉</text>\n",
       "</g>\n",
       "<!-- 2 -->\n",
       "<g id=\"node2\" class=\"node\">\n",
       "<title>2</title>\n",
       "<ellipse fill=\"#d3d3d3\" stroke=\"#000000\" cx=\"83.0969\" cy=\"-234\" rx=\"35.194\" ry=\"18\"/>\n",
       "<text text-anchor=\"middle\" x=\"83.0969\" y=\"-230.3\" font-family=\"Times,serif\" font-size=\"14.00\" fill=\"#000000\">〈 2, 3 〉</text>\n",
       "</g>\n",
       "<!-- 1&#45;&gt;2 -->\n",
       "<g id=\"edge1\" class=\"edge\">\n",
       "<title>1&#45;&gt;2</title>\n",
       "<path fill=\"none\" stroke=\"#000000\" d=\"M83.0969,-277.5726C83.0969,-269.1084 83.0969,-260.0593 83.0969,-252.4133\"/>\n",
       "<polygon fill=\"#000000\" stroke=\"#000000\" points=\"79.597,-277.8313 83.0969,-287.8314 86.597,-277.8314 79.597,-277.8313\"/>\n",
       "</g>\n",
       "<!-- 3 -->\n",
       "<g id=\"node3\" class=\"node\">\n",
       "<title>3</title>\n",
       "<ellipse fill=\"#d3d3d3\" stroke=\"#000000\" cx=\"35.0969\" cy=\"-162\" rx=\"35.194\" ry=\"18\"/>\n",
       "<text text-anchor=\"middle\" x=\"35.0969\" y=\"-158.3\" font-family=\"Times,serif\" font-size=\"14.00\" fill=\"#000000\">〈 2, 5 〉</text>\n",
       "</g>\n",
       "<!-- 2&#45;&gt;3 -->\n",
       "<g id=\"edge2\" class=\"edge\">\n",
       "<title>2&#45;&gt;3</title>\n",
       "<path fill=\"none\" stroke=\"#000000\" d=\"M66.0956,-208.4981C59.6815,-198.8768 52.5364,-188.1593 46.724,-179.4407\"/>\n",
       "<polygon fill=\"#000000\" stroke=\"#000000\" points=\"63.2623,-210.558 71.7216,-216.937 69.0867,-206.675 63.2623,-210.558\"/>\n",
       "</g>\n",
       "<!-- 4 -->\n",
       "<g id=\"node4\" class=\"node\">\n",
       "<title>4</title>\n",
       "<ellipse fill=\"#d3d3d3\" stroke=\"#000000\" cx=\"132.0969\" cy=\"-162\" rx=\"44.393\" ry=\"18\"/>\n",
       "<text text-anchor=\"middle\" x=\"132.0969\" y=\"-158.3\" font-family=\"Times,serif\" font-size=\"14.00\" fill=\"#000000\">〈 3, 4, 5 〉</text>\n",
       "</g>\n",
       "<!-- 2&#45;&gt;4 -->\n",
       "<g id=\"edge3\" class=\"edge\">\n",
       "<title>2&#45;&gt;4</title>\n",
       "<path fill=\"none\" stroke=\"#000000\" d=\"M100.4523,-208.4981C107.0001,-198.8768 114.2941,-188.1593 120.2275,-179.4407\"/>\n",
       "<polygon fill=\"#000000\" stroke=\"#000000\" points=\"97.442,-206.7007 94.7092,-216.937 103.229,-210.6391 97.442,-206.7007\"/>\n",
       "</g>\n",
       "<!-- 5 -->\n",
       "<g id=\"node5\" class=\"node\">\n",
       "<title>5</title>\n",
       "<ellipse fill=\"none\" stroke=\"#000000\" cx=\"83.0969\" cy=\"-90\" rx=\"53.8905\" ry=\"18\"/>\n",
       "<text text-anchor=\"middle\" x=\"83.0969\" y=\"-86.3\" font-family=\"Times,serif\" font-size=\"14.00\" fill=\"#000000\">〈 4, 5, 6, 7 〉</text>\n",
       "</g>\n",
       "<!-- 3&#45;&gt;5 -->\n",
       "<g id=\"edge4\" class=\"edge\">\n",
       "<title>3&#45;&gt;5</title>\n",
       "<path fill=\"none\" stroke=\"#000000\" d=\"M52.0548,-136.5631C58.4186,-127.0175 65.5071,-116.3847 71.3019,-107.6924\"/>\n",
       "<polygon fill=\"#000000\" stroke=\"#000000\" points=\"49.1071,-134.675 46.4722,-144.937 54.9314,-138.558 49.1071,-134.675\"/>\n",
       "</g>\n",
       "<!-- 4&#45;&gt;5 -->\n",
       "<g id=\"edge5\" class=\"edge\">\n",
       "<title>4&#45;&gt;5</title>\n",
       "<path fill=\"none\" stroke=\"#000000\" d=\"M114.5876,-136.2721C108.1617,-126.8299 101.0354,-116.3587 95.1896,-107.7689\"/>\n",
       "<polygon fill=\"#000000\" stroke=\"#000000\" points=\"111.7156,-138.2729 120.2354,-144.5708 117.5026,-134.3345 111.7156,-138.2729\"/>\n",
       "</g>\n",
       "<!-- 6 -->\n",
       "<g id=\"node6\" class=\"node\">\n",
       "<title>6</title>\n",
       "<ellipse fill=\"#d3d3d3\" stroke=\"#000000\" cx=\"83.0969\" cy=\"-18\" rx=\"44.393\" ry=\"18\"/>\n",
       "<text text-anchor=\"middle\" x=\"83.0969\" y=\"-14.3\" font-family=\"Times,serif\" font-size=\"14.00\" fill=\"#000000\">〈 4, 5, 7 〉</text>\n",
       "</g>\n",
       "<!-- 5&#45;&gt;6 -->\n",
       "<g id=\"edge6\" class=\"edge\">\n",
       "<title>5&#45;&gt;6</title>\n",
       "<path fill=\"none\" stroke=\"#000000\" d=\"M83.0969,-61.5726C83.0969,-53.1084 83.0969,-44.0593 83.0969,-36.4133\"/>\n",
       "<polygon fill=\"#000000\" stroke=\"#000000\" points=\"79.597,-61.8313 83.0969,-71.8314 86.597,-61.8314 79.597,-61.8313\"/>\n",
       "</g>\n",
       "</g>\n",
       "</svg>\n"
      ]
     },
     "execution_count": 50,
     "metadata": {
      "image/svg+xml": {
       "height": 500,
       "width": 500
      }
     },
     "output_type": "execute_result"
    }
   ],
   "source": [
    "s:=NumericalSemigroup(4,5,7);;\n",
    "JupyterSplashDot(DotOverSemigroups(s));"
   ]
  },
  {
   "cell_type": "markdown",
   "id": "50b7a858",
   "metadata": {},
   "source": [
    "## When some bounds are attained"
   ]
  },
  {
   "cell_type": "markdown",
   "id": "70e8cea6",
   "metadata": {},
   "source": [
    "### Numerical semigroups with maximal embedding dimension"
   ]
  },
  {
   "cell_type": "markdown",
   "id": "87da1e15",
   "metadata": {},
   "source": [
    "We have already seen that the embedding dimension of a numerical semigroup is always less than or equal to the multiplicity. We say that a numerical semigroup $S$ has maximal embedding dimension if $\\operatorname{m}(S)=\\operatorname{e}(S)$."
   ]
  },
  {
   "cell_type": "code",
   "execution_count": 51,
   "id": "d17426c1",
   "metadata": {},
   "outputs": [],
   "source": [
    "s:=NumericalSemigroup(3,5,7);;"
   ]
  },
  {
   "cell_type": "code",
   "execution_count": 52,
   "id": "f75621dd",
   "metadata": {},
   "outputs": [
    {
     "data": {
      "text/plain": [
       "true"
      ]
     },
     "execution_count": 52,
     "metadata": {
      "text/plain": ""
     },
     "output_type": "execute_result"
    }
   ],
   "source": [
    "IsMED(s);"
   ]
  },
  {
   "cell_type": "markdown",
   "id": "5ed3cb5f",
   "metadata": {},
   "source": [
    "A numerical semigroup $S$ is of maximal embedding dimension if and only if $(S\\setminus\\{0\\})-\\operatorname{m}(S)$ is a numerical semigroup, or equivalently, for any $x,y\\in S$ with $x\\ge y \\ge \\operatorname{m}(S)$, we have $x+y-\\operatorname{m}(S)\\in S$.\n",
    "\n",
    "It turns out that the intersecction of two maximal embedding dimension numerical semigroups is again of maximal embedding dimension, and thus we can think about a maximal embedding dimension closure."
   ]
  },
  {
   "cell_type": "code",
   "execution_count": 53,
   "id": "2390e8cd",
   "metadata": {},
   "outputs": [],
   "source": [
    "s:=NumericalSemigroup(3,5);;"
   ]
  },
  {
   "cell_type": "code",
   "execution_count": 54,
   "id": "6489b0a9",
   "metadata": {},
   "outputs": [
    {
     "data": {
      "text/plain": [
       "[ 3, 5, 7 ]"
      ]
     },
     "execution_count": 54,
     "metadata": {
      "text/plain": ""
     },
     "output_type": "execute_result"
    }
   ],
   "source": [
    "MinimalGenerators(MEDClosure(s));"
   ]
  },
  {
   "cell_type": "markdown",
   "id": "c7ca6cf2",
   "metadata": {},
   "source": [
    "It also makes sense to talk abot the minimal generators as a numerical semigroup with maximal embedding dimension. An element $a$ in a numerical semigroup $S$ with maximal embedding dimension, with $a>\\operatorname{m}(S)$, will be in that minimal MED generating system if and only if $S\\setminus\\{a\\}$ is again a numerical semigroup with maximal embedding dimension. "
   ]
  },
  {
   "cell_type": "code",
   "execution_count": 55,
   "id": "ce38ccdb",
   "metadata": {},
   "outputs": [
    {
     "data": {
      "text/plain": [
       "[ 3, 5 ]"
      ]
     },
     "execution_count": 55,
     "metadata": {
      "text/plain": ""
     },
     "output_type": "execute_result"
    }
   ],
   "source": [
    "MinimalMEDGeneratingSystemOfMEDNumericalSemigroup(NumericalSemigroup(3,5,7));"
   ]
  },
  {
   "cell_type": "code",
   "execution_count": 56,
   "id": "22ccf278",
   "metadata": {},
   "outputs": [
    {
     "data": {
      "text/plain": [
       "Numerical semigroup with 3 generators"
      ]
     },
     "execution_count": 56,
     "metadata": {
      "text/plain": ""
     },
     "output_type": "execute_result"
    }
   ],
   "source": [
    "t:=RemoveMinimalGeneratorFromNumericalSemigroup(5,s);"
   ]
  },
  {
   "cell_type": "code",
   "execution_count": 57,
   "id": "cc662abc",
   "metadata": {},
   "outputs": [
    {
     "data": {
      "text/plain": [
       "[ 3, 8, 10 ]"
      ]
     },
     "execution_count": 57,
     "metadata": {
      "text/plain": ""
     },
     "output_type": "execute_result"
    }
   ],
   "source": [
    "MinimalGenerators(t);"
   ]
  },
  {
   "cell_type": "code",
   "execution_count": 58,
   "id": "01f89231",
   "metadata": {},
   "outputs": [
    {
     "data": {
      "text/plain": [
       "true"
      ]
     },
     "execution_count": 58,
     "metadata": {
      "text/plain": ""
     },
     "output_type": "execute_result"
    }
   ],
   "source": [
    "IsMED(t);"
   ]
  },
  {
   "cell_type": "markdown",
   "id": "61e55fbe",
   "metadata": {},
   "source": [
    "If $S=\\langle m=n_1< n_2< \\dots < n_m\\rangle$ is a numerical semigroup with maximal embedding dimension, then $\\operatorname{Ap}(S,m)=\\{0, n_2, \\dots, n_m\\}$, and thus $\\operatorname{t}(S)=m-1$. It is not hard to prove that $S$ has maximal embedding dimension if and only if it has maximal type."
   ]
  },
  {
   "cell_type": "code",
   "execution_count": 59,
   "id": "406d8732",
   "metadata": {},
   "outputs": [
    {
     "data": {
      "text/plain": [
       "2"
      ]
     },
     "execution_count": 59,
     "metadata": {
      "text/plain": ""
     },
     "output_type": "execute_result"
    }
   ],
   "source": [
    "Type(NumericalSemigroup(3,5,7));"
   ]
  },
  {
   "cell_type": "markdown",
   "id": "aba8580c",
   "metadata": {},
   "source": [
    "A particular class of numerical semigroups with maximal embedding dimension is that of Arf numerical semigroups. A numerical semigroup $S$ if Arf if for any $x,y,z\\in S$, with $x\\ge y\\ge z$, one gets $x+y-z\\in S$. Clearly, the intersection of two Arf numerical semigroups is again an Arf numerical semigroup."
   ]
  },
  {
   "cell_type": "code",
   "execution_count": 60,
   "id": "6d9e3711",
   "metadata": {},
   "outputs": [
    {
     "data": {
      "text/plain": [
       "[ 3, 5, 7 ]"
      ]
     },
     "execution_count": 60,
     "metadata": {
      "text/plain": ""
     },
     "output_type": "execute_result"
    }
   ],
   "source": [
    "MinimalGenerators(ArfNumericalSemigroupClosure(NumericalSemigroup(3,5)));"
   ]
  },
  {
   "cell_type": "markdown",
   "id": "2e5f007e",
   "metadata": {},
   "source": [
    "### Irreducible numerical semigroups"
   ]
  },
  {
   "cell_type": "markdown",
   "id": "a93705b3",
   "metadata": {},
   "source": [
    "We say that a numerical semigroup $S$ is irreducible if it cannot be expressed as the intersection of two numerical semigroups properly containing it.\n",
    "\n",
    "It can be (easily) shown that if we fix a positive integer $f$, then $S$ is irreducible if and only if it is maximal (with respect to inclusion) in the set of all numerical semigroups with Frobenius number $f$ (or equivalently, in the set of all numerical semigroups not containing $f$). \n",
    "\n",
    "Recall that $\\operatorname{g}(S)\\ge (\\operatorname{F}(S)+1)/2$. Having less genus means being \"bigger\", and so if $\\operatorname{F}(S)$ is odd, then $S$ is irreducible if and only if $\\operatorname{g}(S)= (\\operatorname{F}(S)+1)/2$.\n",
    "\n",
    "For $\\operatorname{F}(S)$ even, we obtain that $S$ is irreducible if and only if $\\operatorname{g}(S)=(\\operatorname{F}(S)+2)/2$.\n",
    "\n"
   ]
  },
  {
   "cell_type": "markdown",
   "id": "bbbd521d",
   "metadata": {},
   "source": [
    "Every numerical semigroup can be expressed as a finite intersection of irreducible numerical semigroups. Two minimal (non-redundant) expressions of the semigroup as intersection of irreducible numerical semigroup may have different factors."
   ]
  },
  {
   "cell_type": "code",
   "execution_count": 61,
   "id": "6e562c93",
   "metadata": {},
   "outputs": [
    {
     "data": {
      "text/plain": [
       "Numerical semigroup with 3 generators"
      ]
     },
     "execution_count": 61,
     "metadata": {
      "text/plain": ""
     },
     "output_type": "execute_result"
    }
   ],
   "source": [
    "s:=NumericalSemigroup(3,7,8);"
   ]
  },
  {
   "cell_type": "code",
   "execution_count": 62,
   "id": "1c467933",
   "metadata": {},
   "outputs": [
    {
     "data": {
      "text/plain": [
       "[ 0, 3, 6 ]"
      ]
     },
     "execution_count": 62,
     "metadata": {
      "text/plain": ""
     },
     "output_type": "execute_result"
    }
   ],
   "source": [
    "SmallElements(s);"
   ]
  },
  {
   "cell_type": "code",
   "execution_count": 63,
   "id": "a8b06ba2",
   "metadata": {},
   "outputs": [
    {
     "data": {
      "text/plain": [
       "false"
      ]
     },
     "execution_count": 63,
     "metadata": {
      "text/plain": ""
     },
     "output_type": "execute_result"
    }
   ],
   "source": [
    "IsIrreducible(s);"
   ]
  },
  {
   "cell_type": "code",
   "execution_count": 64,
   "id": "e13c1a8e",
   "metadata": {},
   "outputs": [
    {
     "data": {
      "text/plain": [
       "[ Numerical semigroup with 2 generators, Numerical semigroup with 3 generators ]"
      ]
     },
     "execution_count": 64,
     "metadata": {
      "text/plain": ""
     },
     "output_type": "execute_result"
    }
   ],
   "source": [
    "l:=DecomposeIntoIrreducibles(s);"
   ]
  },
  {
   "cell_type": "code",
   "execution_count": 65,
   "id": "181ffddb",
   "metadata": {},
   "outputs": [
    {
     "data": {
      "text/plain": [
       "[ [ 0, 3, 4, 6 ], [ 0, 3, 5 ] ]"
      ]
     },
     "execution_count": 65,
     "metadata": {
      "text/plain": ""
     },
     "output_type": "execute_result"
    }
   ],
   "source": [
    "List(l,SmallElements);"
   ]
  },
  {
   "cell_type": "markdown",
   "id": "d68a3225",
   "metadata": {},
   "source": [
    "Notice also that for every integer $x$, both $x$ and $\\operatorname{F}(S)-x$ cannot be in $S$ (since otherwise their sum, which is $\\operatorname{F}(S)$, would be in $S$). If we want $S$ to have the least possible number of gaps once the Frobenius number is fixed, then we do not want $x$ and $\\operatorname{F}(S)-x$ to be gaps at the same time (unless they are the same and then $x=\\operatorname{F}(S)/2$). \n",
    "\n",
    "Assume that $\\operatorname{F}(S)$ is odd. Then we say that $S$ is symmetric if for any integer $x\\not\\in S$, we have that $\\operatorname{F}(S)-x\\in S$. A numerical semigroup with odd Frobenius number is irreducible if and only if it is symmetric.\n",
    "\n",
    "For the case $\\operatorname{F}(S)$ even, we have to take into account $\\operatorname{F}(S)/2$. A numerical semigroup $S$ is pseudo-symmetric if $\\operatorname{F}(S)$ is even and for any integer $x$ not in $S$ and different from $\\operatorname{F}(S)/2$, we have that $\\operatorname{F}(S)-x\\in S$. A numerical semigroup with even Frobenius number is irreducible if and only if it is pseudo-symmetric."
   ]
  },
  {
   "cell_type": "code",
   "execution_count": 66,
   "id": "066f0784",
   "metadata": {},
   "outputs": [
    {
     "data": {
      "text/plain": [
       "[ 4, 5 ]"
      ]
     },
     "execution_count": 66,
     "metadata": {
      "text/plain": ""
     },
     "output_type": "execute_result"
    }
   ],
   "source": [
    "PseudoFrobenius(s);"
   ]
  },
  {
   "cell_type": "code",
   "execution_count": 67,
   "id": "c2b09650",
   "metadata": {},
   "outputs": [
    {
     "data": {
      "text/plain": [
       "[ Numerical semigroup, Numerical semigroup, Numerical semigroup, Numerical semigroup, Numerical semigroup, Numerical semigroup, Numerical semigroup, Numerical semigroup ]"
      ]
     },
     "execution_count": 67,
     "metadata": {
      "text/plain": ""
     },
     "output_type": "execute_result"
    }
   ],
   "source": [
    "li:=IrreducibleNumericalSemigroupsWithFrobeniusNumber(13);"
   ]
  },
  {
   "cell_type": "code",
   "execution_count": 68,
   "id": "c187b16f",
   "metadata": {},
   "outputs": [
    {
     "data": {
      "text/plain": [
       "[ [ 13 ], [ 13 ], [ 13 ], [ 13 ], [ 13 ], [ 13 ], [ 13 ], [ 13 ] ]"
      ]
     },
     "execution_count": 68,
     "metadata": {
      "text/plain": ""
     },
     "output_type": "execute_result"
    }
   ],
   "source": [
    "List(li,PseudoFrobenius);"
   ]
  },
  {
   "cell_type": "code",
   "execution_count": 69,
   "id": "454cf482",
   "metadata": {},
   "outputs": [
    {
     "data": {
      "text/plain": [
       "[ Numerical semigroup, Numerical semigroup, Numerical semigroup, Numerical semigroup, Numerical semigroup, Numerical semigroup ]"
      ]
     },
     "execution_count": 69,
     "metadata": {
      "text/plain": ""
     },
     "output_type": "execute_result"
    }
   ],
   "source": [
    "li:=IrreducibleNumericalSemigroupsWithFrobeniusNumber(14);"
   ]
  },
  {
   "cell_type": "code",
   "execution_count": 70,
   "id": "4984d8de",
   "metadata": {},
   "outputs": [
    {
     "data": {
      "text/plain": [
       "[ [ 7, 14 ], [ 7, 14 ], [ 7, 14 ], [ 7, 14 ], [ 7, 14 ], [ 7, 14 ] ]"
      ]
     },
     "execution_count": 70,
     "metadata": {
      "text/plain": ""
     },
     "output_type": "execute_result"
    }
   ],
   "source": [
    "List(li,PseudoFrobenius);"
   ]
  },
  {
   "cell_type": "markdown",
   "id": "3328206e",
   "metadata": {},
   "source": [
    "Symmetric numerical semigroups correspond with those numerical semigroups of type one, while $S$ is pseudo-symmetric if and only if $\\operatorname{PF}(S)=\\{\\operatorname{F}(S)/2, \\operatorname{F}(S)\\}$. As we have seen above, there are numerical semigroups with type two that are not pseudo-symmetric."
   ]
  },
  {
   "cell_type": "code",
   "execution_count": 71,
   "id": "cf210186",
   "metadata": {},
   "outputs": [
    {
     "data": {
      "text/plain": [
       "true"
      ]
     },
     "execution_count": 71,
     "metadata": {
      "text/plain": ""
     },
     "output_type": "execute_result"
    }
   ],
   "source": [
    "LoadPackage(\"jupyterviz\");"
   ]
  },
  {
   "cell_type": "code",
   "execution_count": 72,
   "id": "8a3344c8",
   "metadata": {},
   "outputs": [
    {
     "data": {
      "text/plain": [
       "[ [ 1, 1 ], [ 2, 1 ], [ 3, 1 ], [ 4, 1 ], [ 5, 2 ], [ 6, 1 ], [ 7, 3 ], [ 8, 2 ], [ 9, 3 ], [ 10, 3 ], [ 11, 6 ], [ 12, 2 ], [ 13, 8 ], [ 14, 6 ], [ 15, 7 ], [ 16, 7 ], [ 17, 15 ], [ 18, 7 ], [ 19, 20 ], [ 20, 11 ], [ 21, 18 ], [ 22, 20 ], [ 23, 36 ], [ 24, 14 ], [ 25, 44 ] ]"
      ]
     },
     "execution_count": 72,
     "metadata": {
      "text/plain": ""
     },
     "output_type": "execute_result"
    }
   ],
   "source": [
    "li:=List([1..25], i->[i,Length(IrreducibleNumericalSemigroupsWithFrobeniusNumber(i))]);"
   ]
  },
  {
   "cell_type": "code",
   "execution_count": 73,
   "id": "7970e5d9",
   "metadata": {},
   "outputs": [
    {
     "data": {
      "application/javascript": [
       "( function ( element ) {\n",
       "if(!window.hasOwnProperty(\"runGAP\")){window.runGAP=function(code,callback){if(!Jupyter||!Jupyter.notebook||!Jupyter.notebook.kernel)return callback(null,\"JavaScript-based output must be re-evaluated when the notebook\"+\" is reloaded.  (Re-run the cell to clear this problem.)\");var errorMessages=[];var timeout=null;Jupyter.notebook.kernel.execute(code,{iopub:{output:function(message){if(\"data\"in message.content)return callback(message.content.data,null);if(!(\"text\"in message.content))return callback(null,message.content);errorMessages.push(message.content.text);if(timeout!==null)clearTimeout(timeout);timeout=setTimeout(function(){callback(null,errorMessages.join(\"\\n\"))},200)},clear_output:function(message){}},shell:{reply:function(message){}},input:function(message){}},{})}}if(!window.hasOwnProperty(\"librariesLoadedFromGAP\")){window.librariesLoadedFromGAP={}}function myCallback(){if(!window.hasOwnProperty(\"librariesLoadedFromGAP\")){window.librariesLoadedFromGAP={}}function myCallback(){window.createVisualization(element,{\"data\" : {\"data\" : [{\"x\" : [1,2,3,4,5,6,7,8,9,10,11,12,13,14,15,16,17,18,19,20,21,22,23,24,25],\"y\" : [1,1,1,1,2,1,3,2,3,3,6,2,8,6,7,7,15,7,20,11,18,20,36,14,44],\"type\" : \"line\"}],\"layout\" : {\"height\" : 400}},\"tool\" : \"plotly\"}\n",
       ",function(element,visualization){\n",
       "});\n",
       "}if(window.librariesLoadedFromGAP.hasOwnProperty(\"viz-tool-plotly\"\n",
       ")){myCallback()}else{var filenameString=JSON.stringify(\"viz-tool-plotly\"\n",
       ");var GAPcode=\"JUPVIZFileContents( LoadJavaScriptFile( \"+filenameString+\" ) );\";window.runGAP(GAPcode,function(result,error){if(error)throw Error(\"When loading library \"+filenameString+\": \"+error);result=result[\"text/plain\"];window.librariesLoadedFromGAP[\"viz-tool-plotly\"\n",
       "]=result;try{var whatItEvaluatesTo=eval(result)}catch(e){throw Error(\"Error evaluating code for library \"+filenameString+\": \"+e)}return myCallback()})}\n",
       "}if(window.librariesLoadedFromGAP.hasOwnProperty(\"main\"\n",
       ")){myCallback()}else{var filenameString=JSON.stringify(\"main\"\n",
       ");var GAPcode=\"JUPVIZFileContents( LoadJavaScriptFile( \"+filenameString+\" ) );\";window.runGAP(GAPcode,function(result,error){if(error)throw Error(\"When loading library \"+filenameString+\": \"+error);result=result[\"text/plain\"];window.librariesLoadedFromGAP[\"main\"\n",
       "]=result;try{var whatItEvaluatesTo=eval(result)}catch(e){throw Error(\"Error evaluating code for library \"+filenameString+\": \"+e)}return myCallback()})}\n",
       ";\n",
       "} )( element.get( 0 ) )"
      ]
     },
     "execution_count": 73,
     "metadata": {
      "application/javascript": ""
     },
     "output_type": "execute_result"
    }
   ],
   "source": [
    "Plot(li);"
   ]
  },
  {
   "cell_type": "markdown",
   "id": "f8da086b",
   "metadata": {},
   "source": [
    "### Almost symmetric numerical semigroups"
   ]
  },
  {
   "cell_type": "markdown",
   "id": "93d4e4eb",
   "metadata": {},
   "source": [
    "Recall that for a numerical semigroup $S$, $\\operatorname{g}(S)\\ge (\\operatorname{F}(S)+\\operatorname{t}(S))/2$. We say that $S$ is almost symmetric if $\\operatorname{g}(S)= (\\operatorname{F}(S)+\\operatorname{t}(S))/2$. Consequently, these are numerical semigroups maximal with respect to inclusion once the type and the Frobenius number are fixed. \n",
    "\n",
    "Clearly, every irreducible numerical semigroup is almost symmetric."
   ]
  },
  {
   "cell_type": "code",
   "execution_count": 75,
   "id": "1db570e1",
   "metadata": {},
   "outputs": [
    {
     "data": {
      "text/plain": [
       "false"
      ]
     },
     "execution_count": 75,
     "metadata": {
      "text/plain": ""
     },
     "output_type": "execute_result"
    }
   ],
   "source": [
    "s:=NumericalSemigroup(3,7,8);;\n",
    "IsAlmostSymmetric(s);"
   ]
  },
  {
   "cell_type": "code",
   "execution_count": 76,
   "id": "1a3e836e",
   "metadata": {},
   "outputs": [
    {
     "data": {
      "text/plain": [
       "5"
      ]
     },
     "execution_count": 76,
     "metadata": {
      "text/plain": ""
     },
     "output_type": "execute_result"
    }
   ],
   "source": [
    "FrobeniusNumber(s);"
   ]
  },
  {
   "cell_type": "code",
   "execution_count": 77,
   "id": "668d8633",
   "metadata": {},
   "outputs": [
    {
     "data": {
      "text/plain": [
       "[ Numerical semigroup, Numerical semigroup, Numerical semigroup, Numerical semigroup ]"
      ]
     },
     "execution_count": 77,
     "metadata": {
      "text/plain": ""
     },
     "output_type": "execute_result"
    }
   ],
   "source": [
    "la:=AlmostSymmetricNumericalSemigroupsWithFrobeniusNumber(5);"
   ]
  },
  {
   "cell_type": "code",
   "execution_count": 78,
   "id": "474f1235",
   "metadata": {},
   "outputs": [
    {
     "data": {
      "text/plain": [
       "[ [ 0, 6 ], [ 0, 4, 6 ], [ 0, 2, 4, 6 ], [ 0, 3, 4, 6 ] ]"
      ]
     },
     "execution_count": 78,
     "metadata": {
      "text/plain": ""
     },
     "output_type": "execute_result"
    }
   ],
   "source": [
    "List(la,SmallElements);"
   ]
  },
  {
   "cell_type": "code",
   "execution_count": 79,
   "id": "a27694a9",
   "metadata": {},
   "outputs": [
    {
     "data": {
      "text/plain": [
       "[ 0, 3, 6 ]"
      ]
     },
     "execution_count": 79,
     "metadata": {
      "text/plain": ""
     },
     "output_type": "execute_result"
    }
   ],
   "source": [
    "SmallElements(s);"
   ]
  },
  {
   "cell_type": "code",
   "execution_count": 80,
   "id": "d8202c08",
   "metadata": {},
   "outputs": [
    {
     "data": {
      "text/plain": [
       "[ [ 1, 1 ], [ 2, 1 ], [ 3, 2 ], [ 4, 2 ], [ 5, 4 ], [ 6, 3 ], [ 7, 7 ], [ 8, 6 ], [ 9, 11 ], [ 10, 9 ], [ 11, 20 ], [ 12, 15 ], [ 13, 32 ], [ 14, 24 ], [ 15, 47 ], [ 16, 42 ], [ 17, 83 ], [ 18, 58 ], [ 19, 131 ], [ 20, 103 ], [ 21, 188 ], [ 22, 151 ], [ 23, 323 ], [ 24, 241 ], [ 25, 494 ] ]"
      ]
     },
     "execution_count": 80,
     "metadata": {
      "text/plain": ""
     },
     "output_type": "execute_result"
    }
   ],
   "source": [
    "li:=List([1..25], i->[i,Length(AlmostSymmetricNumericalSemigroupsWithFrobeniusNumber(i))]);"
   ]
  },
  {
   "cell_type": "code",
   "execution_count": 81,
   "id": "1c4a8b06",
   "metadata": {},
   "outputs": [
    {
     "data": {
      "application/javascript": [
       "( function ( element ) {\n",
       "if(!window.hasOwnProperty(\"runGAP\")){window.runGAP=function(code,callback){if(!Jupyter||!Jupyter.notebook||!Jupyter.notebook.kernel)return callback(null,\"JavaScript-based output must be re-evaluated when the notebook\"+\" is reloaded.  (Re-run the cell to clear this problem.)\");var errorMessages=[];var timeout=null;Jupyter.notebook.kernel.execute(code,{iopub:{output:function(message){if(\"data\"in message.content)return callback(message.content.data,null);if(!(\"text\"in message.content))return callback(null,message.content);errorMessages.push(message.content.text);if(timeout!==null)clearTimeout(timeout);timeout=setTimeout(function(){callback(null,errorMessages.join(\"\\n\"))},200)},clear_output:function(message){}},shell:{reply:function(message){}},input:function(message){}},{})}}if(!window.hasOwnProperty(\"librariesLoadedFromGAP\")){window.librariesLoadedFromGAP={}}function myCallback(){if(!window.hasOwnProperty(\"librariesLoadedFromGAP\")){window.librariesLoadedFromGAP={}}function myCallback(){window.createVisualization(element,{\"data\" : {\"data\" : [{\"x\" : [1,2,3,4,5,6,7,8,9,10,11,12,13,14,15,16,17,18,19,20,21,22,23,24,25],\"y\" : [1,1,2,2,4,3,7,6,11,9,20,15,32,24,47,42,83,58,131,103,188,151,323,241,494],\"type\" : \"line\"}],\"layout\" : {\"height\" : 400}},\"tool\" : \"plotly\"}\n",
       ",function(element,visualization){\n",
       "});\n",
       "}if(window.librariesLoadedFromGAP.hasOwnProperty(\"viz-tool-plotly\"\n",
       ")){myCallback()}else{var filenameString=JSON.stringify(\"viz-tool-plotly\"\n",
       ");var GAPcode=\"JUPVIZFileContents( LoadJavaScriptFile( \"+filenameString+\" ) );\";window.runGAP(GAPcode,function(result,error){if(error)throw Error(\"When loading library \"+filenameString+\": \"+error);result=result[\"text/plain\"];window.librariesLoadedFromGAP[\"viz-tool-plotly\"\n",
       "]=result;try{var whatItEvaluatesTo=eval(result)}catch(e){throw Error(\"Error evaluating code for library \"+filenameString+\": \"+e)}return myCallback()})}\n",
       "}if(window.librariesLoadedFromGAP.hasOwnProperty(\"main\"\n",
       ")){myCallback()}else{var filenameString=JSON.stringify(\"main\"\n",
       ");var GAPcode=\"JUPVIZFileContents( LoadJavaScriptFile( \"+filenameString+\" ) );\";window.runGAP(GAPcode,function(result,error){if(error)throw Error(\"When loading library \"+filenameString+\": \"+error);result=result[\"text/plain\"];window.librariesLoadedFromGAP[\"main\"\n",
       "]=result;try{var whatItEvaluatesTo=eval(result)}catch(e){throw Error(\"Error evaluating code for library \"+filenameString+\": \"+e)}return myCallback()})}\n",
       ";\n",
       "} )( element.get( 0 ) )"
      ]
     },
     "execution_count": 81,
     "metadata": {
      "application/javascript": ""
     },
     "output_type": "execute_result"
    }
   ],
   "source": [
    "Plot(li);"
   ]
  },
  {
   "cell_type": "markdown",
   "id": "c4af714e",
   "metadata": {},
   "source": [
    "There are many other generalizations of symmetry."
   ]
  },
  {
   "cell_type": "markdown",
   "id": "5a68e6f8",
   "metadata": {},
   "source": [
    "## Minimal presentations"
   ]
  },
  {
   "cell_type": "markdown",
   "id": "0178ecbd",
   "metadata": {},
   "source": [
    "In mathematics many algebraic objects are given by means of (free) generators and some relations among them. For numerical semigroups it is sometimes useful to have representation of this form.\n",
    "\n",
    "Let $S$ be a numerical semigroup minimally generated by $\\{n_1,\\dots,n_e\\}$. Every element $s\\in S$ admits an expression of the form $s=a_1n_1+\\dots+ a_e n_e$, and for every $(a_1,\\dots,a_e)\\in \\mathbb{N}^e$, the integer $a_1n_1+\\dots+a_en_e\\in S$. Thus, the following (monoid) morphism \n",
    "$$\n",
    "\\varphi_S: \\mathbb{N}^e \\to S,\\ \\varphi_S(a_1,\\dots,a_e)=a_1n_1+\\dots+a_en_e\n",
    "$$\n",
    "is surjective. There is an isomorphism theorem for monoids, and consequently we have that $\\mathbb{N}^e/\\ker \\varphi_S$ is isomorphic to $S$ as a monoid, where $\\ker \\phi_S=\\{ (a,b)\\in \\mathbb{N}^e : \\varphi_S(a)=\\varphi_S(b)\\}$. As a congruence, $\\ker \\varphi_S$ admints a system of generators, which is known as a presentation for $S$. \n",
    "\n",
    "A minimal presentation for $S$ is just a minimal generating system of $\\ker \\varphi_S$."
   ]
  },
  {
   "cell_type": "code",
   "execution_count": 82,
   "id": "8f400633",
   "metadata": {},
   "outputs": [
    {
     "data": {
      "text/plain": [
       "Numerical semigroup with 2 generators"
      ]
     },
     "execution_count": 82,
     "metadata": {
      "text/plain": ""
     },
     "output_type": "execute_result"
    }
   ],
   "source": [
    "s:=NumericalSemigroup(2,3);"
   ]
  },
  {
   "cell_type": "code",
   "execution_count": 83,
   "id": "5e4f00ad",
   "metadata": {},
   "outputs": [
    {
     "data": {
      "text/plain": [
       "[ [ [ 0, 2 ], [ 3, 0 ] ] ]"
      ]
     },
     "execution_count": 83,
     "metadata": {
      "text/plain": ""
     },
     "output_type": "execute_result"
    }
   ],
   "source": [
    "MinimalPresentation(s);"
   ]
  },
  {
   "cell_type": "markdown",
   "id": "7a3b82bb",
   "metadata": {},
   "source": [
    "Thus $\\langle 2,3\\rangle$ can be viewed as the monoid generated by $a$ and $b$, which fulfil the relation $3a=2b$. "
   ]
  },
  {
   "cell_type": "markdown",
   "id": "4bc8cd61",
   "metadata": {},
   "source": [
    "Given $s\\in S$, the set $\\varphi_S^{-1}(s)$ corresponds to all the expressions that $s$ migh have in terms of the minimal generators of $S$. We will call this set, the set of factorizations of $s$, and we will denote it by $\\mathsf{Z}(s)$."
   ]
  },
  {
   "cell_type": "code",
   "execution_count": 84,
   "id": "2ba8e280",
   "metadata": {},
   "outputs": [
    {
     "data": {
      "text/plain": [
       "[ [ 3, 0 ], [ 0, 2 ] ]"
      ]
     },
     "execution_count": 84,
     "metadata": {
      "text/plain": ""
     },
     "output_type": "execute_result"
    }
   ],
   "source": [
    "Factorizations(6,s);"
   ]
  },
  {
   "cell_type": "code",
   "execution_count": 85,
   "id": "85646092",
   "metadata": {},
   "outputs": [
    {
     "data": {
      "text/plain": [
       "[ [ 10, 0 ], [ 7, 2 ], [ 4, 4 ], [ 1, 6 ] ]"
      ]
     },
     "execution_count": 85,
     "metadata": {
      "text/plain": ""
     },
     "output_type": "execute_result"
    }
   ],
   "source": [
    "Factorizations(20,s);"
   ]
  },
  {
   "cell_type": "markdown",
   "id": "8da696c0",
   "metadata": {},
   "source": [
    "A set $\\rho$ generates a congruence $\\sigma$ on $\\mathbb{N}^e$ if for any pair $(a,b)\\in \\sigma$ there exists a chain $a_1,\\dots,a_n$ such that\n",
    "\n",
    "- $a_1=a$, $a_n=b$,\n",
    "- for all $i$, there exists $c_i\\in \\mathbb{N}^e$ and $(\\alpha_i,\\beta_i)$ such that $(a_i,a_{i+1})=(\\alpha_i+c_i,\\beta_i+c_i)$ and either $(\\alpha_i,\\beta_i)\\in \\rho$ or $(\\beta_i,\\alpha_i)\\in \\rho$.\n",
    "\n",
    "You can see the sequence $a_1,\\dots,a_n$ as a chain of transformations from $a$ to $b$, and at each step we are applying a relation (or trade) chanbe $\\alpha_i$ by $\\beta_i$ (or viceversa). \n",
    "\n",
    "For instance, in the above example $((10,0),(1,6))\\in \\ker\\varphi_S$. We start with $(10,0)$ and apply the only minimal relation we have on our numerical semigroup: $((10,0),(10-3,2))\\in \\sigma$. If we do this a couple of times more, we obtain the chaing $(10,0)$, $(7,2)$, $(4,4)$, and $(1,6)$. "
   ]
  },
  {
   "cell_type": "code",
   "execution_count": 87,
   "id": "e7991667",
   "metadata": {},
   "outputs": [
    {
     "data": {
      "text/plain": [
       "[ [ [ 0, 0, 2 ], [ 3, 1, 0 ] ], [ [ 0, 1, 1 ], [ 4, 0, 0 ] ], [ [ 0, 2, 0 ], [ 1, 0, 1 ] ] ]"
      ]
     },
     "execution_count": 87,
     "metadata": {
      "text/plain": ""
     },
     "output_type": "execute_result"
    }
   ],
   "source": [
    "s:=NumericalSemigroup(3,5,7);;\n",
    "MinimalPresentation(s);"
   ]
  },
  {
   "cell_type": "code",
   "execution_count": 88,
   "id": "1b55557d",
   "metadata": {},
   "outputs": [
    {
     "data": {
      "text/plain": [
       "[ [ 5, 1, 0 ], [ 0, 4, 0 ], [ 1, 2, 1 ], [ 2, 0, 2 ] ]"
      ]
     },
     "execution_count": 88,
     "metadata": {
      "text/plain": ""
     },
     "output_type": "execute_result"
    }
   ],
   "source": [
    "Factorizations(20,s);"
   ]
  },
  {
   "cell_type": "markdown",
   "id": "ddc91d7c",
   "metadata": {},
   "source": [
    "Assume that we want to check that $((5,1,0),(2,0,2))$ can be obtained from the minimal relations of $S$. Notice that these two factorizations have some common support, in fact $(5,1,0)=(3,1,0)+(2,0,0)$ and $(2,0,2)=(0,0,2)+(2,0,0)$. Thus, if we find a chain going from $(3,1,0)$ to $(0,0,2)$, then by adding $(2,0,0)$ to all the steps, we obtain a chain connecting our original factorizations.  But we already have this chain, since $((0,0,2),(3,1,0))$ is already in our minimal presentation.\n",
    "\n",
    "The idea can be extended to factorizations of larger elements in $S$. Whenever they have a common \"factor\", remove it, and try to connect the new factorizations. This motivates the definition of $\\mathcal{R}$-classes. \n",
    "\n",
    "Let $X$ be a subset of $\\mathbb{N}^e$. We say that $x,y\\in X$ are connected if there exists a sequence $x_1,\\dots,x_n\\in X$ (for some $n\\in\\mathbb{N}$) such that \n",
    "\n",
    "- $x_1=x$, $x_n=y$,\n",
    "- for every $i$, $x_i$ and $x_{i+1}$ have common support.\n",
    "\n",
    "The connected components of $X$ under this relation are called $R$-classes of $X$."
   ]
  },
  {
   "cell_type": "code",
   "execution_count": 89,
   "id": "417a788f",
   "metadata": {},
   "outputs": [
    {
     "data": {
      "text/plain": [
       "1"
      ]
     },
     "execution_count": 89,
     "metadata": {
      "text/plain": ""
     },
     "output_type": "execute_result"
    }
   ],
   "source": [
    "Length(RClassesOfSetOfFactorizations(Factorizations(20,s)));"
   ]
  },
  {
   "cell_type": "markdown",
   "id": "9ee6ea27",
   "metadata": {},
   "source": [
    "The idea is that whenever we are in the same $R$-class, we can connect any two factorizations with a chain where two consequtive elements have common support. For these two elements, we remove the common part, moving now to the factorizations of an element smaller than the original one. If these two new factorizations are in the same $R$-class, we repeat the process. This will end when we arrive at factorizations in different $R$-classes, and then we only have to connect all the chains that we found translated accordingly. \n",
    "\n",
    "Let us illustrate this with an example."
   ]
  },
  {
   "cell_type": "code",
   "execution_count": 90,
   "id": "a4521626",
   "metadata": {},
   "outputs": [
    {
     "data": {
      "text/plain": [
       "[ [ 7, 0, 0 ], [ 2, 3, 0 ], [ 3, 1, 1 ], [ 0, 0, 3 ] ]"
      ]
     },
     "execution_count": 90,
     "metadata": {
      "text/plain": ""
     },
     "output_type": "execute_result"
    }
   ],
   "source": [
    "Factorizations(21,s);"
   ]
  },
  {
   "cell_type": "code",
   "execution_count": 91,
   "id": "7fb31bb2",
   "metadata": {},
   "outputs": [
    {
     "data": {
      "text/plain": [
       "[ [ [ 0, 0, 3 ], [ 2, 3, 0 ], [ 3, 1, 1 ], [ 7, 0, 0 ] ] ]"
      ]
     },
     "execution_count": 91,
     "metadata": {
      "text/plain": ""
     },
     "output_type": "execute_result"
    }
   ],
   "source": [
    "RClassesOfSetOfFactorizations(Factorizations(21,s));"
   ]
  },
  {
   "cell_type": "code",
   "execution_count": 92,
   "id": "689bdc93",
   "metadata": {},
   "outputs": [
    {
     "data": {
      "image/svg+xml": [
       "<?xml version=\"1.0\" encoding=\"UTF-8\" standalone=\"no\"?>\n",
       "<!DOCTYPE svg PUBLIC \"-//W3C//DTD SVG 1.1//EN\"\n",
       " \"http://www.w3.org/Graphics/SVG/1.1/DTD/svg11.dtd\">\n",
       "<!-- Generated by graphviz version 2.40.1 (20161225.0304)\n",
       " -->\n",
       "<!-- Title: NSGraph Pages: 1 -->\n",
       "<svg width=\"150pt\" height=\"305pt\"\n",
       " viewBox=\"0.00 0.00 150.49 305.00\" xmlns=\"http://www.w3.org/2000/svg\" xmlns:xlink=\"http://www.w3.org/1999/xlink\">\n",
       "<g id=\"graph0\" class=\"graph\" transform=\"scale(1 1) rotate(0) translate(4 301)\">\n",
       "<title>NSGraph</title>\n",
       "<polygon fill=\"#ffffff\" stroke=\"transparent\" points=\"-4,4 -4,-301 146.4925,-301 146.4925,4 -4,4\"/>\n",
       "<!-- 1 -->\n",
       "<g id=\"node1\" class=\"node\">\n",
       "<title>1</title>\n",
       "<ellipse fill=\"none\" stroke=\"#000000\" cx=\"100.2463\" cy=\"-279\" rx=\"42.4939\" ry=\"18\"/>\n",
       "<text text-anchor=\"middle\" x=\"100.2463\" y=\"-275.3\" font-family=\"Times,serif\" font-size=\"14.00\" fill=\"#000000\"> (7, 0, 0)</text>\n",
       "</g>\n",
       "<!-- 2 -->\n",
       "<g id=\"node2\" class=\"node\">\n",
       "<title>2</title>\n",
       "<ellipse fill=\"none\" stroke=\"#000000\" cx=\"42.2463\" cy=\"-192\" rx=\"42.4939\" ry=\"18\"/>\n",
       "<text text-anchor=\"middle\" x=\"42.2463\" y=\"-188.3\" font-family=\"Times,serif\" font-size=\"14.00\" fill=\"#000000\"> (2, 3, 0)</text>\n",
       "</g>\n",
       "<!-- 1&#45;&#45;2 -->\n",
       "<g id=\"edge4\" class=\"edge\">\n",
       "<title>1&#45;&#45;2</title>\n",
       "<path fill=\"none\" stroke=\"#000000\" d=\"M88.5091,-261.3943C78.4463,-246.3001 64.0237,-224.6661 53.966,-209.5796\"/>\n",
       "<text text-anchor=\"middle\" x=\"78.7463\" y=\"-231.8\" font-family=\"Times,serif\" font-size=\"14.00\" fill=\"#000000\">5</text>\n",
       "</g>\n",
       "<!-- 3 -->\n",
       "<g id=\"node3\" class=\"node\">\n",
       "<title>3</title>\n",
       "<ellipse fill=\"none\" stroke=\"#000000\" cx=\"81.2463\" cy=\"-105\" rx=\"42.4939\" ry=\"18\"/>\n",
       "<text text-anchor=\"middle\" x=\"81.2463\" y=\"-101.3\" font-family=\"Times,serif\" font-size=\"14.00\" fill=\"#000000\"> (3, 1, 1)</text>\n",
       "</g>\n",
       "<!-- 1&#45;&#45;3 -->\n",
       "<g id=\"edge2\" class=\"edge\">\n",
       "<title>1&#45;&#45;3</title>\n",
       "<path fill=\"none\" stroke=\"#000000\" d=\"M99.6139,-260.7358C98.7516,-239.7462 96.8799,-204.2931 93.2463,-174 91.161,-156.6157 87.6248,-136.9567 84.9297,-123.0825\"/>\n",
       "<text text-anchor=\"middle\" x=\"100.7463\" y=\"-188.3\" font-family=\"Times,serif\" font-size=\"14.00\" fill=\"#000000\">4</text>\n",
       "</g>\n",
       "<!-- 2&#45;&#45;3 -->\n",
       "<g id=\"edge1\" class=\"edge\">\n",
       "<title>2&#45;&#45;3</title>\n",
       "<path fill=\"none\" stroke=\"#000000\" d=\"M50.3271,-173.9735C57.0651,-158.9427 66.6116,-137.6465 73.3092,-122.7057\"/>\n",
       "<text text-anchor=\"middle\" x=\"67.7463\" y=\"-144.8\" font-family=\"Times,serif\" font-size=\"14.00\" fill=\"#000000\">2</text>\n",
       "</g>\n",
       "<!-- 4 -->\n",
       "<g id=\"node4\" class=\"node\">\n",
       "<title>4</title>\n",
       "<ellipse fill=\"none\" stroke=\"#000000\" cx=\"81.2463\" cy=\"-18\" rx=\"42.4939\" ry=\"18\"/>\n",
       "<text text-anchor=\"middle\" x=\"81.2463\" y=\"-14.3\" font-family=\"Times,serif\" font-size=\"14.00\" fill=\"#000000\"> (0, 0, 3)</text>\n",
       "</g>\n",
       "<!-- 3&#45;&#45;4 -->\n",
       "<g id=\"edge3\" class=\"edge\">\n",
       "<title>3&#45;&#45;4</title>\n",
       "<path fill=\"none\" stroke=\"#000000\" d=\"M81.2463,-86.9735C81.2463,-72.0422 81.2463,-50.9283 81.2463,-36.0034\"/>\n",
       "<text text-anchor=\"middle\" x=\"84.7463\" y=\"-57.8\" font-family=\"Times,serif\" font-size=\"14.00\" fill=\"#000000\">4</text>\n",
       "</g>\n",
       "</g>\n",
       "</svg>\n"
      ]
     },
     "execution_count": 92,
     "metadata": {
      "image/svg+xml": {
       "height": 500,
       "width": 500
      }
     },
     "output_type": "execute_result"
    }
   ],
   "source": [
    "JupyterSplashDot(DotEliahouGraph(Factorizations(21,s)));"
   ]
  },
  {
   "cell_type": "markdown",
   "id": "05771201",
   "metadata": {},
   "source": [
    "We know that $((7,0,0),(0,0,3))\\in \\ker\\varphi_S$, and we want to see how can we obtain this pair from the minimal relations of $S$. Both $(7,0,0)$ and $(0,0,3)$ are in the same $R$-class. We can, instance, connect them with the sequence $(7,0,0)$, $(3,1,1)$, $(0,0,3)$. By transitivity, if we find a chain of trades going from  $(7,0,0)$  to $(3,1,1))$ and another from $(3,1,1)$ to $(0,0,3)$, by joining them we will find a chain from $(7,0,0)$ to $(0,0,3)$. \n",
    "\n",
    "By removing the common part of $(7,0,0)$ and $(3,1,1)$, we obtain $(4,0,0)$ and $(0,1,1)$, and the pair $((4,0,0),(0,1,1))$ is in our minimal presentation. We do the same with $(3,1,1)$ and $(0,0,3)$, obtaining $(3,1,0)$ and $(0,0,2)$, and $((0,0,2),(3,1,0))$ is in our minimal presentation. Let $\\sigma=\\ker\\varphi_S$. Then $(7,0,0)=((4,0,0)+(3,0,0))\\sigma ((0,1,1)+(3,0,0))=(3,1,1)\\sigma ((3,1,0)+(0,0,1))\\sigma ((0,0,2)+(0,0,1))=(0,0,3)$.\n",
    "\n",
    "In this construction, elements with more than one $R$-class are crucial. These elements are called Betti elements (or degrees) of $S$."
   ]
  },
  {
   "cell_type": "code",
   "execution_count": 93,
   "id": "819a04b1",
   "metadata": {},
   "outputs": [
    {
     "data": {
      "text/plain": [
       "[ 10, 12, 14 ]"
      ]
     },
     "execution_count": 93,
     "metadata": {
      "text/plain": ""
     },
     "output_type": "execute_result"
    }
   ],
   "source": [
    "bs:=BettiElements(s);"
   ]
  },
  {
   "cell_type": "code",
   "execution_count": 94,
   "id": "a850b3a6",
   "metadata": {},
   "outputs": [
    {
     "data": {
      "text/plain": [
       "[ [ [ [ 0, 2, 0 ] ], [ [ 1, 0, 1 ] ] ], [ [ [ 4, 0, 0 ] ], [ [ 0, 1, 1 ] ] ], [ [ [ 3, 1, 0 ] ], [ [ 0, 0, 2 ] ] ] ]"
      ]
     },
     "execution_count": 94,
     "metadata": {
      "text/plain": ""
     },
     "output_type": "execute_result"
    }
   ],
   "source": [
    "List(bs,b-> RClassesOfSetOfFactorizations(Factorizations(b,s)));"
   ]
  },
  {
   "cell_type": "markdown",
   "id": "0a8eaa0a",
   "metadata": {},
   "source": [
    "It is not hard to prove that if $s\\in S$ is a Betti element, then $s=n_i+w$ with $i>2$ and $w\\in \\operatorname{Ap}(S,n_1)$. Thus the number of Betti elements is finite. As a consequence of this, all minimal presentations have the same cardinality, since we only need relations \"connecting\" different $R$-classes of the factorizations of the Betti elements of $s$. This also provides a way do determine all minimal relations of a numerical semigroup (up to symmetry)."
   ]
  },
  {
   "cell_type": "code",
   "execution_count": 95,
   "id": "a8b2db97",
   "metadata": {},
   "outputs": [
    {
     "data": {
      "text/plain": [
       "[ [ [ 1, 0, 1 ], [ 0, 2, 0 ] ], [ [ 3, 1, 0 ], [ 0, 0, 2 ] ], [ [ 4, 0, 0 ], [ 0, 1, 1 ] ] ]"
      ]
     },
     "execution_count": 95,
     "metadata": {
      "text/plain": ""
     },
     "output_type": "execute_result"
    }
   ],
   "source": [
    "AllMinimalRelationsOfNumericalSemigroup(s);"
   ]
  },
  {
   "cell_type": "markdown",
   "id": "d7f6aecb",
   "metadata": {},
   "source": [
    "Minimal presentations of numerical semigroups with embedding dimension two have cardinality one. Thos for embedding dimension three have cardinality two or three. There are numerical semigroups with embedding dimension four with arbitrarily large minimal presentations."
   ]
  },
  {
   "cell_type": "markdown",
   "id": "7da53814",
   "metadata": {},
   "source": [
    "## Minimal presentations and binomial ideals"
   ]
  },
  {
   "cell_type": "markdown",
   "id": "653bb993",
   "metadata": {},
   "source": [
    "Let $S$ be a numerical semigroup minimally generated by $\\{n_1,\\dots,n_e\\}$. Let $K$ be a field and $K[x_1,\\dots,x_e]$ be the polynomial ring on the variables $x_1,\\dots, x_e$ with coefficients in $K$. \n",
    "\n",
    "Let $t$ be another unknown. We can define the subring $K[S]=K[t^s :s \\in S]=K[t^{n_1},dots,t^{n_e}]\\subseteq K[t]$, which is known as the semigroup ring of $S$. Let $\\psi_S:K[x_1,\\dots,x_e]\\to K[t]$ be the unique ring homomorphism determined by $\\psi_S(x_i)=t^{n_i}$. \n",
    "\n",
    "For $a=(a_1,\\dots,a_e)\\in \\mathbb{N}^e$, write $x^a=x_1^{a_1}\\cdots x_e^{a_e}$. Clearly, $\\psi_S(x^a)=t^{\\phi_S(a)}$, and consequently whenever $(a,b)\\in \\ker \\psi_S$, we have that $x^a-x^b\\in \\ker \\psi_S$. It is not hard to prove that \n",
    "$$\n",
    "\\ker \\psi_S = \\langle X^a - x^b : (a,b)\\in \\ker \\phi_S\\rangle\n",
    "$$\n",
    "and that a set $\\rho$ generates $\\ker \\phi_S$ as a congruence if and only if $\\{ x^a-x^b : (a,b)\\in \\rho\\}$ generates $\\ker\\psi_S$ as an ideal."
   ]
  },
  {
   "cell_type": "code",
   "execution_count": 96,
   "id": "3fb67314",
   "metadata": {},
   "outputs": [],
   "source": [
    "s:=NumericalSemigroup(3,5,7);;"
   ]
  },
  {
   "cell_type": "markdown",
   "id": "31865ed4",
   "metadata": {},
   "source": [
    "In order to compute $\\ker \\psi_S$ we can use elimination in the following way."
   ]
  },
  {
   "cell_type": "code",
   "execution_count": 100,
   "id": "537bee67",
   "metadata": {},
   "outputs": [],
   "source": [
    "x:=Indeterminate(Rationals,\"x\");;\n",
    "y:=Indeterminate(Rationals,\"y\");;\n",
    "z:=Indeterminate(Rationals,\"z\");;\n",
    "t:=Indeterminate(Rationals,\"t\");;"
   ]
  },
  {
   "cell_type": "markdown",
   "id": "c0ea512a",
   "metadata": {},
   "source": [
    "We identify each variable to $t$ to the power of the corresponding minimal generator."
   ]
  },
  {
   "cell_type": "code",
   "execution_count": 101,
   "id": "5021c03d",
   "metadata": {},
   "outputs": [],
   "source": [
    "gens:=[x-t^3,y-t^5,z-t^7];;"
   ]
  },
  {
   "cell_type": "markdown",
   "id": "9dcd9099",
   "metadata": {},
   "source": [
    "Now, we eliminate the variable $t$."
   ]
  },
  {
   "cell_type": "code",
   "execution_count": 102,
   "id": "c8d91faa",
   "metadata": {},
   "outputs": [
    {
     "data": {
      "text/plain": [
       "[ -t^3+x, -t^5+y, -t^7+z, x*t^2-y, x^2*t-z, -x^2+y*t, -x^3+z*t^2, x*y-z*t, -x*z+y^2, -x^4+y*z, -x^3*y+z^2, x^2*y^3-z^3, -x*y^5+z^4, y^7-z^5 ]"
      ]
     },
     "execution_count": 102,
     "metadata": {
      "text/plain": ""
     },
     "output_type": "execute_result"
    }
   ],
   "source": [
    "gr:=GroebnerBasis(gens,EliminationOrdering([t]));"
   ]
  },
  {
   "cell_type": "code",
   "execution_count": 103,
   "id": "f09d6210",
   "metadata": {},
   "outputs": [
    {
     "data": {
      "text/plain": [
       "[ -x*z+y^2, -x^4+y*z, -x^3*y+z^2, x^2*y^3-z^3, -x*y^5+z^4, y^7-z^5 ]"
      ]
     },
     "execution_count": 103,
     "metadata": {
      "text/plain": ""
     },
     "output_type": "execute_result"
    }
   ],
   "source": [
    "gensi:=Filtered(gr, g->DegreeIndeterminate(g,t)=0);"
   ]
  },
  {
   "cell_type": "markdown",
   "id": "54e8ecb2",
   "metadata": {},
   "source": [
    "Next, we extract the exponents of the binomials obtained."
   ]
  },
  {
   "cell_type": "code",
   "execution_count": 105,
   "id": "10b842ef",
   "metadata": {},
   "outputs": [
    {
     "data": {
      "text/plain": [
       "function( pp ) ... end"
      ]
     },
     "execution_count": 105,
     "metadata": {
      "text/plain": ""
     },
     "output_type": "execute_result"
    }
   ],
   "source": [
    "ed:=3;;\n",
    "bintopair:=function(pp)\n",
    "    local m1,m2, d1, d2, p;\n",
    "    p:=pp/LeadingCoefficientOfPolynomial(pp,MonomialLexOrdering());\n",
    "    m1:=LeadingMonomialOfPolynomial(p, MonomialLexOrdering());\n",
    "    m2:=m1-p;\n",
    "    d1:=List([1..ed], i->DegreeIndeterminate(m1,i));;\n",
    "    d2:=List([1..ed], i->DegreeIndeterminate(m2,i));;\n",
    "    return Set([d1,d2]);\n",
    "end;"
   ]
  },
  {
   "cell_type": "code",
   "execution_count": 106,
   "id": "31e02a56",
   "metadata": {},
   "outputs": [
    {
     "data": {
      "text/plain": [
       "[ [ [ 0, 2, 0 ], [ 1, 0, 1 ] ], [ [ 0, 1, 1 ], [ 4, 0, 0 ] ], [ [ 0, 0, 2 ], [ 3, 1, 0 ] ], [ [ 0, 0, 3 ], [ 2, 3, 0 ] ], [ [ 0, 0, 4 ], [ 1, 5, 0 ] ], [ [ 0, 0, 5 ], [ 0, 7, 0 ] ] ]"
      ]
     },
     "execution_count": 106,
     "metadata": {
      "text/plain": ""
     },
     "output_type": "execute_result"
    }
   ],
   "source": [
    "rho:=List(gensi,bintopair);"
   ]
  },
  {
   "cell_type": "markdown",
   "id": "28e56c9a",
   "metadata": {},
   "source": [
    "The resulting set does not have to be minimal in general. We can detect those factorizations that correspond to Betti elements."
   ]
  },
  {
   "cell_type": "code",
   "execution_count": 107,
   "id": "dc4d326d",
   "metadata": {},
   "outputs": [
    {
     "data": {
      "text/plain": [
       "[ 10, 12, 14, 21, 28, 35 ]"
      ]
     },
     "execution_count": 107,
     "metadata": {
      "text/plain": ""
     },
     "output_type": "execute_result"
    }
   ],
   "source": [
    "betticand:=Set(rho, p->p[1]*MinimalGenerators(s));"
   ]
  },
  {
   "cell_type": "code",
   "execution_count": 108,
   "id": "40eca270",
   "metadata": {},
   "outputs": [
    {
     "data": {
      "text/plain": [
       "[ 10, 12, 14 ]"
      ]
     },
     "execution_count": 108,
     "metadata": {
      "text/plain": ""
     },
     "output_type": "execute_result"
    }
   ],
   "source": [
    "betti:=Filtered(betticand, b->Length(RClassesOfSetOfFactorizations(Factorizations(b,s)))>1);"
   ]
  },
  {
   "cell_type": "code",
   "execution_count": 109,
   "id": "b850cae8",
   "metadata": {},
   "outputs": [
    {
     "data": {
      "text/plain": [
       "[ [ [ [ 0, 2, 0 ] ], [ [ 1, 0, 1 ] ] ], [ [ [ 4, 0, 0 ] ], [ [ 0, 1, 1 ] ] ], [ [ [ 3, 1, 0 ] ], [ [ 0, 0, 2 ] ] ] ]"
      ]
     },
     "execution_count": 109,
     "metadata": {
      "text/plain": ""
     },
     "output_type": "execute_result"
    }
   ],
   "source": [
    "List(betti, b->RClassesOfSetOfFactorizations(Factorizations(b,s)));"
   ]
  },
  {
   "cell_type": "markdown",
   "id": "0910d819",
   "metadata": {},
   "source": [
    "## Length based factorization invariants"
   ]
  },
  {
   "cell_type": "markdown",
   "id": "d55eebca",
   "metadata": {},
   "source": [
    "Let $S$ be minimally generated by $\\{n_1,\\dots,n_e\\}$. Recall that the set of factorizations of an element $s\\in S$ is $\\mathsf{Z}(s)=\\varphi_S^{-1}(s)$, that is, \n",
    "$$ \\mathsf{Z}(s)=\\{ (a_1,\\dots,a_e)\\in \\mathbb{N}^e : a_1n_1+\\dots+a_en_e =s\\}.$$\n",
    "\n",
    "### Sets of lengths of factorizations\n",
    "\n",
    "The length of a factorization $z=(z_1,\\dots,z_e)$ is the number of minimal generators involved in it, that is, $|z|=z_1+\\dots+z_e$. We define the set of lenghts of the factorizations of $s$ as \n",
    "$$ \\mathsf{L}(s)= \\{ |z| : z\\in \\mathsf{Z}(s)\\}.$$"
   ]
  },
  {
   "cell_type": "code",
   "execution_count": 110,
   "id": "957a3293",
   "metadata": {},
   "outputs": [],
   "source": [
    "s:=NumericalSemigroup(3,5,7);;"
   ]
  },
  {
   "cell_type": "code",
   "execution_count": 111,
   "id": "e8e1d0f0",
   "metadata": {},
   "outputs": [
    {
     "data": {
      "text/plain": [
       "[ 30, 32, 34, 36, 38, 40, 42, 44, 46, 48, 50, 52, 54, 56, 58, 60, 62, 64, 66 ]"
      ]
     },
     "execution_count": 111,
     "metadata": {
      "text/plain": ""
     },
     "output_type": "execute_result"
    }
   ],
   "source": [
    "LengthsOfFactorizationsElementWRTNumericalSemigroup(200,s);"
   ]
  },
  {
   "cell_type": "markdown",
   "id": "6801f511",
   "metadata": {},
   "source": [
    "### Delta sets\n",
    "\n",
    "One can arrange the lengths of the factorizations of an element $s$ in the following way $\\mathsf{L}(s)=\\{l_1<\\dots<l_t\\}$. The Delta set of $s$ is then defined as $\\Delta(s)=\\{l_2-l_1,l_3-l_2,\\dots, l_t-l_{t-1}\\}$. "
   ]
  },
  {
   "cell_type": "code",
   "execution_count": 112,
   "id": "f4303af9",
   "metadata": {},
   "outputs": [
    {
     "data": {
      "text/plain": [
       "[ 2 ]"
      ]
     },
     "execution_count": 112,
     "metadata": {
      "text/plain": ""
     },
     "output_type": "execute_result"
    }
   ],
   "source": [
    "DeltaSet(200,s);"
   ]
  },
  {
   "cell_type": "markdown",
   "id": "ca8d77f6",
   "metadata": {},
   "source": [
    "The Delta set of $S$ is the union of all the delta sets of its elements."
   ]
  },
  {
   "cell_type": "code",
   "execution_count": 113,
   "id": "c8d02d6a",
   "metadata": {},
   "outputs": [
    {
     "data": {
      "text/plain": [
       "[ 2 ]"
      ]
     },
     "execution_count": 113,
     "metadata": {
      "text/plain": ""
     },
     "output_type": "execute_result"
    }
   ],
   "source": [
    "DeltaSet(s);"
   ]
  },
  {
   "cell_type": "markdown",
   "id": "4f04e9ad",
   "metadata": {},
   "source": [
    "Recall that a minimal presentation of $s$ was "
   ]
  },
  {
   "cell_type": "code",
   "execution_count": 114,
   "id": "71038a69",
   "metadata": {},
   "outputs": [
    {
     "data": {
      "text/plain": [
       "[ [ [ 0, 0, 2 ], [ 3, 1, 0 ] ], [ [ 0, 1, 1 ], [ 4, 0, 0 ] ], [ [ 0, 2, 0 ], [ 1, 0, 1 ] ] ]"
      ]
     },
     "execution_count": 114,
     "metadata": {
      "text/plain": ""
     },
     "output_type": "execute_result"
    }
   ],
   "source": [
    "rho:=MinimalPresentation(s);"
   ]
  },
  {
   "cell_type": "markdown",
   "id": "0d0e3a41",
   "metadata": {},
   "source": [
    "And that one can \"walk\" from a factorization to any other factorization of the same element by using this minimal relations."
   ]
  },
  {
   "cell_type": "code",
   "execution_count": 115,
   "id": "514e625f",
   "metadata": {},
   "outputs": [
    {
     "data": {
      "text/plain": [
       "[ 0, 2 ]"
      ]
     },
     "execution_count": 115,
     "metadata": {
      "text/plain": ""
     },
     "output_type": "execute_result"
    }
   ],
   "source": [
    "Set(rho, p->AbsInt(Sum(p[1]-p[2])));"
   ]
  },
  {
   "cell_type": "markdown",
   "id": "0ac2cd3d",
   "metadata": {},
   "source": [
    "So it comes as no surprise that $\\Delta(S)=\\{2\\}$. \n",
    "In fact, it is not difficult to prove $\\min(\\Delta(S))=\\gcd\\{ |a-b| : (a,b)\\in \\sigma\\}$, with $\\sigma$ any minimal presentation of $S$, and that $\\max(\\Delta(S))=\\max\\{\\Delta(b) : b\\in \\operatorname{Betti}(S)\\}$.\n",
    "\n",
    "The idea behing the minimum is that any possible \"jump\" will be a linear combination of the \"jumps\" in the minimal relations. As for the maximum, \"jumps\" are preserved under translations, and thus the largest \"jump\" will be achieved between two factorizations with no commom support and in a Betti element.  "
   ]
  },
  {
   "cell_type": "markdown",
   "id": "55265115",
   "metadata": {},
   "source": [
    "The structure of $\\Delta(S)$ is very well known when $S$ has embedding dimension two or three, and even when it is generated by an arithmetice sequence."
   ]
  },
  {
   "cell_type": "markdown",
   "id": "ece3fe34",
   "metadata": {},
   "source": [
    "### The elasticity\n",
    "\n",
    "The elasticity of the factorizations of an element $s$ in a numerical semigroup $S$ is ratio between the largest length and smallest lenght of its factorizations, that is, \n",
    "$$\n",
    "\\rho(s)=\\frac{\\max(\\mathsf{L}(s))}{\\min(\\mathsf{L}(s))}.\n",
    "$$\n",
    "The elasticity of the semigroup $S$ is defined as \n",
    "$$\n",
    "\\rho(S)=\\sup\\{ \\rho(s) : s\\in S\\}.\n",
    "$$\n",
    "\n",
    "For numerical semigroups, this supremum becomes a maximum, and the elasticity is attained at the element $n_1 n_e$ (the product of the smallest generator times the largest generator).\n"
   ]
  },
  {
   "cell_type": "code",
   "execution_count": 116,
   "id": "4ba7237d",
   "metadata": {},
   "outputs": [
    {
     "data": {
      "text/plain": [
       "2"
      ]
     },
     "execution_count": 116,
     "metadata": {
      "text/plain": ""
     },
     "output_type": "execute_result"
    }
   ],
   "source": [
    "Elasticity(100,s);"
   ]
  },
  {
   "cell_type": "code",
   "execution_count": 117,
   "id": "8c6d7335",
   "metadata": {},
   "outputs": [
    {
     "data": {
      "text/plain": [
       "7/3"
      ]
     },
     "execution_count": 117,
     "metadata": {
      "text/plain": ""
     },
     "output_type": "execute_result"
    }
   ],
   "source": [
    "Elasticity(s);"
   ]
  },
  {
   "cell_type": "code",
   "execution_count": 118,
   "id": "e5e7421d",
   "metadata": {
    "scrolled": true
   },
   "outputs": [
    {
     "data": {
      "text/plain": [
       "7/3"
      ]
     },
     "execution_count": 118,
     "metadata": {
      "text/plain": ""
     },
     "output_type": "execute_result"
    }
   ],
   "source": [
    "Elasticity(3*7,s);"
   ]
  },
  {
   "cell_type": "markdown",
   "id": "4089f3b7",
   "metadata": {},
   "source": [
    "## Distance based factorization invariants"
   ]
  },
  {
   "cell_type": "markdown",
   "id": "33f22233",
   "metadata": {},
   "source": [
    "Given $x=(x_1,\\dots,x_e)$ and $y=(y_1,\\dots,y_e)$ in $\\mathbb{N}^e$, their \"common part\" is\n",
    "$$\n",
    "x\\wedge y = (\\min\\{x_1,y_1\\},\\dots,\\min\\{x_e,y_e\\}),\n",
    "$$\n",
    "and the distance between $x$ and $y$ as \n",
    "$$\n",
    "\\operatorname{d}(x,y)=\\max\\{|x-(x\\wedge y)|, |y-(x\\wedge y)|\\}.\n",
    "$$"
   ]
  },
  {
   "cell_type": "code",
   "execution_count": 2,
   "id": "fc8f9981",
   "metadata": {},
   "outputs": [],
   "source": [
    "s:=NumericalSemigroup(10,13,19,21);;"
   ]
  },
  {
   "cell_type": "markdown",
   "id": "287e3b04",
   "metadata": {},
   "source": [
    "We have already used `DotEliahouGraph`, the labels of the edges are the distances between de factorizations they connect."
   ]
  },
  {
   "cell_type": "code",
   "execution_count": 4,
   "id": "390ce3a9",
   "metadata": {},
   "outputs": [
    {
     "data": {
      "image/svg+xml": [
       "<?xml version=\"1.0\" encoding=\"UTF-8\" standalone=\"no\"?>\n",
       "<!DOCTYPE svg PUBLIC \"-//W3C//DTD SVG 1.1//EN\"\n",
       " \"http://www.w3.org/Graphics/SVG/1.1/DTD/svg11.dtd\">\n",
       "<!-- Generated by graphviz version 2.40.1 (20161225.0304)\n",
       " -->\n",
       "<!-- Title: NSGraph Pages: 1 -->\n",
       "<svg width=\"416pt\" height=\"566pt\"\n",
       " viewBox=\"0.00 0.00 416.00 566.00\" xmlns=\"http://www.w3.org/2000/svg\" xmlns:xlink=\"http://www.w3.org/1999/xlink\">\n",
       "<g id=\"graph0\" class=\"graph\" transform=\"scale(1 1) rotate(0) translate(4 562)\">\n",
       "<title>NSGraph</title>\n",
       "<polygon fill=\"#ffffff\" stroke=\"transparent\" points=\"-4,4 -4,-562 412,-562 412,4 -4,4\"/>\n",
       "<!-- 1 -->\n",
       "<g id=\"node1\" class=\"node\">\n",
       "<title>1</title>\n",
       "<ellipse fill=\"none\" stroke=\"#000000\" cx=\"197\" cy=\"-540\" rx=\"55.7903\" ry=\"18\"/>\n",
       "<text text-anchor=\"middle\" x=\"197\" y=\"-536.3\" font-family=\"Times,serif\" font-size=\"14.00\" fill=\"#000000\"> (10, 0, 0, 0)</text>\n",
       "</g>\n",
       "<!-- 2 -->\n",
       "<g id=\"node2\" class=\"node\">\n",
       "<title>2</title>\n",
       "<ellipse fill=\"none\" stroke=\"#000000\" cx=\"197\" cy=\"-453\" rx=\"51.1914\" ry=\"18\"/>\n",
       "<text text-anchor=\"middle\" x=\"197\" y=\"-449.3\" font-family=\"Times,serif\" font-size=\"14.00\" fill=\"#000000\"> (1, 4, 2, 0)</text>\n",
       "</g>\n",
       "<!-- 1&#45;&#45;2 -->\n",
       "<g id=\"edge20\" class=\"edge\">\n",
       "<title>1&#45;&#45;2</title>\n",
       "<path fill=\"none\" stroke=\"#000000\" d=\"M197,-521.9735C197,-507.0422 197,-485.9283 197,-471.0034\"/>\n",
       "<text text-anchor=\"middle\" x=\"200.5\" y=\"-492.8\" font-family=\"Times,serif\" font-size=\"14.00\" fill=\"#000000\">9</text>\n",
       "</g>\n",
       "<!-- 3 -->\n",
       "<g id=\"node3\" class=\"node\">\n",
       "<title>3</title>\n",
       "<ellipse fill=\"none\" stroke=\"#000000\" cx=\"118\" cy=\"-366\" rx=\"51.1914\" ry=\"18\"/>\n",
       "<text text-anchor=\"middle\" x=\"118\" y=\"-362.3\" font-family=\"Times,serif\" font-size=\"14.00\" fill=\"#000000\"> (3, 1, 3, 0)</text>\n",
       "</g>\n",
       "<!-- 1&#45;&#45;3 -->\n",
       "<g id=\"edge18\" class=\"edge\">\n",
       "<title>1&#45;&#45;3</title>\n",
       "<path fill=\"none\" stroke=\"#000000\" d=\"M174.3595,-523.3511C159.1042,-510.7827 140.0043,-492.1274 130,-471 116.6511,-442.8095 115.7395,-405.7567 116.6334,-384.0433\"/>\n",
       "<text text-anchor=\"middle\" x=\"133.5\" y=\"-449.3\" font-family=\"Times,serif\" font-size=\"14.00\" fill=\"#000000\">7</text>\n",
       "</g>\n",
       "<!-- 4 -->\n",
       "<g id=\"node4\" class=\"node\">\n",
       "<title>4</title>\n",
       "<ellipse fill=\"none\" stroke=\"#000000\" cx=\"241\" cy=\"-279\" rx=\"51.1914\" ry=\"18\"/>\n",
       "<text text-anchor=\"middle\" x=\"241\" y=\"-275.3\" font-family=\"Times,serif\" font-size=\"14.00\" fill=\"#000000\"> (4, 3, 0, 1)</text>\n",
       "</g>\n",
       "<!-- 1&#45;&#45;4 -->\n",
       "<g id=\"edge15\" class=\"edge\">\n",
       "<title>1&#45;&#45;4</title>\n",
       "<path fill=\"none\" stroke=\"#000000\" d=\"M217.9984,-523.1597C232.0006,-510.501 249.2151,-491.8166 257,-471 279.6715,-410.377 258.9289,-331.7048 247.4493,-296.9041\"/>\n",
       "<text text-anchor=\"middle\" x=\"270.5\" y=\"-405.8\" font-family=\"Times,serif\" font-size=\"14.00\" fill=\"#000000\">6</text>\n",
       "</g>\n",
       "<!-- 5 -->\n",
       "<g id=\"node5\" class=\"node\">\n",
       "<title>5</title>\n",
       "<ellipse fill=\"none\" stroke=\"#000000\" cx=\"331\" cy=\"-192\" rx=\"51.1914\" ry=\"18\"/>\n",
       "<text text-anchor=\"middle\" x=\"331\" y=\"-188.3\" font-family=\"Times,serif\" font-size=\"14.00\" fill=\"#000000\"> (6, 0, 1, 1)</text>\n",
       "</g>\n",
       "<!-- 1&#45;&#45;5 -->\n",
       "<g id=\"edge6\" class=\"edge\">\n",
       "<title>1&#45;&#45;5</title>\n",
       "<path fill=\"none\" stroke=\"#000000\" d=\"M243.546,-529.9323C303.7546,-515.5398 401,-487.027 401,-453 401,-453 401,-453 401,-279 401,-248.9513 375.3385,-223.3962 355.09,-207.9088\"/>\n",
       "<text text-anchor=\"middle\" x=\"404.5\" y=\"-362.3\" font-family=\"Times,serif\" font-size=\"14.00\" fill=\"#000000\">4</text>\n",
       "</g>\n",
       "<!-- 7 -->\n",
       "<g id=\"node7\" class=\"node\">\n",
       "<title>7</title>\n",
       "<ellipse fill=\"none\" stroke=\"#000000\" cx=\"123\" cy=\"-18\" rx=\"51.1914\" ry=\"18\"/>\n",
       "<text text-anchor=\"middle\" x=\"123\" y=\"-14.3\" font-family=\"Times,serif\" font-size=\"14.00\" fill=\"#000000\"> (2, 0, 2, 2)</text>\n",
       "</g>\n",
       "<!-- 1&#45;&#45;7 -->\n",
       "<g id=\"edge19\" class=\"edge\">\n",
       "<title>1&#45;&#45;7</title>\n",
       "<path fill=\"none\" stroke=\"#000000\" d=\"M151.3091,-529.4609C93.1133,-514.6846 0,-485.9015 0,-453 0,-453 0,-453 0,-105 0,-64.1966 45.6746,-40.816 81.3578,-28.7759\"/>\n",
       "<text text-anchor=\"middle\" x=\"3.5\" y=\"-275.3\" font-family=\"Times,serif\" font-size=\"14.00\" fill=\"#000000\">8</text>\n",
       "</g>\n",
       "<!-- 2&#45;&#45;3 -->\n",
       "<g id=\"edge1\" class=\"edge\">\n",
       "<title>2&#45;&#45;3</title>\n",
       "<path fill=\"none\" stroke=\"#000000\" d=\"M181.3921,-435.8116C167.5424,-420.5593 147.4154,-398.3942 133.5754,-383.1527\"/>\n",
       "<text text-anchor=\"middle\" x=\"165.5\" y=\"-405.8\" font-family=\"Times,serif\" font-size=\"14.00\" fill=\"#000000\">3</text>\n",
       "</g>\n",
       "<!-- 2&#45;&#45;4 -->\n",
       "<g id=\"edge7\" class=\"edge\">\n",
       "<title>2&#45;&#45;4</title>\n",
       "<path fill=\"none\" stroke=\"#000000\" d=\"M204.6852,-434.8798C206.9128,-429.2184 209.2212,-422.9075 211,-417 223.7244,-374.7419 233.3866,-323.6842 238.0022,-297.093\"/>\n",
       "<text text-anchor=\"middle\" x=\"231.5\" y=\"-362.3\" font-family=\"Times,serif\" font-size=\"14.00\" fill=\"#000000\">4</text>\n",
       "</g>\n",
       "<!-- 2&#45;&#45;5 -->\n",
       "<g id=\"edge16\" class=\"edge\">\n",
       "<title>2&#45;&#45;5</title>\n",
       "<path fill=\"none\" stroke=\"#000000\" d=\"M217.0848,-436.1235C247.054,-409.7327 302.9471,-355.6123 331,-297 344.3777,-269.0494 345.1851,-258.7031 341,-228 340.194,-222.087 338.6758,-215.7745 337.0614,-210.1134\"/>\n",
       "<text text-anchor=\"middle\" x=\"323.5\" y=\"-318.8\" font-family=\"Times,serif\" font-size=\"14.00\" fill=\"#000000\">6</text>\n",
       "</g>\n",
       "<!-- 6 -->\n",
       "<g id=\"node6\" class=\"node\">\n",
       "<title>6</title>\n",
       "<ellipse fill=\"none\" stroke=\"#000000\" cx=\"164\" cy=\"-105\" rx=\"51.1914\" ry=\"18\"/>\n",
       "<text text-anchor=\"middle\" x=\"164\" y=\"-101.3\" font-family=\"Times,serif\" font-size=\"14.00\" fill=\"#000000\"> (0, 3, 1, 2)</text>\n",
       "</g>\n",
       "<!-- 2&#45;&#45;6 -->\n",
       "<g id=\"edge2\" class=\"edge\">\n",
       "<title>2&#45;&#45;6</title>\n",
       "<path fill=\"none\" stroke=\"#000000\" d=\"M193.7493,-434.8164C188.6882,-405.7848 178.9892,-347.1244 174,-297 167.6525,-233.2284 165.2012,-157.1142 164.3723,-123.0428\"/>\n",
       "<text text-anchor=\"middle\" x=\"177.5\" y=\"-275.3\" font-family=\"Times,serif\" font-size=\"14.00\" fill=\"#000000\">3</text>\n",
       "</g>\n",
       "<!-- 2&#45;&#45;7 -->\n",
       "<g id=\"edge8\" class=\"edge\">\n",
       "<title>2&#45;&#45;7</title>\n",
       "<path fill=\"none\" stroke=\"#000000\" d=\"M159.3192,-440.6514C112.3008,-424.0784 38,-393.533 38,-366 38,-366 38,-366 38,-105 38,-72.4807 68.7596,-47.6029 93.2711,-32.9408\"/>\n",
       "<text text-anchor=\"middle\" x=\"41.5\" y=\"-231.8\" font-family=\"Times,serif\" font-size=\"14.00\" fill=\"#000000\">4</text>\n",
       "</g>\n",
       "<!-- 3&#45;&#45;4 -->\n",
       "<g id=\"edge9\" class=\"edge\">\n",
       "<title>3&#45;&#45;4</title>\n",
       "<path fill=\"none\" stroke=\"#000000\" d=\"M140.8471,-349.8399C162.8009,-334.3116 195.8057,-310.9667 217.8579,-295.3688\"/>\n",
       "<text text-anchor=\"middle\" x=\"189.5\" y=\"-318.8\" font-family=\"Times,serif\" font-size=\"14.00\" fill=\"#000000\">4</text>\n",
       "</g>\n",
       "<!-- 3&#45;&#45;5 -->\n",
       "<g id=\"edge10\" class=\"edge\">\n",
       "<title>3&#45;&#45;5</title>\n",
       "<path fill=\"none\" stroke=\"#000000\" d=\"M166.7567,-359.886C208.0783,-352.1708 266.0375,-334.9639 301,-297 323.2187,-272.8739 329.1078,-233.4043 330.591,-210.3468\"/>\n",
       "<text text-anchor=\"middle\" x=\"323.5\" y=\"-275.3\" font-family=\"Times,serif\" font-size=\"14.00\" fill=\"#000000\">4</text>\n",
       "</g>\n",
       "<!-- 3&#45;&#45;6 -->\n",
       "<g id=\"edge13\" class=\"edge\">\n",
       "<title>3&#45;&#45;6</title>\n",
       "<path fill=\"none\" stroke=\"#000000\" d=\"M119.1573,-347.9312C121.9332,-309.37 130.2622,-216.3836 150,-141 151.5627,-135.0317 153.8103,-128.7037 156.0487,-123.0453\"/>\n",
       "<text text-anchor=\"middle\" x=\"135.5\" y=\"-231.8\" font-family=\"Times,serif\" font-size=\"14.00\" fill=\"#000000\">5</text>\n",
       "</g>\n",
       "<!-- 3&#45;&#45;7 -->\n",
       "<g id=\"edge3\" class=\"edge\">\n",
       "<title>3&#45;&#45;7</title>\n",
       "<path fill=\"none\" stroke=\"#000000\" d=\"M114.8071,-347.9512C107.4244,-303.4156 90.7801,-184.8049 104,-87 106.3966,-69.2692 112.1087,-49.6535 116.6481,-35.8836\"/>\n",
       "<text text-anchor=\"middle\" x=\"102.5\" y=\"-188.3\" font-family=\"Times,serif\" font-size=\"14.00\" fill=\"#000000\">3</text>\n",
       "</g>\n",
       "<!-- 4&#45;&#45;5 -->\n",
       "<g id=\"edge4\" class=\"edge\">\n",
       "<title>4&#45;&#45;5</title>\n",
       "<path fill=\"none\" stroke=\"#000000\" d=\"M258.7811,-261.8116C274.5593,-246.5593 297.4888,-224.3942 313.2558,-209.1527\"/>\n",
       "<text text-anchor=\"middle\" x=\"294.5\" y=\"-231.8\" font-family=\"Times,serif\" font-size=\"14.00\" fill=\"#000000\">3</text>\n",
       "</g>\n",
       "<!-- 4&#45;&#45;6 -->\n",
       "<g id=\"edge11\" class=\"edge\">\n",
       "<title>4&#45;&#45;6</title>\n",
       "<path fill=\"none\" stroke=\"#000000\" d=\"M233.0497,-261.0343C218.2562,-227.605 186.6677,-156.2232 171.9071,-122.868\"/>\n",
       "<text text-anchor=\"middle\" x=\"213.5\" y=\"-188.3\" font-family=\"Times,serif\" font-size=\"14.00\" fill=\"#000000\">4</text>\n",
       "</g>\n",
       "<!-- 4&#45;&#45;7 -->\n",
       "<g id=\"edge14\" class=\"edge\">\n",
       "<title>4&#45;&#45;7</title>\n",
       "<path fill=\"none\" stroke=\"#000000\" d=\"M244.289,-261.0185C249.8803,-225.0573 257.6087,-142.9337 224,-87 208.5782,-61.3341 179.5051,-43.009 156.4969,-31.7243\"/>\n",
       "<text text-anchor=\"middle\" x=\"249.5\" y=\"-144.8\" font-family=\"Times,serif\" font-size=\"14.00\" fill=\"#000000\">5</text>\n",
       "</g>\n",
       "<!-- 5&#45;&#45;6 -->\n",
       "<g id=\"edge17\" class=\"edge\">\n",
       "<title>5&#45;&#45;6</title>\n",
       "<path fill=\"none\" stroke=\"#000000\" d=\"M288.9754,-181.612C268.8732,-175.6871 244.9093,-167.1855 225,-156 208.6328,-146.8045 192.4399,-132.9857 180.8554,-122.051\"/>\n",
       "<text text-anchor=\"middle\" x=\"228.5\" y=\"-144.8\" font-family=\"Times,serif\" font-size=\"14.00\" fill=\"#000000\">6</text>\n",
       "</g>\n",
       "<!-- 5&#45;&#45;7 -->\n",
       "<g id=\"edge12\" class=\"edge\">\n",
       "<title>5&#45;&#45;7</title>\n",
       "<path fill=\"none\" stroke=\"#000000\" d=\"M327.6091,-173.7099C321.1127,-143.9676 304.0337,-85.3021 266,-54 251.3722,-41.9612 205.8631,-31.8101 170.0683,-25.3877\"/>\n",
       "<text text-anchor=\"middle\" x=\"314.5\" y=\"-101.3\" font-family=\"Times,serif\" font-size=\"14.00\" fill=\"#000000\">4</text>\n",
       "</g>\n",
       "<!-- 6&#45;&#45;7 -->\n",
       "<g id=\"edge5\" class=\"edge\">\n",
       "<title>6&#45;&#45;7</title>\n",
       "<path fill=\"none\" stroke=\"#000000\" d=\"M155.5048,-86.9735C148.4682,-72.0422 138.518,-50.9283 131.4843,-36.0034\"/>\n",
       "<text text-anchor=\"middle\" x=\"148.5\" y=\"-57.8\" font-family=\"Times,serif\" font-size=\"14.00\" fill=\"#000000\">3</text>\n",
       "</g>\n",
       "</g>\n",
       "</svg>\n"
      ]
     },
     "execution_count": 4,
     "metadata": {
      "image/svg+xml": {
       "height": 500,
       "width": 500
      }
     },
     "output_type": "execute_result"
    }
   ],
   "source": [
    "JupyterSplashDot(DotEliahouGraph(Factorizations(100,s)));"
   ]
  },
  {
   "cell_type": "markdown",
   "id": "8e15b716",
   "metadata": {},
   "source": [
    "### The catenary degree"
   ]
  },
  {
   "cell_type": "markdown",
   "id": "891efdba",
   "metadata": {},
   "source": [
    "In addition, `DotFactorizationGraph` draws a minimum spanning tree."
   ]
  },
  {
   "cell_type": "code",
   "execution_count": 5,
   "id": "d7e23415",
   "metadata": {},
   "outputs": [
    {
     "data": {
      "image/svg+xml": [
       "<?xml version=\"1.0\" encoding=\"UTF-8\" standalone=\"no\"?>\n",
       "<!DOCTYPE svg PUBLIC \"-//W3C//DTD SVG 1.1//EN\"\n",
       " \"http://www.w3.org/Graphics/SVG/1.1/DTD/svg11.dtd\">\n",
       "<!-- Generated by graphviz version 2.40.1 (20161225.0304)\n",
       " -->\n",
       "<!-- Title: NSGraph Pages: 1 -->\n",
       "<svg width=\"466pt\" height=\"566pt\"\n",
       " viewBox=\"0.00 0.00 466.00 566.00\" xmlns=\"http://www.w3.org/2000/svg\" xmlns:xlink=\"http://www.w3.org/1999/xlink\">\n",
       "<g id=\"graph0\" class=\"graph\" transform=\"scale(1 1) rotate(0) translate(4 562)\">\n",
       "<title>NSGraph</title>\n",
       "<polygon fill=\"#ffffff\" stroke=\"transparent\" points=\"-4,4 -4,-562 462,-562 462,4 -4,4\"/>\n",
       "<!-- 1 -->\n",
       "<g id=\"node1\" class=\"node\">\n",
       "<title>1</title>\n",
       "<ellipse fill=\"none\" stroke=\"#000000\" cx=\"349\" cy=\"-540\" rx=\"55.7903\" ry=\"18\"/>\n",
       "<text text-anchor=\"middle\" x=\"349\" y=\"-536.3\" font-family=\"Times,serif\" font-size=\"14.00\" fill=\"#000000\"> (10, 0, 0, 0)</text>\n",
       "</g>\n",
       "<!-- 2 -->\n",
       "<g id=\"node2\" class=\"node\">\n",
       "<title>2</title>\n",
       "<ellipse fill=\"none\" stroke=\"#000000\" cx=\"236\" cy=\"-453\" rx=\"51.1914\" ry=\"18\"/>\n",
       "<text text-anchor=\"middle\" x=\"236\" y=\"-449.3\" font-family=\"Times,serif\" font-size=\"14.00\" fill=\"#000000\"> (1, 4, 2, 0)</text>\n",
       "</g>\n",
       "<!-- 1&#45;&#45;2 -->\n",
       "<g id=\"edge20\" class=\"edge\">\n",
       "<title>1&#45;&#45;2</title>\n",
       "<path fill=\"none\" stroke=\"#000000\" d=\"M327.2125,-523.2255C307.0745,-507.721 277.3307,-484.821 257.3374,-469.4279\"/>\n",
       "<text text-anchor=\"middle\" x=\"302.5\" y=\"-492.8\" font-family=\"Times,serif\" font-size=\"14.00\" fill=\"#000000\">9</text>\n",
       "</g>\n",
       "<!-- 3 -->\n",
       "<g id=\"node3\" class=\"node\">\n",
       "<title>3</title>\n",
       "<ellipse fill=\"none\" stroke=\"#000000\" cx=\"276\" cy=\"-366\" rx=\"51.1914\" ry=\"18\"/>\n",
       "<text text-anchor=\"middle\" x=\"276\" y=\"-362.3\" font-family=\"Times,serif\" font-size=\"14.00\" fill=\"#000000\"> (3, 1, 3, 0)</text>\n",
       "</g>\n",
       "<!-- 1&#45;&#45;3 -->\n",
       "<g id=\"edge18\" class=\"edge\">\n",
       "<title>1&#45;&#45;3</title>\n",
       "<path fill=\"none\" stroke=\"#000000\" d=\"M341.4627,-522.0343C327.4377,-488.605 297.4902,-417.2232 283.4963,-383.868\"/>\n",
       "<text text-anchor=\"middle\" x=\"322.5\" y=\"-449.3\" font-family=\"Times,serif\" font-size=\"14.00\" fill=\"#000000\">7</text>\n",
       "</g>\n",
       "<!-- 4 -->\n",
       "<g id=\"node4\" class=\"node\">\n",
       "<title>4</title>\n",
       "<ellipse fill=\"none\" stroke=\"#000000\" cx=\"163\" cy=\"-279\" rx=\"51.1914\" ry=\"18\"/>\n",
       "<text text-anchor=\"middle\" x=\"163\" y=\"-275.3\" font-family=\"Times,serif\" font-size=\"14.00\" fill=\"#000000\"> (4, 3, 0, 1)</text>\n",
       "</g>\n",
       "<!-- 1&#45;&#45;4 -->\n",
       "<g id=\"edge15\" class=\"edge\">\n",
       "<title>1&#45;&#45;4</title>\n",
       "<path fill=\"none\" stroke=\"#000000\" d=\"M299.9962,-531.3068C261.818,-522.219 209.7911,-504.4301 176,-471 127.8288,-423.3435 131.1382,-396.4755 118,-330 116.7074,-323.4598 115.1121,-321.0087 118,-315 121.9006,-306.8843 128.6204,-300.0255 135.6951,-294.5429\"/>\n",
       "<text text-anchor=\"middle\" x=\"140.5\" y=\"-405.8\" font-family=\"Times,serif\" font-size=\"14.00\" fill=\"#000000\">6</text>\n",
       "</g>\n",
       "<!-- 5 -->\n",
       "<g id=\"node5\" class=\"node\">\n",
       "<title>5</title>\n",
       "<ellipse fill=\"none\" stroke=\"#000000\" cx=\"111\" cy=\"-192\" rx=\"51.1914\" ry=\"18\"/>\n",
       "<text text-anchor=\"middle\" x=\"111\" y=\"-188.3\" font-family=\"Times,serif\" font-size=\"14.00\" fill=\"#000000\"> (6, 0, 1, 1)</text>\n",
       "</g>\n",
       "<!-- 1&#45;&#45;5 -->\n",
       "<g id=\"edge6\" class=\"edge\">\n",
       "<title>1&#45;&#45;5</title>\n",
       "<path fill=\"none\" stroke=\"#ff0000\" d=\"M294.4797,-535.5641C207.2441,-526.9458 46,-504.1038 46,-453 46,-453 46,-453 46,-279 46,-249.776 69.8285,-224.0469 88.6307,-208.2939\"/>\n",
       "<text text-anchor=\"middle\" x=\"49.5\" y=\"-362.3\" font-family=\"Times,serif\" font-size=\"14.00\" fill=\"#000000\">4</text>\n",
       "</g>\n",
       "<!-- 6 -->\n",
       "<g id=\"node6\" class=\"node\">\n",
       "<title>6</title>\n",
       "<ellipse fill=\"none\" stroke=\"#000000\" cx=\"364\" cy=\"-105\" rx=\"51.1914\" ry=\"18\"/>\n",
       "<text text-anchor=\"middle\" x=\"364\" y=\"-101.3\" font-family=\"Times,serif\" font-size=\"14.00\" fill=\"#000000\"> (0, 3, 1, 2)</text>\n",
       "</g>\n",
       "<!-- 1&#45;&#45;6 -->\n",
       "<g id=\"edge21\" class=\"edge\">\n",
       "<title>1&#45;&#45;6</title>\n",
       "<path fill=\"none\" stroke=\"#000000\" d=\"M368.272,-523.0608C384.4708,-506.8627 405,-480.8421 405,-453 405,-453 405,-453 405,-192 405,-165.9521 389.7751,-139.3437 377.8807,-122.5304\"/>\n",
       "<text text-anchor=\"middle\" x=\"412\" y=\"-318.8\" font-family=\"Times,serif\" font-size=\"14.00\" fill=\"#000000\">10</text>\n",
       "</g>\n",
       "<!-- 7 -->\n",
       "<g id=\"node7\" class=\"node\">\n",
       "<title>7</title>\n",
       "<ellipse fill=\"none\" stroke=\"#000000\" cx=\"237\" cy=\"-18\" rx=\"51.1914\" ry=\"18\"/>\n",
       "<text text-anchor=\"middle\" x=\"237\" y=\"-14.3\" font-family=\"Times,serif\" font-size=\"14.00\" fill=\"#000000\"> (2, 0, 2, 2)</text>\n",
       "</g>\n",
       "<!-- 1&#45;&#45;7 -->\n",
       "<g id=\"edge19\" class=\"edge\">\n",
       "<title>1&#45;&#45;7</title>\n",
       "<path fill=\"none\" stroke=\"#000000\" d=\"M385.5362,-526.242C414.8041,-512.5734 451,-488.4942 451,-453 451,-453 451,-453 451,-105 451,-68.8046 344.6131,-40.3996 281.8614,-26.7933\"/>\n",
       "<text text-anchor=\"middle\" x=\"454.5\" y=\"-275.3\" font-family=\"Times,serif\" font-size=\"14.00\" fill=\"#000000\">8</text>\n",
       "</g>\n",
       "<!-- 2&#45;&#45;3 -->\n",
       "<g id=\"edge1\" class=\"edge\">\n",
       "<title>2&#45;&#45;3</title>\n",
       "<path fill=\"none\" stroke=\"#ff0000\" d=\"M244.288,-434.9735C251.153,-420.0422 260.8605,-398.9283 267.7226,-384.0034\"/>\n",
       "<text text-anchor=\"middle\" x=\"262.5\" y=\"-405.8\" font-family=\"Times,serif\" font-size=\"14.00\" fill=\"#000000\">3</text>\n",
       "</g>\n",
       "<!-- 2&#45;&#45;4 -->\n",
       "<g id=\"edge7\" class=\"edge\">\n",
       "<title>2&#45;&#45;4</title>\n",
       "<path fill=\"none\" stroke=\"#ff0000\" d=\"M228.4627,-435.0343C214.4377,-401.605 184.4902,-330.2232 170.4963,-296.868\"/>\n",
       "<text text-anchor=\"middle\" x=\"210.5\" y=\"-362.3\" font-family=\"Times,serif\" font-size=\"14.00\" fill=\"#000000\">4</text>\n",
       "</g>\n",
       "<!-- 2&#45;&#45;5 -->\n",
       "<g id=\"edge16\" class=\"edge\">\n",
       "<title>2&#45;&#45;5</title>\n",
       "<path fill=\"none\" stroke=\"#000000\" d=\"M214.4382,-436.4547C182.8511,-410.6938 125.3313,-357.6135 103,-297 92.3189,-268.0084 99.2266,-231.5351 105.1553,-210.093\"/>\n",
       "<text text-anchor=\"middle\" x=\"122.5\" y=\"-318.8\" font-family=\"Times,serif\" font-size=\"14.00\" fill=\"#000000\">6</text>\n",
       "</g>\n",
       "<!-- 2&#45;&#45;6 -->\n",
       "<g id=\"edge2\" class=\"edge\">\n",
       "<title>2&#45;&#45;6</title>\n",
       "<path fill=\"none\" stroke=\"#ff0000\" d=\"M269.2539,-439.2414C292.0772,-427.94 320.8773,-409.6091 336,-384 386.8679,-297.859 374.1117,-170.232 367.0995,-123.2312\"/>\n",
       "<text text-anchor=\"middle\" x=\"374.5\" y=\"-275.3\" font-family=\"Times,serif\" font-size=\"14.00\" fill=\"#000000\">3</text>\n",
       "</g>\n",
       "<!-- 2&#45;&#45;7 -->\n",
       "<g id=\"edge8\" class=\"edge\">\n",
       "<title>2&#45;&#45;7</title>\n",
       "<path fill=\"none\" stroke=\"#000000\" d=\"M185.6824,-448.8033C138.355,-442.3235 68.326,-425.8516 24,-384 2.6659,-363.8568 0,-351.8409 0,-322.5 0,-322.5 0,-322.5 0,-105 0,-64.8951 121.1074,-37.6705 190.1764,-25.4051\"/>\n",
       "<text text-anchor=\"middle\" x=\"3.5\" y=\"-231.8\" font-family=\"Times,serif\" font-size=\"14.00\" fill=\"#000000\">4</text>\n",
       "</g>\n",
       "<!-- 3&#45;&#45;4 -->\n",
       "<g id=\"edge9\" class=\"edge\">\n",
       "<title>3&#45;&#45;4</title>\n",
       "<path fill=\"none\" stroke=\"#000000\" d=\"M254.4592,-349.5312C246.4585,-343.4063 237.3093,-336.3927 229,-330 214.0797,-318.5213 197.2932,-305.5491 184.3834,-295.5603\"/>\n",
       "<text text-anchor=\"middle\" x=\"232.5\" y=\"-318.8\" font-family=\"Times,serif\" font-size=\"14.00\" fill=\"#000000\">4</text>\n",
       "</g>\n",
       "<!-- 3&#45;&#45;5 -->\n",
       "<g id=\"edge10\" class=\"edge\">\n",
       "<title>3&#45;&#45;5</title>\n",
       "<path fill=\"none\" stroke=\"#000000\" d=\"M270.3007,-347.8582C262.5184,-325.3721 246.7613,-286.8643 223,-261 200.6735,-236.6975 167.8675,-217.8463 143.5258,-206.0354\"/>\n",
       "<text text-anchor=\"middle\" x=\"251.5\" y=\"-275.3\" font-family=\"Times,serif\" font-size=\"14.00\" fill=\"#000000\">4</text>\n",
       "</g>\n",
       "<!-- 3&#45;&#45;6 -->\n",
       "<g id=\"edge13\" class=\"edge\">\n",
       "<title>3&#45;&#45;6</title>\n",
       "<path fill=\"none\" stroke=\"#000000\" d=\"M288.7719,-348.2655C292.4375,-342.6198 296.1965,-336.2208 299,-330 334.8945,-250.3534 328.2347,-224.7776 353,-141 354.7415,-135.1089 356.6871,-128.6903 358.4523,-122.9259\"/>\n",
       "<text text-anchor=\"middle\" x=\"335.5\" y=\"-231.8\" font-family=\"Times,serif\" font-size=\"14.00\" fill=\"#000000\">5</text>\n",
       "</g>\n",
       "<!-- 3&#45;&#45;7 -->\n",
       "<g id=\"edge3\" class=\"edge\">\n",
       "<title>3&#45;&#45;7</title>\n",
       "<path fill=\"none\" stroke=\"#ff0000\" d=\"M278.9969,-347.7262C281.615,-330.1607 285,-302.8401 285,-279 285,-279 285,-279 285,-105 285,-78.0892 267.1758,-51.6695 253.2506,-35.1354\"/>\n",
       "<text text-anchor=\"middle\" x=\"288.5\" y=\"-188.3\" font-family=\"Times,serif\" font-size=\"14.00\" fill=\"#000000\">3</text>\n",
       "</g>\n",
       "<!-- 4&#45;&#45;5 -->\n",
       "<g id=\"edge4\" class=\"edge\">\n",
       "<title>4&#45;&#45;5</title>\n",
       "<path fill=\"none\" stroke=\"#ff0000\" d=\"M152.2256,-260.9735C143.2416,-245.9427 130.5129,-224.6465 121.5827,-209.7057\"/>\n",
       "<text text-anchor=\"middle\" x=\"144.5\" y=\"-231.8\" font-family=\"Times,serif\" font-size=\"14.00\" fill=\"#000000\">3</text>\n",
       "</g>\n",
       "<!-- 4&#45;&#45;6 -->\n",
       "<g id=\"edge11\" class=\"edge\">\n",
       "<title>4&#45;&#45;6</title>\n",
       "<path fill=\"none\" stroke=\"#000000\" d=\"M183.7788,-262.2023C190.5026,-256.3949 197.8145,-249.6659 204,-243 230.1196,-214.8515 227.8182,-200.0836 256,-174 279.8407,-151.9343 311.6158,-132.5946 334.5208,-120.0485\"/>\n",
       "<text text-anchor=\"middle\" x=\"259.5\" y=\"-188.3\" font-family=\"Times,serif\" font-size=\"14.00\" fill=\"#000000\">4</text>\n",
       "</g>\n",
       "<!-- 4&#45;&#45;7 -->\n",
       "<g id=\"edge14\" class=\"edge\">\n",
       "<title>4&#45;&#45;7</title>\n",
       "<path fill=\"none\" stroke=\"#000000\" d=\"M166.151,-260.9519C170.9572,-234.4168 180.8547,-183.4282 193,-141 203.86,-103.0617 220.2841,-59.8728 229.6916,-36.0974\"/>\n",
       "<text text-anchor=\"middle\" x=\"196.5\" y=\"-144.8\" font-family=\"Times,serif\" font-size=\"14.00\" fill=\"#000000\">5</text>\n",
       "</g>\n",
       "<!-- 5&#45;&#45;6 -->\n",
       "<g id=\"edge17\" class=\"edge\">\n",
       "<title>5&#45;&#45;6</title>\n",
       "<path fill=\"none\" stroke=\"#000000\" d=\"M146.2448,-178.7929C162.2826,-172.4346 181.3555,-164.3792 198,-156 209.5738,-150.1735 211.0411,-145.9886 223,-141 253.6619,-128.2095 290.0276,-119.0603 318.1469,-113.1865\"/>\n",
       "<text text-anchor=\"middle\" x=\"226.5\" y=\"-144.8\" font-family=\"Times,serif\" font-size=\"14.00\" fill=\"#000000\">6</text>\n",
       "</g>\n",
       "<!-- 5&#45;&#45;7 -->\n",
       "<g id=\"edge12\" class=\"edge\">\n",
       "<title>5&#45;&#45;7</title>\n",
       "<path fill=\"none\" stroke=\"#000000\" d=\"M115.7448,-173.94C123.9607,-145.5524 143.1819,-90.0202 176,-54 184.0334,-45.1828 194.7368,-37.8788 204.9334,-32.2073\"/>\n",
       "<text text-anchor=\"middle\" x=\"155.5\" y=\"-101.3\" font-family=\"Times,serif\" font-size=\"14.00\" fill=\"#000000\">4</text>\n",
       "</g>\n",
       "<!-- 6&#45;&#45;7 -->\n",
       "<g id=\"edge5\" class=\"edge\">\n",
       "<title>6&#45;&#45;7</title>\n",
       "<path fill=\"none\" stroke=\"#000000\" d=\"M344.0543,-88.1721C331.4644,-77.8505 314.6727,-64.6231 299,-54 288.1817,-46.6673 275.8077,-39.2935 264.974,-33.1458\"/>\n",
       "<text text-anchor=\"middle\" x=\"322.5\" y=\"-57.8\" font-family=\"Times,serif\" font-size=\"14.00\" fill=\"#000000\">3</text>\n",
       "</g>\n",
       "</g>\n",
       "</svg>\n"
      ]
     },
     "execution_count": 5,
     "metadata": {
      "image/svg+xml": {
       "height": 500,
       "width": 500
      }
     },
     "output_type": "execute_result"
    }
   ],
   "source": [
    "JupyterSplashDot(DotFactorizationGraph(Factorizations(100,s)));"
   ]
  },
  {
   "cell_type": "markdown",
   "id": "08bfaff8",
   "metadata": {},
   "source": [
    "In particular, this means that we can go from any factorization of $100$ in $S$ to any other factorization of the same element by using a path such that two consecutive nodes are at a distance of at most four. This is precisely the idea behind the concept of catenary degree.\n",
    "\n",
    "Let $z$ and $z'$ be two factorizations of $s$. An $N$-chain joining $z$ and $z'$ is a sequence $z_1,\\dots,z_t$ of factorizations of $s$ such that $\\operatorname{d}(z_i,z_{i+1})\\le N$. The catenary degree of $s$, denoted $\\operatorname{c}(s)$, in the minimum $N$ such that for any two factorizations of $s$ there exists an $N$-chain connecting them.\n",
    "\n",
    "The catenary degree of $S$ is \n",
    "$$\n",
    "\\operatorname{c}(S)=\\sup\\{ \\operatorname{c}(s) : s\\in S\\}.\n",
    "$$\n",
    "\n",
    "This supremum is a maximum."
   ]
  },
  {
   "cell_type": "code",
   "execution_count": 6,
   "id": "4d90cc9a",
   "metadata": {},
   "outputs": [
    {
     "data": {
      "text/plain": [
       "4"
      ]
     },
     "execution_count": 6,
     "metadata": {
      "text/plain": ""
     },
     "output_type": "execute_result"
    }
   ],
   "source": [
    "CatenaryDegree(100,s);"
   ]
  },
  {
   "cell_type": "code",
   "execution_count": 7,
   "id": "3b79b415",
   "metadata": {},
   "outputs": [
    {
     "data": {
      "text/plain": [
       "4"
      ]
     },
     "execution_count": 7,
     "metadata": {
      "text/plain": ""
     },
     "output_type": "execute_result"
    }
   ],
   "source": [
    "CatenaryDegree(s);"
   ]
  },
  {
   "cell_type": "markdown",
   "id": "3acc667c",
   "metadata": {},
   "source": [
    "Recall that by using the minimal relations of $S$ we can find a path joining any two different factorizations of an element. Thus, it is not hard to prove that the maximum of the catenary degree of $S$ is attained at one of its Betti elements."
   ]
  },
  {
   "cell_type": "code",
   "execution_count": 8,
   "id": "9318b741",
   "metadata": {
    "scrolled": false
   },
   "outputs": [
    {
     "data": {
      "text/plain": [
       "[ 3, 4 ]"
      ]
     },
     "execution_count": 8,
     "metadata": {
      "text/plain": ""
     },
     "output_type": "execute_result"
    }
   ],
   "source": [
    "Set(BettiElements(s), b->CatenaryDegree(b,s));"
   ]
  },
  {
   "cell_type": "markdown",
   "id": "cd759647",
   "metadata": {},
   "source": [
    "### The tame degree"
   ]
  },
  {
   "cell_type": "markdown",
   "id": "0ccffdc6",
   "metadata": {},
   "source": [
    "The catenary degree measures the minimum distance needed to find paths connecting any two factorizations of an element in the semigroup in such a way that every step in the path is withing that minimum distance.\n",
    "\n",
    "The tame degree intends to measure a radius $r$ in which for any factorization $z$ of $s\\in S$, with $s-n_i\\in S$, you will find another factorization $z'$ such that $\\operatorname{d}(z,z')\\le r$ and $z_i'\\neq 0$.\n",
    "\n",
    "Let $s\\in S$ such that $s-n_i\\in S$ for some $i\\in\\{1,\\dots,e\\}$. Define $\\mathsf{Z}_i(s)=\\{z : z\\in \\mathsf{Z}(s), z_i\\neq 0\\}$, which is nonempty as $s-n_i\\in S$. Set\n",
    "$$\n",
    "\\operatorname{t}_i(s)=\\sup\\{\\operatorname{d}(z,\\mathsf{Z}_i(s)) : z \\in \\mathsf{Z}(n)\\},\n",
    "$$\n",
    "and \n",
    "$$\n",
    "\\operatorname{t}(s)=\\max\\{\\operatorname{t}_i(s) : s-n_i\\in S, i\\in\\{1,\\dots,e\\}\\}.\n",
    "$$\n",
    "\n",
    "The tame degree of $S$ is defined as \n",
    "$$\n",
    "\\operatorname{t}(S)=\\sup\\{ \\operatorname{t}(s) : s\\in S\\}.\n",
    "$$"
   ]
  },
  {
   "cell_type": "code",
   "execution_count": 37,
   "id": "5c5ca3ba",
   "metadata": {},
   "outputs": [
    {
     "data": {
      "text/plain": [
       "Numerical semigroup with 3 generators"
      ]
     },
     "execution_count": 37,
     "metadata": {
      "text/plain": ""
     },
     "output_type": "execute_result"
    }
   ],
   "source": [
    "s:=NumericalSemigroup( 24, 59, 114);"
   ]
  },
  {
   "cell_type": "code",
   "execution_count": 38,
   "id": "6dbb976e",
   "metadata": {
    "scrolled": true
   },
   "outputs": [
    {
     "data": {
      "text/plain": [
       "29"
      ]
     },
     "execution_count": 38,
     "metadata": {
      "text/plain": ""
     },
     "output_type": "execute_result"
    }
   ],
   "source": [
    "TameDegree(s);"
   ]
  },
  {
   "cell_type": "markdown",
   "id": "3dd12364",
   "metadata": {},
   "source": [
    "Usually the tame degre is not attained at the Betti elements."
   ]
  },
  {
   "cell_type": "code",
   "execution_count": 40,
   "id": "3852ce13",
   "metadata": {},
   "outputs": [
    {
     "data": {
      "text/plain": [
       "[ 11, 19 ]"
      ]
     },
     "execution_count": 40,
     "metadata": {
      "text/plain": ""
     },
     "output_type": "execute_result"
    }
   ],
   "source": [
    "Set(BettiElements(s),b->TameDegree(b,s));"
   ]
  },
  {
   "cell_type": "markdown",
   "id": "cbc8dda4",
   "metadata": {},
   "source": [
    "It can be shown that the tame degree of $S$ is attained at an element $s\\in S$ such that $s$ has a factorization in $\\operatorname{Minimals}_\\le (\\mathsf{Z}(n_i+S))$ for some $i\\in\\{1,\\dots,e\\}$. Elements having this property are of the form $n_i+w$ with $w\\in \\operatorname{Ap}(S,n_j)$, more specifically, there exists $i,j\\in \\{1,\\dots,e\\}$ such that $s-n_i,s-n_j\\in S$ and $s-(n_i+n_j)\\not\\in S$. "
   ]
  },
  {
   "cell_type": "markdown",
   "id": "5d6ac8c3",
   "metadata": {},
   "source": [
    "For $s\\in S$, the Rosales graph $G_s$ is defined as follows. The vertices of $G_s$ are the minimal generators $n_i$ such that $s-n_i\\in S$, and $n_in_j$ is an edge whenever $s-(n_i+n_j)\\in S$."
   ]
  },
  {
   "cell_type": "code",
   "execution_count": 44,
   "id": "f0e2086b",
   "metadata": {},
   "outputs": [
    {
     "data": {
      "image/svg+xml": [
       "<?xml version=\"1.0\" encoding=\"UTF-8\" standalone=\"no\"?>\n",
       "<!DOCTYPE svg PUBLIC \"-//W3C//DTD SVG 1.1//EN\"\n",
       " \"http://www.w3.org/Graphics/SVG/1.1/DTD/svg11.dtd\">\n",
       "<!-- Generated by graphviz version 2.40.1 (20161225.0304)\n",
       " -->\n",
       "<!-- Title: NSGraph Pages: 1 -->\n",
       "<svg width=\"90pt\" height=\"188pt\"\n",
       " viewBox=\"0.00 0.00 90.00 188.00\" xmlns=\"http://www.w3.org/2000/svg\" xmlns:xlink=\"http://www.w3.org/1999/xlink\">\n",
       "<g id=\"graph0\" class=\"graph\" transform=\"scale(1 1) rotate(0) translate(4 184)\">\n",
       "<title>NSGraph</title>\n",
       "<polygon fill=\"#ffffff\" stroke=\"transparent\" points=\"-4,4 -4,-184 86,-184 86,4 -4,4\"/>\n",
       "<!-- 1 -->\n",
       "<g id=\"node1\" class=\"node\">\n",
       "<title>1</title>\n",
       "<ellipse fill=\"none\" stroke=\"#000000\" cx=\"27\" cy=\"-18\" rx=\"27\" ry=\"18\"/>\n",
       "<text text-anchor=\"middle\" x=\"27\" y=\"-14.3\" font-family=\"Times,serif\" font-size=\"14.00\" fill=\"#000000\">24</text>\n",
       "</g>\n",
       "<!-- 2 -->\n",
       "<g id=\"node2\" class=\"node\">\n",
       "<title>2</title>\n",
       "<ellipse fill=\"none\" stroke=\"#000000\" cx=\"55\" cy=\"-90\" rx=\"27\" ry=\"18\"/>\n",
       "<text text-anchor=\"middle\" x=\"55\" y=\"-86.3\" font-family=\"Times,serif\" font-size=\"14.00\" fill=\"#000000\">59</text>\n",
       "</g>\n",
       "<!-- 2&#45;&#45;1 -->\n",
       "<g id=\"edge1\" class=\"edge\">\n",
       "<title>2&#45;&#45;1</title>\n",
       "<path fill=\"none\" stroke=\"#000000\" d=\"M48.222,-72.5708C43.8521,-61.3339 38.1894,-46.7727 33.8126,-35.5182\"/>\n",
       "</g>\n",
       "<!-- 3 -->\n",
       "<g id=\"node3\" class=\"node\">\n",
       "<title>3</title>\n",
       "<ellipse fill=\"none\" stroke=\"#000000\" cx=\"27\" cy=\"-162\" rx=\"27\" ry=\"18\"/>\n",
       "<text text-anchor=\"middle\" x=\"27\" y=\"-158.3\" font-family=\"Times,serif\" font-size=\"14.00\" fill=\"#000000\">114</text>\n",
       "</g>\n",
       "<!-- 3&#45;&#45;1 -->\n",
       "<g id=\"edge2\" class=\"edge\">\n",
       "<title>3&#45;&#45;1</title>\n",
       "<path fill=\"none\" stroke=\"#000000\" d=\"M23.6685,-144.0736C21.8913,-133.5982 19.8913,-120.0982 19,-108 17.8244,-92.0432 17.8244,-87.9568 19,-72 19.8913,-59.9018 21.8913,-46.4018 23.6685,-35.9264\"/>\n",
       "</g>\n",
       "<!-- 3&#45;&#45;2 -->\n",
       "<g id=\"edge3\" class=\"edge\">\n",
       "<title>3&#45;&#45;2</title>\n",
       "<path fill=\"none\" stroke=\"#000000\" d=\"M33.778,-144.5708C38.1479,-133.3339 43.8106,-118.7727 48.1874,-107.5182\"/>\n",
       "</g>\n",
       "</g>\n",
       "</svg>\n"
      ]
     },
     "execution_count": 44,
     "metadata": {
      "image/svg+xml": {
       "height": 500,
       "width": 500
      }
     },
     "output_type": "execute_result"
    }
   ],
   "source": [
    "JupyterSplashDot(DotRosalesGraph(400,s));"
   ]
  },
  {
   "cell_type": "code",
   "execution_count": 45,
   "id": "3643f1d8",
   "metadata": {},
   "outputs": [
    {
     "data": {
      "text/plain": [
       "[ 354, 456 ]"
      ]
     },
     "execution_count": 45,
     "metadata": {
      "text/plain": ""
     },
     "output_type": "execute_result"
    }
   ],
   "source": [
    "BettiElements(s);"
   ]
  },
  {
   "cell_type": "code",
   "execution_count": 46,
   "id": "4310ddfd",
   "metadata": {},
   "outputs": [
    {
     "data": {
      "image/svg+xml": [
       "<?xml version=\"1.0\" encoding=\"UTF-8\" standalone=\"no\"?>\n",
       "<!DOCTYPE svg PUBLIC \"-//W3C//DTD SVG 1.1//EN\"\n",
       " \"http://www.w3.org/Graphics/SVG/1.1/DTD/svg11.dtd\">\n",
       "<!-- Generated by graphviz version 2.40.1 (20161225.0304)\n",
       " -->\n",
       "<!-- Title: NSGraph Pages: 1 -->\n",
       "<svg width=\"134pt\" height=\"44pt\"\n",
       " viewBox=\"0.00 0.00 134.00 44.00\" xmlns=\"http://www.w3.org/2000/svg\" xmlns:xlink=\"http://www.w3.org/1999/xlink\">\n",
       "<g id=\"graph0\" class=\"graph\" transform=\"scale(1 1) rotate(0) translate(4 40)\">\n",
       "<title>NSGraph</title>\n",
       "<polygon fill=\"#ffffff\" stroke=\"transparent\" points=\"-4,4 -4,-40 130,-40 130,4 -4,4\"/>\n",
       "<!-- 1 -->\n",
       "<g id=\"node1\" class=\"node\">\n",
       "<title>1</title>\n",
       "<ellipse fill=\"none\" stroke=\"#000000\" cx=\"27\" cy=\"-18\" rx=\"27\" ry=\"18\"/>\n",
       "<text text-anchor=\"middle\" x=\"27\" y=\"-14.3\" font-family=\"Times,serif\" font-size=\"14.00\" fill=\"#000000\">24</text>\n",
       "</g>\n",
       "<!-- 2 -->\n",
       "<g id=\"node2\" class=\"node\">\n",
       "<title>2</title>\n",
       "<ellipse fill=\"none\" stroke=\"#000000\" cx=\"99\" cy=\"-18\" rx=\"27\" ry=\"18\"/>\n",
       "<text text-anchor=\"middle\" x=\"99\" y=\"-14.3\" font-family=\"Times,serif\" font-size=\"14.00\" fill=\"#000000\">114</text>\n",
       "</g>\n",
       "</g>\n",
       "</svg>\n"
      ]
     },
     "execution_count": 46,
     "metadata": {
      "image/svg+xml": {
       "height": 500,
       "width": 500
      }
     },
     "output_type": "execute_result"
    }
   ],
   "source": [
    "JupyterSplashDot(DotRosalesGraph(456,s));"
   ]
  },
  {
   "cell_type": "code",
   "execution_count": 47,
   "id": "bbf82b5b",
   "metadata": {},
   "outputs": [
    {
     "data": {
      "image/svg+xml": [
       "<?xml version=\"1.0\" encoding=\"UTF-8\" standalone=\"no\"?>\n",
       "<!DOCTYPE svg PUBLIC \"-//W3C//DTD SVG 1.1//EN\"\n",
       " \"http://www.w3.org/Graphics/SVG/1.1/DTD/svg11.dtd\">\n",
       "<!-- Generated by graphviz version 2.40.1 (20161225.0304)\n",
       " -->\n",
       "<!-- Title: NSGraph Pages: 1 -->\n",
       "<svg width=\"134pt\" height=\"116pt\"\n",
       " viewBox=\"0.00 0.00 134.00 116.00\" xmlns=\"http://www.w3.org/2000/svg\" xmlns:xlink=\"http://www.w3.org/1999/xlink\">\n",
       "<g id=\"graph0\" class=\"graph\" transform=\"scale(1 1) rotate(0) translate(4 112)\">\n",
       "<title>NSGraph</title>\n",
       "<polygon fill=\"#ffffff\" stroke=\"transparent\" points=\"-4,4 -4,-112 130,-112 130,4 -4,4\"/>\n",
       "<!-- 1 -->\n",
       "<g id=\"node1\" class=\"node\">\n",
       "<title>1</title>\n",
       "<ellipse fill=\"none\" stroke=\"#000000\" cx=\"27\" cy=\"-18\" rx=\"27\" ry=\"18\"/>\n",
       "<text text-anchor=\"middle\" x=\"27\" y=\"-14.3\" font-family=\"Times,serif\" font-size=\"14.00\" fill=\"#000000\">24</text>\n",
       "</g>\n",
       "<!-- 2 -->\n",
       "<g id=\"node2\" class=\"node\">\n",
       "<title>2</title>\n",
       "<ellipse fill=\"none\" stroke=\"#000000\" cx=\"99\" cy=\"-90\" rx=\"27\" ry=\"18\"/>\n",
       "<text text-anchor=\"middle\" x=\"99\" y=\"-86.3\" font-family=\"Times,serif\" font-size=\"14.00\" fill=\"#000000\">59</text>\n",
       "</g>\n",
       "<!-- 3 -->\n",
       "<g id=\"node3\" class=\"node\">\n",
       "<title>3</title>\n",
       "<ellipse fill=\"none\" stroke=\"#000000\" cx=\"27\" cy=\"-90\" rx=\"27\" ry=\"18\"/>\n",
       "<text text-anchor=\"middle\" x=\"27\" y=\"-86.3\" font-family=\"Times,serif\" font-size=\"14.00\" fill=\"#000000\">114</text>\n",
       "</g>\n",
       "<!-- 3&#45;&#45;1 -->\n",
       "<g id=\"edge1\" class=\"edge\">\n",
       "<title>3&#45;&#45;1</title>\n",
       "<path fill=\"none\" stroke=\"#000000\" d=\"M27,-71.8314C27,-61 27,-47.2876 27,-36.4133\"/>\n",
       "</g>\n",
       "</g>\n",
       "</svg>\n"
      ]
     },
     "execution_count": 47,
     "metadata": {
      "image/svg+xml": {
       "height": 500,
       "width": 500
      }
     },
     "output_type": "execute_result"
    }
   ],
   "source": [
    "JupyterSplashDot(DotRosalesGraph(354,s));"
   ]
  },
  {
   "cell_type": "markdown",
   "id": "dc575bae",
   "metadata": {},
   "source": [
    "The number of connected components of $G_s$ coincides with the set of $R$-classes of the set of factorizations of $s$. Thus the catenary degree is attained in an $s$ with $G_s$ not connected, and the tame degree in an $s$ with $G_s$ not complete."
   ]
  },
  {
   "cell_type": "markdown",
   "id": "0903af6c",
   "metadata": {},
   "source": [
    "### Primality"
   ]
  },
  {
   "cell_type": "markdown",
   "id": "1abb8093",
   "metadata": {},
   "source": [
    "Recall that $S$ induces an order over the integers $a\\le_S b$ if $b-a\\in S$. If $a$ and $b$ are in $S$, then we say that $a$ divides $b$ if $b-a\\in S$. In this way, minimal generators (irreducibles, atoms, primitive elements) are those not having proper divisors. A natural question arises: are there \"prime\" elements in a numerical semigroup. The ones to be candidates to be prime are the minimal generators of the semigroup.\n",
    "\n",
    "Let $S$ be minimally generated by $\\{n_1,\\dots,n_e\\}$. Consider the set $\\operatorname{Minimals}_\\le (\\mathsf{Z}(n_i+S))$. Notice that $S\\setminus(n_i+S)=\\operatorname{Ap}(S,n_i)$, and so the set $\\mathsf{Z}(n_i+S)=\\mathbb{N^e}\\setminus \\mathsf{Z}(\\operatorname{Ap}(S,n_i))$. Let $z \\in \\operatorname{Minimals}_\\le (\\mathsf{Z}(n_i+S))$, $z\\neq e_i$. Then $n_i$ divides $\\varphi_S(z)$ and cannot divide any of its \"factors\". Hence, $n_i$ cannot be prime.\n",
    "\n",
    "Let $s\\in S$. The $\\omega$-primality of $S$, $\\omega(S,s)$, is defined as the least integer $N$ such that whenever $s$ divides $a_1+\\dots+a_n$ for some $a_1,\\dots,a_n\\in S$, then $s$ divides $a_{i_1}+\\dots+a_{i_N}$ for some $\\{i_1,\\dots,i_N\\}\\subseteq \\{1,\\dots,n\\}$. By an argument similar to the one given above,\n",
    "$$\n",
    "\\omega(S,s)= \\max \\{ |z| : z\\in \\operatorname{Minimals}_\\le (\\mathsf{Z}(s+S))\\}.\n",
    "$$"
   ]
  },
  {
   "cell_type": "code",
   "execution_count": 48,
   "id": "748fee90",
   "metadata": {},
   "outputs": [
    {
     "data": {
      "text/plain": [
       "Numerical semigroup with 3 generators"
      ]
     },
     "execution_count": 48,
     "metadata": {
      "text/plain": ""
     },
     "output_type": "execute_result"
    }
   ],
   "source": [
    "s:=NumericalSemigroup(3,5,7);"
   ]
  },
  {
   "cell_type": "code",
   "execution_count": 49,
   "id": "e2799a06",
   "metadata": {},
   "outputs": [
    {
     "data": {
      "text/plain": [
       "5"
      ]
     },
     "execution_count": 49,
     "metadata": {
      "text/plain": ""
     },
     "output_type": "execute_result"
    }
   ],
   "source": [
    "OmegaPrimality(10,s);"
   ]
  },
  {
   "cell_type": "markdown",
   "id": "61705166",
   "metadata": {},
   "source": [
    "Observe that if $z\\in \\operatorname{Minimals}_\\le(\\mathsf{Z}(s+S))$, then $\\varphi(z)=s+t$ for some $t\\in S$. Let $i$ be such $z_i\\neq 0$. Then $z-z_i\\not\\in \\mathsf{Z}(s+S)$, and thus $s+t-n_i\\not\\in s+S$, which means that $t\\in \\operatorname{Ap}(S,n_i)$. This bounds the search for cmputing $\\operatorname{Minimals}_\\le(\\mathsf{Z}(s+S))$.\n",
    "\n",
    "There is an alternative way to compute the set $\\operatorname{Minimals}_\\le(\\mathsf{Z}(s+S))$. Observe that $x\\in \\mathsf{Z}(s+S)$ if an only if $n_1x_1+\\dots+x_en_e=s+n_1t_1+\\dots+n_et_e$ for some $t_1,\\dots,t_e\\in \\mathbb{N}$. So we can solve the problem by looking at the nonnegative integer solutions (in $\\mathbb{N}^{2e}$ to the equation\n",
    "$$n_1x_1+\\dots+x_en_e-n_1t_1-\\dots-n_et_e=s$$\n",
    "and then project onto the first $e$ coordinates."
   ]
  },
  {
   "cell_type": "markdown",
   "id": "67404821",
   "metadata": {},
   "source": [
    "The omega primality of $S$ is defined as the maximum of the omega primalities of its minimal generators."
   ]
  },
  {
   "cell_type": "code",
   "execution_count": 50,
   "id": "e024dfe7",
   "metadata": {},
   "outputs": [
    {
     "data": {
      "text/plain": [
       "4"
      ]
     },
     "execution_count": 50,
     "metadata": {
      "text/plain": ""
     },
     "output_type": "execute_result"
    }
   ],
   "source": [
    "OmegaPrimality(s);"
   ]
  },
  {
   "cell_type": "markdown",
   "id": "bb41d061",
   "metadata": {},
   "source": [
    "It can be shown that \n",
    "$$\n",
    "2+\\max(\\delta(S))\\le \\operatorname{c}(S)\\le \\omega(S)\\le \\operatorname{t}(S).\n",
    "$$"
   ]
  },
  {
   "cell_type": "markdown",
   "id": "a6819fac",
   "metadata": {},
   "source": [
    "### Divisors"
   ]
  },
  {
   "cell_type": "markdown",
   "id": "1ee56be3",
   "metadata": {},
   "source": [
    "Let $s$ be an element in a numerical semigroup $S$. The set of divisors of $s$ is \n",
    "$$\n",
    "\\operatorname{D}(s)=\\{ n\\in S : s-n\\in S\\}.\n",
    "$$\n",
    "\n",
    "The Feng-Rao distance of $s$ is defined as \n",
    "$$\n",
    "\\delta_{FR}(s)=\\min\\{ \\# \\operatorname{D}(s') : s\\le s', s'\\in S\\}.\n",
    "$$\n",
    "\n",
    "Let $c$ be the conductor of $S$ and let $g$ be its genus. It can be shown that for $s\\ge 2c-1$, \n",
    "$$\n",
    "\\delta_{FR}(s)=s+1-2g.\n",
    "$$"
   ]
  },
  {
   "cell_type": "code",
   "execution_count": 53,
   "id": "761b014c",
   "metadata": {},
   "outputs": [
    {
     "data": {
      "text/plain": [
       "[ 1, 2, 2, 3, 2, 4, 4, 5, 6, 7, 8, 9, 10, 11, 12, 13, 14, 15, 16, 17 ]"
      ]
     },
     "execution_count": 53,
     "metadata": {
      "text/plain": ""
     },
     "output_type": "execute_result"
    }
   ],
   "source": [
    "ndiv:={x,s}->Length(DivisorsOfElementInNumericalSemigroup(x,s));;\n",
    "s:=NumericalSemigroup(3,5,7);;\n",
    "List(s{[1..20]}, x->ndiv(x,s));"
   ]
  },
  {
   "cell_type": "code",
   "execution_count": 55,
   "id": "c5008653",
   "metadata": {},
   "outputs": [
    {
     "data": {
      "text/plain": [
       "5"
      ]
     },
     "execution_count": 55,
     "metadata": {
      "text/plain": ""
     },
     "output_type": "execute_result"
    }
   ],
   "source": [
    "FengRaoDistance(s,1,10);"
   ]
  },
  {
   "cell_type": "markdown",
   "id": "c68181f1",
   "metadata": {},
   "source": [
    "The generalized Feng-Rao distance is defined as \n",
    "$$\n",
    "\\delta_{FR}^r=\\min\\{\\#\\operatorname{D}(s_1,\\dots,s_r) : s\\le s_1\\le \\dots \\le s_r, s_1,\\dots,s_r\\in S\\},\n",
    "$$\n",
    "where $\\operatorname{D}(s_1,\\dots,s_r)=\\bigcup_{i=1}^r \\operatorname{D}(s_i)$.\n",
    "It can be shown that for $s\\ge 2c-1$, \n",
    "$$\n",
    "\\delta_{FR}^r= s+1 -2g + E(S,r).\n",
    "$$\n",
    "The constant $E(S,r)$ is known as the $r$th Feng-Rao number. For $r=2$, \n",
    "$$\n",
    "E(S,2)=\\min\\{\\#\\operatorname{Ap}(S,n) : r\\in \\{1,\\dots,\\operatorname{m}(S)\\}\\}.\n",
    "$$\n",
    "The definition of the Apéry set for elements not in $S$ is the same as the one given above."
   ]
  },
  {
   "cell_type": "code",
   "execution_count": null,
   "id": "5ea835fb",
   "metadata": {},
   "outputs": [],
   "source": []
  }
 ],
 "metadata": {
  "kernelspec": {
   "display_name": "GAP 4",
   "language": "gap",
   "name": "gap-4"
  },
  "language_info": {
   "codemirror_mode": "gap",
   "file_extension": ".g",
   "mimetype": "text/x-gap",
   "name": "GAP 4",
   "nbconvert_exporter": "",
   "pygments_lexer": "gap",
   "version": "4.10.0"
  }
 },
 "nbformat": 4,
 "nbformat_minor": 5
}
