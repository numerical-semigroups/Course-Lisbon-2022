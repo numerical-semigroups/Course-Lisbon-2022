{
 "cells": [
  {
   "cell_type": "markdown",
   "id": "9df0fd2a",
   "metadata": {},
   "source": [
    "# `NumericalSgps` an introduction - Lisbon 2022"
   ]
  },
  {
   "cell_type": "markdown",
   "id": "55aa7271",
   "metadata": {},
   "source": [
    "## Some basic definitions"
   ]
  },
  {
   "cell_type": "markdown",
   "id": "2e4a68a3",
   "metadata": {},
   "source": [
    "Recall that a numerical semigroup $S$ is a subset of the set of nonnegative integers, $\\mathbb{N}$, that is closed under addition, $0\\in S$, and there are only finitely many positive integers not belonging to $S$. The first two contidions imply that $(S,+)$ is a submonoid of $(\\mathbb{N},+)$. \n",
    "\n",
    "The set $\\mathbb{N}\\setminus S$ is known as the set of gaps of $S$, denoted $\\operatorname{G}(S)$, and the largest integer not belonging to $S$ is its Frobenius number, $\\operatorname{F}(S)$. The conductor of $S$, $\\operatorname{C}(S)$ has the following property: $\\operatorname{C}(S)+\\mathbb{N}\\subseteq S$."
   ]
  },
  {
   "cell_type": "code",
   "execution_count": 1,
   "id": "32195684",
   "metadata": {},
   "outputs": [
    {
     "data": {
      "text/plain": [
       "true"
      ]
     },
     "execution_count": 1,
     "metadata": {
      "text/plain": ""
     },
     "output_type": "execute_result"
    }
   ],
   "source": [
    "LoadPackage(\"num\");"
   ]
  },
  {
   "cell_type": "code",
   "execution_count": 2,
   "id": "ae156b75",
   "metadata": {},
   "outputs": [
    {
     "data": {
      "text/plain": [
       "<Numerical semigroup>"
      ]
     },
     "execution_count": 2,
     "metadata": {
      "text/plain": ""
     },
     "output_type": "execute_result"
    }
   ],
   "source": [
    "s:=NumericalSemigroupByGaps([1..5]);"
   ]
  },
  {
   "cell_type": "code",
   "execution_count": 3,
   "id": "ae1934c2",
   "metadata": {},
   "outputs": [
    {
     "data": {
      "text/plain": [
       "true"
      ]
     },
     "execution_count": 3,
     "metadata": {
      "text/plain": ""
     },
     "output_type": "execute_result"
    }
   ],
   "source": [
    "10 in s;"
   ]
  },
  {
   "cell_type": "code",
   "execution_count": 4,
   "id": "985a5c09",
   "metadata": {},
   "outputs": [
    {
     "data": {
      "text/plain": [
       "5"
      ]
     },
     "execution_count": 4,
     "metadata": {
      "text/plain": ""
     },
     "output_type": "execute_result"
    }
   ],
   "source": [
    "FrobeniusNumber(s);"
   ]
  },
  {
   "cell_type": "code",
   "execution_count": 5,
   "id": "426c6e41",
   "metadata": {},
   "outputs": [
    {
     "data": {
      "text/plain": [
       "[ 1 .. 5 ]"
      ]
     },
     "execution_count": 5,
     "metadata": {
      "text/plain": ""
     },
     "output_type": "execute_result"
    }
   ],
   "source": [
    "Gaps(s);"
   ]
  },
  {
   "cell_type": "markdown",
   "id": "487a3e2e",
   "metadata": {},
   "source": [
    "We can see which elements in the semigroup are in a given interval."
   ]
  },
  {
   "cell_type": "code",
   "execution_count": 6,
   "id": "843fba4c",
   "metadata": {},
   "outputs": [
    {
     "data": {
      "text/plain": [
       "[ 0, 6, 7, 8, 9, 10, 11, 12, 13, 14, 15, 16, 17, 18, 19, 20, 21, 22, 23, 24,   25, 26, 27, 28, 29, 30 ]"
      ]
     },
     "execution_count": 6,
     "metadata": {
      "text/plain": ""
     },
     "output_type": "execute_result"
    }
   ],
   "source": [
    "Intersection(s,[0..30]);"
   ]
  },
  {
   "cell_type": "markdown",
   "id": "46b1eb21",
   "metadata": {},
   "source": [
    "Or which is the $i$th element in the semigroup."
   ]
  },
  {
   "cell_type": "code",
   "execution_count": 7,
   "id": "11408bca",
   "metadata": {},
   "outputs": [
    {
     "data": {
      "text/plain": [
       "34"
      ]
     },
     "execution_count": 7,
     "metadata": {
      "text/plain": ""
     },
     "output_type": "execute_result"
    }
   ],
   "source": [
    "s[30];"
   ]
  },
  {
   "cell_type": "markdown",
   "id": "be510ce9",
   "metadata": {},
   "source": [
    "Or even, what are the first $n$ elements in the semigroup."
   ]
  },
  {
   "cell_type": "code",
   "execution_count": 8,
   "id": "6401a346",
   "metadata": {},
   "outputs": [
    {
     "data": {
      "text/plain": [
       "[ 0, 6, 7, 8, 9, 10, 11, 12, 13, 14, 15, 16, 17, 18, 19, 20, 21, 22, 23, 24 ]"
      ]
     },
     "execution_count": 8,
     "metadata": {
      "text/plain": ""
     },
     "output_type": "execute_result"
    }
   ],
   "source": [
    "s{[1..20]};"
   ]
  },
  {
   "cell_type": "markdown",
   "id": "937c9224",
   "metadata": {},
   "source": [
    "The genus of $S$ is the cardinality of $\\mathbb{N}\\setminus S$, denoted $\\operatorname{g}(S)$."
   ]
  },
  {
   "cell_type": "code",
   "execution_count": 9,
   "id": "2b23da44",
   "metadata": {},
   "outputs": [
    {
     "data": {
      "text/plain": [
       "5"
      ]
     },
     "execution_count": 9,
     "metadata": {
      "text/plain": ""
     },
     "output_type": "execute_result"
    }
   ],
   "source": [
    "Genus(s);"
   ]
  },
  {
   "cell_type": "markdown",
   "id": "02536b43",
   "metadata": {},
   "source": [
    "The set $S\\cap[0,\\operatorname{C}(S)]$ is known as the set of small elements of $S$ (if we remove the conductor, then somtimes is called the set of left or sporadic elements)."
   ]
  },
  {
   "cell_type": "code",
   "execution_count": 10,
   "id": "9d983145",
   "metadata": {},
   "outputs": [
    {
     "data": {
      "text/plain": [
       "[ 0, 6 ]"
      ]
     },
     "execution_count": 10,
     "metadata": {
      "text/plain": ""
     },
     "output_type": "execute_result"
    }
   ],
   "source": [
    "SmallElements(s);"
   ]
  },
  {
   "cell_type": "code",
   "execution_count": 11,
   "id": "881da35d",
   "metadata": {},
   "outputs": [
    {
     "data": {
      "text/plain": [
       "true"
      ]
     },
     "execution_count": 11,
     "metadata": {
      "text/plain": ""
     },
     "output_type": "execute_result"
    }
   ],
   "source": [
    "s=NumericalSemigroupBySmallElements([0,6]);"
   ]
  },
  {
   "cell_type": "markdown",
   "id": "f9330665",
   "metadata": {},
   "source": [
    "Denote by $\\operatorname{n}(S)=\\#\\{s \\in S : s<\\operatorname{F}(S)\\}$. It follows that $\\operatorname{n}(S)+\\operatorname{g}(S)=\\operatorname{F}(S)+1$. Since for every $n\\in S$ with $n<\\operatorname{F}(S)$ we have that $\\operatorname{F}(S)-n\\not\\in S$, we have that there are less left elements than gaps, and so the following inequality always holds."
   ]
  },
  {
   "cell_type": "code",
   "execution_count": 12,
   "id": "faf5d493",
   "metadata": {
    "scrolled": true
   },
   "outputs": [
    {
     "data": {
      "text/plain": [
       "true"
      ]
     },
     "execution_count": 12,
     "metadata": {
      "text/plain": ""
     },
     "output_type": "execute_result"
    }
   ],
   "source": [
    "Genus(s)>= (FrobeniusNumber(s)+1)/2;"
   ]
  },
  {
   "cell_type": "markdown",
   "id": "5f2f30e7",
   "metadata": {},
   "source": [
    "Given $A$ a set of positive integers, the submonoid (under addition) of $\\mathbb{N}$ generated by $A$ is the intersection of all submonoids of $\\mathbb{N}$ contanining $A$, which can be described as \n",
    "$$ \\langle A\\rangle = \\left\\{ \\sum_{i=1}^n \\lambda_i a_i : n\\in\\mathbb{N}, \\lambda_i\\in \\mathbb{N}, a_i\\in A\\right\\}.$$\n",
    "The submonoid $\\langle A\\rangle$ is a numerical semigroup if and only if $\\gcd(A)=1$.\n",
    "\n",
    "We say that $A$ is a generating system of $S$ if $S=\\langle A\\rangle$, and that $A$ is a minimal generating system of $S$ if, in addition, no proper subset of $A$ generates $S$. \n",
    "\n",
    "Every numerical semgiroup has a unique minimal generating system: $S^*\\setminus (S^*+S^*)$, with $S^*=S\\setminus\\{0\\}$. Sometimes the elements in the minimal generating system of $S$ are called minimal generators, atoms, irreducible, or primitive elements of $S$. The cardinality of the minimal generating system of $S$ is known as the embedding dimension of $S$, denoted $\\operatorname{e}(S)$."
   ]
  },
  {
   "cell_type": "code",
   "execution_count": 13,
   "id": "42a27a8a",
   "metadata": {},
   "outputs": [
    {
     "data": {
      "text/plain": [
       "[ 6 .. 11 ]"
      ]
     },
     "execution_count": 13,
     "metadata": {
      "text/plain": ""
     },
     "output_type": "execute_result"
    }
   ],
   "source": [
    "Generators(s);"
   ]
  },
  {
   "cell_type": "code",
   "execution_count": 14,
   "id": "62cce96a",
   "metadata": {},
   "outputs": [
    {
     "data": {
      "text/plain": [
       "[ 6 .. 11 ]"
      ]
     },
     "execution_count": 14,
     "metadata": {
      "text/plain": ""
     },
     "output_type": "execute_result"
    }
   ],
   "source": [
    "MinimalGenerators(s);"
   ]
  },
  {
   "cell_type": "code",
   "execution_count": 15,
   "id": "b77dd575",
   "metadata": {},
   "outputs": [
    {
     "data": {
      "text/plain": [
       "6"
      ]
     },
     "execution_count": 15,
     "metadata": {
      "text/plain": ""
     },
     "output_type": "execute_result"
    }
   ],
   "source": [
    "EmbeddingDimension(s);"
   ]
  },
  {
   "cell_type": "markdown",
   "id": "96a05e3f",
   "metadata": {},
   "source": [
    "We can define a numerical semigoup by giving one of its generating sets."
   ]
  },
  {
   "cell_type": "code",
   "execution_count": 16,
   "id": "f7f45111",
   "metadata": {},
   "outputs": [
    {
     "data": {
      "text/plain": [
       "<Numerical semigroup with 3 generators>"
      ]
     },
     "execution_count": 16,
     "metadata": {
      "text/plain": ""
     },
     "output_type": "execute_result"
    }
   ],
   "source": [
    "s:=NumericalSemigroup(3,5,7);"
   ]
  },
  {
   "cell_type": "markdown",
   "id": "ff4c9756",
   "metadata": {},
   "source": [
    "The multiplicity of a numerical semigroup $S$ is the least positive integer in $S$ (and coincides with its smallest minimal generator), we will denote it by $\\operatorname{m}(S)$."
   ]
  },
  {
   "cell_type": "code",
   "execution_count": 17,
   "id": "8e72da0c",
   "metadata": {},
   "outputs": [
    {
     "data": {
      "text/plain": [
       "3"
      ]
     },
     "execution_count": 17,
     "metadata": {
      "text/plain": ""
     },
     "output_type": "execute_result"
    }
   ],
   "source": [
    "Multiplicity(s);"
   ]
  },
  {
   "cell_type": "markdown",
   "id": "d944e41f",
   "metadata": {},
   "source": [
    "## Apéry sets"
   ]
  },
  {
   "cell_type": "markdown",
   "id": "0e7031d6",
   "metadata": {},
   "source": [
    "One of the most important tools when studying numerical semigroups is the concept of Apéry sets. Given a numerical semigroup $S$ and $n$ a nonzero element of $S$ (one can define also Apéry sets for elements outside $S$, but we are not going to deal with them here), the Apéry set of $n$ in $S$ (or of $S$ with respect to $n$) is the set \n",
    "$$\\operatorname{Ap}(S,n)=\\{ s\\in S : s-n\\not\\in S\\}.$$\n",
    "This set has precisely $n$ elements, one in each congruence class modulo $n$. Moreover, for every $s\\in S$ there exist unique $k\\in \\mathbb{N}$ and $w\\in \\operatorname{Ap}(S,n)$ such that $s=kn+w$. This in particular implies that the embedding dimension of $S$ is always smaller than or equal to its multiplicity, since $(\\operatorname{Ap}(S,n))\\setminus\\{0\\}\\cup\\{n\\}$ is a minimal generating set of $S$ for all $n\\in S\\setminus\\{0\\}$."
   ]
  },
  {
   "cell_type": "code",
   "execution_count": 19,
   "id": "12f7e746",
   "metadata": {},
   "outputs": [
    {
     "data": {
      "text/plain": [
       "[ 0, 25, 26, 15, 16, 41, 6, 31, 20, 21, 10, 35 ]"
      ]
     },
     "execution_count": 19,
     "metadata": {
      "text/plain": ""
     },
     "output_type": "execute_result"
    }
   ],
   "source": [
    "s:=NumericalSemigroup(6,10,15);;\n",
    "AperyList(s,12);"
   ]
  },
  {
   "cell_type": "markdown",
   "id": "a0194713",
   "metadata": {},
   "source": [
    "If the second argument is not given, then the Apéry set is taken with respect to the multiplicity of the numerical semigroup."
   ]
  },
  {
   "cell_type": "code",
   "execution_count": 20,
   "id": "3285ac2a",
   "metadata": {},
   "outputs": [
    {
     "data": {
      "text/plain": [
       "[ 0, 25, 20, 15, 10, 35 ]"
      ]
     },
     "execution_count": 20,
     "metadata": {
      "text/plain": ""
     },
     "output_type": "execute_result"
    }
   ],
   "source": [
    "AperyList(s);"
   ]
  },
  {
   "cell_type": "markdown",
   "id": "01edd84a",
   "metadata": {},
   "source": [
    "The output is arranged in a list, so that in the $i$th position (starting in 0) we find the least element in $S$ congruent with $i$ modulo $n$. In this way, membership to $S$ becomes trivial once an Apéry set of the semigroup is known. \n",
    "\n",
    "This has some other interesting consequences:"
   ]
  },
  {
   "cell_type": "code",
   "execution_count": 21,
   "id": "e0fa9006",
   "metadata": {},
   "outputs": [
    {
     "data": {
      "text/plain": [
       "true"
      ]
     },
     "execution_count": 21,
     "metadata": {
      "text/plain": ""
     },
     "output_type": "execute_result"
    }
   ],
   "source": [
    "FrobeniusNumber(s)=Maximum(AperyList(s,12))-12;"
   ]
  },
  {
   "cell_type": "code",
   "execution_count": 22,
   "id": "80ea52c0",
   "metadata": {},
   "outputs": [
    {
     "data": {
      "text/plain": [
       "true"
      ]
     },
     "execution_count": 22,
     "metadata": {
      "text/plain": ""
     },
     "output_type": "execute_result"
    }
   ],
   "source": [
    "Genus(s)=(Sum(AperyList(s,12)))/12- (12-1)/2;"
   ]
  },
  {
   "cell_type": "markdown",
   "id": "87d869ba",
   "metadata": {},
   "source": [
    "Let $m$ be the multiplcity of $S$, and let $w_i$ be the element in the Apéry set of $m$ in $S$ congruent with $i$ modulo $m$. We can write $w_i=k_im+i$. The tuple $(k_1,\\dots,k_{m-1})$ is known as the Kunz coordinates of $S$. "
   ]
  },
  {
   "cell_type": "code",
   "execution_count": 23,
   "id": "7a9bf52e",
   "metadata": {},
   "outputs": [
    {
     "data": {
      "text/plain": [
       "[ 4, 3, 2, 1, 5 ]"
      ]
     },
     "execution_count": 23,
     "metadata": {
      "text/plain": ""
     },
     "output_type": "execute_result"
    }
   ],
   "source": [
    "KunzCoordinates(s);"
   ]
  },
  {
   "cell_type": "markdown",
   "id": "456448e3",
   "metadata": {},
   "source": [
    "Notice that every nonnegative integer $x$ can be written as $x=k m+i$ for some $k,n\\in \\mathbb{N}$, with $i<m$. It follows easily that $x\\in S$ if and only if $k\\ge k_i$. So it is at no surprise that the genus is precisely the sum of the Kunz coordinates of $S$, which is just a reformulation of the above statement on the genus.    "
   ]
  },
  {
   "cell_type": "code",
   "execution_count": 24,
   "id": "6def5599",
   "metadata": {},
   "outputs": [
    {
     "data": {
      "text/plain": [
       "true"
      ]
     },
     "execution_count": 24,
     "metadata": {
      "text/plain": ""
     },
     "output_type": "execute_result"
    }
   ],
   "source": [
    "Genus(s)=Sum(KunzCoordinates(s));"
   ]
  },
  {
   "cell_type": "markdown",
   "id": "29f24b6c",
   "metadata": {},
   "source": [
    "Notice that $w_i+w_j\\in S$ for all $i,j$, and thus $w_i+w_j=k_{ij}m+w_{i+j \\bmod n}$, this imposes some conditions on the tuples $(k_1,\\dots,k_{m-1})$ that can be Kunz coordinates of a numerical semigroup with multiplicity $m$. In fact, there is a one to one correspondence between numerical semigroups with multiplicity $m$ and integers points in what it is called the Kunz polyhedron."
   ]
  },
  {
   "cell_type": "code",
   "execution_count": 25,
   "id": "97f087fe",
   "metadata": {},
   "outputs": [
    {
     "data": {
      "text/plain": [
       "[ [ 1, 0, 0, 0, 0, -1 ], [ 0, 1, 0, 0, 0, -1 ], [ 0, 0, 1, 0, 0, -1 ],   [ 0, 0, 0, 1, 0, -1 ], [ 0, 0, 0, 0, 1, -1 ], [ 2, -1, 0, 0, 0, 0 ],   [ 1, 1, -1, 0, 0, 0 ], [ 1, 0, 1, -1, 0, 0 ], [ 1, 0, 0, 1, -1, 0 ],   [ 0, 2, 0, -1, 0, 0 ], [ 0, 1, 1, 0, -1, 0 ], [ -1, 1, 0, 0, 1, 1 ],   [ -1, 0, 1, 1, 0, 1 ], [ 0, -1, 1, 0, 1, 1 ], [ 0, -1, 0, 2, 0, 1 ],   [ 0, 0, -1, 1, 1, 1 ], [ 0, 0, 0, -1, 2, 1 ] ]"
      ]
     },
     "execution_count": 25,
     "metadata": {
      "text/plain": ""
     },
     "output_type": "execute_result"
    }
   ],
   "source": [
    "KunzPolytope(6);"
   ]
  },
  {
   "cell_type": "markdown",
   "id": "4c51b642",
   "metadata": {},
   "source": [
    "The first elements of this output mean that $x_i\\ge 1$, while for instance $[ 1, 0, 1, -1, 0, 0 ]$ translates to $x_1+x_3\\ge x_4$, and $ [ 0, 0, 0, -1, 2, 1 ]$ to $2x_5+1\\ge x_4$."
   ]
  },
  {
   "cell_type": "code",
   "execution_count": 27,
   "id": "5ec266be",
   "metadata": {},
   "outputs": [],
   "source": [
    "x:=List([1..5],i->Indeterminate(Rationals,i));;\n",
    "x1:=Concatenation(x,[1]);;"
   ]
  },
  {
   "cell_type": "code",
   "execution_count": 28,
   "id": "ccd84663",
   "metadata": {},
   "outputs": [
    {
     "name": "stdout",
     "output_type": "stream",
     "text": [
      "x_1-1 ≥ 0\n",
      "x_2-1 ≥ 0\n",
      "x_3-1 ≥ 0\n",
      "x_4-1 ≥ 0\n",
      "x_5-1 ≥ 0\n",
      "2*x_1-x_2 ≥ 0\n",
      "x_1+x_2-x_3 ≥ 0\n",
      "x_1+x_3-x_4 ≥ 0\n",
      "x_1+x_4-x_5 ≥ 0\n",
      "2*x_2-x_4 ≥ 0\n",
      "x_2+x_3-x_5 ≥ 0\n",
      "-x_1+x_2+x_5+1 ≥ 0\n",
      "-x_1+x_3+x_4+1 ≥ 0\n",
      "-x_2+x_3+x_5+1 ≥ 0\n",
      "-x_2+2*x_4+1 ≥ 0\n",
      "-x_3+x_4+x_5+1 ≥ 0\n",
      "-x_4+2*x_5+1 ≥ 0\n"
     ]
    }
   ],
   "source": [
    "for eq in KunzPolytope(6) do Print(eq*x1,\" ≥ 0\\n\"); od;"
   ]
  },
  {
   "cell_type": "markdown",
   "id": "e79a1050",
   "metadata": {},
   "source": [
    "# Pseudo-Frobenius numbers and type"
   ]
  },
  {
   "cell_type": "markdown",
   "id": "be905552",
   "metadata": {},
   "source": [
    "Let $S$ be a numerical semigroup. A pseudo-Frobenius number is an integer $f$ such that $f+S^*\\subseteq S$. In particular, the Frobenius number of $S$ is a pseudo-Frobenius number. The cardinality of the set of pseudo-Frobenius numbers of $S$, $\\operatorname{FP}(S)$, is known as the type of $S$.\n",
    "\n",
    "The semigroup $S$ induces the following ordering over the integers: $a \\le_S b$ if $b-a\\in S$. It easily follows that \n",
    "$$ \\operatorname{PF}(S)= \\operatorname{Maximals}_{\\le_S}(\\mathbb{N}\\setminus S).$$"
   ]
  },
  {
   "cell_type": "code",
   "execution_count": 29,
   "id": "6aca7ad8",
   "metadata": {},
   "outputs": [
    {
     "data": {
      "text/plain": [
       "<Numerical semigroup with 4 generators>"
      ]
     },
     "execution_count": 29,
     "metadata": {
      "text/plain": ""
     },
     "output_type": "execute_result"
    }
   ],
   "source": [
    "s:=NumericalSemigroup(6,11,13,21);"
   ]
  },
  {
   "cell_type": "code",
   "execution_count": 30,
   "id": "d97a89b4",
   "metadata": {},
   "outputs": [
    {
     "data": {
      "text/plain": [
       "[ 15, 16, 20 ]"
      ]
     },
     "execution_count": 30,
     "metadata": {
      "text/plain": ""
     },
     "output_type": "execute_result"
    }
   ],
   "source": [
    "PseudoFrobenius(s);"
   ]
  },
  {
   "cell_type": "code",
   "execution_count": 31,
   "id": "32e2d2d6",
   "metadata": {
    "scrolled": true
   },
   "outputs": [
    {
     "data": {
      "text/plain": [
       "3"
      ]
     },
     "execution_count": 31,
     "metadata": {
      "text/plain": ""
     },
     "output_type": "execute_result"
    }
   ],
   "source": [
    "Type(s);"
   ]
  },
  {
   "cell_type": "markdown",
   "id": "02778161",
   "metadata": {},
   "source": [
    "Is is not difficult to prove that for any $n\\in S\\setminus\\{0\\}$,  $$n+\\operatorname{PF}(S)=\\operatorname{Maximals}_{\\le_S}(\\operatorname{Ap}(S,n)).$$"
   ]
  },
  {
   "cell_type": "code",
   "execution_count": 32,
   "id": "d46909b6",
   "metadata": {},
   "outputs": [
    {
     "data": {
      "text/plain": [
       "<general mapping: Domain([ 0, 11, 13, 21, 22, 26 ]) -> Domain([ 0, 11, 13, 21, 22, 26 ]) >"
      ]
     },
     "execution_count": 32,
     "metadata": {
      "text/plain": ""
     },
     "output_type": "execute_result"
    }
   ],
   "source": [
    "rap:=HasseDiagramOfAperyListOfNumericalSemigroup(s);"
   ]
  },
  {
   "cell_type": "code",
   "execution_count": 34,
   "id": "8ad6bb1c",
   "metadata": {},
   "outputs": [
    {
     "data": {
      "image/svg+xml": [
       "<?xml version=\"1.0\" encoding=\"UTF-8\" standalone=\"no\"?>\n",
       "<!DOCTYPE svg PUBLIC \"-//W3C//DTD SVG 1.1//EN\"\n",
       " \"http://www.w3.org/Graphics/SVG/1.1/DTD/svg11.dtd\">\n",
       "<!-- Generated by graphviz version 9.0.0 (20230911.1827)\n",
       " -->\n",
       "<!-- Title: NSGraph Pages: 1 -->\n",
       "<svg width=\"206pt\" height=\"188pt\"\n",
       " viewBox=\"0.00 0.00 206.00 188.00\" xmlns=\"http://www.w3.org/2000/svg\" xmlns:xlink=\"http://www.w3.org/1999/xlink\">\n",
       "<g id=\"graph0\" class=\"graph\" transform=\"scale(1 1) rotate(0) translate(4 184)\">\n",
       "<title>NSGraph</title>\n",
       "<polygon fill=\"white\" stroke=\"none\" points=\"-4,4 -4,-184 202,-184 202,4 -4,4\"/>\n",
       "<!-- 1 -->\n",
       "<g id=\"node1\" class=\"node\">\n",
       "<title>1</title>\n",
       "<ellipse fill=\"none\" stroke=\"black\" cx=\"99\" cy=\"-18\" rx=\"27\" ry=\"18\"/>\n",
       "<text text-anchor=\"middle\" x=\"99\" y=\"-12.95\" font-family=\"Times,serif\" font-size=\"14.00\">0</text>\n",
       "</g>\n",
       "<!-- 2 -->\n",
       "<g id=\"node2\" class=\"node\">\n",
       "<title>2</title>\n",
       "<ellipse fill=\"none\" stroke=\"black\" cx=\"27\" cy=\"-90\" rx=\"27\" ry=\"18\"/>\n",
       "<text text-anchor=\"middle\" x=\"27\" y=\"-84.95\" font-family=\"Times,serif\" font-size=\"14.00\">11</text>\n",
       "</g>\n",
       "<!-- 2&#45;&gt;1 -->\n",
       "<g id=\"edge1\" class=\"edge\">\n",
       "<title>2&#45;&gt;1</title>\n",
       "<path fill=\"none\" stroke=\"black\" d=\"M50,-66.64C61.16,-55.79 74.26,-43.05 84.1,-33.49\"/>\n",
       "<polygon fill=\"black\" stroke=\"black\" points=\"47.73,-63.96 43,-73.44 52.61,-68.98 47.73,-63.96\"/>\n",
       "</g>\n",
       "<!-- 3 -->\n",
       "<g id=\"node3\" class=\"node\">\n",
       "<title>3</title>\n",
       "<ellipse fill=\"none\" stroke=\"black\" cx=\"99\" cy=\"-90\" rx=\"27\" ry=\"18\"/>\n",
       "<text text-anchor=\"middle\" x=\"99\" y=\"-84.95\" font-family=\"Times,serif\" font-size=\"14.00\">13</text>\n",
       "</g>\n",
       "<!-- 3&#45;&gt;1 -->\n",
       "<g id=\"edge2\" class=\"edge\">\n",
       "<title>3&#45;&gt;1</title>\n",
       "<path fill=\"none\" stroke=\"black\" d=\"M99,-60.24C99,-52.04 99,-43.37 99,-36.1\"/>\n",
       "<polygon fill=\"black\" stroke=\"black\" points=\"95.5,-60.18 99,-70.18 102.5,-60.18 95.5,-60.18\"/>\n",
       "</g>\n",
       "<!-- 4 -->\n",
       "<g id=\"node4\" class=\"node\">\n",
       "<title>4</title>\n",
       "<ellipse fill=\"none\" stroke=\"black\" cx=\"171\" cy=\"-90\" rx=\"27\" ry=\"18\"/>\n",
       "<text text-anchor=\"middle\" x=\"171\" y=\"-84.95\" font-family=\"Times,serif\" font-size=\"14.00\">21</text>\n",
       "</g>\n",
       "<!-- 4&#45;&gt;1 -->\n",
       "<g id=\"edge3\" class=\"edge\">\n",
       "<title>4&#45;&gt;1</title>\n",
       "<path fill=\"none\" stroke=\"black\" d=\"M148,-66.64C136.84,-55.79 123.74,-43.05 113.9,-33.49\"/>\n",
       "<polygon fill=\"black\" stroke=\"black\" points=\"145.39,-68.98 155,-73.44 150.27,-63.96 145.39,-68.98\"/>\n",
       "</g>\n",
       "<!-- 5 -->\n",
       "<g id=\"node5\" class=\"node\">\n",
       "<title>5</title>\n",
       "<ellipse fill=\"none\" stroke=\"black\" cx=\"27\" cy=\"-162\" rx=\"27\" ry=\"18\"/>\n",
       "<text text-anchor=\"middle\" x=\"27\" y=\"-156.95\" font-family=\"Times,serif\" font-size=\"14.00\">22</text>\n",
       "</g>\n",
       "<!-- 5&#45;&gt;2 -->\n",
       "<g id=\"edge4\" class=\"edge\">\n",
       "<title>5&#45;&gt;2</title>\n",
       "<path fill=\"none\" stroke=\"black\" d=\"M27,-132.24C27,-124.04 27,-115.37 27,-108.1\"/>\n",
       "<polygon fill=\"black\" stroke=\"black\" points=\"23.5,-132.18 27,-142.18 30.5,-132.18 23.5,-132.18\"/>\n",
       "</g>\n",
       "<!-- 6 -->\n",
       "<g id=\"node6\" class=\"node\">\n",
       "<title>6</title>\n",
       "<ellipse fill=\"none\" stroke=\"black\" cx=\"99\" cy=\"-162\" rx=\"27\" ry=\"18\"/>\n",
       "<text text-anchor=\"middle\" x=\"99\" y=\"-156.95\" font-family=\"Times,serif\" font-size=\"14.00\">26</text>\n",
       "</g>\n",
       "<!-- 6&#45;&gt;3 -->\n",
       "<g id=\"edge5\" class=\"edge\">\n",
       "<title>6&#45;&gt;3</title>\n",
       "<path fill=\"none\" stroke=\"black\" d=\"M99,-132.24C99,-124.04 99,-115.37 99,-108.1\"/>\n",
       "<polygon fill=\"black\" stroke=\"black\" points=\"95.5,-132.18 99,-142.18 102.5,-132.18 95.5,-132.18\"/>\n",
       "</g>\n",
       "</g>\n",
       "</svg>\n"
      ]
     },
     "execution_count": 34,
     "metadata": {
      "image/svg+xml": {
       "height": 500,
       "width": 500
      }
     },
     "output_type": "execute_result"
    }
   ],
   "source": [
    "JupyterSplashDot(DotBinaryRelation(rap));"
   ]
  },
  {
   "cell_type": "code",
   "execution_count": 35,
   "id": "6a10fdb7",
   "metadata": {},
   "outputs": [
    {
     "data": {
      "text/plain": [
       "[ 21, 22, 26 ]"
      ]
     },
     "execution_count": 35,
     "metadata": {
      "text/plain": ""
     },
     "output_type": "execute_result"
    }
   ],
   "source": [
    "6+PseudoFrobenius(s);"
   ]
  },
  {
   "cell_type": "markdown",
   "id": "76c94cd9",
   "metadata": {},
   "source": [
    "The minimal elements in $S\\setminus\\{0\\}$ with respect to $\\le_S$ are precisely the minimal generators of $S$."
   ]
  },
  {
   "cell_type": "markdown",
   "id": "29e72446",
   "metadata": {},
   "source": [
    "For every element $n\\in S\\cap[0,\\operatorname{F}(S))\\cup (\\operatorname{PF}(S)\\setminus\\{\\operatorname{F}(S)\\})$, we have that $\\operatorname{F}(S)-n$ is a gap of $S$. Thus $\\operatorname{n}(S)+\\operatorname{t}(S)-1\\le \\operatorname{g}(S)$. By combining this with $\\operatorname{n}(S)+\\operatorname{g}(S)=\\operatorname{F}(S)+1$, we obtain\n",
    "$$\n",
    "\\operatorname{g}(S)\\ge \\frac{\\operatorname{F}(S)+\\operatorname{t}(S)}2.\n",
    "$$"
   ]
  },
  {
   "cell_type": "code",
   "execution_count": 36,
   "id": "5246d621",
   "metadata": {},
   "outputs": [
    {
     "data": {
      "text/plain": [
       "13"
      ]
     },
     "execution_count": 36,
     "metadata": {
      "text/plain": ""
     },
     "output_type": "execute_result"
    }
   ],
   "source": [
    "Genus(s);"
   ]
  },
  {
   "cell_type": "code",
   "execution_count": 37,
   "id": "85a248d1",
   "metadata": {},
   "outputs": [
    {
     "data": {
      "text/plain": [
       "23/2"
      ]
     },
     "execution_count": 37,
     "metadata": {
      "text/plain": ""
     },
     "output_type": "execute_result"
    }
   ],
   "source": [
    "(FrobeniusNumber(s)+Type(s))/2;"
   ]
  },
  {
   "cell_type": "markdown",
   "id": "33645eea",
   "metadata": {},
   "source": [
    "## Duality minimal generators  and special gaps"
   ]
  },
  {
   "cell_type": "markdown",
   "id": "1471e830",
   "metadata": {},
   "source": [
    "Notice that for a given numerical semigroup $S$, an element $n\\in S$ is a minimal generator if and only if $S\\setminus\\{n\\}$ is also a numerical semigroup (which has one more gap than $S$). Starting with $\\mathbb{N}$, by removing minimal generators we can construct all numerical semigroups with a given genus."
   ]
  },
  {
   "cell_type": "code",
   "execution_count": 42,
   "id": "b10640a2",
   "metadata": {},
   "outputs": [
    {
     "data": {
      "text/plain": [
       "<general mapping: Domain([ [ 1 ], [ 2, 3 ], [ 2, 5 ], [ 2, 7 ], [ 2, 9 ],   [ 3 .. 5 ], [ 3, 4 ], [ 3, 5, 7 ], [ 3, 5 ], [ 3, 7, 8 ], [ 4 .. 7 ],   [ 4, 5, 6 ], [ 4, 5, 7 ], [ 4, 6, 7, 9 ], [ 5 .. 9 ] ]) -> Domain([ [ 1 ], [ 2, 3 ], [ 2, 5 ], [ 2, 7 ], [ 2, 9 ], [ 3 .. 5 ], [ 3, 4 ],   [ 3, 5, 7 ], [ 3, 5 ], [ 3, 7, 8 ], [ 4 .. 7 ], [ 4, 5, 6 ], [ 4, 5, 7 ],   [ 4, 6, 7, 9 ], [ 5 .. 9 ] ]) >"
      ]
     },
     "execution_count": 42,
     "metadata": {
      "text/plain": ""
     },
     "output_type": "execute_result"
    }
   ],
   "source": [
    "c:=Union(List([0..4],i->NumericalSemigroupsWithGenus(i)));;\n",
    "cc:=Filtered(Cartesian(c,c),p->IsSubset(p[2],p[1]) and IsSubset(MinimalGenerators(p[2]),Difference(p[2],p[1])) \n",
    "                                and Length(Difference(p[2],p[1]))=1);;\n",
    "d:=Domain(List(c,MinimalGenerators));;\n",
    "pairs:=List(cc,p->Tuple([MinimalGenerators(p[1]),MinimalGenerators(p[2])]));;\n",
    "br:=BinaryRelationByElements(d,pairs);"
   ]
  },
  {
   "cell_type": "code",
   "execution_count": 43,
   "id": "af711a3d",
   "metadata": {},
   "outputs": [
    {
     "data": {
      "image/svg+xml": [
       "<?xml version=\"1.0\" encoding=\"UTF-8\" standalone=\"no\"?>\n",
       "<!DOCTYPE svg PUBLIC \"-//W3C//DTD SVG 1.1//EN\"\n",
       " \"http://www.w3.org/Graphics/SVG/1.1/DTD/svg11.dtd\">\n",
       "<!-- Generated by graphviz version 9.0.0 (20230911.1827)\n",
       " -->\n",
       "<!-- Title: NSGraph Pages: 1 -->\n",
       "<svg width=\"734pt\" height=\"332pt\"\n",
       " viewBox=\"0.00 0.00 734.02 332.00\" xmlns=\"http://www.w3.org/2000/svg\" xmlns:xlink=\"http://www.w3.org/1999/xlink\">\n",
       "<g id=\"graph0\" class=\"graph\" transform=\"scale(1 1) rotate(0) translate(4 328)\">\n",
       "<title>NSGraph</title>\n",
       "<polygon fill=\"white\" stroke=\"none\" points=\"-4,4 -4,-328 730.02,-328 730.02,4 -4,4\"/>\n",
       "<!-- 1 -->\n",
       "<g id=\"node1\" class=\"node\">\n",
       "<title>1</title>\n",
       "<ellipse fill=\"none\" stroke=\"black\" cx=\"323.51\" cy=\"-306\" rx=\"27\" ry=\"18\"/>\n",
       "<text text-anchor=\"middle\" x=\"323.51\" y=\"-300.95\" font-family=\"Times,serif\" font-size=\"14.00\">[ 1 ]</text>\n",
       "</g>\n",
       "<!-- 2 -->\n",
       "<g id=\"node2\" class=\"node\">\n",
       "<title>2</title>\n",
       "<ellipse fill=\"none\" stroke=\"black\" cx=\"323.51\" cy=\"-234\" rx=\"36.51\" ry=\"18\"/>\n",
       "<text text-anchor=\"middle\" x=\"323.51\" y=\"-228.95\" font-family=\"Times,serif\" font-size=\"14.00\">[ 2, 3 ]</text>\n",
       "</g>\n",
       "<!-- 1&#45;&gt;2 -->\n",
       "<g id=\"edge1\" class=\"edge\">\n",
       "<title>1&#45;&gt;2</title>\n",
       "<path fill=\"none\" stroke=\"black\" d=\"M323.51,-276.24C323.51,-268.04 323.51,-259.37 323.51,-252.1\"/>\n",
       "<polygon fill=\"black\" stroke=\"black\" points=\"320.01,-276.18 323.51,-286.18 327.01,-276.18 320.01,-276.18\"/>\n",
       "</g>\n",
       "<!-- 3 -->\n",
       "<g id=\"node3\" class=\"node\">\n",
       "<title>3</title>\n",
       "<ellipse fill=\"none\" stroke=\"black\" cx=\"275.51\" cy=\"-162\" rx=\"36.51\" ry=\"18\"/>\n",
       "<text text-anchor=\"middle\" x=\"275.51\" y=\"-156.95\" font-family=\"Times,serif\" font-size=\"14.00\">[ 2, 5 ]</text>\n",
       "</g>\n",
       "<!-- 2&#45;&gt;3 -->\n",
       "<g id=\"edge2\" class=\"edge\">\n",
       "<title>2&#45;&gt;3</title>\n",
       "<path fill=\"none\" stroke=\"black\" d=\"M305.82,-207.2C299.46,-197.93 292.47,-187.73 286.8,-179.47\"/>\n",
       "<polygon fill=\"black\" stroke=\"black\" points=\"302.74,-208.89 311.28,-215.16 308.51,-204.94 302.74,-208.89\"/>\n",
       "</g>\n",
       "<!-- 6 -->\n",
       "<g id=\"node6\" class=\"node\">\n",
       "<title>6</title>\n",
       "<ellipse fill=\"none\" stroke=\"black\" cx=\"371.51\" cy=\"-162\" rx=\"41.63\" ry=\"18\"/>\n",
       "<text text-anchor=\"middle\" x=\"371.51\" y=\"-156.95\" font-family=\"Times,serif\" font-size=\"14.00\">[ 3 .. 5 ]</text>\n",
       "</g>\n",
       "<!-- 2&#45;&gt;6 -->\n",
       "<g id=\"edge5\" class=\"edge\">\n",
       "<title>2&#45;&gt;6</title>\n",
       "<path fill=\"none\" stroke=\"black\" d=\"M341.2,-207.2C347.56,-197.93 354.55,-187.73 360.22,-179.47\"/>\n",
       "<polygon fill=\"black\" stroke=\"black\" points=\"338.51,-204.94 335.74,-215.16 344.28,-208.89 338.51,-204.94\"/>\n",
       "</g>\n",
       "<!-- 4 -->\n",
       "<g id=\"node4\" class=\"node\">\n",
       "<title>4</title>\n",
       "<ellipse fill=\"none\" stroke=\"black\" cx=\"146.51\" cy=\"-90\" rx=\"36.51\" ry=\"18\"/>\n",
       "<text text-anchor=\"middle\" x=\"146.51\" y=\"-84.95\" font-family=\"Times,serif\" font-size=\"14.00\">[ 2, 7 ]</text>\n",
       "</g>\n",
       "<!-- 3&#45;&gt;4 -->\n",
       "<g id=\"edge3\" class=\"edge\">\n",
       "<title>3&#45;&gt;4</title>\n",
       "<path fill=\"none\" stroke=\"black\" d=\"M241.45,-142.52C219.05,-130.36 190.31,-114.77 170.34,-103.93\"/>\n",
       "<polygon fill=\"black\" stroke=\"black\" points=\"239.76,-145.58 250.22,-147.28 243.1,-139.43 239.76,-145.58\"/>\n",
       "</g>\n",
       "<!-- 11 -->\n",
       "<g id=\"node11\" class=\"node\">\n",
       "<title>11</title>\n",
       "<ellipse fill=\"none\" stroke=\"black\" cx=\"275.51\" cy=\"-90\" rx=\"41.63\" ry=\"18\"/>\n",
       "<text text-anchor=\"middle\" x=\"275.51\" y=\"-84.95\" font-family=\"Times,serif\" font-size=\"14.00\">[ 4 .. 7 ]</text>\n",
       "</g>\n",
       "<!-- 3&#45;&gt;11 -->\n",
       "<g id=\"edge11\" class=\"edge\">\n",
       "<title>3&#45;&gt;11</title>\n",
       "<path fill=\"none\" stroke=\"black\" d=\"M275.51,-132.24C275.51,-124.04 275.51,-115.37 275.51,-108.1\"/>\n",
       "<polygon fill=\"black\" stroke=\"black\" points=\"272.01,-132.18 275.51,-142.18 279.01,-132.18 272.01,-132.18\"/>\n",
       "</g>\n",
       "<!-- 5 -->\n",
       "<g id=\"node5\" class=\"node\">\n",
       "<title>5</title>\n",
       "<ellipse fill=\"none\" stroke=\"black\" cx=\"36.51\" cy=\"-18\" rx=\"36.51\" ry=\"18\"/>\n",
       "<text text-anchor=\"middle\" x=\"36.51\" y=\"-12.95\" font-family=\"Times,serif\" font-size=\"14.00\">[ 2, 9 ]</text>\n",
       "</g>\n",
       "<!-- 4&#45;&gt;5 -->\n",
       "<g id=\"edge4\" class=\"edge\">\n",
       "<title>4&#45;&gt;5</title>\n",
       "<path fill=\"none\" stroke=\"black\" d=\"M115.16,-69.05C96.95,-57.46 74.46,-43.15 58.2,-32.8\"/>\n",
       "<polygon fill=\"black\" stroke=\"black\" points=\"113.18,-71.94 123.5,-74.36 116.94,-66.04 113.18,-71.94\"/>\n",
       "</g>\n",
       "<!-- 14 -->\n",
       "<g id=\"node14\" class=\"node\">\n",
       "<title>14</title>\n",
       "<ellipse fill=\"none\" stroke=\"black\" cx=\"146.51\" cy=\"-18\" rx=\"55.96\" ry=\"18\"/>\n",
       "<text text-anchor=\"middle\" x=\"146.51\" y=\"-12.95\" font-family=\"Times,serif\" font-size=\"14.00\">[ 4, 6, 7, 9 ]</text>\n",
       "</g>\n",
       "<!-- 4&#45;&gt;14 -->\n",
       "<g id=\"edge15\" class=\"edge\">\n",
       "<title>4&#45;&gt;14</title>\n",
       "<path fill=\"none\" stroke=\"black\" d=\"M146.51,-60.24C146.51,-52.04 146.51,-43.37 146.51,-36.1\"/>\n",
       "<polygon fill=\"black\" stroke=\"black\" points=\"143.01,-60.18 146.51,-70.18 150.01,-60.18 143.01,-60.18\"/>\n",
       "</g>\n",
       "<!-- 7 -->\n",
       "<g id=\"node7\" class=\"node\">\n",
       "<title>7</title>\n",
       "<ellipse fill=\"none\" stroke=\"black\" cx=\"371.51\" cy=\"-90\" rx=\"36.51\" ry=\"18\"/>\n",
       "<text text-anchor=\"middle\" x=\"371.51\" y=\"-84.95\" font-family=\"Times,serif\" font-size=\"14.00\">[ 3, 4 ]</text>\n",
       "</g>\n",
       "<!-- 6&#45;&gt;7 -->\n",
       "<g id=\"edge6\" class=\"edge\">\n",
       "<title>6&#45;&gt;7</title>\n",
       "<path fill=\"none\" stroke=\"black\" d=\"M371.51,-132.24C371.51,-124.04 371.51,-115.37 371.51,-108.1\"/>\n",
       "<polygon fill=\"black\" stroke=\"black\" points=\"368.01,-132.18 371.51,-142.18 375.01,-132.18 368.01,-132.18\"/>\n",
       "</g>\n",
       "<!-- 8 -->\n",
       "<g id=\"node8\" class=\"node\">\n",
       "<title>8</title>\n",
       "<ellipse fill=\"none\" stroke=\"black\" cx=\"535.51\" cy=\"-90\" rx=\"46.23\" ry=\"18\"/>\n",
       "<text text-anchor=\"middle\" x=\"535.51\" y=\"-84.95\" font-family=\"Times,serif\" font-size=\"14.00\">[ 3, 5, 7 ]</text>\n",
       "</g>\n",
       "<!-- 6&#45;&gt;8 -->\n",
       "<g id=\"edge7\" class=\"edge\">\n",
       "<title>6&#45;&gt;8</title>\n",
       "<path fill=\"none\" stroke=\"black\" d=\"M411.02,-144.14C439.96,-131.78 478.67,-115.26 505.19,-103.94\"/>\n",
       "<polygon fill=\"black\" stroke=\"black\" points=\"409.67,-140.91 401.84,-148.05 412.41,-147.35 409.67,-140.91\"/>\n",
       "</g>\n",
       "<!-- 6&#45;&gt;11 -->\n",
       "<g id=\"edge12\" class=\"edge\">\n",
       "<title>6&#45;&gt;11</title>\n",
       "<path fill=\"none\" stroke=\"black\" d=\"M341.88,-139.4C327.07,-128.6 309.51,-115.79 296.17,-106.07\"/>\n",
       "<polygon fill=\"black\" stroke=\"black\" points=\"339.78,-142.2 349.93,-145.26 343.91,-136.54 339.78,-142.2\"/>\n",
       "</g>\n",
       "<!-- 10 -->\n",
       "<g id=\"node10\" class=\"node\">\n",
       "<title>10</title>\n",
       "<ellipse fill=\"none\" stroke=\"black\" cx=\"588.51\" cy=\"-18\" rx=\"46.23\" ry=\"18\"/>\n",
       "<text text-anchor=\"middle\" x=\"588.51\" y=\"-12.95\" font-family=\"Times,serif\" font-size=\"14.00\">[ 3, 7, 8 ]</text>\n",
       "</g>\n",
       "<!-- 7&#45;&gt;10 -->\n",
       "<g id=\"edge9\" class=\"edge\">\n",
       "<title>7&#45;&gt;10</title>\n",
       "<path fill=\"none\" stroke=\"black\" d=\"M412.13,-75.9C452.95,-62.73 515.19,-42.65 553.78,-30.2\"/>\n",
       "<polygon fill=\"black\" stroke=\"black\" points=\"411.11,-72.55 402.67,-78.95 413.26,-79.21 411.11,-72.55\"/>\n",
       "</g>\n",
       "<!-- 7&#45;&gt;14 -->\n",
       "<g id=\"edge16\" class=\"edge\">\n",
       "<title>7&#45;&gt;14</title>\n",
       "<path fill=\"none\" stroke=\"black\" d=\"M332.85,-74.18C330.71,-73.43 328.59,-72.7 326.51,-72 279.57,-56.25 224.91,-40.52 188.25,-30.33\"/>\n",
       "<polygon fill=\"black\" stroke=\"black\" points=\"331.52,-77.43 342.12,-77.55 333.91,-70.85 331.52,-77.43\"/>\n",
       "</g>\n",
       "<!-- 9 -->\n",
       "<g id=\"node9\" class=\"node\">\n",
       "<title>9</title>\n",
       "<ellipse fill=\"none\" stroke=\"black\" cx=\"689.51\" cy=\"-18\" rx=\"36.51\" ry=\"18\"/>\n",
       "<text text-anchor=\"middle\" x=\"689.51\" y=\"-12.95\" font-family=\"Times,serif\" font-size=\"14.00\">[ 3, 5 ]</text>\n",
       "</g>\n",
       "<!-- 8&#45;&gt;9 -->\n",
       "<g id=\"edge8\" class=\"edge\">\n",
       "<title>8&#45;&gt;9</title>\n",
       "<path fill=\"none\" stroke=\"black\" d=\"M575.01,-71.04C602.78,-58.42 639.15,-41.89 663.37,-30.88\"/>\n",
       "<polygon fill=\"black\" stroke=\"black\" points=\"573.87,-67.72 566.22,-75.04 576.77,-74.09 573.87,-67.72\"/>\n",
       "</g>\n",
       "<!-- 8&#45;&gt;10 -->\n",
       "<g id=\"edge10\" class=\"edge\">\n",
       "<title>8&#45;&gt;10</title>\n",
       "<path fill=\"none\" stroke=\"black\" d=\"M554.82,-63.5C561.9,-54.15 569.72,-43.82 576.04,-35.47\"/>\n",
       "<polygon fill=\"black\" stroke=\"black\" points=\"552.23,-61.12 548.98,-71.2 557.81,-65.34 552.23,-61.12\"/>\n",
       "</g>\n",
       "<!-- 15 -->\n",
       "<g id=\"node15\" class=\"node\">\n",
       "<title>15</title>\n",
       "<ellipse fill=\"none\" stroke=\"black\" cx=\"482.51\" cy=\"-18\" rx=\"41.63\" ry=\"18\"/>\n",
       "<text text-anchor=\"middle\" x=\"482.51\" y=\"-12.95\" font-family=\"Times,serif\" font-size=\"14.00\">[ 5 .. 9 ]</text>\n",
       "</g>\n",
       "<!-- 8&#45;&gt;15 -->\n",
       "<g id=\"edge18\" class=\"edge\">\n",
       "<title>8&#45;&gt;15</title>\n",
       "<path fill=\"none\" stroke=\"black\" d=\"M516.2,-63.5C509.12,-54.15 501.3,-43.82 494.98,-35.47\"/>\n",
       "<polygon fill=\"black\" stroke=\"black\" points=\"513.21,-65.34 522.04,-71.2 518.79,-61.12 513.21,-65.34\"/>\n",
       "</g>\n",
       "<!-- 12 -->\n",
       "<g id=\"node12\" class=\"node\">\n",
       "<title>12</title>\n",
       "<ellipse fill=\"none\" stroke=\"black\" cx=\"266.51\" cy=\"-18\" rx=\"46.23\" ry=\"18\"/>\n",
       "<text text-anchor=\"middle\" x=\"266.51\" y=\"-12.95\" font-family=\"Times,serif\" font-size=\"14.00\">[ 4, 5, 6 ]</text>\n",
       "</g>\n",
       "<!-- 11&#45;&gt;12 -->\n",
       "<g id=\"edge13\" class=\"edge\">\n",
       "<title>11&#45;&gt;12</title>\n",
       "<path fill=\"none\" stroke=\"black\" d=\"M271.85,-60.53C270.78,-52.24 269.65,-43.45 268.71,-36.1\"/>\n",
       "<polygon fill=\"black\" stroke=\"black\" points=\"268.34,-60.72 273.09,-70.2 275.29,-59.83 268.34,-60.72\"/>\n",
       "</g>\n",
       "<!-- 13 -->\n",
       "<g id=\"node13\" class=\"node\">\n",
       "<title>13</title>\n",
       "<ellipse fill=\"none\" stroke=\"black\" cx=\"376.51\" cy=\"-18\" rx=\"46.23\" ry=\"18\"/>\n",
       "<text text-anchor=\"middle\" x=\"376.51\" y=\"-12.95\" font-family=\"Times,serif\" font-size=\"14.00\">[ 4, 5, 7 ]</text>\n",
       "</g>\n",
       "<!-- 11&#45;&gt;13 -->\n",
       "<g id=\"edge14\" class=\"edge\">\n",
       "<title>11&#45;&gt;13</title>\n",
       "<path fill=\"none\" stroke=\"black\" d=\"M306.23,-67.71C321.91,-56.84 340.61,-43.88 354.77,-34.07\"/>\n",
       "<polygon fill=\"black\" stroke=\"black\" points=\"304.4,-64.72 298.17,-73.29 308.39,-70.47 304.4,-64.72\"/>\n",
       "</g>\n",
       "<!-- 11&#45;&gt;14 -->\n",
       "<g id=\"edge17\" class=\"edge\">\n",
       "<title>11&#45;&gt;14</title>\n",
       "<path fill=\"none\" stroke=\"black\" d=\"M240.3,-69.9C219.54,-58.63 193.63,-44.57 174.31,-34.08\"/>\n",
       "<polygon fill=\"black\" stroke=\"black\" points=\"238.54,-72.92 249,-74.62 241.88,-66.77 238.54,-72.92\"/>\n",
       "</g>\n",
       "<!-- 11&#45;&gt;15 -->\n",
       "<g id=\"edge19\" class=\"edge\">\n",
       "<title>11&#45;&gt;15</title>\n",
       "<path fill=\"none\" stroke=\"black\" d=\"M318.27,-74.45C320.72,-73.62 323.15,-72.8 325.51,-72 368.7,-57.37 418.59,-40.54 450.33,-29.84\"/>\n",
       "<polygon fill=\"black\" stroke=\"black\" points=\"317.29,-71.09 308.95,-77.62 319.54,-77.72 317.29,-71.09\"/>\n",
       "</g>\n",
       "</g>\n",
       "</svg>\n"
      ]
     },
     "execution_count": 43,
     "metadata": {
      "image/svg+xml": {
       "height": 500,
       "width": 500
      }
     },
     "output_type": "execute_result"
    }
   ],
   "source": [
    "JupyterSplashDot(DotBinaryRelation(br));"
   ]
  },
  {
   "cell_type": "markdown",
   "id": "80e49453",
   "metadata": {},
   "source": [
    "For any numerical semigroup $S$ (other than $\\mathbb{N}$), the set $T=S\\cup\\{\\operatorname{F}(S)\\}$ is also a numerical semigroup. The semigroup $S$ is obtained from $T$ by removing a minimal generator larger than its Frobenius number.\n",
    "\n",
    "So if we remove minimal generators larger than the Frobenius number, we still obtain the same numerical semigroups, but the above directed graph becomes a tree."
   ]
  },
  {
   "cell_type": "code",
   "execution_count": 46,
   "id": "29388c55",
   "metadata": {},
   "outputs": [
    {
     "data": {
      "text/plain": [
       "<general mapping: Domain([ [ 1 ], [ 2, 3 ], [ 2, 5 ], [ 2, 7 ], [ 2, 9 ],   [ 3 .. 5 ], [ 3, 4 ], [ 3, 5, 7 ], [ 3, 5 ], [ 3, 7, 8 ], [ 4 .. 7 ],   [ 4, 5, 6 ], [ 4, 5, 7 ], [ 4, 6, 7, 9 ], [ 5 .. 9 ] ]) -> Domain([ [ 1 ], [ 2, 3 ], [ 2, 5 ], [ 2, 7 ], [ 2, 9 ], [ 3 .. 5 ], [ 3, 4 ],   [ 3, 5, 7 ], [ 3, 5 ], [ 3, 7, 8 ], [ 4 .. 7 ], [ 4, 5, 6 ], [ 4, 5, 7 ],   [ 4, 6, 7, 9 ], [ 5 .. 9 ] ]) >"
      ]
     },
     "execution_count": 46,
     "metadata": {
      "text/plain": ""
     },
     "output_type": "execute_result"
    }
   ],
   "source": [
    "cc:=Filtered(Cartesian(c,c),p->IsSubset(p[2],p[1]) and Difference(p[2],p[1])=[FrobeniusNumber(p[1])]);;\n",
    "pairs:=List(cc,p->Tuple([MinimalGenerators(p[1]),MinimalGenerators(p[2])]));;\n",
    "br:=BinaryRelationByElements(d,pairs);"
   ]
  },
  {
   "cell_type": "code",
   "execution_count": 47,
   "id": "35d13304",
   "metadata": {},
   "outputs": [
    {
     "data": {
      "image/svg+xml": [
       "<?xml version=\"1.0\" encoding=\"UTF-8\" standalone=\"no\"?>\n",
       "<!DOCTYPE svg PUBLIC \"-//W3C//DTD SVG 1.1//EN\"\n",
       " \"http://www.w3.org/Graphics/SVG/1.1/DTD/svg11.dtd\">\n",
       "<!-- Generated by graphviz version 9.0.0 (20230911.1827)\n",
       " -->\n",
       "<!-- Title: NSGraph Pages: 1 -->\n",
       "<svg width=\"734pt\" height=\"332pt\"\n",
       " viewBox=\"0.00 0.00 734.14 332.00\" xmlns=\"http://www.w3.org/2000/svg\" xmlns:xlink=\"http://www.w3.org/1999/xlink\">\n",
       "<g id=\"graph0\" class=\"graph\" transform=\"scale(1 1) rotate(0) translate(4 328)\">\n",
       "<title>NSGraph</title>\n",
       "<polygon fill=\"white\" stroke=\"none\" points=\"-4,4 -4,-328 730.14,-328 730.14,4 -4,4\"/>\n",
       "<!-- 1 -->\n",
       "<g id=\"node1\" class=\"node\">\n",
       "<title>1</title>\n",
       "<ellipse fill=\"none\" stroke=\"black\" cx=\"132.51\" cy=\"-306\" rx=\"27\" ry=\"18\"/>\n",
       "<text text-anchor=\"middle\" x=\"132.51\" y=\"-300.95\" font-family=\"Times,serif\" font-size=\"14.00\">[ 1 ]</text>\n",
       "</g>\n",
       "<!-- 2 -->\n",
       "<g id=\"node2\" class=\"node\">\n",
       "<title>2</title>\n",
       "<ellipse fill=\"none\" stroke=\"black\" cx=\"132.51\" cy=\"-234\" rx=\"36.51\" ry=\"18\"/>\n",
       "<text text-anchor=\"middle\" x=\"132.51\" y=\"-228.95\" font-family=\"Times,serif\" font-size=\"14.00\">[ 2, 3 ]</text>\n",
       "</g>\n",
       "<!-- 1&#45;&gt;2 -->\n",
       "<g id=\"edge1\" class=\"edge\">\n",
       "<title>1&#45;&gt;2</title>\n",
       "<path fill=\"none\" stroke=\"black\" d=\"M132.51,-276.24C132.51,-268.04 132.51,-259.37 132.51,-252.1\"/>\n",
       "<polygon fill=\"black\" stroke=\"black\" points=\"129.01,-276.18 132.51,-286.18 136.01,-276.18 129.01,-276.18\"/>\n",
       "</g>\n",
       "<!-- 3 -->\n",
       "<g id=\"node3\" class=\"node\">\n",
       "<title>3</title>\n",
       "<ellipse fill=\"none\" stroke=\"black\" cx=\"84.51\" cy=\"-162\" rx=\"36.51\" ry=\"18\"/>\n",
       "<text text-anchor=\"middle\" x=\"84.51\" y=\"-156.95\" font-family=\"Times,serif\" font-size=\"14.00\">[ 2, 5 ]</text>\n",
       "</g>\n",
       "<!-- 2&#45;&gt;3 -->\n",
       "<g id=\"edge2\" class=\"edge\">\n",
       "<title>2&#45;&gt;3</title>\n",
       "<path fill=\"none\" stroke=\"black\" d=\"M114.82,-207.2C108.46,-197.93 101.47,-187.73 95.8,-179.47\"/>\n",
       "<polygon fill=\"black\" stroke=\"black\" points=\"111.74,-208.89 120.28,-215.16 117.51,-204.94 111.74,-208.89\"/>\n",
       "</g>\n",
       "<!-- 6 -->\n",
       "<g id=\"node6\" class=\"node\">\n",
       "<title>6</title>\n",
       "<ellipse fill=\"none\" stroke=\"black\" cx=\"204.51\" cy=\"-162\" rx=\"41.63\" ry=\"18\"/>\n",
       "<text text-anchor=\"middle\" x=\"204.51\" y=\"-156.95\" font-family=\"Times,serif\" font-size=\"14.00\">[ 3 .. 5 ]</text>\n",
       "</g>\n",
       "<!-- 2&#45;&gt;6 -->\n",
       "<g id=\"edge5\" class=\"edge\">\n",
       "<title>2&#45;&gt;6</title>\n",
       "<path fill=\"none\" stroke=\"black\" d=\"M156.72,-209.46C167.04,-199.43 178.8,-187.99 188.08,-178.98\"/>\n",
       "<polygon fill=\"black\" stroke=\"black\" points=\"154.3,-206.93 149.57,-216.41 159.18,-211.95 154.3,-206.93\"/>\n",
       "</g>\n",
       "<!-- 4 -->\n",
       "<g id=\"node4\" class=\"node\">\n",
       "<title>4</title>\n",
       "<ellipse fill=\"none\" stroke=\"black\" cx=\"36.51\" cy=\"-90\" rx=\"36.51\" ry=\"18\"/>\n",
       "<text text-anchor=\"middle\" x=\"36.51\" y=\"-84.95\" font-family=\"Times,serif\" font-size=\"14.00\">[ 2, 7 ]</text>\n",
       "</g>\n",
       "<!-- 3&#45;&gt;4 -->\n",
       "<g id=\"edge3\" class=\"edge\">\n",
       "<title>3&#45;&gt;4</title>\n",
       "<path fill=\"none\" stroke=\"black\" d=\"M66.82,-135.2C60.46,-125.93 53.47,-115.73 47.8,-107.47\"/>\n",
       "<polygon fill=\"black\" stroke=\"black\" points=\"63.74,-136.89 72.28,-143.16 69.51,-132.94 63.74,-136.89\"/>\n",
       "</g>\n",
       "<!-- 5 -->\n",
       "<g id=\"node5\" class=\"node\">\n",
       "<title>5</title>\n",
       "<ellipse fill=\"none\" stroke=\"black\" cx=\"36.51\" cy=\"-18\" rx=\"36.51\" ry=\"18\"/>\n",
       "<text text-anchor=\"middle\" x=\"36.51\" y=\"-12.95\" font-family=\"Times,serif\" font-size=\"14.00\">[ 2, 9 ]</text>\n",
       "</g>\n",
       "<!-- 4&#45;&gt;5 -->\n",
       "<g id=\"edge4\" class=\"edge\">\n",
       "<title>4&#45;&gt;5</title>\n",
       "<path fill=\"none\" stroke=\"black\" d=\"M36.51,-60.24C36.51,-52.04 36.51,-43.37 36.51,-36.1\"/>\n",
       "<polygon fill=\"black\" stroke=\"black\" points=\"33.01,-60.18 36.51,-70.18 40.01,-60.18 33.01,-60.18\"/>\n",
       "</g>\n",
       "<!-- 7 -->\n",
       "<g id=\"node7\" class=\"node\">\n",
       "<title>7</title>\n",
       "<ellipse fill=\"none\" stroke=\"black\" cx=\"127.51\" cy=\"-90\" rx=\"36.51\" ry=\"18\"/>\n",
       "<text text-anchor=\"middle\" x=\"127.51\" y=\"-84.95\" font-family=\"Times,serif\" font-size=\"14.00\">[ 3, 4 ]</text>\n",
       "</g>\n",
       "<!-- 6&#45;&gt;7 -->\n",
       "<g id=\"edge6\" class=\"edge\">\n",
       "<title>6&#45;&gt;7</title>\n",
       "<path fill=\"none\" stroke=\"black\" d=\"M179.09,-137.89C167.65,-127.49 154.46,-115.5 144.29,-106.25\"/>\n",
       "<polygon fill=\"black\" stroke=\"black\" points=\"176.55,-140.31 186.3,-144.45 181.26,-135.13 176.55,-140.31\"/>\n",
       "</g>\n",
       "<!-- 8 -->\n",
       "<g id=\"node8\" class=\"node\">\n",
       "<title>8</title>\n",
       "<ellipse fill=\"none\" stroke=\"black\" cx=\"228.51\" cy=\"-90\" rx=\"46.23\" ry=\"18\"/>\n",
       "<text text-anchor=\"middle\" x=\"228.51\" y=\"-84.95\" font-family=\"Times,serif\" font-size=\"14.00\">[ 3, 5, 7 ]</text>\n",
       "</g>\n",
       "<!-- 6&#45;&gt;8 -->\n",
       "<g id=\"edge7\" class=\"edge\">\n",
       "<title>6&#45;&gt;8</title>\n",
       "<path fill=\"none\" stroke=\"black\" d=\"M214.17,-132.81C217.04,-124.44 220.1,-115.54 222.64,-108.1\"/>\n",
       "<polygon fill=\"black\" stroke=\"black\" points=\"210.86,-131.67 210.93,-142.26 217.49,-133.94 210.86,-131.67\"/>\n",
       "</g>\n",
       "<!-- 11 -->\n",
       "<g id=\"node11\" class=\"node\">\n",
       "<title>11</title>\n",
       "<ellipse fill=\"none\" stroke=\"black\" cx=\"448.51\" cy=\"-90\" rx=\"41.63\" ry=\"18\"/>\n",
       "<text text-anchor=\"middle\" x=\"448.51\" y=\"-84.95\" font-family=\"Times,serif\" font-size=\"14.00\">[ 4 .. 7 ]</text>\n",
       "</g>\n",
       "<!-- 6&#45;&gt;11 -->\n",
       "<g id=\"edge10\" class=\"edge\">\n",
       "<title>6&#45;&gt;11</title>\n",
       "<path fill=\"none\" stroke=\"black\" d=\"M249.63,-148.06C297.35,-134.36 371.56,-113.07 414.56,-100.74\"/>\n",
       "<polygon fill=\"black\" stroke=\"black\" points=\"248.79,-144.65 240.15,-150.78 250.73,-151.38 248.79,-144.65\"/>\n",
       "</g>\n",
       "<!-- 9 -->\n",
       "<g id=\"node9\" class=\"node\">\n",
       "<title>9</title>\n",
       "<ellipse fill=\"none\" stroke=\"black\" cx=\"127.51\" cy=\"-18\" rx=\"36.51\" ry=\"18\"/>\n",
       "<text text-anchor=\"middle\" x=\"127.51\" y=\"-12.95\" font-family=\"Times,serif\" font-size=\"14.00\">[ 3, 5 ]</text>\n",
       "</g>\n",
       "<!-- 8&#45;&gt;9 -->\n",
       "<g id=\"edge8\" class=\"edge\">\n",
       "<title>8&#45;&gt;9</title>\n",
       "<path fill=\"none\" stroke=\"black\" d=\"M197.54,-67.54C181.45,-56.39 162.24,-43.07 148,-33.21\"/>\n",
       "<polygon fill=\"black\" stroke=\"black\" points=\"195.14,-70.13 205.35,-72.95 199.12,-64.38 195.14,-70.13\"/>\n",
       "</g>\n",
       "<!-- 10 -->\n",
       "<g id=\"node10\" class=\"node\">\n",
       "<title>10</title>\n",
       "<ellipse fill=\"none\" stroke=\"black\" cx=\"228.51\" cy=\"-18\" rx=\"46.23\" ry=\"18\"/>\n",
       "<text text-anchor=\"middle\" x=\"228.51\" y=\"-12.95\" font-family=\"Times,serif\" font-size=\"14.00\">[ 3, 7, 8 ]</text>\n",
       "</g>\n",
       "<!-- 8&#45;&gt;10 -->\n",
       "<g id=\"edge9\" class=\"edge\">\n",
       "<title>8&#45;&gt;10</title>\n",
       "<path fill=\"none\" stroke=\"black\" d=\"M228.51,-60.24C228.51,-52.04 228.51,-43.37 228.51,-36.1\"/>\n",
       "<polygon fill=\"black\" stroke=\"black\" points=\"225.01,-60.18 228.51,-70.18 232.01,-60.18 225.01,-60.18\"/>\n",
       "</g>\n",
       "<!-- 12 -->\n",
       "<g id=\"node12\" class=\"node\">\n",
       "<title>12</title>\n",
       "<ellipse fill=\"none\" stroke=\"black\" cx=\"338.51\" cy=\"-18\" rx=\"46.23\" ry=\"18\"/>\n",
       "<text text-anchor=\"middle\" x=\"338.51\" y=\"-12.95\" font-family=\"Times,serif\" font-size=\"14.00\">[ 4, 5, 6 ]</text>\n",
       "</g>\n",
       "<!-- 11&#45;&gt;12 -->\n",
       "<g id=\"edge11\" class=\"edge\">\n",
       "<title>11&#45;&gt;12</title>\n",
       "<path fill=\"none\" stroke=\"black\" d=\"M416.49,-68.62C399.07,-57.54 377.91,-44.07 362.03,-33.97\"/>\n",
       "<polygon fill=\"black\" stroke=\"black\" points=\"414.12,-71.27 424.44,-73.68 417.88,-65.36 414.12,-71.27\"/>\n",
       "</g>\n",
       "<!-- 13 -->\n",
       "<g id=\"node13\" class=\"node\">\n",
       "<title>13</title>\n",
       "<ellipse fill=\"none\" stroke=\"black\" cx=\"448.51\" cy=\"-18\" rx=\"46.23\" ry=\"18\"/>\n",
       "<text text-anchor=\"middle\" x=\"448.51\" y=\"-12.95\" font-family=\"Times,serif\" font-size=\"14.00\">[ 4, 5, 7 ]</text>\n",
       "</g>\n",
       "<!-- 11&#45;&gt;13 -->\n",
       "<g id=\"edge12\" class=\"edge\">\n",
       "<title>11&#45;&gt;13</title>\n",
       "<path fill=\"none\" stroke=\"black\" d=\"M448.51,-60.24C448.51,-52.04 448.51,-43.37 448.51,-36.1\"/>\n",
       "<polygon fill=\"black\" stroke=\"black\" points=\"445.01,-60.18 448.51,-70.18 452.01,-60.18 445.01,-60.18\"/>\n",
       "</g>\n",
       "<!-- 14 -->\n",
       "<g id=\"node14\" class=\"node\">\n",
       "<title>14</title>\n",
       "<ellipse fill=\"none\" stroke=\"black\" cx=\"568.51\" cy=\"-18\" rx=\"55.96\" ry=\"18\"/>\n",
       "<text text-anchor=\"middle\" x=\"568.51\" y=\"-12.95\" font-family=\"Times,serif\" font-size=\"14.00\">[ 4, 6, 7, 9 ]</text>\n",
       "</g>\n",
       "<!-- 11&#45;&gt;14 -->\n",
       "<g id=\"edge13\" class=\"edge\">\n",
       "<title>11&#45;&gt;14</title>\n",
       "<path fill=\"none\" stroke=\"black\" d=\"M482.3,-69.29C501.37,-58.16 524.84,-44.47 542.48,-34.19\"/>\n",
       "<polygon fill=\"black\" stroke=\"black\" points=\"480.69,-66.18 473.81,-74.24 484.21,-72.22 480.69,-66.18\"/>\n",
       "</g>\n",
       "<!-- 15 -->\n",
       "<g id=\"node15\" class=\"node\">\n",
       "<title>15</title>\n",
       "<ellipse fill=\"none\" stroke=\"black\" cx=\"684.51\" cy=\"-18\" rx=\"41.63\" ry=\"18\"/>\n",
       "<text text-anchor=\"middle\" x=\"684.51\" y=\"-12.95\" font-family=\"Times,serif\" font-size=\"14.00\">[ 5 .. 9 ]</text>\n",
       "</g>\n",
       "<!-- 11&#45;&gt;15 -->\n",
       "<g id=\"edge14\" class=\"edge\">\n",
       "<title>11&#45;&gt;15</title>\n",
       "<path fill=\"none\" stroke=\"black\" d=\"M494.16,-76.51C531.7,-66.09 586.22,-50.65 633.51,-36 639.66,-34.09 646.2,-31.98 652.47,-29.91\"/>\n",
       "<polygon fill=\"black\" stroke=\"black\" points=\"493.24,-73.13 484.54,-79.17 495.11,-79.88 493.24,-73.13\"/>\n",
       "</g>\n",
       "</g>\n",
       "</svg>\n"
      ]
     },
     "execution_count": 47,
     "metadata": {
      "image/svg+xml": {
       "height": 500,
       "width": 500
      }
     },
     "output_type": "execute_result"
    }
   ],
   "source": [
    "JupyterSplashDot(DotBinaryRelation(br));"
   ]
  },
  {
   "cell_type": "markdown",
   "id": "8a34bbe5",
   "metadata": {},
   "source": [
    "Now let us think about the dual process: what are the gaps that I may add to a numerical semigroup in order to obtain a nuew numerical semigroup. We already know that we can always add the Frobenius number, but we may have some other options. Let $S$ be a numerical semigroup and let $f$ be a gap of $S$. As we want $S\\cup \\{f\\}$ to be a numerical semigroup, $f+S\\subseteq S\\cup\\{f\\}$, and consequently $f$ must be in $\\operatorname{PF}(S)$. But also $kf \\in S\\cup\\{f\\}$ for every positive integer $k$. This means that $2f, 3f\\in S$. The set of gaps having these properties are known as special gaps.\n",
    "$$\n",
    "\\operatorname{SG}(S)=\\{ g\\in \\operatorname{PF}(S) : 2g\\in S, 3g\\in S\\}.\n",
    "$$"
   ]
  },
  {
   "cell_type": "code",
   "execution_count": 48,
   "id": "91b99e4b",
   "metadata": {},
   "outputs": [],
   "source": [
    "s:=NumericalSemigroup(4,7,9,10);;"
   ]
  },
  {
   "cell_type": "code",
   "execution_count": 49,
   "id": "7e63fd8d",
   "metadata": {},
   "outputs": [
    {
     "data": {
      "text/plain": [
       "[ 5, 6 ]"
      ]
     },
     "execution_count": 49,
     "metadata": {
      "text/plain": ""
     },
     "output_type": "execute_result"
    }
   ],
   "source": [
    "SpecialGaps(s);"
   ]
  },
  {
   "cell_type": "markdown",
   "id": "b366e027",
   "metadata": {},
   "source": [
    "If we keep adding special gaps to our semigroup and the resulting semigroups, we will obtain the set of all oversemigroups of the given numerical semigroup."
   ]
  },
  {
   "cell_type": "code",
   "execution_count": 51,
   "id": "dfd654d1",
   "metadata": {},
   "outputs": [
    {
     "data": {
      "image/svg+xml": [
       "<?xml version=\"1.0\" encoding=\"UTF-8\" standalone=\"no\"?>\n",
       "<!DOCTYPE svg PUBLIC \"-//W3C//DTD SVG 1.1//EN\"\n",
       " \"http://www.w3.org/Graphics/SVG/1.1/DTD/svg11.dtd\">\n",
       "<!-- Generated by graphviz version 9.0.0 (20230911.1827)\n",
       " -->\n",
       "<!-- Title: NSGraph Pages: 1 -->\n",
       "<svg width=\"252pt\" height=\"352pt\"\n",
       " viewBox=\"0.00 0.00 252.31 351.76\" xmlns=\"http://www.w3.org/2000/svg\" xmlns:xlink=\"http://www.w3.org/1999/xlink\">\n",
       "<g id=\"graph0\" class=\"graph\" transform=\"scale(1 1) rotate(0) translate(4 347.76)\">\n",
       "<title>NSGraph</title>\n",
       "<polygon fill=\"white\" stroke=\"none\" points=\"-4,4 -4,-347.76 248.31,-347.76 248.31,4 -4,4\"/>\n",
       "<!-- 1 -->\n",
       "<g id=\"node1\" class=\"node\">\n",
       "<title>1</title>\n",
       "<ellipse fill=\"lightgrey\" stroke=\"black\" cx=\"116.62\" cy=\"-323.78\" rx=\"41.54\" ry=\"19.98\"/>\n",
       "<text text-anchor=\"middle\" x=\"116.62\" y=\"-320.61\" font-family=\"Times,serif\" font-size=\"14.00\">〈 1 〉</text>\n",
       "</g>\n",
       "<!-- 2 -->\n",
       "<g id=\"node2\" class=\"node\">\n",
       "<title>2</title>\n",
       "<ellipse fill=\"lightgrey\" stroke=\"black\" cx=\"116.62\" cy=\"-247.83\" rx=\"51.62\" ry=\"19.98\"/>\n",
       "<text text-anchor=\"middle\" x=\"116.62\" y=\"-244.66\" font-family=\"Times,serif\" font-size=\"14.00\">〈 2, 3 〉</text>\n",
       "</g>\n",
       "<!-- 1&#45;&gt;2 -->\n",
       "<g id=\"edge1\" class=\"edge\">\n",
       "<title>1&#45;&gt;2</title>\n",
       "<path fill=\"none\" stroke=\"black\" d=\"M116.62,-291.99C116.62,-283.91 116.62,-275.42 116.62,-268.13\"/>\n",
       "<polygon fill=\"black\" stroke=\"black\" points=\"113.12,-291.84 116.62,-301.84 120.12,-291.84 113.12,-291.84\"/>\n",
       "</g>\n",
       "<!-- 3 -->\n",
       "<g id=\"node3\" class=\"node\">\n",
       "<title>3</title>\n",
       "<ellipse fill=\"lightgrey\" stroke=\"black\" cx=\"51.62\" cy=\"-171.88\" rx=\"51.62\" ry=\"19.98\"/>\n",
       "<text text-anchor=\"middle\" x=\"51.62\" y=\"-168.7\" font-family=\"Times,serif\" font-size=\"14.00\">〈 2, 5 〉</text>\n",
       "</g>\n",
       "<!-- 2&#45;&gt;3 -->\n",
       "<g id=\"edge2\" class=\"edge\">\n",
       "<title>2&#45;&gt;3</title>\n",
       "<path fill=\"none\" stroke=\"black\" d=\"M93.13,-220.1C84.7,-210.51 75.39,-199.92 67.73,-191.2\"/>\n",
       "<polygon fill=\"black\" stroke=\"black\" points=\"90.32,-222.21 99.55,-227.41 95.58,-217.59 90.32,-222.21\"/>\n",
       "</g>\n",
       "<!-- 4 -->\n",
       "<g id=\"node4\" class=\"node\">\n",
       "<title>4</title>\n",
       "<ellipse fill=\"lightgrey\" stroke=\"black\" cx=\"182.62\" cy=\"-171.88\" rx=\"61.7\" ry=\"19.98\"/>\n",
       "<text text-anchor=\"middle\" x=\"182.62\" y=\"-168.7\" font-family=\"Times,serif\" font-size=\"14.00\">〈 3, 4, 5 〉</text>\n",
       "</g>\n",
       "<!-- 2&#45;&gt;4 -->\n",
       "<g id=\"edge3\" class=\"edge\">\n",
       "<title>2&#45;&gt;4</title>\n",
       "<path fill=\"none\" stroke=\"black\" d=\"M140.41,-220.17C148.9,-210.66 158.28,-200.15 166.03,-191.46\"/>\n",
       "<polygon fill=\"black\" stroke=\"black\" points=\"137.99,-217.63 133.94,-227.42 143.21,-222.29 137.99,-217.63\"/>\n",
       "</g>\n",
       "<!-- 5 -->\n",
       "<g id=\"node5\" class=\"node\">\n",
       "<title>5</title>\n",
       "<ellipse fill=\"none\" stroke=\"black\" cx=\"116.62\" cy=\"-95.93\" rx=\"71.77\" ry=\"19.98\"/>\n",
       "<text text-anchor=\"middle\" x=\"116.62\" y=\"-92.75\" font-family=\"Times,serif\" font-size=\"14.00\">〈 4, 5, 6, 7 〉</text>\n",
       "</g>\n",
       "<!-- 3&#45;&gt;5 -->\n",
       "<g id=\"edge4\" class=\"edge\">\n",
       "<title>3&#45;&gt;5</title>\n",
       "<path fill=\"none\" stroke=\"black\" d=\"M75.25,-144C83.48,-134.63 92.53,-124.34 100.06,-115.77\"/>\n",
       "<polygon fill=\"black\" stroke=\"black\" points=\"72.66,-141.64 68.69,-151.46 77.92,-146.26 72.66,-141.64\"/>\n",
       "</g>\n",
       "<!-- 4&#45;&gt;5 -->\n",
       "<g id=\"edge5\" class=\"edge\">\n",
       "<title>4&#45;&gt;5</title>\n",
       "<path fill=\"none\" stroke=\"black\" d=\"M158.3,-143.63C149.97,-134.3 140.85,-124.08 133.27,-115.58\"/>\n",
       "<polygon fill=\"black\" stroke=\"black\" points=\"155.69,-145.96 164.96,-151.09 160.91,-141.3 155.69,-145.96\"/>\n",
       "</g>\n",
       "<!-- 6 -->\n",
       "<g id=\"node6\" class=\"node\">\n",
       "<title>6</title>\n",
       "<ellipse fill=\"lightgrey\" stroke=\"black\" cx=\"116.62\" cy=\"-19.98\" rx=\"61.7\" ry=\"19.98\"/>\n",
       "<text text-anchor=\"middle\" x=\"116.62\" y=\"-16.8\" font-family=\"Times,serif\" font-size=\"14.00\">〈 4, 5, 7 〉</text>\n",
       "</g>\n",
       "<!-- 5&#45;&gt;6 -->\n",
       "<g id=\"edge6\" class=\"edge\">\n",
       "<title>5&#45;&gt;6</title>\n",
       "<path fill=\"none\" stroke=\"black\" d=\"M116.62,-64.13C116.62,-56.05 116.62,-47.56 116.62,-40.28\"/>\n",
       "<polygon fill=\"black\" stroke=\"black\" points=\"113.12,-63.98 116.62,-73.98 120.12,-63.98 113.12,-63.98\"/>\n",
       "</g>\n",
       "</g>\n",
       "</svg>\n"
      ]
     },
     "execution_count": 51,
     "metadata": {
      "image/svg+xml": {
       "height": 500,
       "width": 500
      }
     },
     "output_type": "execute_result"
    }
   ],
   "source": [
    "s:=NumericalSemigroup(4,5,7);;\n",
    "JupyterSplashDot(DotOverSemigroups(s));"
   ]
  },
  {
   "cell_type": "markdown",
   "id": "50b7a858",
   "metadata": {},
   "source": [
    "## When some bounds are attained"
   ]
  },
  {
   "cell_type": "markdown",
   "id": "70e8cea6",
   "metadata": {},
   "source": [
    "### Numerical semigroups with maximal embedding dimension"
   ]
  },
  {
   "cell_type": "markdown",
   "id": "87da1e15",
   "metadata": {},
   "source": [
    "We have already seen that the embedding dimension of a numerical semigroup is always less than or equal to the multiplicity. We say that a numerical semigroup $S$ has maximal embedding dimension if $\\operatorname{m}(S)=\\operatorname{e}(S)$."
   ]
  },
  {
   "cell_type": "code",
   "execution_count": 52,
   "id": "d17426c1",
   "metadata": {},
   "outputs": [],
   "source": [
    "s:=NumericalSemigroup(3,5,7);;"
   ]
  },
  {
   "cell_type": "code",
   "execution_count": 53,
   "id": "f75621dd",
   "metadata": {},
   "outputs": [
    {
     "data": {
      "text/plain": [
       "true"
      ]
     },
     "execution_count": 53,
     "metadata": {
      "text/plain": ""
     },
     "output_type": "execute_result"
    }
   ],
   "source": [
    "IsMED(s);"
   ]
  },
  {
   "cell_type": "markdown",
   "id": "5ed3cb5f",
   "metadata": {},
   "source": [
    "A numerical semigroup $S$ is of maximal embedding dimension if and only if $(S\\setminus\\{0\\})-\\operatorname{m}(S)$ is a numerical semigroup, or equivalently, for any $x,y\\in S$ with $x\\ge y \\ge \\operatorname{m}(S)$, we have $x+y-\\operatorname{m}(S)\\in S$.\n",
    "\n",
    "It turns out that the intersecction of two maximal embedding dimension numerical semigroups is again of maximal embedding dimension, and thus we can think about a maximal embedding dimension closure."
   ]
  },
  {
   "cell_type": "code",
   "execution_count": 54,
   "id": "2390e8cd",
   "metadata": {},
   "outputs": [],
   "source": [
    "s:=NumericalSemigroup(3,5);;"
   ]
  },
  {
   "cell_type": "code",
   "execution_count": 55,
   "id": "6489b0a9",
   "metadata": {},
   "outputs": [
    {
     "data": {
      "text/plain": [
       "[ 3, 5, 7 ]"
      ]
     },
     "execution_count": 55,
     "metadata": {
      "text/plain": ""
     },
     "output_type": "execute_result"
    }
   ],
   "source": [
    "MinimalGenerators(MEDClosure(s));"
   ]
  },
  {
   "cell_type": "markdown",
   "id": "c7ca6cf2",
   "metadata": {},
   "source": [
    "It also makes sense to talk abot the minimal generators as a numerical semigroup with maximal embedding dimension. An element $a$ in a numerical semigroup $S$ with maximal embedding dimension, with $a>\\operatorname{m}(S)$, will be in that minimal MED generating system if and only if $S\\setminus\\{a\\}$ is again a numerical semigroup with maximal embedding dimension. "
   ]
  },
  {
   "cell_type": "code",
   "execution_count": 56,
   "id": "ce38ccdb",
   "metadata": {},
   "outputs": [
    {
     "data": {
      "text/plain": [
       "[ 3, 5 ]"
      ]
     },
     "execution_count": 56,
     "metadata": {
      "text/plain": ""
     },
     "output_type": "execute_result"
    }
   ],
   "source": [
    "MinimalMEDGeneratingSystemOfMEDNumericalSemigroup(NumericalSemigroup(3,5,7));"
   ]
  },
  {
   "cell_type": "code",
   "execution_count": 57,
   "id": "22ccf278",
   "metadata": {},
   "outputs": [
    {
     "data": {
      "text/plain": [
       "<Numerical semigroup with 3 generators>"
      ]
     },
     "execution_count": 57,
     "metadata": {
      "text/plain": ""
     },
     "output_type": "execute_result"
    }
   ],
   "source": [
    "t:=RemoveMinimalGeneratorFromNumericalSemigroup(5,s);"
   ]
  },
  {
   "cell_type": "code",
   "execution_count": 58,
   "id": "cc662abc",
   "metadata": {},
   "outputs": [
    {
     "data": {
      "text/plain": [
       "[ 3, 8, 10 ]"
      ]
     },
     "execution_count": 58,
     "metadata": {
      "text/plain": ""
     },
     "output_type": "execute_result"
    }
   ],
   "source": [
    "MinimalGenerators(t);"
   ]
  },
  {
   "cell_type": "code",
   "execution_count": 59,
   "id": "01f89231",
   "metadata": {},
   "outputs": [
    {
     "data": {
      "text/plain": [
       "true"
      ]
     },
     "execution_count": 59,
     "metadata": {
      "text/plain": ""
     },
     "output_type": "execute_result"
    }
   ],
   "source": [
    "IsMED(t);"
   ]
  },
  {
   "cell_type": "markdown",
   "id": "61e55fbe",
   "metadata": {},
   "source": [
    "If $S=\\langle m=n_1< n_2< \\dots < n_m\\rangle$ is a numerical semigroup with maximal embedding dimension, then $\\operatorname{Ap}(S,m)=\\{0, n_2, \\dots, n_m\\}$, and thus $\\operatorname{t}(S)=m-1$. It is not hard to prove that $S$ has maximal embedding dimension if and only if it has maximal type."
   ]
  },
  {
   "cell_type": "code",
   "execution_count": 60,
   "id": "406d8732",
   "metadata": {},
   "outputs": [
    {
     "data": {
      "text/plain": [
       "2"
      ]
     },
     "execution_count": 60,
     "metadata": {
      "text/plain": ""
     },
     "output_type": "execute_result"
    }
   ],
   "source": [
    "Type(NumericalSemigroup(3,5,7));"
   ]
  },
  {
   "cell_type": "markdown",
   "id": "aba8580c",
   "metadata": {},
   "source": [
    "A particular class of numerical semigroups with maximal embedding dimension is that of Arf numerical semigroups. A numerical semigroup $S$ if Arf if for any $x,y,z\\in S$, with $x\\ge y\\ge z$, one gets $x+y-z\\in S$. Clearly, the intersection of two Arf numerical semigroups is again an Arf numerical semigroup."
   ]
  },
  {
   "cell_type": "code",
   "execution_count": 61,
   "id": "6d9e3711",
   "metadata": {},
   "outputs": [
    {
     "data": {
      "text/plain": [
       "[ 3, 5, 7 ]"
      ]
     },
     "execution_count": 61,
     "metadata": {
      "text/plain": ""
     },
     "output_type": "execute_result"
    }
   ],
   "source": [
    "MinimalGenerators(ArfNumericalSemigroupClosure(NumericalSemigroup(3,5)));"
   ]
  },
  {
   "cell_type": "markdown",
   "id": "2e5f007e",
   "metadata": {},
   "source": [
    "### Irreducible numerical semigroups"
   ]
  },
  {
   "cell_type": "markdown",
   "id": "a93705b3",
   "metadata": {},
   "source": [
    "We say that a numerical semigroup $S$ is irreducible if it cannot be expressed as the intersection of two numerical semigroups properly containing it.\n",
    "\n",
    "It can be (easily) shown that if we fix a positive integer $f$, then $S$ is irreducible if and only if it is maximal (with respect to inclusion) in the set of all numerical semigroups with Frobenius number $f$ (or equivalently, in the set of all numerical semigroups not containing $f$). \n",
    "\n",
    "Recall that $\\operatorname{g}(S)\\ge (\\operatorname{F}(S)+1)/2$. Having less genus means being \"bigger\", and so if $\\operatorname{F}(S)$ is odd, then $S$ is irreducible if and only if $\\operatorname{g}(S)= (\\operatorname{F}(S)+1)/2$.\n",
    "\n",
    "For $\\operatorname{F}(S)$ even, we obtain that $S$ is irreducible if and only if $\\operatorname{g}(S)=(\\operatorname{F}(S)+2)/2$.\n",
    "\n"
   ]
  },
  {
   "cell_type": "markdown",
   "id": "bbbd521d",
   "metadata": {},
   "source": [
    "Every numerical semigroup can be expressed as a finite intersection of irreducible numerical semigroups. Two minimal (non-redundant) expressions of the semigroup as intersection of irreducible numerical semigroup may have different factors."
   ]
  },
  {
   "cell_type": "code",
   "execution_count": 62,
   "id": "6e562c93",
   "metadata": {},
   "outputs": [
    {
     "data": {
      "text/plain": [
       "<Numerical semigroup with 3 generators>"
      ]
     },
     "execution_count": 62,
     "metadata": {
      "text/plain": ""
     },
     "output_type": "execute_result"
    }
   ],
   "source": [
    "s:=NumericalSemigroup(3,7,8);"
   ]
  },
  {
   "cell_type": "code",
   "execution_count": 63,
   "id": "1c467933",
   "metadata": {},
   "outputs": [
    {
     "data": {
      "text/plain": [
       "[ 0, 3, 6 ]"
      ]
     },
     "execution_count": 63,
     "metadata": {
      "text/plain": ""
     },
     "output_type": "execute_result"
    }
   ],
   "source": [
    "SmallElements(s);"
   ]
  },
  {
   "cell_type": "code",
   "execution_count": 64,
   "id": "a8b06ba2",
   "metadata": {},
   "outputs": [
    {
     "data": {
      "text/plain": [
       "false"
      ]
     },
     "execution_count": 64,
     "metadata": {
      "text/plain": ""
     },
     "output_type": "execute_result"
    }
   ],
   "source": [
    "IsIrreducible(s);"
   ]
  },
  {
   "cell_type": "code",
   "execution_count": 65,
   "id": "e13c1a8e",
   "metadata": {},
   "outputs": [
    {
     "data": {
      "text/plain": [
       "[ <Numerical semigroup with 2 generators>,   <Numerical semigroup with 3 generators> ]"
      ]
     },
     "execution_count": 65,
     "metadata": {
      "text/plain": ""
     },
     "output_type": "execute_result"
    }
   ],
   "source": [
    "l:=DecomposeIntoIrreducibles(s);"
   ]
  },
  {
   "cell_type": "code",
   "execution_count": 66,
   "id": "181ffddb",
   "metadata": {},
   "outputs": [
    {
     "data": {
      "text/plain": [
       "[ [ 0, 3, 4, 6 ], [ 0, 3, 5 ] ]"
      ]
     },
     "execution_count": 66,
     "metadata": {
      "text/plain": ""
     },
     "output_type": "execute_result"
    }
   ],
   "source": [
    "List(l,SmallElements);"
   ]
  },
  {
   "cell_type": "markdown",
   "id": "d68a3225",
   "metadata": {},
   "source": [
    "Notice also that for every integer $x$, both $x$ and $\\operatorname{F}(S)-x$ cannot be in $S$ (since otherwise their sum, which is $\\operatorname{F}(S)$, would be in $S$). If we want $S$ to have the least possible number of gaps once the Frobenius number is fixed, then we do not want $x$ and $\\operatorname{F}(S)-x$ to be gaps at the same time (unless they are the same and then $x=\\operatorname{F}(S)/2$). \n",
    "\n",
    "Assume that $\\operatorname{F}(S)$ is odd. Then we say that $S$ is symmetric if for any integer $x\\not\\in S$, we have that $\\operatorname{F}(S)-x\\in S$. A numerical semigroup with odd Frobenius number is irreducible if and only if it is symmetric.\n",
    "\n",
    "For the case $\\operatorname{F}(S)$ even, we have to take into account $\\operatorname{F}(S)/2$. A numerical semigroup $S$ is pseudo-symmetric if $\\operatorname{F}(S)$ is even and for any integer $x$ not in $S$ and different from $\\operatorname{F}(S)/2$, we have that $\\operatorname{F}(S)-x\\in S$. A numerical semigroup with even Frobenius number is irreducible if and only if it is pseudo-symmetric."
   ]
  },
  {
   "cell_type": "code",
   "execution_count": 67,
   "id": "066f0784",
   "metadata": {},
   "outputs": [
    {
     "data": {
      "text/plain": [
       "[ 4, 5 ]"
      ]
     },
     "execution_count": 67,
     "metadata": {
      "text/plain": ""
     },
     "output_type": "execute_result"
    }
   ],
   "source": [
    "PseudoFrobenius(s);"
   ]
  },
  {
   "cell_type": "code",
   "execution_count": 68,
   "id": "c2b09650",
   "metadata": {},
   "outputs": [
    {
     "data": {
      "text/plain": [
       "[ <Numerical semigroup>, <Numerical semigroup>, <Numerical semigroup>,   <Numerical semigroup>, <Numerical semigroup>, <Numerical semigroup>,   <Numerical semigroup>, <Numerical semigroup> ]"
      ]
     },
     "execution_count": 68,
     "metadata": {
      "text/plain": ""
     },
     "output_type": "execute_result"
    }
   ],
   "source": [
    "li:=IrreducibleNumericalSemigroupsWithFrobeniusNumber(13);"
   ]
  },
  {
   "cell_type": "code",
   "execution_count": 69,
   "id": "c187b16f",
   "metadata": {},
   "outputs": [
    {
     "data": {
      "text/plain": [
       "[ [ 13 ], [ 13 ], [ 13 ], [ 13 ], [ 13 ], [ 13 ], [ 13 ], [ 13 ] ]"
      ]
     },
     "execution_count": 69,
     "metadata": {
      "text/plain": ""
     },
     "output_type": "execute_result"
    }
   ],
   "source": [
    "List(li,PseudoFrobenius);"
   ]
  },
  {
   "cell_type": "code",
   "execution_count": 70,
   "id": "454cf482",
   "metadata": {},
   "outputs": [
    {
     "data": {
      "text/plain": [
       "[ <Numerical semigroup>, <Numerical semigroup>, <Numerical semigroup>,   <Numerical semigroup>, <Numerical semigroup>, <Numerical semigroup> ]"
      ]
     },
     "execution_count": 70,
     "metadata": {
      "text/plain": ""
     },
     "output_type": "execute_result"
    }
   ],
   "source": [
    "li:=IrreducibleNumericalSemigroupsWithFrobeniusNumber(14);"
   ]
  },
  {
   "cell_type": "code",
   "execution_count": 71,
   "id": "4984d8de",
   "metadata": {},
   "outputs": [
    {
     "data": {
      "text/plain": [
       "[ [ 7, 14 ], [ 7, 14 ], [ 7, 14 ], [ 7, 14 ], [ 7, 14 ], [ 7, 14 ] ]"
      ]
     },
     "execution_count": 71,
     "metadata": {
      "text/plain": ""
     },
     "output_type": "execute_result"
    }
   ],
   "source": [
    "List(li,PseudoFrobenius);"
   ]
  },
  {
   "cell_type": "markdown",
   "id": "3328206e",
   "metadata": {},
   "source": [
    "Symmetric numerical semigroups correspond with those numerical semigroups of type one, while $S$ is pseudo-symmetric if and only if $\\operatorname{PF}(S)=\\{\\operatorname{F}(S)/2, \\operatorname{F}(S)\\}$. As we have seen above, there are numerical semigroups with type two that are not pseudo-symmetric."
   ]
  },
  {
   "cell_type": "code",
   "execution_count": 72,
   "id": "cf210186",
   "metadata": {},
   "outputs": [
    {
     "data": {
      "text/plain": [
       "true"
      ]
     },
     "execution_count": 72,
     "metadata": {
      "text/plain": ""
     },
     "output_type": "execute_result"
    }
   ],
   "source": [
    "LoadPackage(\"jupyterviz\");"
   ]
  },
  {
   "cell_type": "code",
   "execution_count": 73,
   "id": "8a3344c8",
   "metadata": {},
   "outputs": [
    {
     "data": {
      "text/plain": [
       "[ [ 1, 1 ], [ 2, 1 ], [ 3, 1 ], [ 4, 1 ], [ 5, 2 ], [ 6, 1 ], [ 7, 3 ],   [ 8, 2 ], [ 9, 3 ], [ 10, 3 ], [ 11, 6 ], [ 12, 2 ], [ 13, 8 ], [ 14, 6 ],   [ 15, 7 ], [ 16, 7 ], [ 17, 15 ], [ 18, 7 ], [ 19, 20 ], [ 20, 11 ],   [ 21, 18 ], [ 22, 20 ], [ 23, 36 ], [ 24, 14 ], [ 25, 44 ] ]"
      ]
     },
     "execution_count": 73,
     "metadata": {
      "text/plain": ""
     },
     "output_type": "execute_result"
    }
   ],
   "source": [
    "li:=List([1..25], i->[i,Length(IrreducibleNumericalSemigroupsWithFrobeniusNumber(i))]);"
   ]
  },
  {
   "cell_type": "code",
   "execution_count": 76,
   "id": "7970e5d9",
   "metadata": {},
   "outputs": [
    {
     "name": "stdout",
     "output_type": "stream",
     "text": [
      "[ [   1,   1 ],\n",
      "  [   2,   1 ],\n",
      "  [   3,   1 ],\n",
      "  [   4,   1 ],\n",
      "  [   5,   2 ],\n",
      "  [   6,   1 ],\n",
      "  [   7,   3 ],\n",
      "  [   8,   2 ],\n",
      "  [   9,   3 ],\n",
      "  [  10,   3 ],\n",
      "  [  11,   6 ],\n",
      "  [  12,   2 ],\n",
      "  [  13,   8 ],\n",
      "  [  14,   6 ],\n",
      "  [  15,   7 ],\n",
      "  [  16,   7 ],\n",
      "  [  17,  15 ],\n",
      "  [  18,   7 ],\n",
      "  [  19,  20 ],\n",
      "  [  20,  11 ],\n",
      "  [  21,  18 ],\n",
      "  [  22,  20 ],\n",
      "  [  23,  36 ],\n",
      "  [  24,  14 ],\n",
      "  [  25,  44 ] ]\n"
     ]
    }
   ],
   "source": [
    "Display(li);"
   ]
  },
  {
   "cell_type": "markdown",
   "id": "f8da086b",
   "metadata": {},
   "source": [
    "### Almost symmetric numerical semigroups"
   ]
  },
  {
   "cell_type": "markdown",
   "id": "93d4e4eb",
   "metadata": {},
   "source": [
    "Recall that for a numerical semigroup $S$, $\\operatorname{g}(S)\\ge (\\operatorname{F}(S)+\\operatorname{t}(S))/2$. We say that $S$ is almost symmetric if $\\operatorname{g}(S)= (\\operatorname{F}(S)+\\operatorname{t}(S))/2$. Consequently, these are numerical semigroups maximal with respect to inclusion once the type and the Frobenius number are fixed. \n",
    "\n",
    "Clearly, every irreducible numerical semigroup is almost symmetric."
   ]
  },
  {
   "cell_type": "code",
   "execution_count": 78,
   "id": "1db570e1",
   "metadata": {},
   "outputs": [
    {
     "data": {
      "text/plain": [
       "false"
      ]
     },
     "execution_count": 78,
     "metadata": {
      "text/plain": ""
     },
     "output_type": "execute_result"
    }
   ],
   "source": [
    "s:=NumericalSemigroup(3,7,8);;\n",
    "IsAlmostSymmetric(s);"
   ]
  },
  {
   "cell_type": "code",
   "execution_count": 79,
   "id": "1a3e836e",
   "metadata": {},
   "outputs": [
    {
     "data": {
      "text/plain": [
       "5"
      ]
     },
     "execution_count": 79,
     "metadata": {
      "text/plain": ""
     },
     "output_type": "execute_result"
    }
   ],
   "source": [
    "FrobeniusNumber(s);"
   ]
  },
  {
   "cell_type": "code",
   "execution_count": 80,
   "id": "668d8633",
   "metadata": {},
   "outputs": [
    {
     "data": {
      "text/plain": [
       "[ <Numerical semigroup>, <Numerical semigroup>, <Numerical semigroup>,   <Numerical semigroup> ]"
      ]
     },
     "execution_count": 80,
     "metadata": {
      "text/plain": ""
     },
     "output_type": "execute_result"
    }
   ],
   "source": [
    "la:=AlmostSymmetricNumericalSemigroupsWithFrobeniusNumber(5);"
   ]
  },
  {
   "cell_type": "code",
   "execution_count": 81,
   "id": "474f1235",
   "metadata": {},
   "outputs": [
    {
     "data": {
      "text/plain": [
       "[ [ 0, 6 ], [ 0, 4, 6 ], [ 0, 2, 4, 6 ], [ 0, 3, 4, 6 ] ]"
      ]
     },
     "execution_count": 81,
     "metadata": {
      "text/plain": ""
     },
     "output_type": "execute_result"
    }
   ],
   "source": [
    "List(la,SmallElements);"
   ]
  },
  {
   "cell_type": "code",
   "execution_count": 82,
   "id": "a27694a9",
   "metadata": {},
   "outputs": [
    {
     "data": {
      "text/plain": [
       "[ 0, 3, 6 ]"
      ]
     },
     "execution_count": 82,
     "metadata": {
      "text/plain": ""
     },
     "output_type": "execute_result"
    }
   ],
   "source": [
    "SmallElements(s);"
   ]
  },
  {
   "cell_type": "code",
   "execution_count": 83,
   "id": "d8202c08",
   "metadata": {},
   "outputs": [
    {
     "data": {
      "text/plain": [
       "[ [ 1, 1 ], [ 2, 1 ], [ 3, 2 ], [ 4, 2 ], [ 5, 4 ], [ 6, 3 ], [ 7, 7 ],   [ 8, 6 ], [ 9, 11 ], [ 10, 9 ], [ 11, 20 ], [ 12, 15 ], [ 13, 32 ],   [ 14, 24 ], [ 15, 47 ], [ 16, 42 ], [ 17, 83 ], [ 18, 58 ], [ 19, 131 ],   [ 20, 103 ], [ 21, 188 ], [ 22, 151 ], [ 23, 323 ], [ 24, 241 ],   [ 25, 494 ] ]"
      ]
     },
     "execution_count": 83,
     "metadata": {
      "text/plain": ""
     },
     "output_type": "execute_result"
    }
   ],
   "source": [
    "li:=List([1..25], i->[i,Length(AlmostSymmetricNumericalSemigroupsWithFrobeniusNumber(i))]);"
   ]
  },
  {
   "cell_type": "code",
   "execution_count": 84,
   "id": "1c4a8b06",
   "metadata": {},
   "outputs": [
    {
     "name": "stdout",
     "output_type": "stream",
     "text": [
      "[ [    1,    1 ],\n",
      "  [    2,    1 ],\n",
      "  [    3,    2 ],\n",
      "  [    4,    2 ],\n",
      "  [    5,    4 ],\n",
      "  [    6,    3 ],\n",
      "  [    7,    7 ],\n",
      "  [    8,    6 ],\n",
      "  [    9,   11 ],\n",
      "  [   10,    9 ],\n",
      "  [   11,   20 ],\n",
      "  [   12,   15 ],\n",
      "  [   13,   32 ],\n",
      "  [   14,   24 ],\n",
      "  [   15,   47 ],\n",
      "  [   16,   42 ],\n",
      "  [   17,   83 ],\n",
      "  [   18,   58 ],\n",
      "  [   19,  131 ],\n",
      "  [   20,  103 ],\n",
      "  [   21,  188 ],\n",
      "  [   22,  151 ],\n",
      "  [   23,  323 ],\n",
      "  [   24,  241 ],\n",
      "  [   25,  494 ] ]\n"
     ]
    }
   ],
   "source": [
    "Display(li);"
   ]
  },
  {
   "cell_type": "markdown",
   "id": "c4af714e",
   "metadata": {},
   "source": [
    "There are many other generalizations of symmetry."
   ]
  },
  {
   "cell_type": "markdown",
   "id": "5a68e6f8",
   "metadata": {},
   "source": [
    "## Minimal presentations"
   ]
  },
  {
   "cell_type": "markdown",
   "id": "0178ecbd",
   "metadata": {},
   "source": [
    "In mathematics many algebraic objects are given by means of (free) generators and some relations among them. For numerical semigroups it is sometimes useful to have representation of this form.\n",
    "\n",
    "Let $S$ be a numerical semigroup minimally generated by $\\{n_1,\\dots,n_e\\}$. Every element $s\\in S$ admits an expression of the form $s=a_1n_1+\\dots+ a_e n_e$, and for every $(a_1,\\dots,a_e)\\in \\mathbb{N}^e$, the integer $a_1n_1+\\dots+a_en_e\\in S$. Thus, the following (monoid) morphism \n",
    "$$\n",
    "\\varphi_S: \\mathbb{N}^e \\to S,\\ \\varphi_S(a_1,\\dots,a_e)=a_1n_1+\\dots+a_en_e\n",
    "$$\n",
    "is surjective. There is an isomorphism theorem for monoids, and consequently we have that $\\mathbb{N}^e/\\ker \\varphi_S$ is isomorphic to $S$ as a monoid, where $\\ker \\phi_S=\\{ (a,b)\\in \\mathbb{N}^e : \\varphi_S(a)=\\varphi_S(b)\\}$. As a congruence, $\\ker \\varphi_S$ admints a system of generators, which is known as a presentation for $S$. \n",
    "\n",
    "A minimal presentation for $S$ is just a minimal generating system of $\\ker \\varphi_S$."
   ]
  },
  {
   "cell_type": "code",
   "execution_count": 85,
   "id": "8f400633",
   "metadata": {},
   "outputs": [
    {
     "data": {
      "text/plain": [
       "<Numerical semigroup with 2 generators>"
      ]
     },
     "execution_count": 85,
     "metadata": {
      "text/plain": ""
     },
     "output_type": "execute_result"
    }
   ],
   "source": [
    "s:=NumericalSemigroup(2,3);"
   ]
  },
  {
   "cell_type": "code",
   "execution_count": 86,
   "id": "5e4f00ad",
   "metadata": {},
   "outputs": [
    {
     "data": {
      "text/plain": [
       "[ [ [ 0, 2 ], [ 3, 0 ] ] ]"
      ]
     },
     "execution_count": 86,
     "metadata": {
      "text/plain": ""
     },
     "output_type": "execute_result"
    }
   ],
   "source": [
    "MinimalPresentation(s);"
   ]
  },
  {
   "cell_type": "markdown",
   "id": "7a3b82bb",
   "metadata": {},
   "source": [
    "Thus $\\langle 2,3\\rangle$ can be viewed as the monoid generated by $a$ and $b$, which fulfil the relation $3a=2b$. "
   ]
  },
  {
   "cell_type": "markdown",
   "id": "4bc8cd61",
   "metadata": {},
   "source": [
    "Given $s\\in S$, the set $\\varphi_S^{-1}(s)$ corresponds to all the expressions that $s$ migh have in terms of the minimal generators of $S$. We will call this set, the set of factorizations of $s$, and we will denote it by $\\mathsf{Z}(s)$."
   ]
  },
  {
   "cell_type": "code",
   "execution_count": 87,
   "id": "2ba8e280",
   "metadata": {},
   "outputs": [
    {
     "data": {
      "text/plain": [
       "[ [ 3, 0 ], [ 0, 2 ] ]"
      ]
     },
     "execution_count": 87,
     "metadata": {
      "text/plain": ""
     },
     "output_type": "execute_result"
    }
   ],
   "source": [
    "Factorizations(6,s);"
   ]
  },
  {
   "cell_type": "code",
   "execution_count": 88,
   "id": "85646092",
   "metadata": {},
   "outputs": [
    {
     "data": {
      "text/plain": [
       "[ [ 10, 0 ], [ 7, 2 ], [ 4, 4 ], [ 1, 6 ] ]"
      ]
     },
     "execution_count": 88,
     "metadata": {
      "text/plain": ""
     },
     "output_type": "execute_result"
    }
   ],
   "source": [
    "Factorizations(20,s);"
   ]
  },
  {
   "cell_type": "markdown",
   "id": "8da696c0",
   "metadata": {},
   "source": [
    "A set $\\rho$ generates a congruence $\\sigma$ on $\\mathbb{N}^e$ if for any pair $(a,b)\\in \\sigma$ there exists a chain $a_1,\\dots,a_n$ such that\n",
    "\n",
    "- $a_1=a$, $a_n=b$,\n",
    "- for all $i$, there exists $c_i\\in \\mathbb{N}^e$ and $(\\alpha_i,\\beta_i)$ such that $(a_i,a_{i+1})=(\\alpha_i+c_i,\\beta_i+c_i)$ and either $(\\alpha_i,\\beta_i)\\in \\rho$ or $(\\beta_i,\\alpha_i)\\in \\rho$.\n",
    "\n",
    "You can see the sequence $a_1,\\dots,a_n$ as a chain of transformations from $a$ to $b$, and at each step we are applying a relation (or trade) chanbe $\\alpha_i$ by $\\beta_i$ (or viceversa). \n",
    "\n",
    "For instance, in the above example $((10,0),(1,6))\\in \\ker\\varphi_S$. We start with $(10,0)$ and apply the only minimal relation we have on our numerical semigroup: $((10,0),(10-3,2))\\in \\sigma$. If we do this a couple of times more, we obtain the chaing $(10,0)$, $(7,2)$, $(4,4)$, and $(1,6)$. "
   ]
  },
  {
   "cell_type": "code",
   "execution_count": 90,
   "id": "e7991667",
   "metadata": {},
   "outputs": [
    {
     "data": {
      "text/plain": [
       "[ [ [ 0, 0, 2 ], [ 3, 1, 0 ] ], [ [ 0, 1, 1 ], [ 4, 0, 0 ] ],   [ [ 0, 2, 0 ], [ 1, 0, 1 ] ] ]"
      ]
     },
     "execution_count": 90,
     "metadata": {
      "text/plain": ""
     },
     "output_type": "execute_result"
    }
   ],
   "source": [
    "s:=NumericalSemigroup(3,5,7);;\n",
    "MinimalPresentation(s);"
   ]
  },
  {
   "cell_type": "code",
   "execution_count": 91,
   "id": "1b55557d",
   "metadata": {},
   "outputs": [
    {
     "data": {
      "text/plain": [
       "[ [ 5, 1, 0 ], [ 0, 4, 0 ], [ 1, 2, 1 ], [ 2, 0, 2 ] ]"
      ]
     },
     "execution_count": 91,
     "metadata": {
      "text/plain": ""
     },
     "output_type": "execute_result"
    }
   ],
   "source": [
    "Factorizations(20,s);"
   ]
  },
  {
   "cell_type": "markdown",
   "id": "ddc91d7c",
   "metadata": {},
   "source": [
    "Assume that we want to check that $((5,1,0),(2,0,2))$ can be obtained from the minimal relations of $S$. Notice that these two factorizations have some common support, in fact $(5,1,0)=(3,1,0)+(2,0,0)$ and $(2,0,2)=(0,0,2)+(2,0,0)$. Thus, if we find a chain going from $(3,1,0)$ to $(0,0,2)$, then by adding $(2,0,0)$ to all the steps, we obtain a chain connecting our original factorizations.  But we already have this chain, since $((0,0,2),(3,1,0))$ is already in our minimal presentation.\n",
    "\n",
    "The idea can be extended to factorizations of larger elements in $S$. Whenever they have a common \"factor\", remove it, and try to connect the new factorizations. This motivates the definition of $\\mathcal{R}$-classes. \n",
    "\n",
    "Let $X$ be a subset of $\\mathbb{N}^e$. We say that $x,y\\in X$ are connected if there exists a sequence $x_1,\\dots,x_n\\in X$ (for some $n\\in\\mathbb{N}$) such that \n",
    "\n",
    "- $x_1=x$, $x_n=y$,\n",
    "- for every $i$, $x_i$ and $x_{i+1}$ have common support.\n",
    "\n",
    "The connected components of $X$ under this relation are called $R$-classes of $X$."
   ]
  },
  {
   "cell_type": "code",
   "execution_count": 92,
   "id": "417a788f",
   "metadata": {},
   "outputs": [
    {
     "data": {
      "text/plain": [
       "1"
      ]
     },
     "execution_count": 92,
     "metadata": {
      "text/plain": ""
     },
     "output_type": "execute_result"
    }
   ],
   "source": [
    "Length(RClassesOfSetOfFactorizations(Factorizations(20,s)));"
   ]
  },
  {
   "cell_type": "markdown",
   "id": "9ee6ea27",
   "metadata": {},
   "source": [
    "The idea is that whenever we are in the same $R$-class, we can connect any two factorizations with a chain where two consequtive elements have common support. For these two elements, we remove the common part, moving now to the factorizations of an element smaller than the original one. If these two new factorizations are in the same $R$-class, we repeat the process. This will end when we arrive at factorizations in different $R$-classes, and then we only have to connect all the chains that we found translated accordingly. \n",
    "\n",
    "Let us illustrate this with an example."
   ]
  },
  {
   "cell_type": "code",
   "execution_count": 93,
   "id": "a4521626",
   "metadata": {},
   "outputs": [
    {
     "data": {
      "text/plain": [
       "[ [ 7, 0, 0 ], [ 2, 3, 0 ], [ 3, 1, 1 ], [ 0, 0, 3 ] ]"
      ]
     },
     "execution_count": 93,
     "metadata": {
      "text/plain": ""
     },
     "output_type": "execute_result"
    }
   ],
   "source": [
    "Factorizations(21,s);"
   ]
  },
  {
   "cell_type": "code",
   "execution_count": 94,
   "id": "7fb31bb2",
   "metadata": {},
   "outputs": [
    {
     "data": {
      "text/plain": [
       "[ [ [ 0, 0, 3 ], [ 2, 3, 0 ], [ 3, 1, 1 ], [ 7, 0, 0 ] ] ]"
      ]
     },
     "execution_count": 94,
     "metadata": {
      "text/plain": ""
     },
     "output_type": "execute_result"
    }
   ],
   "source": [
    "RClassesOfSetOfFactorizations(Factorizations(21,s));"
   ]
  },
  {
   "cell_type": "code",
   "execution_count": 95,
   "id": "689bdc93",
   "metadata": {},
   "outputs": [
    {
     "data": {
      "image/svg+xml": [
       "<?xml version=\"1.0\" encoding=\"UTF-8\" standalone=\"no\"?>\n",
       "<!DOCTYPE svg PUBLIC \"-//W3C//DTD SVG 1.1//EN\"\n",
       " \"http://www.w3.org/Graphics/SVG/1.1/DTD/svg11.dtd\">\n",
       "<!-- Generated by graphviz version 9.0.0 (20230911.1827)\n",
       " -->\n",
       "<!-- Title: NSGraph Pages: 1 -->\n",
       "<svg width=\"135pt\" height=\"310pt\"\n",
       " viewBox=\"0.00 0.00 135.35 309.50\" xmlns=\"http://www.w3.org/2000/svg\" xmlns:xlink=\"http://www.w3.org/1999/xlink\">\n",
       "<g id=\"graph0\" class=\"graph\" transform=\"scale(1 1) rotate(0) translate(4 305.5)\">\n",
       "<title>NSGraph</title>\n",
       "<polygon fill=\"white\" stroke=\"none\" points=\"-4,4 -4,-305.5 131.35,-305.5 131.35,4 -4,4\"/>\n",
       "<!-- 1 -->\n",
       "<g id=\"node1\" class=\"node\">\n",
       "<title>1</title>\n",
       "<ellipse fill=\"none\" stroke=\"black\" cx=\"83.67\" cy=\"-283.5\" rx=\"43.67\" ry=\"18\"/>\n",
       "<text text-anchor=\"middle\" x=\"83.67\" y=\"-278.45\" font-family=\"Times,serif\" font-size=\"14.00\"> (7, 0, 0)</text>\n",
       "</g>\n",
       "<!-- 2 -->\n",
       "<g id=\"node2\" class=\"node\">\n",
       "<title>2</title>\n",
       "<ellipse fill=\"none\" stroke=\"black\" cx=\"43.67\" cy=\"-195\" rx=\"43.67\" ry=\"18\"/>\n",
       "<text text-anchor=\"middle\" x=\"43.67\" y=\"-189.95\" font-family=\"Times,serif\" font-size=\"14.00\"> (2, 3, 0)</text>\n",
       "</g>\n",
       "<!-- 1&#45;&#45;2 -->\n",
       "<g id=\"edge4\" class=\"edge\">\n",
       "<title>1&#45;&#45;2</title>\n",
       "<path fill=\"none\" stroke=\"black\" d=\"M75.77,-265.41C68.76,-250.25 58.57,-228.21 51.56,-213.05\"/>\n",
       "<text text-anchor=\"middle\" x=\"71.05\" y=\"-234.2\" font-family=\"Times,serif\" font-size=\"14.00\">5</text>\n",
       "</g>\n",
       "<!-- 3 -->\n",
       "<g id=\"node3\" class=\"node\">\n",
       "<title>3</title>\n",
       "<ellipse fill=\"none\" stroke=\"black\" cx=\"83.67\" cy=\"-106.5\" rx=\"43.67\" ry=\"18\"/>\n",
       "<text text-anchor=\"middle\" x=\"83.67\" y=\"-101.45\" font-family=\"Times,serif\" font-size=\"14.00\"> (3, 1, 1)</text>\n",
       "</g>\n",
       "<!-- 1&#45;&#45;3 -->\n",
       "<g id=\"edge2\" class=\"edge\">\n",
       "<title>1&#45;&#45;3</title>\n",
       "<path fill=\"none\" stroke=\"black\" d=\"M87.83,-265.2C90.97,-251.22 95.01,-230.97 96.67,-213 98.15,-197.07 98.15,-192.93 96.67,-177 95.01,-159.03 90.97,-138.78 87.83,-124.8\"/>\n",
       "<text text-anchor=\"middle\" x=\"102.05\" y=\"-189.95\" font-family=\"Times,serif\" font-size=\"14.00\">4</text>\n",
       "</g>\n",
       "<!-- 2&#45;&#45;3 -->\n",
       "<g id=\"edge1\" class=\"edge\">\n",
       "<title>2&#45;&#45;3</title>\n",
       "<path fill=\"none\" stroke=\"black\" d=\"M51.58,-176.91C58.59,-161.75 68.78,-139.71 75.79,-124.55\"/>\n",
       "<text text-anchor=\"middle\" x=\"71.05\" y=\"-145.7\" font-family=\"Times,serif\" font-size=\"14.00\">2</text>\n",
       "</g>\n",
       "<!-- 4 -->\n",
       "<g id=\"node4\" class=\"node\">\n",
       "<title>4</title>\n",
       "<ellipse fill=\"none\" stroke=\"black\" cx=\"83.67\" cy=\"-18\" rx=\"43.67\" ry=\"18\"/>\n",
       "<text text-anchor=\"middle\" x=\"83.67\" y=\"-12.95\" font-family=\"Times,serif\" font-size=\"14.00\"> (0, 0, 3)</text>\n",
       "</g>\n",
       "<!-- 3&#45;&#45;4 -->\n",
       "<g id=\"edge3\" class=\"edge\">\n",
       "<title>3&#45;&#45;4</title>\n",
       "<path fill=\"none\" stroke=\"black\" d=\"M83.67,-88.41C83.67,-73.34 83.67,-51.49 83.67,-36.35\"/>\n",
       "<text text-anchor=\"middle\" x=\"87.05\" y=\"-57.2\" font-family=\"Times,serif\" font-size=\"14.00\">4</text>\n",
       "</g>\n",
       "</g>\n",
       "</svg>\n"
      ]
     },
     "execution_count": 95,
     "metadata": {
      "image/svg+xml": {
       "height": 500,
       "width": 500
      }
     },
     "output_type": "execute_result"
    }
   ],
   "source": [
    "JupyterSplashDot(DotEliahouGraph(Factorizations(21,s)));"
   ]
  },
  {
   "cell_type": "markdown",
   "id": "05771201",
   "metadata": {},
   "source": [
    "We know that $((7,0,0),(0,0,3))\\in \\ker\\varphi_S$, and we want to see how can we obtain this pair from the minimal relations of $S$. Both $(7,0,0)$ and $(0,0,3)$ are in the same $R$-class. We can, instance, connect them with the sequence $(7,0,0)$, $(3,1,1)$, $(0,0,3)$. By transitivity, if we find a chain of trades going from  $(7,0,0)$  to $(3,1,1))$ and another from $(3,1,1)$ to $(0,0,3)$, by joining them we will find a chain from $(7,0,0)$ to $(0,0,3)$. \n",
    "\n",
    "By removing the common part of $(7,0,0)$ and $(3,1,1)$, we obtain $(4,0,0)$ and $(0,1,1)$, and the pair $((4,0,0),(0,1,1))$ is in our minimal presentation. We do the same with $(3,1,1)$ and $(0,0,3)$, obtaining $(3,1,0)$ and $(0,0,2)$, and $((0,0,2),(3,1,0))$ is in our minimal presentation. Let $\\sigma=\\ker\\varphi_S$. Then $(7,0,0)=((4,0,0)+(3,0,0))\\sigma ((0,1,1)+(3,0,0))=(3,1,1)\\sigma ((3,1,0)+(0,0,1))\\sigma ((0,0,2)+(0,0,1))=(0,0,3)$.\n",
    "\n",
    "In this construction, elements with more than one $R$-class are crucial. These elements are called Betti elements (or degrees) of $S$."
   ]
  },
  {
   "cell_type": "code",
   "execution_count": 96,
   "id": "819a04b1",
   "metadata": {},
   "outputs": [
    {
     "data": {
      "text/plain": [
       "[ 10, 12, 14 ]"
      ]
     },
     "execution_count": 96,
     "metadata": {
      "text/plain": ""
     },
     "output_type": "execute_result"
    }
   ],
   "source": [
    "bs:=BettiElements(s);"
   ]
  },
  {
   "cell_type": "code",
   "execution_count": 97,
   "id": "a850b3a6",
   "metadata": {},
   "outputs": [
    {
     "data": {
      "text/plain": [
       "[ [ [ [ 0, 2, 0 ] ], [ [ 1, 0, 1 ] ] ], [ [ [ 4, 0, 0 ] ], [ [ 0, 1, 1 ] ] ],   [ [ [ 3, 1, 0 ] ], [ [ 0, 0, 2 ] ] ] ]"
      ]
     },
     "execution_count": 97,
     "metadata": {
      "text/plain": ""
     },
     "output_type": "execute_result"
    }
   ],
   "source": [
    "List(bs,b-> RClassesOfSetOfFactorizations(Factorizations(b,s)));"
   ]
  },
  {
   "cell_type": "markdown",
   "id": "0a8eaa0a",
   "metadata": {},
   "source": [
    "It is not hard to prove that if $s\\in S$ is a Betti element, then $s=n_i+w$ with $i>2$ and $w\\in \\operatorname{Ap}(S,n_1)$. Thus the number of Betti elements is finite. As a consequence of this, all minimal presentations have the same cardinality, since we only need relations \"connecting\" different $R$-classes of the factorizations of the Betti elements of $s$. This also provides a way do determine all minimal relations of a numerical semigroup (up to symmetry)."
   ]
  },
  {
   "cell_type": "code",
   "execution_count": 98,
   "id": "a8b2db97",
   "metadata": {},
   "outputs": [
    {
     "data": {
      "text/plain": [
       "[ [ [ 1, 0, 1 ], [ 0, 2, 0 ] ], [ [ 3, 1, 0 ], [ 0, 0, 2 ] ],   [ [ 4, 0, 0 ], [ 0, 1, 1 ] ] ]"
      ]
     },
     "execution_count": 98,
     "metadata": {
      "text/plain": ""
     },
     "output_type": "execute_result"
    }
   ],
   "source": [
    "AllMinimalRelationsOfNumericalSemigroup(s);"
   ]
  },
  {
   "cell_type": "markdown",
   "id": "d7f6aecb",
   "metadata": {},
   "source": [
    "Minimal presentations of numerical semigroups with embedding dimension two have cardinality one. Thos for embedding dimension three have cardinality two or three. There are numerical semigroups with embedding dimension four with arbitrarily large minimal presentations."
   ]
  },
  {
   "cell_type": "markdown",
   "id": "7da53814",
   "metadata": {},
   "source": [
    "## Minimal presentations and binomial ideals"
   ]
  },
  {
   "cell_type": "markdown",
   "id": "653bb993",
   "metadata": {},
   "source": [
    "Let $S$ be a numerical semigroup minimally generated by $\\{n_1,\\dots,n_e\\}$. Let $K$ be a field and $K[x_1,\\dots,x_e]$ be the polynomial ring on the variables $x_1,\\dots, x_e$ with coefficients in $K$. \n",
    "\n",
    "Let $t$ be another unknown. We can define the subring $K[S]=K[t^s :s \\in S]=K[t^{n_1},dots,t^{n_e}]\\subseteq K[t]$, which is known as the semigroup ring of $S$. Let $\\psi_S:K[x_1,\\dots,x_e]\\to K[t]$ be the unique ring homomorphism determined by $\\psi_S(x_i)=t^{n_i}$. \n",
    "\n",
    "For $a=(a_1,\\dots,a_e)\\in \\mathbb{N}^e$, write $x^a=x_1^{a_1}\\cdots x_e^{a_e}$. Clearly, $\\psi_S(x^a)=t^{\\phi_S(a)}$, and consequently whenever $(a,b)\\in \\ker \\psi_S$, we have that $x^a-x^b\\in \\ker \\psi_S$. It is not hard to prove that \n",
    "$$\n",
    "\\ker \\psi_S = \\langle X^a - x^b : (a,b)\\in \\ker \\phi_S\\rangle\n",
    "$$\n",
    "and that a set $\\rho$ generates $\\ker \\phi_S$ as a congruence if and only if $\\{ x^a-x^b : (a,b)\\in \\rho\\}$ generates $\\ker\\psi_S$ as an ideal."
   ]
  },
  {
   "cell_type": "code",
   "execution_count": 99,
   "id": "3fb67314",
   "metadata": {},
   "outputs": [],
   "source": [
    "s:=NumericalSemigroup(3,5,7);;"
   ]
  },
  {
   "cell_type": "markdown",
   "id": "31865ed4",
   "metadata": {},
   "source": [
    "In order to compute $\\ker \\psi_S$ we can use elimination in the following way."
   ]
  },
  {
   "cell_type": "code",
   "execution_count": 103,
   "id": "537bee67",
   "metadata": {},
   "outputs": [],
   "source": [
    "x:=Indeterminate(Rationals,\"x\");;\n",
    "y:=Indeterminate(Rationals,\"y\");;\n",
    "z:=Indeterminate(Rationals,\"z\");;\n",
    "t:=Indeterminate(Rationals,\"t\");;"
   ]
  },
  {
   "cell_type": "markdown",
   "id": "c0ea512a",
   "metadata": {},
   "source": [
    "We identify each variable to $t$ to the power of the corresponding minimal generator."
   ]
  },
  {
   "cell_type": "code",
   "execution_count": 104,
   "id": "5021c03d",
   "metadata": {},
   "outputs": [],
   "source": [
    "gens:=[x-t^3,y-t^5,z-t^7];;"
   ]
  },
  {
   "cell_type": "markdown",
   "id": "9dcd9099",
   "metadata": {},
   "source": [
    "Now, we eliminate the variable $t$."
   ]
  },
  {
   "cell_type": "code",
   "execution_count": 105,
   "id": "c8d91faa",
   "metadata": {},
   "outputs": [
    {
     "data": {
      "text/plain": [
       "[ -t^3+x, -t^5+y, -t^7+z, x*t^2-y, x^2*t-z, -x^2+y*t, -x^3+z*t^2, x*y-z*t,   -x*z+y^2, -x^4+y*z, -x^3*y+z^2, x^2*y^3-z^3, -x*y^5+z^4, y^7-z^5 ]"
      ]
     },
     "execution_count": 105,
     "metadata": {
      "text/plain": ""
     },
     "output_type": "execute_result"
    }
   ],
   "source": [
    "gr:=GroebnerBasis(gens,EliminationOrdering([t]));"
   ]
  },
  {
   "cell_type": "code",
   "execution_count": 106,
   "id": "f09d6210",
   "metadata": {},
   "outputs": [
    {
     "data": {
      "text/plain": [
       "[ -x*z+y^2, -x^4+y*z, -x^3*y+z^2, x^2*y^3-z^3, -x*y^5+z^4, y^7-z^5 ]"
      ]
     },
     "execution_count": 106,
     "metadata": {
      "text/plain": ""
     },
     "output_type": "execute_result"
    }
   ],
   "source": [
    "gensi:=Filtered(gr, g->DegreeIndeterminate(g,t)=0);"
   ]
  },
  {
   "cell_type": "markdown",
   "id": "54e8ecb2",
   "metadata": {},
   "source": [
    "Next, we extract the exponents of the binomials obtained."
   ]
  },
  {
   "cell_type": "code",
   "execution_count": 108,
   "id": "10b842ef",
   "metadata": {},
   "outputs": [
    {
     "data": {
      "text/plain": [
       "function( pp ) ... end"
      ]
     },
     "execution_count": 108,
     "metadata": {
      "text/plain": ""
     },
     "output_type": "execute_result"
    }
   ],
   "source": [
    "ed:=3;;\n",
    "bintopair:=function(pp)\n",
    "    local m1,m2, d1, d2, p;\n",
    "    p:=pp/LeadingCoefficientOfPolynomial(pp,MonomialLexOrdering());\n",
    "    m1:=LeadingMonomialOfPolynomial(p, MonomialLexOrdering());\n",
    "    m2:=m1-p;\n",
    "    d1:=List([1..ed], i->DegreeIndeterminate(m1,i));;\n",
    "    d2:=List([1..ed], i->DegreeIndeterminate(m2,i));;\n",
    "    return Set([d1,d2]);\n",
    "end;"
   ]
  },
  {
   "cell_type": "code",
   "execution_count": 109,
   "id": "31e02a56",
   "metadata": {},
   "outputs": [
    {
     "data": {
      "text/plain": [
       "[ [ [ 0, 2, 0 ], [ 1, 0, 1 ] ], [ [ 0, 1, 1 ], [ 4, 0, 0 ] ],   [ [ 0, 0, 2 ], [ 3, 1, 0 ] ], [ [ 0, 0, 3 ], [ 2, 3, 0 ] ],   [ [ 0, 0, 4 ], [ 1, 5, 0 ] ], [ [ 0, 0, 5 ], [ 0, 7, 0 ] ] ]"
      ]
     },
     "execution_count": 109,
     "metadata": {
      "text/plain": ""
     },
     "output_type": "execute_result"
    }
   ],
   "source": [
    "rho:=List(gensi,bintopair);"
   ]
  },
  {
   "cell_type": "markdown",
   "id": "28e56c9a",
   "metadata": {},
   "source": [
    "The resulting set does not have to be minimal in general. We can detect those factorizations that correspond to Betti elements."
   ]
  },
  {
   "cell_type": "code",
   "execution_count": 110,
   "id": "dc4d326d",
   "metadata": {},
   "outputs": [
    {
     "data": {
      "text/plain": [
       "[ 10, 12, 14, 21, 28, 35 ]"
      ]
     },
     "execution_count": 110,
     "metadata": {
      "text/plain": ""
     },
     "output_type": "execute_result"
    }
   ],
   "source": [
    "betticand:=Set(rho, p->p[1]*MinimalGenerators(s));"
   ]
  },
  {
   "cell_type": "code",
   "execution_count": 111,
   "id": "40eca270",
   "metadata": {},
   "outputs": [
    {
     "data": {
      "text/plain": [
       "[ 10, 12, 14 ]"
      ]
     },
     "execution_count": 111,
     "metadata": {
      "text/plain": ""
     },
     "output_type": "execute_result"
    }
   ],
   "source": [
    "betti:=Filtered(betticand, b->Length(RClassesOfSetOfFactorizations(Factorizations(b,s)))>1);"
   ]
  },
  {
   "cell_type": "code",
   "execution_count": 112,
   "id": "b850cae8",
   "metadata": {},
   "outputs": [
    {
     "data": {
      "text/plain": [
       "[ [ [ [ 0, 2, 0 ] ], [ [ 1, 0, 1 ] ] ], [ [ [ 4, 0, 0 ] ], [ [ 0, 1, 1 ] ] ],   [ [ [ 3, 1, 0 ] ], [ [ 0, 0, 2 ] ] ] ]"
      ]
     },
     "execution_count": 112,
     "metadata": {
      "text/plain": ""
     },
     "output_type": "execute_result"
    }
   ],
   "source": [
    "List(betti, b->RClassesOfSetOfFactorizations(Factorizations(b,s)));"
   ]
  },
  {
   "cell_type": "markdown",
   "id": "0910d819",
   "metadata": {},
   "source": [
    "## Length based factorization invariants"
   ]
  },
  {
   "cell_type": "markdown",
   "id": "d55eebca",
   "metadata": {},
   "source": [
    "Let $S$ be minimally generated by $\\{n_1,\\dots,n_e\\}$. Recall that the set of factorizations of an element $s\\in S$ is $\\mathsf{Z}(s)=\\varphi_S^{-1}(s)$, that is, \n",
    "$$ \\mathsf{Z}(s)=\\{ (a_1,\\dots,a_e)\\in \\mathbb{N}^e : a_1n_1+\\dots+a_en_e =s\\}.$$\n",
    "\n",
    "### Sets of lengths of factorizations\n",
    "\n",
    "The length of a factorization $z=(z_1,\\dots,z_e)$ is the number of minimal generators involved in it, that is, $|z|=z_1+\\dots+z_e$. We define the set of lenghts of the factorizations of $s$ as \n",
    "$$ \\mathsf{L}(s)= \\{ |z| : z\\in \\mathsf{Z}(s)\\}.$$"
   ]
  },
  {
   "cell_type": "code",
   "execution_count": 113,
   "id": "957a3293",
   "metadata": {},
   "outputs": [],
   "source": [
    "s:=NumericalSemigroup(3,5,7);;"
   ]
  },
  {
   "cell_type": "code",
   "execution_count": 114,
   "id": "e8e1d0f0",
   "metadata": {},
   "outputs": [
    {
     "data": {
      "text/plain": [
       "[ 30, 32, 34, 36, 38, 40, 42, 44, 46, 48, 50, 52, 54, 56, 58, 60, 62, 64, 66 ]"
      ]
     },
     "execution_count": 114,
     "metadata": {
      "text/plain": ""
     },
     "output_type": "execute_result"
    }
   ],
   "source": [
    "LengthsOfFactorizationsElementWRTNumericalSemigroup(200,s);"
   ]
  },
  {
   "cell_type": "markdown",
   "id": "6801f511",
   "metadata": {},
   "source": [
    "### Delta sets\n",
    "\n",
    "One can arrange the lengths of the factorizations of an element $s$ in the following way $\\mathsf{L}(s)=\\{l_1<\\dots<l_t\\}$. The Delta set of $s$ is then defined as $\\Delta(s)=\\{l_2-l_1,l_3-l_2,\\dots, l_t-l_{t-1}\\}$. "
   ]
  },
  {
   "cell_type": "code",
   "execution_count": 115,
   "id": "f4303af9",
   "metadata": {},
   "outputs": [
    {
     "data": {
      "text/plain": [
       "[ 2 ]"
      ]
     },
     "execution_count": 115,
     "metadata": {
      "text/plain": ""
     },
     "output_type": "execute_result"
    }
   ],
   "source": [
    "DeltaSet(200,s);"
   ]
  },
  {
   "cell_type": "markdown",
   "id": "ca8d77f6",
   "metadata": {},
   "source": [
    "The Delta set of $S$ is the union of all the delta sets of its elements."
   ]
  },
  {
   "cell_type": "code",
   "execution_count": 116,
   "id": "c8d02d6a",
   "metadata": {},
   "outputs": [
    {
     "data": {
      "text/plain": [
       "[ 2 ]"
      ]
     },
     "execution_count": 116,
     "metadata": {
      "text/plain": ""
     },
     "output_type": "execute_result"
    }
   ],
   "source": [
    "DeltaSet(s);"
   ]
  },
  {
   "cell_type": "markdown",
   "id": "4f04e9ad",
   "metadata": {},
   "source": [
    "Recall that a minimal presentation of $s$ was "
   ]
  },
  {
   "cell_type": "code",
   "execution_count": 117,
   "id": "71038a69",
   "metadata": {},
   "outputs": [
    {
     "data": {
      "text/plain": [
       "[ [ [ 0, 0, 2 ], [ 3, 1, 0 ] ], [ [ 0, 1, 1 ], [ 4, 0, 0 ] ],   [ [ 0, 2, 0 ], [ 1, 0, 1 ] ] ]"
      ]
     },
     "execution_count": 117,
     "metadata": {
      "text/plain": ""
     },
     "output_type": "execute_result"
    }
   ],
   "source": [
    "rho:=MinimalPresentation(s);"
   ]
  },
  {
   "cell_type": "markdown",
   "id": "0d0e3a41",
   "metadata": {},
   "source": [
    "And that one can \"walk\" from a factorization to any other factorization of the same element by using this minimal relations."
   ]
  },
  {
   "cell_type": "code",
   "execution_count": 118,
   "id": "514e625f",
   "metadata": {},
   "outputs": [
    {
     "data": {
      "text/plain": [
       "[ 0, 2 ]"
      ]
     },
     "execution_count": 118,
     "metadata": {
      "text/plain": ""
     },
     "output_type": "execute_result"
    }
   ],
   "source": [
    "Set(rho, p->AbsInt(Sum(p[1]-p[2])));"
   ]
  },
  {
   "cell_type": "markdown",
   "id": "0ac2cd3d",
   "metadata": {},
   "source": [
    "So it comes as no surprise that $\\Delta(S)=\\{2\\}$. \n",
    "In fact, it is not difficult to prove $\\min(\\Delta(S))=\\gcd\\{ |a-b| : (a,b)\\in \\sigma\\}$, with $\\sigma$ any minimal presentation of $S$, and that $\\max(\\Delta(S))=\\max\\{\\Delta(b) : b\\in \\operatorname{Betti}(S)\\}$.\n",
    "\n",
    "The idea behing the minimum is that any possible \"jump\" will be a linear combination of the \"jumps\" in the minimal relations. As for the maximum, \"jumps\" are preserved under translations, and thus the largest \"jump\" will be achieved between two factorizations with no commom support and in a Betti element.  "
   ]
  },
  {
   "cell_type": "markdown",
   "id": "55265115",
   "metadata": {},
   "source": [
    "The structure of $\\Delta(S)$ is very well known when $S$ has embedding dimension two or three, and even when it is generated by an arithmetice sequence."
   ]
  },
  {
   "cell_type": "markdown",
   "id": "ece3fe34",
   "metadata": {},
   "source": [
    "### The elasticity\n",
    "\n",
    "The elasticity of the factorizations of an element $s$ in a numerical semigroup $S$ is ratio between the largest length and smallest lenght of its factorizations, that is, \n",
    "$$\n",
    "\\rho(s)=\\frac{\\max(\\mathsf{L}(s))}{\\min(\\mathsf{L}(s))}.\n",
    "$$\n",
    "The elasticity of the semigroup $S$ is defined as \n",
    "$$\n",
    "\\rho(S)=\\sup\\{ \\rho(s) : s\\in S\\}.\n",
    "$$\n",
    "\n",
    "For numerical semigroups, this supremum becomes a maximum, and the elasticity is attained at the element $n_1 n_e$ (the product of the smallest generator times the largest generator).\n"
   ]
  },
  {
   "cell_type": "code",
   "execution_count": 119,
   "id": "4ba7237d",
   "metadata": {},
   "outputs": [
    {
     "data": {
      "text/plain": [
       "2"
      ]
     },
     "execution_count": 119,
     "metadata": {
      "text/plain": ""
     },
     "output_type": "execute_result"
    }
   ],
   "source": [
    "Elasticity(100,s);"
   ]
  },
  {
   "cell_type": "code",
   "execution_count": 120,
   "id": "8c6d7335",
   "metadata": {},
   "outputs": [
    {
     "data": {
      "text/plain": [
       "7/3"
      ]
     },
     "execution_count": 120,
     "metadata": {
      "text/plain": ""
     },
     "output_type": "execute_result"
    }
   ],
   "source": [
    "Elasticity(s);"
   ]
  },
  {
   "cell_type": "code",
   "execution_count": 121,
   "id": "e5e7421d",
   "metadata": {
    "scrolled": true
   },
   "outputs": [
    {
     "data": {
      "text/plain": [
       "7/3"
      ]
     },
     "execution_count": 121,
     "metadata": {
      "text/plain": ""
     },
     "output_type": "execute_result"
    }
   ],
   "source": [
    "Elasticity(3*7,s);"
   ]
  },
  {
   "cell_type": "markdown",
   "id": "4089f3b7",
   "metadata": {},
   "source": [
    "## Distance based factorization invariants"
   ]
  },
  {
   "cell_type": "markdown",
   "id": "33f22233",
   "metadata": {},
   "source": [
    "Given $x=(x_1,\\dots,x_e)$ and $y=(y_1,\\dots,y_e)$ in $\\mathbb{N}^e$, their \"common part\" is\n",
    "$$\n",
    "x\\wedge y = (\\min\\{x_1,y_1\\},\\dots,\\min\\{x_e,y_e\\}),\n",
    "$$\n",
    "and the distance between $x$ and $y$ as \n",
    "$$\n",
    "\\operatorname{d}(x,y)=\\max\\{|x-(x\\wedge y)|, |y-(x\\wedge y)|\\}.\n",
    "$$"
   ]
  },
  {
   "cell_type": "code",
   "execution_count": 122,
   "id": "fc8f9981",
   "metadata": {},
   "outputs": [],
   "source": [
    "s:=NumericalSemigroup(10,13,19,21);;"
   ]
  },
  {
   "cell_type": "markdown",
   "id": "287e3b04",
   "metadata": {},
   "source": [
    "We have already used `DotEliahouGraph`, the labels of the edges are the distances between de factorizations they connect."
   ]
  },
  {
   "cell_type": "code",
   "execution_count": 123,
   "id": "390ce3a9",
   "metadata": {},
   "outputs": [
    {
     "data": {
      "image/svg+xml": [
       "<?xml version=\"1.0\" encoding=\"UTF-8\" standalone=\"no\"?>\n",
       "<!DOCTYPE svg PUBLIC \"-//W3C//DTD SVG 1.1//EN\"\n",
       " \"http://www.w3.org/Graphics/SVG/1.1/DTD/svg11.dtd\">\n",
       "<!-- Generated by graphviz version 9.0.0 (20230911.1827)\n",
       " -->\n",
       "<!-- Title: NSGraph Pages: 1 -->\n",
       "<svg width=\"420pt\" height=\"575pt\"\n",
       " viewBox=\"0.00 0.00 419.75 575.00\" xmlns=\"http://www.w3.org/2000/svg\" xmlns:xlink=\"http://www.w3.org/1999/xlink\">\n",
       "<g id=\"graph0\" class=\"graph\" transform=\"scale(1 1) rotate(0) translate(4 571)\">\n",
       "<title>NSGraph</title>\n",
       "<polygon fill=\"white\" stroke=\"none\" points=\"-4,4 -4,-571 415.75,-571 415.75,4 -4,4\"/>\n",
       "<!-- 1 -->\n",
       "<g id=\"node1\" class=\"node\">\n",
       "<title>1</title>\n",
       "<ellipse fill=\"none\" stroke=\"black\" cx=\"200\" cy=\"-549\" rx=\"58\" ry=\"18\"/>\n",
       "<text text-anchor=\"middle\" x=\"200\" y=\"-543.95\" font-family=\"Times,serif\" font-size=\"14.00\"> (10, 0, 0, 0)</text>\n",
       "</g>\n",
       "<!-- 2 -->\n",
       "<g id=\"node2\" class=\"node\">\n",
       "<title>2</title>\n",
       "<ellipse fill=\"none\" stroke=\"black\" cx=\"200\" cy=\"-460.5\" rx=\"53.4\" ry=\"18\"/>\n",
       "<text text-anchor=\"middle\" x=\"200\" y=\"-455.45\" font-family=\"Times,serif\" font-size=\"14.00\"> (1, 4, 2, 0)</text>\n",
       "</g>\n",
       "<!-- 1&#45;&#45;2 -->\n",
       "<g id=\"edge20\" class=\"edge\">\n",
       "<title>1&#45;&#45;2</title>\n",
       "<path fill=\"none\" stroke=\"black\" d=\"M200,-530.91C200,-515.84 200,-493.99 200,-478.85\"/>\n",
       "<text text-anchor=\"middle\" x=\"203.38\" y=\"-499.7\" font-family=\"Times,serif\" font-size=\"14.00\">9</text>\n",
       "</g>\n",
       "<!-- 3 -->\n",
       "<g id=\"node3\" class=\"node\">\n",
       "<title>3</title>\n",
       "<ellipse fill=\"none\" stroke=\"black\" cx=\"119\" cy=\"-372\" rx=\"53.4\" ry=\"18\"/>\n",
       "<text text-anchor=\"middle\" x=\"119\" y=\"-366.95\" font-family=\"Times,serif\" font-size=\"14.00\"> (3, 1, 3, 0)</text>\n",
       "</g>\n",
       "<!-- 1&#45;&#45;3 -->\n",
       "<g id=\"edge18\" class=\"edge\">\n",
       "<title>1&#45;&#45;3</title>\n",
       "<path fill=\"none\" stroke=\"black\" d=\"M177.78,-532.12C161.98,-519.5 141.76,-500.38 131.25,-478.5 117.52,-449.91 116.71,-412.11 117.66,-390.39\"/>\n",
       "<text text-anchor=\"middle\" x=\"135.38\" y=\"-455.45\" font-family=\"Times,serif\" font-size=\"14.00\">7</text>\n",
       "</g>\n",
       "<!-- 4 -->\n",
       "<g id=\"node4\" class=\"node\">\n",
       "<title>4</title>\n",
       "<ellipse fill=\"none\" stroke=\"black\" cx=\"243\" cy=\"-283.5\" rx=\"53.4\" ry=\"18\"/>\n",
       "<text text-anchor=\"middle\" x=\"243\" y=\"-278.45\" font-family=\"Times,serif\" font-size=\"14.00\"> (4, 3, 0, 1)</text>\n",
       "</g>\n",
       "<!-- 1&#45;&#45;4 -->\n",
       "<g id=\"edge15\" class=\"edge\">\n",
       "<title>1&#45;&#45;4</title>\n",
       "<path fill=\"none\" stroke=\"black\" d=\"M220.76,-531.96C235.38,-519.26 253.76,-500.11 262,-478.5 285.51,-416.84 262.18,-336.55 249.73,-301.79\"/>\n",
       "<text text-anchor=\"middle\" x=\"275.38\" y=\"-411.2\" font-family=\"Times,serif\" font-size=\"14.00\">6</text>\n",
       "</g>\n",
       "<!-- 5 -->\n",
       "<g id=\"node5\" class=\"node\">\n",
       "<title>5</title>\n",
       "<ellipse fill=\"none\" stroke=\"black\" cx=\"334\" cy=\"-195\" rx=\"53.4\" ry=\"18\"/>\n",
       "<text text-anchor=\"middle\" x=\"334\" y=\"-189.95\" font-family=\"Times,serif\" font-size=\"14.00\"> (6, 0, 1, 1)</text>\n",
       "</g>\n",
       "<!-- 1&#45;&#45;5 -->\n",
       "<g id=\"edge6\" class=\"edge\">\n",
       "<title>1&#45;&#45;5</title>\n",
       "<path fill=\"none\" stroke=\"black\" d=\"M258.2,-547.22C318.8,-542.96 405,-525.62 405,-461.5 405,-461.5 405,-461.5 405,-282.5 405,-252.19 378.64,-226.7 358.04,-211.41\"/>\n",
       "<text text-anchor=\"middle\" x=\"408.38\" y=\"-366.95\" font-family=\"Times,serif\" font-size=\"14.00\">4</text>\n",
       "</g>\n",
       "<!-- 7 -->\n",
       "<g id=\"node7\" class=\"node\">\n",
       "<title>7</title>\n",
       "<ellipse fill=\"none\" stroke=\"black\" cx=\"112\" cy=\"-18\" rx=\"53.4\" ry=\"18\"/>\n",
       "<text text-anchor=\"middle\" x=\"112\" y=\"-12.95\" font-family=\"Times,serif\" font-size=\"14.00\"> (2, 0, 2, 2)</text>\n",
       "</g>\n",
       "<!-- 1&#45;&#45;7 -->\n",
       "<g id=\"edge19\" class=\"edge\">\n",
       "<title>1&#45;&#45;7</title>\n",
       "<path fill=\"none\" stroke=\"black\" d=\"M142.15,-546.64C83.08,-541.81 0,-523.92 0,-461.5 0,-461.5 0,-461.5 0,-105.5 0,-67.3 41.32,-43.59 73.77,-30.86\"/>\n",
       "<text text-anchor=\"middle\" x=\"3.38\" y=\"-278.45\" font-family=\"Times,serif\" font-size=\"14.00\">8</text>\n",
       "</g>\n",
       "<!-- 2&#45;&#45;3 -->\n",
       "<g id=\"edge1\" class=\"edge\">\n",
       "<title>2&#45;&#45;3</title>\n",
       "<path fill=\"none\" stroke=\"black\" d=\"M184.38,-442.82C170.04,-427.5 148.9,-404.93 134.57,-389.63\"/>\n",
       "<text text-anchor=\"middle\" x=\"169.38\" y=\"-411.2\" font-family=\"Times,serif\" font-size=\"14.00\">3</text>\n",
       "</g>\n",
       "<!-- 2&#45;&#45;4 -->\n",
       "<g id=\"edge7\" class=\"edge\">\n",
       "<title>2&#45;&#45;4</title>\n",
       "<path fill=\"none\" stroke=\"black\" d=\"M207.59,-442.27C209.87,-436.67 212.23,-430.39 214,-424.5 227.09,-381 236.29,-328.15 240.46,-301.55\"/>\n",
       "<text text-anchor=\"middle\" x=\"233.38\" y=\"-366.95\" font-family=\"Times,serif\" font-size=\"14.00\">4</text>\n",
       "</g>\n",
       "<!-- 2&#45;&#45;5 -->\n",
       "<g id=\"edge16\" class=\"edge\">\n",
       "<title>2&#45;&#45;5</title>\n",
       "<path fill=\"none\" stroke=\"black\" d=\"M219.38,-443.32C249.49,-416.97 306.97,-361.68 335,-301.5 348.34,-272.87 348.38,-262.28 344,-231 343.18,-225.12 341.61,-218.84 339.96,-213.24\"/>\n",
       "<text text-anchor=\"middle\" x=\"328.38\" y=\"-322.7\" font-family=\"Times,serif\" font-size=\"14.00\">6</text>\n",
       "</g>\n",
       "<!-- 6 -->\n",
       "<g id=\"node6\" class=\"node\">\n",
       "<title>6</title>\n",
       "<ellipse fill=\"none\" stroke=\"black\" cx=\"165\" cy=\"-106.5\" rx=\"53.4\" ry=\"18\"/>\n",
       "<text text-anchor=\"middle\" x=\"165\" y=\"-101.45\" font-family=\"Times,serif\" font-size=\"14.00\"> (0, 3, 1, 2)</text>\n",
       "</g>\n",
       "<!-- 2&#45;&#45;6 -->\n",
       "<g id=\"edge2\" class=\"edge\">\n",
       "<title>2&#45;&#45;6</title>\n",
       "<path fill=\"none\" stroke=\"black\" d=\"M196.49,-442.05C190.79,-413.02 179.65,-352.91 174.25,-301.5 167.44,-236.61 165.64,-158.98 165.17,-124.94\"/>\n",
       "<text text-anchor=\"middle\" x=\"177.38\" y=\"-278.45\" font-family=\"Times,serif\" font-size=\"14.00\">3</text>\n",
       "</g>\n",
       "<!-- 2&#45;&#45;7 -->\n",
       "<g id=\"edge8\" class=\"edge\">\n",
       "<title>2&#45;&#45;7</title>\n",
       "<path fill=\"none\" stroke=\"black\" d=\"M162.02,-447.52C114.14,-431.25 38,-400.98 38,-373 38,-373 38,-373 38,-105.5 38,-74.67 65.48,-49.29 86.95,-34.17\"/>\n",
       "<text text-anchor=\"middle\" x=\"41.38\" y=\"-234.2\" font-family=\"Times,serif\" font-size=\"14.00\">4</text>\n",
       "</g>\n",
       "<!-- 3&#45;&#45;4 -->\n",
       "<g id=\"edge9\" class=\"edge\">\n",
       "<title>3&#45;&#45;4</title>\n",
       "<path fill=\"none\" stroke=\"black\" d=\"M141.46,-355.34C163.93,-339.66 198.3,-315.68 220.71,-300.05\"/>\n",
       "<text text-anchor=\"middle\" x=\"195.38\" y=\"-322.7\" font-family=\"Times,serif\" font-size=\"14.00\">4</text>\n",
       "</g>\n",
       "<!-- 3&#45;&#45;5 -->\n",
       "<g id=\"edge10\" class=\"edge\">\n",
       "<title>3&#45;&#45;5</title>\n",
       "<path fill=\"none\" stroke=\"black\" d=\"M168.64,-365.05C210.7,-357.42 269.64,-340.17 305,-301.5 327.56,-276.83 332.81,-236.21 333.88,-213.24\"/>\n",
       "<text text-anchor=\"middle\" x=\"327.38\" y=\"-278.45\" font-family=\"Times,serif\" font-size=\"14.00\">4</text>\n",
       "</g>\n",
       "<!-- 3&#45;&#45;6 -->\n",
       "<g id=\"edge13\" class=\"edge\">\n",
       "<title>3&#45;&#45;6</title>\n",
       "<path fill=\"none\" stroke=\"black\" d=\"M120.01,-353.52C122.54,-314.88 130.52,-219.54 151,-142.5 152.58,-136.55 154.89,-130.26 157.18,-124.67\"/>\n",
       "<text text-anchor=\"middle\" x=\"136.38\" y=\"-234.2\" font-family=\"Times,serif\" font-size=\"14.00\">5</text>\n",
       "</g>\n",
       "<!-- 3&#45;&#45;7 -->\n",
       "<g id=\"edge3\" class=\"edge\">\n",
       "<title>3&#45;&#45;7</title>\n",
       "<path fill=\"none\" stroke=\"black\" d=\"M116.58,-353.8C110.68,-309.69 96.52,-188.99 103,-88.5 104.15,-70.65 106.95,-50.39 109.12,-36.36\"/>\n",
       "<text text-anchor=\"middle\" x=\"107.38\" y=\"-189.95\" font-family=\"Times,serif\" font-size=\"14.00\">3</text>\n",
       "</g>\n",
       "<!-- 4&#45;&#45;5 -->\n",
       "<g id=\"edge4\" class=\"edge\">\n",
       "<title>4&#45;&#45;5</title>\n",
       "<path fill=\"none\" stroke=\"black\" d=\"M260.12,-266.23C276.28,-250.86 300.41,-227.93 316.65,-212.49\"/>\n",
       "<text text-anchor=\"middle\" x=\"299.38\" y=\"-234.2\" font-family=\"Times,serif\" font-size=\"14.00\">3</text>\n",
       "</g>\n",
       "<!-- 4&#45;&#45;6 -->\n",
       "<g id=\"edge11\" class=\"edge\">\n",
       "<title>4&#45;&#45;6</title>\n",
       "<path fill=\"none\" stroke=\"black\" d=\"M235.38,-265.4C220.47,-231.95 187.59,-158.18 172.65,-124.67\"/>\n",
       "<text text-anchor=\"middle\" x=\"214.38\" y=\"-189.95\" font-family=\"Times,serif\" font-size=\"14.00\">4</text>\n",
       "</g>\n",
       "<!-- 4&#45;&#45;7 -->\n",
       "<g id=\"edge14\" class=\"edge\">\n",
       "<title>4&#45;&#45;7</title>\n",
       "<path fill=\"none\" stroke=\"black\" d=\"M246.48,-265.08C252.69,-229.04 261.98,-144.95 227,-88.5 209.49,-60.24 175.84,-41.91 149.45,-31.21\"/>\n",
       "<text text-anchor=\"middle\" x=\"253.38\" y=\"-145.7\" font-family=\"Times,serif\" font-size=\"14.00\">5</text>\n",
       "</g>\n",
       "<!-- 5&#45;&#45;6 -->\n",
       "<g id=\"edge17\" class=\"edge\">\n",
       "<title>5&#45;&#45;6</title>\n",
       "<path fill=\"none\" stroke=\"black\" d=\"M290.73,-184.05C270.4,-178.37 246.29,-170.12 226.25,-159 209.36,-149.63 192.76,-135.25 181.11,-124.07\"/>\n",
       "<text text-anchor=\"middle\" x=\"229.38\" y=\"-145.7\" font-family=\"Times,serif\" font-size=\"14.00\">6</text>\n",
       "</g>\n",
       "<!-- 5&#45;&#45;7 -->\n",
       "<g id=\"edge12\" class=\"edge\">\n",
       "<title>5&#45;&#45;7</title>\n",
       "<path fill=\"none\" stroke=\"black\" d=\"M330.82,-176.78C324.36,-146.93 306.81,-85.75 267,-54 238.42,-31.21 197.91,-22.63 165.46,-19.66\"/>\n",
       "<text text-anchor=\"middle\" x=\"317.38\" y=\"-101.45\" font-family=\"Times,serif\" font-size=\"14.00\">4</text>\n",
       "</g>\n",
       "<!-- 6&#45;&#45;7 -->\n",
       "<g id=\"edge5\" class=\"edge\">\n",
       "<title>6&#45;&#45;7</title>\n",
       "<path fill=\"none\" stroke=\"black\" d=\"M154.53,-88.41C145.24,-73.25 131.73,-51.21 122.45,-36.05\"/>\n",
       "<text text-anchor=\"middle\" x=\"146.38\" y=\"-57.2\" font-family=\"Times,serif\" font-size=\"14.00\">3</text>\n",
       "</g>\n",
       "</g>\n",
       "</svg>\n"
      ]
     },
     "execution_count": 123,
     "metadata": {
      "image/svg+xml": {
       "height": 500,
       "width": 500
      }
     },
     "output_type": "execute_result"
    }
   ],
   "source": [
    "JupyterSplashDot(DotEliahouGraph(Factorizations(100,s)));"
   ]
  },
  {
   "cell_type": "markdown",
   "id": "8e15b716",
   "metadata": {},
   "source": [
    "### The catenary degree"
   ]
  },
  {
   "cell_type": "markdown",
   "id": "891efdba",
   "metadata": {},
   "source": [
    "In addition, `DotFactorizationGraph` draws a minimum spanning tree."
   ]
  },
  {
   "cell_type": "code",
   "execution_count": 124,
   "id": "d7e23415",
   "metadata": {},
   "outputs": [
    {
     "data": {
      "image/svg+xml": [
       "<?xml version=\"1.0\" encoding=\"UTF-8\" standalone=\"no\"?>\n",
       "<!DOCTYPE svg PUBLIC \"-//W3C//DTD SVG 1.1//EN\"\n",
       " \"http://www.w3.org/Graphics/SVG/1.1/DTD/svg11.dtd\">\n",
       "<!-- Generated by graphviz version 9.0.0 (20230911.1827)\n",
       " -->\n",
       "<!-- Title: NSGraph Pages: 1 -->\n",
       "<svg width=\"470pt\" height=\"575pt\"\n",
       " viewBox=\"0.00 0.00 469.75 575.00\" xmlns=\"http://www.w3.org/2000/svg\" xmlns:xlink=\"http://www.w3.org/1999/xlink\">\n",
       "<g id=\"graph0\" class=\"graph\" transform=\"scale(1 1) rotate(0) translate(4 571)\">\n",
       "<title>NSGraph</title>\n",
       "<polygon fill=\"white\" stroke=\"none\" points=\"-4,4 -4,-571 465.75,-571 465.75,4 -4,4\"/>\n",
       "<!-- 1 -->\n",
       "<g id=\"node1\" class=\"node\">\n",
       "<title>1</title>\n",
       "<ellipse fill=\"none\" stroke=\"black\" cx=\"341\" cy=\"-549\" rx=\"58\" ry=\"18\"/>\n",
       "<text text-anchor=\"middle\" x=\"341\" y=\"-543.95\" font-family=\"Times,serif\" font-size=\"14.00\"> (10, 0, 0, 0)</text>\n",
       "</g>\n",
       "<!-- 2 -->\n",
       "<g id=\"node2\" class=\"node\">\n",
       "<title>2</title>\n",
       "<ellipse fill=\"none\" stroke=\"black\" cx=\"216\" cy=\"-460.5\" rx=\"53.4\" ry=\"18\"/>\n",
       "<text text-anchor=\"middle\" x=\"216\" y=\"-455.45\" font-family=\"Times,serif\" font-size=\"14.00\"> (1, 4, 2, 0)</text>\n",
       "</g>\n",
       "<!-- 1&#45;&#45;2 -->\n",
       "<g id=\"edge20\" class=\"edge\">\n",
       "<title>1&#45;&#45;2</title>\n",
       "<path fill=\"none\" stroke=\"black\" d=\"M318.07,-532.13C295.52,-516.53 261.29,-492.84 238.78,-477.26\"/>\n",
       "<text text-anchor=\"middle\" x=\"293.38\" y=\"-499.7\" font-family=\"Times,serif\" font-size=\"14.00\">9</text>\n",
       "</g>\n",
       "<!-- 3 -->\n",
       "<g id=\"node3\" class=\"node\">\n",
       "<title>3</title>\n",
       "<ellipse fill=\"none\" stroke=\"black\" cx=\"274\" cy=\"-372\" rx=\"53.4\" ry=\"18\"/>\n",
       "<text text-anchor=\"middle\" x=\"274\" y=\"-366.95\" font-family=\"Times,serif\" font-size=\"14.00\"> (3, 1, 3, 0)</text>\n",
       "</g>\n",
       "<!-- 1&#45;&#45;3 -->\n",
       "<g id=\"edge18\" class=\"edge\">\n",
       "<title>1&#45;&#45;3</title>\n",
       "<path fill=\"none\" stroke=\"black\" d=\"M334.45,-530.9C321.64,-497.45 293.4,-423.68 280.57,-390.17\"/>\n",
       "<text text-anchor=\"middle\" x=\"318.38\" y=\"-455.45\" font-family=\"Times,serif\" font-size=\"14.00\">7</text>\n",
       "</g>\n",
       "<!-- 4 -->\n",
       "<g id=\"node4\" class=\"node\">\n",
       "<title>4</title>\n",
       "<ellipse fill=\"none\" stroke=\"black\" cx=\"165\" cy=\"-283.5\" rx=\"53.4\" ry=\"18\"/>\n",
       "<text text-anchor=\"middle\" x=\"165\" y=\"-278.45\" font-family=\"Times,serif\" font-size=\"14.00\"> (4, 3, 0, 1)</text>\n",
       "</g>\n",
       "<!-- 1&#45;&#45;4 -->\n",
       "<g id=\"edge15\" class=\"edge\">\n",
       "<title>1&#45;&#45;4</title>\n",
       "<path fill=\"none\" stroke=\"black\" d=\"M287.51,-541.7C245.38,-533.92 188.23,-516.66 154,-478.5 105.62,-424.57 85.49,-384.25 118,-319.5 122.2,-311.14 129.45,-304.26 137.02,-298.89\"/>\n",
       "<text text-anchor=\"middle\" x=\"117.38\" y=\"-411.2\" font-family=\"Times,serif\" font-size=\"14.00\">6</text>\n",
       "</g>\n",
       "<!-- 5 -->\n",
       "<g id=\"node5\" class=\"node\">\n",
       "<title>5</title>\n",
       "<ellipse fill=\"none\" stroke=\"black\" cx=\"113\" cy=\"-195\" rx=\"53.4\" ry=\"18\"/>\n",
       "<text text-anchor=\"middle\" x=\"113\" y=\"-189.95\" font-family=\"Times,serif\" font-size=\"14.00\"> (6, 0, 1, 1)</text>\n",
       "</g>\n",
       "<!-- 1&#45;&#45;5 -->\n",
       "<g id=\"edge6\" class=\"edge\">\n",
       "<title>1&#45;&#45;5</title>\n",
       "<path fill=\"none\" stroke=\"red\" d=\"M285.86,-543.16C200.48,-534.12 46,-510.94 46,-461.5 46,-461.5 46,-461.5 46,-282.5 46,-252.87 70.88,-227.23 90.32,-211.72\"/>\n",
       "<text text-anchor=\"middle\" x=\"49.38\" y=\"-366.95\" font-family=\"Times,serif\" font-size=\"14.00\">4</text>\n",
       "</g>\n",
       "<!-- 6 -->\n",
       "<g id=\"node6\" class=\"node\">\n",
       "<title>6</title>\n",
       "<ellipse fill=\"none\" stroke=\"black\" cx=\"370\" cy=\"-106.5\" rx=\"53.4\" ry=\"18\"/>\n",
       "<text text-anchor=\"middle\" x=\"370\" y=\"-101.45\" font-family=\"Times,serif\" font-size=\"14.00\"> (0, 3, 1, 2)</text>\n",
       "</g>\n",
       "<!-- 1&#45;&#45;6 -->\n",
       "<g id=\"edge21\" class=\"edge\">\n",
       "<title>1&#45;&#45;6</title>\n",
       "<path fill=\"none\" stroke=\"black\" d=\"M364.4,-532.06C384.07,-516.57 409,-491.11 409,-461.5 409,-461.5 409,-461.5 409,-194 409,-167.97 394.14,-141.12 382.77,-124.38\"/>\n",
       "<text text-anchor=\"middle\" x=\"415.75\" y=\"-322.7\" font-family=\"Times,serif\" font-size=\"14.00\">10</text>\n",
       "</g>\n",
       "<!-- 7 -->\n",
       "<g id=\"node7\" class=\"node\">\n",
       "<title>7</title>\n",
       "<ellipse fill=\"none\" stroke=\"black\" cx=\"241\" cy=\"-18\" rx=\"53.4\" ry=\"18\"/>\n",
       "<text text-anchor=\"middle\" x=\"241\" y=\"-12.95\" font-family=\"Times,serif\" font-size=\"14.00\"> (2, 0, 2, 2)</text>\n",
       "</g>\n",
       "<!-- 1&#45;&#45;7 -->\n",
       "<g id=\"edge19\" class=\"edge\">\n",
       "<title>1&#45;&#45;7</title>\n",
       "<path fill=\"none\" stroke=\"black\" d=\"M381.51,-535.72C414.28,-522.98 455,-499.51 455,-461.5 455,-461.5 455,-461.5 455,-105.5 455,-36.47 358.12,-21.18 294.73,-18.55\"/>\n",
       "<text text-anchor=\"middle\" x=\"458.38\" y=\"-278.45\" font-family=\"Times,serif\" font-size=\"14.00\">8</text>\n",
       "</g>\n",
       "<!-- 2&#45;&#45;3 -->\n",
       "<g id=\"edge1\" class=\"edge\">\n",
       "<title>2&#45;&#45;3</title>\n",
       "<path fill=\"none\" stroke=\"red\" d=\"M227.18,-442.82C237.39,-427.6 252.4,-405.22 262.65,-389.92\"/>\n",
       "<text text-anchor=\"middle\" x=\"254.38\" y=\"-411.2\" font-family=\"Times,serif\" font-size=\"14.00\">3</text>\n",
       "</g>\n",
       "<!-- 2&#45;&#45;4 -->\n",
       "<g id=\"edge7\" class=\"edge\">\n",
       "<title>2&#45;&#45;4</title>\n",
       "<path fill=\"none\" stroke=\"red\" d=\"M211.02,-442.4C201.27,-408.95 179.77,-335.18 170,-301.67\"/>\n",
       "<text text-anchor=\"middle\" x=\"199.38\" y=\"-366.95\" font-family=\"Times,serif\" font-size=\"14.00\">4</text>\n",
       "</g>\n",
       "<!-- 2&#45;&#45;5 -->\n",
       "<g id=\"edge16\" class=\"edge\">\n",
       "<title>2&#45;&#45;5</title>\n",
       "<path fill=\"none\" stroke=\"black\" d=\"M198.71,-443.06C172.04,-416.36 121.95,-360.59 103,-301.5 93.39,-271.54 101.08,-234.53 107.25,-213.26\"/>\n",
       "<text text-anchor=\"middle\" x=\"121.38\" y=\"-322.7\" font-family=\"Times,serif\" font-size=\"14.00\">6</text>\n",
       "</g>\n",
       "<!-- 2&#45;&#45;6 -->\n",
       "<g id=\"edge2\" class=\"edge\">\n",
       "<title>2&#45;&#45;6</title>\n",
       "<path fill=\"none\" stroke=\"red\" d=\"M254.43,-447.63C281.83,-437.06 317.05,-418.74 336,-390 392.41,-304.42 379.71,-171.97 372.88,-124.86\"/>\n",
       "<text text-anchor=\"middle\" x=\"380.38\" y=\"-278.45\" font-family=\"Times,serif\" font-size=\"14.00\">3</text>\n",
       "</g>\n",
       "<!-- 2&#45;&#45;7 -->\n",
       "<g id=\"edge8\" class=\"edge\">\n",
       "<title>2&#45;&#45;7</title>\n",
       "<path fill=\"none\" stroke=\"black\" d=\"M166.08,-453.74C122.92,-446.2 61.7,-428.99 24,-390 3.68,-368.98 0,-357.99 0,-328.75 0,-328.75 0,-328.75 0,-105.5 0,-64.94 122.48,-38.25 192.81,-26.27\"/>\n",
       "<text text-anchor=\"middle\" x=\"3.38\" y=\"-234.2\" font-family=\"Times,serif\" font-size=\"14.00\">4</text>\n",
       "</g>\n",
       "<!-- 3&#45;&#45;4 -->\n",
       "<g id=\"edge9\" class=\"edge\">\n",
       "<title>3&#45;&#45;4</title>\n",
       "<path fill=\"none\" stroke=\"black\" d=\"M253.75,-354.93C234.18,-339.4 204.68,-315.99 185.14,-300.48\"/>\n",
       "<text text-anchor=\"middle\" x=\"233.38\" y=\"-322.7\" font-family=\"Times,serif\" font-size=\"14.00\">4</text>\n",
       "</g>\n",
       "<!-- 3&#45;&#45;5 -->\n",
       "<g id=\"edge10\" class=\"edge\">\n",
       "<title>3&#45;&#45;5</title>\n",
       "<path fill=\"none\" stroke=\"black\" d=\"M269.82,-353.91C263.63,-331.48 250.17,-291.85 227,-265.5 204.73,-240.17 170.95,-221.18 145.94,-209.51\"/>\n",
       "<text text-anchor=\"middle\" x=\"253.38\" y=\"-278.45\" font-family=\"Times,serif\" font-size=\"14.00\">4</text>\n",
       "</g>\n",
       "<!-- 3&#45;&#45;6 -->\n",
       "<g id=\"edge13\" class=\"edge\">\n",
       "<title>3&#45;&#45;6</title>\n",
       "<path fill=\"none\" stroke=\"black\" d=\"M290.01,-354.59C294.74,-349.04 299.56,-342.57 303,-336 344.39,-256.89 329.43,-227.42 357,-142.5 358.88,-136.7 361.13,-130.45 363.23,-124.85\"/>\n",
       "<text text-anchor=\"middle\" x=\"340.38\" y=\"-234.2\" font-family=\"Times,serif\" font-size=\"14.00\">5</text>\n",
       "</g>\n",
       "<!-- 3&#45;&#45;7 -->\n",
       "<g id=\"edge3\" class=\"edge\">\n",
       "<title>3&#45;&#45;7</title>\n",
       "<path fill=\"none\" stroke=\"red\" d=\"M278.83,-353.59C283.21,-336.23 289,-308.73 289,-284.5 289,-284.5 289,-284.5 289,-105.5 289,-78.36 270.72,-51.77 256.72,-35.39\"/>\n",
       "<text text-anchor=\"middle\" x=\"292.38\" y=\"-189.95\" font-family=\"Times,serif\" font-size=\"14.00\">3</text>\n",
       "</g>\n",
       "<!-- 4&#45;&#45;5 -->\n",
       "<g id=\"edge4\" class=\"edge\">\n",
       "<title>4&#45;&#45;5</title>\n",
       "<path fill=\"none\" stroke=\"red\" d=\"M154.73,-265.41C145.61,-250.25 132.36,-228.21 123.25,-213.05\"/>\n",
       "<text text-anchor=\"middle\" x=\"147.38\" y=\"-234.2\" font-family=\"Times,serif\" font-size=\"14.00\">3</text>\n",
       "</g>\n",
       "<!-- 4&#45;&#45;6 -->\n",
       "<g id=\"edge11\" class=\"edge\">\n",
       "<title>4&#45;&#45;6</title>\n",
       "<path fill=\"none\" stroke=\"black\" d=\"M186.47,-266.75C193.65,-261.05 201.48,-254.32 208,-247.5 234.94,-219.3 231.88,-203.76 260.25,-177 280.63,-157.78 289.34,-157.5 313,-142.5 323.4,-135.91 334.96,-128.78 344.93,-122.68\"/>\n",
       "<text text-anchor=\"middle\" x=\"264.38\" y=\"-189.95\" font-family=\"Times,serif\" font-size=\"14.00\">4</text>\n",
       "</g>\n",
       "<!-- 4&#45;&#45;7 -->\n",
       "<g id=\"edge14\" class=\"edge\">\n",
       "<title>4&#45;&#45;7</title>\n",
       "<path fill=\"none\" stroke=\"black\" d=\"M168.34,-265.09C173.61,-238.46 184.56,-186.08 197.25,-142.5 208.51,-103.84 225.11,-59.6 234.29,-35.98\"/>\n",
       "<text text-anchor=\"middle\" x=\"201.38\" y=\"-145.7\" font-family=\"Times,serif\" font-size=\"14.00\">5</text>\n",
       "</g>\n",
       "<!-- 5&#45;&#45;6 -->\n",
       "<g id=\"edge17\" class=\"edge\">\n",
       "<title>5&#45;&#45;6</title>\n",
       "<path fill=\"none\" stroke=\"black\" d=\"M149.68,-181.5C166.04,-175.44 185.33,-167.61 202,-159 213.91,-152.85 214.95,-147.84 227.25,-142.5 257.68,-129.29 294.01,-120.47 322.41,-114.99\"/>\n",
       "<text text-anchor=\"middle\" x=\"231.38\" y=\"-145.7\" font-family=\"Times,serif\" font-size=\"14.00\">6</text>\n",
       "</g>\n",
       "<!-- 5&#45;&#45;7 -->\n",
       "<g id=\"edge12\" class=\"edge\">\n",
       "<title>5&#45;&#45;7</title>\n",
       "<path fill=\"none\" stroke=\"black\" d=\"M117.51,-177.02C125.77,-148.61 145.72,-90.93 180,-54 188.06,-45.32 198.77,-38.19 208.96,-32.69\"/>\n",
       "<text text-anchor=\"middle\" x=\"157.38\" y=\"-101.45\" font-family=\"Times,serif\" font-size=\"14.00\">4</text>\n",
       "</g>\n",
       "<!-- 6&#45;&#45;7 -->\n",
       "<g id=\"edge5\" class=\"edge\">\n",
       "<title>6&#45;&#45;7</title>\n",
       "<path fill=\"none\" stroke=\"black\" d=\"M350.6,-89.42C337.51,-78.86 319.64,-65.01 303,-54 292.18,-46.84 279.8,-39.66 268.97,-33.69\"/>\n",
       "<text text-anchor=\"middle\" x=\"329.38\" y=\"-57.2\" font-family=\"Times,serif\" font-size=\"14.00\">3</text>\n",
       "</g>\n",
       "</g>\n",
       "</svg>\n"
      ]
     },
     "execution_count": 124,
     "metadata": {
      "image/svg+xml": {
       "height": 500,
       "width": 500
      }
     },
     "output_type": "execute_result"
    }
   ],
   "source": [
    "JupyterSplashDot(DotFactorizationGraph(Factorizations(100,s)));"
   ]
  },
  {
   "cell_type": "markdown",
   "id": "08bfaff8",
   "metadata": {},
   "source": [
    "In particular, this means that we can go from any factorization of $100$ in $S$ to any other factorization of the same element by using a path such that two consecutive nodes are at a distance of at most four. This is precisely the idea behind the concept of catenary degree.\n",
    "\n",
    "Let $z$ and $z'$ be two factorizations of $s$. An $N$-chain joining $z$ and $z'$ is a sequence $z_1,\\dots,z_t$ of factorizations of $s$ such that $\\operatorname{d}(z_i,z_{i+1})\\le N$. The catenary degree of $s$, denoted $\\operatorname{c}(s)$, in the minimum $N$ such that for any two factorizations of $s$ there exists an $N$-chain connecting them.\n",
    "\n",
    "The catenary degree of $S$ is \n",
    "$$\n",
    "\\operatorname{c}(S)=\\sup\\{ \\operatorname{c}(s) : s\\in S\\}.\n",
    "$$\n",
    "\n",
    "This supremum is a maximum."
   ]
  },
  {
   "cell_type": "code",
   "execution_count": 125,
   "id": "4d90cc9a",
   "metadata": {},
   "outputs": [
    {
     "data": {
      "text/plain": [
       "4"
      ]
     },
     "execution_count": 125,
     "metadata": {
      "text/plain": ""
     },
     "output_type": "execute_result"
    }
   ],
   "source": [
    "CatenaryDegree(100,s);"
   ]
  },
  {
   "cell_type": "code",
   "execution_count": 126,
   "id": "3b79b415",
   "metadata": {},
   "outputs": [
    {
     "data": {
      "text/plain": [
       "4"
      ]
     },
     "execution_count": 126,
     "metadata": {
      "text/plain": ""
     },
     "output_type": "execute_result"
    }
   ],
   "source": [
    "CatenaryDegree(s);"
   ]
  },
  {
   "cell_type": "markdown",
   "id": "3acc667c",
   "metadata": {},
   "source": [
    "Recall that by using the minimal relations of $S$ we can find a path joining any two different factorizations of an element. Thus, it is not hard to prove that the maximum of the catenary degree of $S$ is attained at one of its Betti elements."
   ]
  },
  {
   "cell_type": "code",
   "execution_count": 127,
   "id": "9318b741",
   "metadata": {},
   "outputs": [
    {
     "data": {
      "text/plain": [
       "[ 3, 4 ]"
      ]
     },
     "execution_count": 127,
     "metadata": {
      "text/plain": ""
     },
     "output_type": "execute_result"
    }
   ],
   "source": [
    "Set(BettiElements(s), b->CatenaryDegree(b,s));"
   ]
  },
  {
   "cell_type": "markdown",
   "id": "cd759647",
   "metadata": {},
   "source": [
    "### The tame degree"
   ]
  },
  {
   "cell_type": "markdown",
   "id": "0ccffdc6",
   "metadata": {},
   "source": [
    "The catenary degree measures the minimum distance needed to find paths connecting any two factorizations of an element in the semigroup in such a way that every step in the path is withing that minimum distance.\n",
    "\n",
    "The tame degree intends to measure a radius $r$ in which for any factorization $z$ of $s\\in S$, with $s-n_i\\in S$, you will find another factorization $z'$ such that $\\operatorname{d}(z,z')\\le r$ and $z_i'\\neq 0$.\n",
    "\n",
    "Let $s\\in S$ such that $s-n_i\\in S$ for some $i\\in\\{1,\\dots,e\\}$. Define $\\mathsf{Z}_i(s)=\\{z : z\\in \\mathsf{Z}(s), z_i\\neq 0\\}$, which is nonempty as $s-n_i\\in S$. Set\n",
    "$$\n",
    "\\operatorname{t}_i(s)=\\sup\\{\\operatorname{d}(z,\\mathsf{Z}_i(s)) : z \\in \\mathsf{Z}(n)\\},\n",
    "$$\n",
    "and \n",
    "$$\n",
    "\\operatorname{t}(s)=\\max\\{\\operatorname{t}_i(s) : s-n_i\\in S, i\\in\\{1,\\dots,e\\}\\}.\n",
    "$$\n",
    "\n",
    "The tame degree of $S$ is defined as \n",
    "$$\n",
    "\\operatorname{t}(S)=\\sup\\{ \\operatorname{t}(s) : s\\in S\\}.\n",
    "$$"
   ]
  },
  {
   "cell_type": "code",
   "execution_count": 128,
   "id": "5c5ca3ba",
   "metadata": {},
   "outputs": [
    {
     "data": {
      "text/plain": [
       "<Numerical semigroup with 3 generators>"
      ]
     },
     "execution_count": 128,
     "metadata": {
      "text/plain": ""
     },
     "output_type": "execute_result"
    }
   ],
   "source": [
    "s:=NumericalSemigroup( 24, 59, 114);"
   ]
  },
  {
   "cell_type": "code",
   "execution_count": 129,
   "id": "6dbb976e",
   "metadata": {
    "scrolled": true
   },
   "outputs": [
    {
     "data": {
      "text/plain": [
       "29"
      ]
     },
     "execution_count": 129,
     "metadata": {
      "text/plain": ""
     },
     "output_type": "execute_result"
    }
   ],
   "source": [
    "TameDegree(s);"
   ]
  },
  {
   "cell_type": "markdown",
   "id": "3dd12364",
   "metadata": {},
   "source": [
    "Usually the tame degre is not attained at the Betti elements."
   ]
  },
  {
   "cell_type": "code",
   "execution_count": 130,
   "id": "3852ce13",
   "metadata": {},
   "outputs": [
    {
     "data": {
      "text/plain": [
       "[ 11, 19 ]"
      ]
     },
     "execution_count": 130,
     "metadata": {
      "text/plain": ""
     },
     "output_type": "execute_result"
    }
   ],
   "source": [
    "Set(BettiElements(s),b->TameDegree(b,s));"
   ]
  },
  {
   "cell_type": "markdown",
   "id": "cbc8dda4",
   "metadata": {},
   "source": [
    "It can be shown that the tame degree of $S$ is attained at an element $s\\in S$ such that $s$ has a factorization in $\\operatorname{Minimals}_\\le (\\mathsf{Z}(n_i+S))$ for some $i\\in\\{1,\\dots,e\\}$. Elements having this property are of the form $n_i+w$ with $w\\in \\operatorname{Ap}(S,n_j)$, more specifically, there exists $i,j\\in \\{1,\\dots,e\\}$ such that $s-n_i,s-n_j\\in S$ and $s-(n_i+n_j)\\not\\in S$. "
   ]
  },
  {
   "cell_type": "markdown",
   "id": "c098e6a0",
   "metadata": {},
   "source": [
    "For $s\\in S$, the Rosales graph $G_s$ is defined as follows. The vertices of $G_s$ are the minimal generators $n_i$ such that $s-n_i\\in S$, and $n_in_j$ is an edge whenever $s-(n_i+n_j)\\in S$."
   ]
  },
  {
   "cell_type": "code",
   "execution_count": 131,
   "id": "f0e2086b",
   "metadata": {},
   "outputs": [
    {
     "data": {
      "image/svg+xml": [
       "<?xml version=\"1.0\" encoding=\"UTF-8\" standalone=\"no\"?>\n",
       "<!DOCTYPE svg PUBLIC \"-//W3C//DTD SVG 1.1//EN\"\n",
       " \"http://www.w3.org/Graphics/SVG/1.1/DTD/svg11.dtd\">\n",
       "<!-- Generated by graphviz version 9.0.0 (20230911.1827)\n",
       " -->\n",
       "<!-- Title: NSGraph Pages: 1 -->\n",
       "<svg width=\"90pt\" height=\"188pt\"\n",
       " viewBox=\"0.00 0.00 90.00 188.00\" xmlns=\"http://www.w3.org/2000/svg\" xmlns:xlink=\"http://www.w3.org/1999/xlink\">\n",
       "<g id=\"graph0\" class=\"graph\" transform=\"scale(1 1) rotate(0) translate(4 184)\">\n",
       "<title>NSGraph</title>\n",
       "<polygon fill=\"white\" stroke=\"none\" points=\"-4,4 -4,-184 86,-184 86,4 -4,4\"/>\n",
       "<!-- 1 -->\n",
       "<g id=\"node1\" class=\"node\">\n",
       "<title>1</title>\n",
       "<ellipse fill=\"none\" stroke=\"black\" cx=\"27\" cy=\"-18\" rx=\"27\" ry=\"18\"/>\n",
       "<text text-anchor=\"middle\" x=\"27\" y=\"-12.95\" font-family=\"Times,serif\" font-size=\"14.00\">24</text>\n",
       "</g>\n",
       "<!-- 2 -->\n",
       "<g id=\"node2\" class=\"node\">\n",
       "<title>2</title>\n",
       "<ellipse fill=\"none\" stroke=\"black\" cx=\"55\" cy=\"-90\" rx=\"27\" ry=\"18\"/>\n",
       "<text text-anchor=\"middle\" x=\"55\" y=\"-84.95\" font-family=\"Times,serif\" font-size=\"14.00\">59</text>\n",
       "</g>\n",
       "<!-- 2&#45;&#45;1 -->\n",
       "<g id=\"edge1\" class=\"edge\">\n",
       "<title>2&#45;&#45;1</title>\n",
       "<path fill=\"none\" stroke=\"black\" d=\"M48.36,-72.41C43.9,-61.25 38.04,-46.6 33.59,-35.47\"/>\n",
       "</g>\n",
       "<!-- 3 -->\n",
       "<g id=\"node3\" class=\"node\">\n",
       "<title>3</title>\n",
       "<ellipse fill=\"none\" stroke=\"black\" cx=\"27\" cy=\"-162\" rx=\"27\" ry=\"18\"/>\n",
       "<text text-anchor=\"middle\" x=\"27\" y=\"-156.95\" font-family=\"Times,serif\" font-size=\"14.00\">114</text>\n",
       "</g>\n",
       "<!-- 3&#45;&#45;1 -->\n",
       "<g id=\"edge2\" class=\"edge\">\n",
       "<title>3&#45;&#45;1</title>\n",
       "<path fill=\"none\" stroke=\"black\" d=\"M23.75,-143.89C21.95,-133.54 19.91,-120.06 19,-108 17.8,-92.04 17.8,-87.96 19,-72 19.91,-59.94 21.95,-46.46 23.75,-36.11\"/>\n",
       "</g>\n",
       "<!-- 3&#45;&#45;2 -->\n",
       "<g id=\"edge3\" class=\"edge\">\n",
       "<title>3&#45;&#45;2</title>\n",
       "<path fill=\"none\" stroke=\"black\" d=\"M33.64,-144.41C38.1,-133.25 43.96,-118.6 48.41,-107.47\"/>\n",
       "</g>\n",
       "</g>\n",
       "</svg>\n"
      ]
     },
     "execution_count": 131,
     "metadata": {
      "image/svg+xml": {
       "height": 500,
       "width": 500
      }
     },
     "output_type": "execute_result"
    }
   ],
   "source": [
    "JupyterSplashDot(DotRosalesGraph(400,s));"
   ]
  },
  {
   "cell_type": "code",
   "execution_count": 132,
   "id": "5fad0c10",
   "metadata": {},
   "outputs": [
    {
     "data": {
      "text/plain": [
       "[ 354, 456 ]"
      ]
     },
     "execution_count": 132,
     "metadata": {
      "text/plain": ""
     },
     "output_type": "execute_result"
    }
   ],
   "source": [
    "BettiElements(s);"
   ]
  },
  {
   "cell_type": "code",
   "execution_count": 133,
   "id": "d8520d2c",
   "metadata": {},
   "outputs": [
    {
     "data": {
      "image/svg+xml": [
       "<?xml version=\"1.0\" encoding=\"UTF-8\" standalone=\"no\"?>\n",
       "<!DOCTYPE svg PUBLIC \"-//W3C//DTD SVG 1.1//EN\"\n",
       " \"http://www.w3.org/Graphics/SVG/1.1/DTD/svg11.dtd\">\n",
       "<!-- Generated by graphviz version 9.0.0 (20230911.1827)\n",
       " -->\n",
       "<!-- Title: NSGraph Pages: 1 -->\n",
       "<svg width=\"134pt\" height=\"44pt\"\n",
       " viewBox=\"0.00 0.00 134.00 44.00\" xmlns=\"http://www.w3.org/2000/svg\" xmlns:xlink=\"http://www.w3.org/1999/xlink\">\n",
       "<g id=\"graph0\" class=\"graph\" transform=\"scale(1 1) rotate(0) translate(4 40)\">\n",
       "<title>NSGraph</title>\n",
       "<polygon fill=\"white\" stroke=\"none\" points=\"-4,4 -4,-40 130,-40 130,4 -4,4\"/>\n",
       "<!-- 1 -->\n",
       "<g id=\"node1\" class=\"node\">\n",
       "<title>1</title>\n",
       "<ellipse fill=\"none\" stroke=\"black\" cx=\"27\" cy=\"-18\" rx=\"27\" ry=\"18\"/>\n",
       "<text text-anchor=\"middle\" x=\"27\" y=\"-12.95\" font-family=\"Times,serif\" font-size=\"14.00\">24</text>\n",
       "</g>\n",
       "<!-- 2 -->\n",
       "<g id=\"node2\" class=\"node\">\n",
       "<title>2</title>\n",
       "<ellipse fill=\"none\" stroke=\"black\" cx=\"99\" cy=\"-18\" rx=\"27\" ry=\"18\"/>\n",
       "<text text-anchor=\"middle\" x=\"99\" y=\"-12.95\" font-family=\"Times,serif\" font-size=\"14.00\">114</text>\n",
       "</g>\n",
       "</g>\n",
       "</svg>\n"
      ]
     },
     "execution_count": 133,
     "metadata": {
      "image/svg+xml": {
       "height": 500,
       "width": 500
      }
     },
     "output_type": "execute_result"
    }
   ],
   "source": [
    "JupyterSplashDot(DotRosalesGraph(456,s));"
   ]
  },
  {
   "cell_type": "code",
   "execution_count": 134,
   "id": "4ad20241",
   "metadata": {},
   "outputs": [
    {
     "data": {
      "image/svg+xml": [
       "<?xml version=\"1.0\" encoding=\"UTF-8\" standalone=\"no\"?>\n",
       "<!DOCTYPE svg PUBLIC \"-//W3C//DTD SVG 1.1//EN\"\n",
       " \"http://www.w3.org/Graphics/SVG/1.1/DTD/svg11.dtd\">\n",
       "<!-- Generated by graphviz version 9.0.0 (20230911.1827)\n",
       " -->\n",
       "<!-- Title: NSGraph Pages: 1 -->\n",
       "<svg width=\"134pt\" height=\"116pt\"\n",
       " viewBox=\"0.00 0.00 134.00 116.00\" xmlns=\"http://www.w3.org/2000/svg\" xmlns:xlink=\"http://www.w3.org/1999/xlink\">\n",
       "<g id=\"graph0\" class=\"graph\" transform=\"scale(1 1) rotate(0) translate(4 112)\">\n",
       "<title>NSGraph</title>\n",
       "<polygon fill=\"white\" stroke=\"none\" points=\"-4,4 -4,-112 130,-112 130,4 -4,4\"/>\n",
       "<!-- 1 -->\n",
       "<g id=\"node1\" class=\"node\">\n",
       "<title>1</title>\n",
       "<ellipse fill=\"none\" stroke=\"black\" cx=\"27\" cy=\"-18\" rx=\"27\" ry=\"18\"/>\n",
       "<text text-anchor=\"middle\" x=\"27\" y=\"-12.95\" font-family=\"Times,serif\" font-size=\"14.00\">24</text>\n",
       "</g>\n",
       "<!-- 2 -->\n",
       "<g id=\"node2\" class=\"node\">\n",
       "<title>2</title>\n",
       "<ellipse fill=\"none\" stroke=\"black\" cx=\"99\" cy=\"-90\" rx=\"27\" ry=\"18\"/>\n",
       "<text text-anchor=\"middle\" x=\"99\" y=\"-84.95\" font-family=\"Times,serif\" font-size=\"14.00\">59</text>\n",
       "</g>\n",
       "<!-- 3 -->\n",
       "<g id=\"node3\" class=\"node\">\n",
       "<title>3</title>\n",
       "<ellipse fill=\"none\" stroke=\"black\" cx=\"27\" cy=\"-90\" rx=\"27\" ry=\"18\"/>\n",
       "<text text-anchor=\"middle\" x=\"27\" y=\"-84.95\" font-family=\"Times,serif\" font-size=\"14.00\">114</text>\n",
       "</g>\n",
       "<!-- 3&#45;&#45;1 -->\n",
       "<g id=\"edge1\" class=\"edge\">\n",
       "<title>3&#45;&#45;1</title>\n",
       "<path fill=\"none\" stroke=\"black\" d=\"M27,-71.7C27,-60.85 27,-46.92 27,-36.1\"/>\n",
       "</g>\n",
       "</g>\n",
       "</svg>\n"
      ]
     },
     "execution_count": 134,
     "metadata": {
      "image/svg+xml": {
       "height": 500,
       "width": 500
      }
     },
     "output_type": "execute_result"
    }
   ],
   "source": [
    "JupyterSplashDot(DotRosalesGraph(354,s));"
   ]
  },
  {
   "cell_type": "markdown",
   "id": "e26324fd",
   "metadata": {},
   "source": [
    "The number of connected components of $G_s$ coincides with the set of $R$-classes of the set of factorizations of $s$. Thus the catenary degree is attained in an $s$ with $G_s$ not connected, and the tame degree in an $s$ with $G_s$ not complete."
   ]
  },
  {
   "cell_type": "markdown",
   "id": "d9384869",
   "metadata": {},
   "source": [
    "### Primality"
   ]
  },
  {
   "cell_type": "markdown",
   "id": "5ae48158",
   "metadata": {},
   "source": [
    "Recall that $S$ induces an order over the integers $a\\le_S b$ if $b-a\\in S$. If $a$ and $b$ are in $S$, then we say that $a$ divides $b$ if $b-a\\in S$. In this way, minimal generators (irreducibles, atoms, primitive elements) are those not having proper divisors. A natural question arises: are there \"prime\" elements in a numerical semigroup. The ones to be candidates to be prime are the minimal generators of the semigroup.\n",
    "\n",
    "Let $S$ be minimally generated by $\\{n_1,\\dots,n_e\\}$. Consider the set $\\operatorname{Minimals}_\\le (\\mathsf{Z}(n_i+S))$. Notice that $S\\setminus(n_i+S)=\\operatorname{Ap}(S,n_i)$, and so the set $\\mathsf{Z}(n_i+S)=\\mathbb{N^e}\\setminus \\mathsf{Z}(\\operatorname{Ap}(S,n_i))$. Let $z \\in \\operatorname{Minimals}_\\le (\\mathsf{Z}(n_i+S))$, $z\\neq e_i$. Then $n_i$ divides $\\varphi_S(z)$ and cannot divide any of its \"factors\". Hence, $n_i$ cannot be prime.\n",
    "\n",
    "Let $s\\in S$. The $\\omega$-primality of $S$, $\\omega(S,s)$, is defined as the least integer $N$ such that whenever $s$ divides $a_1+\\dots+a_n$ for some $a_1,\\dots,a_n\\in S$, then $s$ divides $a_{i_1}+\\dots+a_{i_N}$ for some $\\{i_1,\\dots,i_N\\}\\subseteq \\{1,\\dots,n\\}$. By an argument similar to the one given above,\n",
    "$$\n",
    "\\omega(S,s)= \\max \\{ |z| : z\\in \\operatorname{Minimals}_\\le (\\mathsf{Z}(s+S))\\}.\n",
    "$$"
   ]
  },
  {
   "cell_type": "code",
   "execution_count": 135,
   "id": "89786d54",
   "metadata": {},
   "outputs": [
    {
     "data": {
      "text/plain": [
       "<Numerical semigroup with 3 generators>"
      ]
     },
     "execution_count": 135,
     "metadata": {
      "text/plain": ""
     },
     "output_type": "execute_result"
    }
   ],
   "source": [
    "s:=NumericalSemigroup(3,5,7);"
   ]
  },
  {
   "cell_type": "code",
   "execution_count": 136,
   "id": "8183b8a6",
   "metadata": {},
   "outputs": [
    {
     "data": {
      "text/plain": [
       "5"
      ]
     },
     "execution_count": 136,
     "metadata": {
      "text/plain": ""
     },
     "output_type": "execute_result"
    }
   ],
   "source": [
    "OmegaPrimality(10,s);"
   ]
  },
  {
   "cell_type": "markdown",
   "id": "d25c5703",
   "metadata": {},
   "source": [
    "Observe that if $z\\in \\operatorname{Minimals}_\\le(\\mathsf{Z}(s+S))$, then $\\varphi(z)=s+t$ for some $t\\in S$. Let $i$ be such $z_i\\neq 0$. Then $z-z_i\\not\\in \\mathsf{Z}(s+S)$, and thus $s+t-n_i\\not\\in s+S$, which means that $t\\in \\operatorname{Ap}(S,n_i)$. This bounds the search for cmputing $\\operatorname{Minimals}_\\le(\\mathsf{Z}(s+S))$.\n",
    "\n",
    "There is an alternative way to compute the set $\\operatorname{Minimals}_\\le(\\mathsf{Z}(s+S))$. Observe that $x\\in \\mathsf{Z}(s+S)$ if an only if $n_1x_1+\\dots+x_en_e=s+n_1t_1+\\dots+n_et_e$ for some $t_1,\\dots,t_e\\in \\mathbb{N}$. So we can solve the problem by looking at the nonnegative integer solutions (in $\\mathbb{N}^{2e}$ to the equation\n",
    "$$n_1x_1+\\dots+x_en_e-n_1t_1-\\dots-n_et_e=s$$\n",
    "and then project onto the first $e$ coordinates."
   ]
  },
  {
   "cell_type": "markdown",
   "id": "7673cd53",
   "metadata": {},
   "source": [
    "The omega primality of $S$ is defined as the maximum of the omega primalities of its minimal generators."
   ]
  },
  {
   "cell_type": "code",
   "execution_count": 137,
   "id": "7287ad21",
   "metadata": {},
   "outputs": [
    {
     "data": {
      "text/plain": [
       "4"
      ]
     },
     "execution_count": 137,
     "metadata": {
      "text/plain": ""
     },
     "output_type": "execute_result"
    }
   ],
   "source": [
    "OmegaPrimality(s);"
   ]
  },
  {
   "cell_type": "markdown",
   "id": "0fc9f96a",
   "metadata": {},
   "source": [
    "It can be shown that \n",
    "$$\n",
    "2+\\max(\\delta(S))\\le \\operatorname{c}(S)\\le \\omega(S)\\le \\operatorname{t}(S).\n",
    "$$"
   ]
  },
  {
   "cell_type": "markdown",
   "id": "eed5a88d",
   "metadata": {},
   "source": [
    "### Divisors"
   ]
  },
  {
   "cell_type": "markdown",
   "id": "8229a48d",
   "metadata": {},
   "source": [
    "Let $s$ be an element in a numerical semigroup $S$. The set of divisors of $s$ is \n",
    "$$\n",
    "\\operatorname{D}(s)=\\{ n\\in S : s-n\\in S\\}.\n",
    "$$\n",
    "\n",
    "The Feng-Rao distance of $s$ is defined as \n",
    "$$\n",
    "\\delta_{FR}(s)=\\min\\{ \\# \\operatorname{D}(s') : s\\le s', s'\\in S\\}.\n",
    "$$\n",
    "\n",
    "Let $c$ be the conductor of $S$ and let $g$ be its genus. It can be shown that for $s\\ge 2c-1$, \n",
    "$$\n",
    "\\delta_{FR}(s)=s+1-2g.\n",
    "$$"
   ]
  },
  {
   "cell_type": "code",
   "execution_count": 140,
   "id": "2076e4a0",
   "metadata": {},
   "outputs": [
    {
     "data": {
      "text/plain": [
       "[ 1, 2, 2, 3, 2, 4, 4, 5, 6, 7, 8, 9, 10, 11, 12, 13, 14, 15, 16, 17 ]"
      ]
     },
     "execution_count": 140,
     "metadata": {
      "text/plain": ""
     },
     "output_type": "execute_result"
    }
   ],
   "source": [
    "ndiv:={x,s}->Length(DivisorsOfElementInNumericalSemigroup(x,s));;\n",
    "s:=NumericalSemigroup(3,5,7);;\n",
    "List(s{[1..20]}, x->ndiv(x,s));"
   ]
  },
  {
   "cell_type": "code",
   "execution_count": 141,
   "id": "0ba925c9",
   "metadata": {},
   "outputs": [
    {
     "data": {
      "text/plain": [
       "5"
      ]
     },
     "execution_count": 141,
     "metadata": {
      "text/plain": ""
     },
     "output_type": "execute_result"
    }
   ],
   "source": [
    "FengRaoDistance(s,1,10);"
   ]
  },
  {
   "cell_type": "markdown",
   "id": "bd50f3b3",
   "metadata": {},
   "source": [
    "The generalized Feng-Rao distance is defined as \n",
    "$$\n",
    "\\delta_{FR}^r=\\min\\{\\#\\operatorname{D}(s_1,\\dots,s_r) : s\\le s_1\\le \\dots \\le s_r, s_1,\\dots,s_r\\in S\\},\n",
    "$$\n",
    "where $\\operatorname{D}(s_1,\\dots,s_r)=\\bigcup_{i=1}^r \\operatorname{D}(s_i)$.\n",
    "It can be shown that for $s\\ge 2c-1$, \n",
    "$$\n",
    "\\delta_{FR}^r= s+1 -2g + E(S,r).\n",
    "$$\n",
    "The constant $E(S,r)$ is known as the $r$th Feng-Rao number. For $r=2$, \n",
    "$$\n",
    "E(S,2)=\\min\\{\\#\\operatorname{Ap}(S,n) : r\\in \\{1,\\dots,\\operatorname{m}(S)\\}\\}.\n",
    "$$\n",
    "The definition of the Apéry set for elements not in $S$ is the same as the one given above."
   ]
  },
  {
   "cell_type": "markdown",
   "id": "3be05cb0",
   "metadata": {},
   "source": [
    "## Complete intersections"
   ]
  },
  {
   "cell_type": "markdown",
   "id": "f2decedc",
   "metadata": {},
   "source": [
    "Let $S$ be a numerical semigroup minimally generated by $\\{n_1,\\dots, n_e\\}$ with $m=\\operatorname{m}(S)$. The cardinality of a (any) minimal presentation is lowed bounded by $e-1$ and upper bounded by $m(m-1)/2$. \n",
    "\n",
    "Numerical semigroups attaining the upper bound are precisely those of maximal embedding dimension.\n",
    "\n",
    "A numerical semigroup is a complete intersection if its number of minimal relations is $e-1$."
   ]
  },
  {
   "cell_type": "code",
   "execution_count": 142,
   "id": "0e476801",
   "metadata": {},
   "outputs": [],
   "source": [
    "s:=NumericalSemigroup(4,6,9);;"
   ]
  },
  {
   "cell_type": "code",
   "execution_count": 143,
   "id": "cc5102ce",
   "metadata": {},
   "outputs": [
    {
     "data": {
      "text/plain": [
       "[ [ [ 0, 0, 2 ], [ 0, 3, 0 ] ], [ [ 0, 2, 0 ], [ 3, 0, 0 ] ] ]"
      ]
     },
     "execution_count": 143,
     "metadata": {
      "text/plain": ""
     },
     "output_type": "execute_result"
    }
   ],
   "source": [
    "MinimalPresentation(s);"
   ]
  },
  {
   "cell_type": "code",
   "execution_count": 144,
   "id": "b81e74f4",
   "metadata": {},
   "outputs": [
    {
     "data": {
      "text/plain": [
       "true"
      ]
     },
     "execution_count": 144,
     "metadata": {
      "text/plain": ""
     },
     "output_type": "execute_result"
    }
   ],
   "source": [
    "IsCompleteIntersection(s);"
   ]
  },
  {
   "cell_type": "markdown",
   "id": "dd2321ae",
   "metadata": {},
   "source": [
    "Let $S_1$ and $S_2$ be numerical semigroups, and let $a_1\\in S_2$ and $a_2\\in S_1$ (none of them a minimal generator). Then $S=a_1 S_1+a_2 S_2$ is again a numerical semigroup, and if $A_1$ and $A_2$ are the minimal generating systems of $S_1$ and $S_2$, respectively, $a_1A_1\\cup a_2A_2$ is a minimal generating system of $S$.\n",
    "\n",
    "In this case, we say that $S$ is a gluing of $S_1$ and $S_2$. "
   ]
  },
  {
   "cell_type": "code",
   "execution_count": 145,
   "id": "9e581cdb",
   "metadata": {},
   "outputs": [
    {
     "data": {
      "text/plain": [
       "[ [ [ 4 ], [ 6, 9 ] ], [ [ 4, 6 ], [ 9 ] ] ]"
      ]
     },
     "execution_count": 145,
     "metadata": {
      "text/plain": ""
     },
     "output_type": "execute_result"
    }
   ],
   "source": [
    "AsGluingOfNumericalSemigroups(s);"
   ]
  },
  {
   "cell_type": "code",
   "execution_count": 146,
   "id": "2cd40142",
   "metadata": {},
   "outputs": [
    {
     "data": {
      "image/svg+xml": [
       "<?xml version=\"1.0\" encoding=\"UTF-8\" standalone=\"no\"?>\n",
       "<!DOCTYPE svg PUBLIC \"-//W3C//DTD SVG 1.1//EN\"\n",
       " \"http://www.w3.org/Graphics/SVG/1.1/DTD/svg11.dtd\">\n",
       "<!-- Generated by graphviz version 9.0.0 (20230911.1827)\n",
       " -->\n",
       "<!-- Title: NSGraph Pages: 1 -->\n",
       "<svg width=\"455pt\" height=\"344pt\"\n",
       " viewBox=\"0.00 0.00 455.09 343.85\" xmlns=\"http://www.w3.org/2000/svg\" xmlns:xlink=\"http://www.w3.org/1999/xlink\">\n",
       "<g id=\"graph0\" class=\"graph\" transform=\"scale(1 1) rotate(0) translate(4 339.85)\">\n",
       "<title>NSGraph</title>\n",
       "<polygon fill=\"white\" stroke=\"none\" points=\"-4,4 -4,-339.85 451.09,-339.85 451.09,4 -4,4\"/>\n",
       "<!-- 0 -->\n",
       "<g id=\"node1\" class=\"node\">\n",
       "<title>0</title>\n",
       "<ellipse fill=\"lightgrey\" stroke=\"black\" cx=\"223.54\" cy=\"-315.88\" rx=\"61.7\" ry=\"19.98\"/>\n",
       "<text text-anchor=\"middle\" x=\"223.54\" y=\"-312.7\" font-family=\"Times,serif\" font-size=\"14.00\">〈 4, 6, 9 〉</text>\n",
       "</g>\n",
       "<!-- 1 -->\n",
       "<g id=\"node2\" class=\"node\">\n",
       "<title>1</title>\n",
       "<polygon fill=\"none\" stroke=\"black\" points=\"214.29,-259.9 82.79,-259.9 82.79,-223.9 214.29,-223.9 214.29,-259.9\"/>\n",
       "<text text-anchor=\"middle\" x=\"148.54\" y=\"-238.73\" font-family=\"Times,serif\" font-size=\"14.00\">〈 4 〉 + 〈 6, 9 〉</text>\n",
       "</g>\n",
       "<!-- 0&#45;&gt;1 -->\n",
       "<g id=\"edge1\" class=\"edge\">\n",
       "<title>0&#45;&gt;1</title>\n",
       "<path fill=\"none\" stroke=\"black\" d=\"M204.62,-296.72C195.62,-288.08 184.72,-277.62 174.93,-268.22\"/>\n",
       "<polygon fill=\"black\" stroke=\"black\" points=\"177.42,-265.76 167.78,-261.36 172.57,-270.81 177.42,-265.76\"/>\n",
       "</g>\n",
       "<!-- 7 -->\n",
       "<g id=\"node8\" class=\"node\">\n",
       "<title>7</title>\n",
       "<polygon fill=\"none\" stroke=\"black\" points=\"364.29,-259.9 232.79,-259.9 232.79,-223.9 364.29,-223.9 364.29,-259.9\"/>\n",
       "<text text-anchor=\"middle\" x=\"298.54\" y=\"-238.73\" font-family=\"Times,serif\" font-size=\"14.00\">〈 4, 6 〉 + 〈 9 〉</text>\n",
       "</g>\n",
       "<!-- 0&#45;&gt;7 -->\n",
       "<g id=\"edge7\" class=\"edge\">\n",
       "<title>0&#45;&gt;7</title>\n",
       "<path fill=\"none\" stroke=\"black\" d=\"M242.47,-296.72C251.46,-288.08 262.37,-277.62 272.16,-268.22\"/>\n",
       "<polygon fill=\"black\" stroke=\"black\" points=\"274.52,-270.81 279.31,-261.36 269.67,-265.76 274.52,-270.81\"/>\n",
       "</g>\n",
       "<!-- 2 -->\n",
       "<g id=\"node3\" class=\"node\">\n",
       "<title>2</title>\n",
       "<ellipse fill=\"lightgrey\" stroke=\"black\" cx=\"41.54\" cy=\"-167.93\" rx=\"41.54\" ry=\"19.98\"/>\n",
       "<text text-anchor=\"middle\" x=\"41.54\" y=\"-164.75\" font-family=\"Times,serif\" font-size=\"14.00\">〈 1 〉</text>\n",
       "</g>\n",
       "<!-- 1&#45;&gt;2 -->\n",
       "<g id=\"edge2\" class=\"edge\">\n",
       "<title>1&#45;&gt;2</title>\n",
       "<path fill=\"none\" stroke=\"black\" d=\"M122.64,-223.48C108.09,-213.69 89.8,-201.39 74.27,-190.94\"/>\n",
       "<polygon fill=\"black\" stroke=\"black\" points=\"76.52,-188.24 66.27,-185.56 72.62,-194.05 76.52,-188.24\"/>\n",
       "</g>\n",
       "<!-- 3 -->\n",
       "<g id=\"node4\" class=\"node\">\n",
       "<title>3</title>\n",
       "<ellipse fill=\"lightgrey\" stroke=\"black\" cx=\"152.54\" cy=\"-167.93\" rx=\"51.62\" ry=\"19.98\"/>\n",
       "<text text-anchor=\"middle\" x=\"152.54\" y=\"-164.75\" font-family=\"Times,serif\" font-size=\"14.00\">〈 2, 3 〉</text>\n",
       "</g>\n",
       "<!-- 1&#45;&gt;3 -->\n",
       "<g id=\"edge3\" class=\"edge\">\n",
       "<title>1&#45;&gt;3</title>\n",
       "<path fill=\"none\" stroke=\"black\" d=\"M149.51,-223.48C149.91,-216.32 150.38,-207.82 150.83,-199.68\"/>\n",
       "<polygon fill=\"black\" stroke=\"black\" points=\"154.33,-199.91 151.39,-189.73 147.34,-199.52 154.33,-199.91\"/>\n",
       "</g>\n",
       "<!-- 4 -->\n",
       "<g id=\"node5\" class=\"node\">\n",
       "<title>4</title>\n",
       "<polygon fill=\"none\" stroke=\"black\" points=\"211.17,-111.95 93.92,-111.95 93.92,-75.95 211.17,-75.95 211.17,-111.95\"/>\n",
       "<text text-anchor=\"middle\" x=\"152.54\" y=\"-90.78\" font-family=\"Times,serif\" font-size=\"14.00\">〈 2 〉 + 〈 3 〉</text>\n",
       "</g>\n",
       "<!-- 3&#45;&gt;4 -->\n",
       "<g id=\"edge4\" class=\"edge\">\n",
       "<title>3&#45;&gt;4</title>\n",
       "<path fill=\"none\" stroke=\"black\" d=\"M152.54,-147.64C152.54,-140.25 152.54,-131.66 152.54,-123.59\"/>\n",
       "<polygon fill=\"black\" stroke=\"black\" points=\"156.04,-123.84 152.54,-113.84 149.04,-123.84 156.04,-123.84\"/>\n",
       "</g>\n",
       "<!-- 5 -->\n",
       "<g id=\"node6\" class=\"node\">\n",
       "<title>5</title>\n",
       "<ellipse fill=\"lightgrey\" stroke=\"black\" cx=\"63.54\" cy=\"-19.98\" rx=\"41.54\" ry=\"19.98\"/>\n",
       "<text text-anchor=\"middle\" x=\"63.54\" y=\"-16.8\" font-family=\"Times,serif\" font-size=\"14.00\">〈 1 〉</text>\n",
       "</g>\n",
       "<!-- 4&#45;&gt;5 -->\n",
       "<g id=\"edge5\" class=\"edge\">\n",
       "<title>4&#45;&gt;5</title>\n",
       "<path fill=\"none\" stroke=\"black\" d=\"M131,-75.53C119.57,-66.29 105.37,-54.8 92.94,-44.75\"/>\n",
       "<polygon fill=\"black\" stroke=\"black\" points=\"95.43,-42.26 85.45,-38.69 91.03,-47.7 95.43,-42.26\"/>\n",
       "</g>\n",
       "<!-- 6 -->\n",
       "<g id=\"node7\" class=\"node\">\n",
       "<title>6</title>\n",
       "<ellipse fill=\"lightgrey\" stroke=\"black\" cx=\"164.54\" cy=\"-19.98\" rx=\"41.54\" ry=\"19.98\"/>\n",
       "<text text-anchor=\"middle\" x=\"164.54\" y=\"-16.8\" font-family=\"Times,serif\" font-size=\"14.00\">〈 1 〉</text>\n",
       "</g>\n",
       "<!-- 4&#45;&gt;6 -->\n",
       "<g id=\"edge6\" class=\"edge\">\n",
       "<title>4&#45;&gt;6</title>\n",
       "<path fill=\"none\" stroke=\"black\" d=\"M155.45,-75.53C156.65,-68.29 158.09,-59.67 159.46,-51.44\"/>\n",
       "<polygon fill=\"black\" stroke=\"black\" points=\"162.89,-52.2 161.08,-41.76 155.98,-51.05 162.89,-52.2\"/>\n",
       "</g>\n",
       "<!-- 8 -->\n",
       "<g id=\"node9\" class=\"node\">\n",
       "<title>8</title>\n",
       "<ellipse fill=\"lightgrey\" stroke=\"black\" cx=\"294.54\" cy=\"-167.93\" rx=\"51.62\" ry=\"19.98\"/>\n",
       "<text text-anchor=\"middle\" x=\"294.54\" y=\"-164.75\" font-family=\"Times,serif\" font-size=\"14.00\">〈 2, 3 〉</text>\n",
       "</g>\n",
       "<!-- 7&#45;&gt;8 -->\n",
       "<g id=\"edge8\" class=\"edge\">\n",
       "<title>7&#45;&gt;8</title>\n",
       "<path fill=\"none\" stroke=\"black\" d=\"M297.57,-223.48C297.18,-216.32 296.7,-207.82 296.25,-199.68\"/>\n",
       "<polygon fill=\"black\" stroke=\"black\" points=\"299.75,-199.52 295.7,-189.73 292.76,-199.91 299.75,-199.52\"/>\n",
       "</g>\n",
       "<!-- 9 -->\n",
       "<g id=\"node13\" class=\"node\">\n",
       "<title>9</title>\n",
       "<ellipse fill=\"lightgrey\" stroke=\"black\" cx=\"405.54\" cy=\"-167.93\" rx=\"41.54\" ry=\"19.98\"/>\n",
       "<text text-anchor=\"middle\" x=\"405.54\" y=\"-164.75\" font-family=\"Times,serif\" font-size=\"14.00\">〈 1 〉</text>\n",
       "</g>\n",
       "<!-- 7&#45;&gt;9 -->\n",
       "<g id=\"edge9\" class=\"edge\">\n",
       "<title>7&#45;&gt;9</title>\n",
       "<path fill=\"none\" stroke=\"black\" d=\"M324.44,-223.48C338.99,-213.69 357.29,-201.39 372.82,-190.94\"/>\n",
       "<polygon fill=\"black\" stroke=\"black\" points=\"374.47,-194.05 380.81,-185.56 370.56,-188.24 374.47,-194.05\"/>\n",
       "</g>\n",
       "<!-- 10 -->\n",
       "<g id=\"node10\" class=\"node\">\n",
       "<title>10</title>\n",
       "<polygon fill=\"none\" stroke=\"black\" points=\"353.17,-111.95 235.92,-111.95 235.92,-75.95 353.17,-75.95 353.17,-111.95\"/>\n",
       "<text text-anchor=\"middle\" x=\"294.54\" y=\"-90.78\" font-family=\"Times,serif\" font-size=\"14.00\">〈 2 〉 + 〈 3 〉</text>\n",
       "</g>\n",
       "<!-- 8&#45;&gt;10 -->\n",
       "<g id=\"edge10\" class=\"edge\">\n",
       "<title>8&#45;&gt;10</title>\n",
       "<path fill=\"none\" stroke=\"black\" d=\"M294.54,-147.64C294.54,-140.25 294.54,-131.66 294.54,-123.59\"/>\n",
       "<polygon fill=\"black\" stroke=\"black\" points=\"298.04,-123.84 294.54,-113.84 291.04,-123.84 298.04,-123.84\"/>\n",
       "</g>\n",
       "<!-- 11 -->\n",
       "<g id=\"node11\" class=\"node\">\n",
       "<title>11</title>\n",
       "<ellipse fill=\"lightgrey\" stroke=\"black\" cx=\"282.54\" cy=\"-19.98\" rx=\"41.54\" ry=\"19.98\"/>\n",
       "<text text-anchor=\"middle\" x=\"282.54\" y=\"-16.8\" font-family=\"Times,serif\" font-size=\"14.00\">〈 1 〉</text>\n",
       "</g>\n",
       "<!-- 10&#45;&gt;11 -->\n",
       "<g id=\"edge11\" class=\"edge\">\n",
       "<title>10&#45;&gt;11</title>\n",
       "<path fill=\"none\" stroke=\"black\" d=\"M291.64,-75.53C290.43,-68.29 288.99,-59.67 287.62,-51.44\"/>\n",
       "<polygon fill=\"black\" stroke=\"black\" points=\"291.1,-51.05 286.01,-41.76 284.2,-52.2 291.1,-51.05\"/>\n",
       "</g>\n",
       "<!-- 12 -->\n",
       "<g id=\"node12\" class=\"node\">\n",
       "<title>12</title>\n",
       "<ellipse fill=\"lightgrey\" stroke=\"black\" cx=\"383.54\" cy=\"-19.98\" rx=\"41.54\" ry=\"19.98\"/>\n",
       "<text text-anchor=\"middle\" x=\"383.54\" y=\"-16.8\" font-family=\"Times,serif\" font-size=\"14.00\">〈 1 〉</text>\n",
       "</g>\n",
       "<!-- 10&#45;&gt;12 -->\n",
       "<g id=\"edge12\" class=\"edge\">\n",
       "<title>10&#45;&gt;12</title>\n",
       "<path fill=\"none\" stroke=\"black\" d=\"M316.09,-75.53C327.51,-66.29 341.72,-54.8 354.14,-44.75\"/>\n",
       "<polygon fill=\"black\" stroke=\"black\" points=\"356.06,-47.7 361.63,-38.69 351.66,-42.26 356.06,-47.7\"/>\n",
       "</g>\n",
       "</g>\n",
       "</svg>\n"
      ]
     },
     "execution_count": 146,
     "metadata": {
      "image/svg+xml": {
       "height": 500,
       "width": 500
      }
     },
     "output_type": "execute_result"
    }
   ],
   "source": [
    "JupyterSplashDot(DotTreeOfGluingsOfNumericalSemigroup(s));"
   ]
  },
  {
   "cell_type": "markdown",
   "id": "d677da72",
   "metadata": {},
   "source": [
    "It can be shown taht $S$ is a complete intersection if it is either $\\mathbb{N}$ or is a gluing of two complete intersection numerical semigroups."
   ]
  },
  {
   "cell_type": "markdown",
   "id": "3b3650cf",
   "metadata": {},
   "source": [
    "A numerical semigroup $S$ is a gluing $S=a_1S_1+a_2S_2$ if and only if it admits a minimal presentation of the form $\\sigma=\\sigma_1\\cup \\sigma_2\\cup \\{(a,b)\\}$, where\n",
    "- $\\sigma_1$ only \"moves\" generators in $a_1A_1$ (it is a presentation of $S_1$),\n",
    "- $\\sigma_2$ only \"moves\" generators in $a_2A_2$ (it is a presentation of $S_2$),\n",
    "- $a$ is a factorization with support in $a_1A_1$, and $b$ is a factorization with support in $a_2A_2$.\n",
    "\n",
    "$$\\operatorname{Betti}(S)=a_1\\operatorname{Betti}(S_1)\\cup a_2\\operatorname{Betti}(S_2) \\cup \\{a_1a_2\\}.$$"
   ]
  },
  {
   "cell_type": "markdown",
   "id": "55fcaa99",
   "metadata": {},
   "source": [
    "### Free numerical semigroups"
   ]
  },
  {
   "cell_type": "markdown",
   "id": "d6833a91",
   "metadata": {},
   "source": [
    "A numerical semigroup $S$ minimally generated by $\\{n_1,\\dots,n_e\\}$ is free for this arrangment of its minimal generators if either $\\mathbb{N}$ or $S=d\\langle n_1/d,\\dots,n_{e-1}/d\\rangle+ n_e\\mathbb{N}$ is a gluing with $d=\\gcd\\{n_1,\\dots,n_{e-1}\\}$ and $\\langle n_1/d,\\dots,n_{e-1}/d\\rangle$ is free.\n",
    "\n",
    "Minimal free numerical semigroups have stair-like minimal presentations.\n",
    "\n",
    "A numerical semigroup might be free for different arrangments of its minimal generators, but does not have to be free for all the arrangments of its minimal generators."
   ]
  },
  {
   "cell_type": "code",
   "execution_count": 148,
   "id": "3b43c603",
   "metadata": {},
   "outputs": [
    {
     "data": {
      "text/plain": [
       "true"
      ]
     },
     "execution_count": 148,
     "metadata": {
      "text/plain": ""
     },
     "output_type": "execute_result"
    }
   ],
   "source": [
    "s:=NumericalSemigroup(4,6,9);;\n",
    "IsFree(s);"
   ]
  },
  {
   "cell_type": "code",
   "execution_count": 149,
   "id": "dcf38390",
   "metadata": {},
   "outputs": [
    {
     "data": {
      "text/plain": [
       "false"
      ]
     },
     "execution_count": 149,
     "metadata": {
      "text/plain": ""
     },
     "output_type": "execute_result"
    }
   ],
   "source": [
    "IsUniversallyFree(s);"
   ]
  },
  {
   "cell_type": "code",
   "execution_count": 151,
   "id": "b0699a37",
   "metadata": {},
   "outputs": [
    {
     "data": {
      "text/plain": [
       "true"
      ]
     },
     "execution_count": 151,
     "metadata": {
      "text/plain": ""
     },
     "output_type": "execute_result"
    }
   ],
   "source": [
    "s:=NumericalSemigroup(6,10,15);;\n",
    "IsUniversallyFree(s);"
   ]
  },
  {
   "cell_type": "markdown",
   "id": "2e5f1760",
   "metadata": {},
   "source": [
    "### Telescopic numerical semigroups"
   ]
  },
  {
   "cell_type": "markdown",
   "id": "b80cf6d3",
   "metadata": {},
   "source": [
    "A numerical semigroup $S$ minimally generated by $\\{n_1<\\dots<n_e\\}$ is telescopic if it is free for the arrangment $(n_1,\\dots,n_e)$. "
   ]
  },
  {
   "cell_type": "code",
   "execution_count": 153,
   "id": "1432089d",
   "metadata": {},
   "outputs": [
    {
     "data": {
      "text/plain": [
       "true"
      ]
     },
     "execution_count": 153,
     "metadata": {
      "text/plain": ""
     },
     "output_type": "execute_result"
    }
   ],
   "source": [
    "s:=NumericalSemigroup(4,6,9);;\n",
    "IsTelescopic(s);"
   ]
  },
  {
   "cell_type": "markdown",
   "id": "578fd86b",
   "metadata": {},
   "source": [
    "Suppose that $S$ is telescopic and define $d_i=\\gcd\\{n_1,\\dots,n_{i-1}\\}$ and $e_i=d_i/d_{i+1}$. Then $S$ is the semigroup associated to a plane curve singularity if and only if $e_in_i<n_{i+1}$ for all $i$."
   ]
  },
  {
   "cell_type": "code",
   "execution_count": 159,
   "id": "a0c15ebf",
   "metadata": {},
   "outputs": [
    {
     "data": {
      "text/plain": [
       "true"
      ]
     },
     "execution_count": 154,
     "metadata": {
      "text/plain": ""
     },
     "output_type": "execute_result"
    },
    {
     "data": {
      "text/plain": [
       "<Numerical semigroup with 3 generators>"
      ]
     },
     "execution_count": 158,
     "metadata": {
      "text/plain": ""
     },
     "output_type": "execute_result"
    },
    {
     "data": {
      "text/plain": [
       "[ 4, 6, 13 ]"
      ]
     },
     "execution_count": 159,
     "metadata": {
      "text/plain": ""
     },
     "output_type": "execute_result"
    }
   ],
   "source": [
    "NumSgpsUseSingular();\n",
    "x:=X(Rationals,\"x\");; y:=X(Rationals,\"y\");;\n",
    "f:= y^4-2*x^3*y^2-4*x^5*y+x^6-x^7;;\n",
    "s:=SemigroupOfValuesOfPlaneCurve(f);\n",
    "MinimalGenerators(s);"
   ]
  },
  {
   "cell_type": "code",
   "execution_count": 160,
   "id": "91930386",
   "metadata": {},
   "outputs": [
    {
     "data": {
      "text/plain": [
       "true"
      ]
     },
     "execution_count": 160,
     "metadata": {
      "text/plain": ""
     },
     "output_type": "execute_result"
    }
   ],
   "source": [
    "IsTelescopic(s);"
   ]
  },
  {
   "cell_type": "code",
   "execution_count": 161,
   "id": "de3825ab",
   "metadata": {},
   "outputs": [
    {
     "data": {
      "text/plain": [
       "true"
      ]
     },
     "execution_count": 161,
     "metadata": {
      "text/plain": ""
     },
     "output_type": "execute_result"
    }
   ],
   "source": [
    "IsNumericalSemigroupAssociatedIrreduciblePlanarCurveSingularity(s);"
   ]
  },
  {
   "cell_type": "code",
   "execution_count": 166,
   "id": "b046722f",
   "metadata": {},
   "outputs": [
    {
     "name": "stdout",
     "output_type": "stream",
     "text": [
      "[ [    0,    1,    1,    1 ],\n",
      "  [    1,    1,    1,    1 ],\n",
      "  [    2,    2,    2,    2 ],\n",
      "  [    3,    3,    3,    2 ],\n",
      "  [    4,    2,    2,    2 ],\n",
      "  [    5,    4,    4,    4 ],\n",
      "  [    6,    5,    5,    3 ],\n",
      "  [    7,    3,    3,    2 ],\n",
      "  [    8,    7,    7,    5 ],\n",
      "  [    9,    8,    8,    6 ],\n",
      "  [   10,    5,    5,    4 ],\n",
      "  [   11,   11,   11,    8 ],\n",
      "  [   12,   11,   11,    8 ],\n",
      "  [   13,    9,    9,    7 ],\n",
      "  [   14,   14,   14,   10 ],\n",
      "  [   15,   17,   17,    9 ],\n",
      "  [   16,   12,   12,    8 ],\n",
      "  [   17,   18,   18,   12 ],\n",
      "  [   18,   24,   24,   12 ],\n",
      "  [   19,   16,   16,   11 ],\n",
      "  [   20,   27,   27,   18 ],\n",
      "  [   21,   31,   31,   19 ],\n",
      "  [   22,   21,   21,   13 ],\n",
      "  [   23,   36,   35,   20 ],\n",
      "  [   24,   38,   38,   22 ],\n",
      "  [   25,   27,   27,   16 ],\n",
      "  [   26,   46,   46,   24 ],\n",
      "  [   27,   45,   45,   25 ],\n",
      "  [   28,   34,   33,   20 ],\n",
      "  [   29,   57,   57,   32 ],\n",
      "  [   30,   62,   62,   31 ],\n",
      "  [   31,   43,   43,   25 ],\n",
      "  [   32,   65,   65,   37 ],\n",
      "  [   33,   77,   76,   39 ],\n",
      "  [   34,   53,   52,   29 ],\n",
      "  [   35,   84,   83,   43 ],\n",
      "  [   36,   90,   90,   47 ],\n",
      "  [   37,   61,   61,   37 ],\n",
      "  [   38,  100,  100,   52 ],\n",
      "  [   39,  110,  109,   54 ],\n",
      "  [   40,   80,   79,   47 ],\n",
      "  [   41,  122,  120,   61 ],\n",
      "  [   42,  120,  120,   60 ],\n",
      "  [   43,   94,   94,   48 ],\n",
      "  [   44,  143,  142,   73 ],\n",
      "  [   45,  151,  149,   72 ],\n",
      "  [   46,  108,  106,   57 ],\n",
      "  [   47,  158,  157,   75 ],\n",
      "  [   48,  179,  179,   84 ],\n",
      "  [   49,  128,  128,   68 ],\n",
      "  [   50,  197,  194,   86 ],\n",
      "  [   51,  209,  207,   89 ],\n",
      "  [   52,  142,  142,   76 ],\n",
      "  [   53,  229,  227,  101 ],\n",
      "  [   54,  238,  235,  104 ],\n",
      "  [   55,  172,  169,   83 ],\n",
      "  [   56,  264,  260,  122 ],\n",
      "  [   57,  259,  258,  118 ],\n",
      "  [   58,  202,  200,   96 ],\n",
      "  [   59,  294,  291,  128 ],\n",
      "  [   60,  311,  310,  140 ] ]\n"
     ]
    }
   ],
   "source": [
    "# is:=[0..60];;\n",
    "# Plot([is,i->Length(CompleteIntersectionNumericalSemigroupsWithFrobeniusNumber(2*i+1))],\n",
    "# [is, i->Length(FreeNumericalSemigroupsWithFrobeniusNumber(2*i+1))],\n",
    "# [is, i->Length(TelescopicNumericalSemigroupsWithFrobeniusNumber(2*i+1))]);\n",
    "Display(List([0..60],i->[i,Length(CompleteIntersectionNumericalSemigroupsWithFrobeniusNumber(2*i+1)),\n",
    "                    Length(FreeNumericalSemigroupsWithFrobeniusNumber(2*i+1)),\n",
    "                    Length(TelescopicNumericalSemigroupsWithFrobeniusNumber(2*i+1))]));"
   ]
  },
  {
   "cell_type": "markdown",
   "id": "01bc1909",
   "metadata": {},
   "source": [
    "### Apéry sets and gluings"
   ]
  },
  {
   "cell_type": "markdown",
   "id": "27264ec4",
   "metadata": {},
   "source": [
    "Assume that $S=a_1S_1+a_2S_2$ is a gluing of $S_1$ and $S_2$. Then \n",
    "$$\n",
    "\\operatorname{Ap}(S,a_1a_2)=a_1\\operatorname{Ap}(S_1,a_1)+a_2\\operatorname{Ap}(S_2,a_2).\n",
    "$$\n",
    "In particular, \n",
    "$$\n",
    "\\operatorname{F}(S)=a_1\\operatorname{F}(S_1)+a_2\\operatorname{F}(S_2)+a_1a_2,\n",
    "$$\n",
    "and \n",
    "$$\n",
    "\\operatorname{t}(S)=\\operatorname{t}(S_1)\\operatorname{t}(S_2).\n",
    "$$\n",
    "In particular, the gluing of two symmetric numerical semigroups is symmetric, and every complete intersection is a symmetric numerical semigroup."
   ]
  },
  {
   "cell_type": "markdown",
   "id": "430c1d6b",
   "metadata": {},
   "source": [
    "## Hilbert series (or generating functions) and gluings"
   ]
  },
  {
   "cell_type": "markdown",
   "id": "420065c6",
   "metadata": {},
   "source": [
    "Let $S$ be a numerical semigroup. The Hilbert series associated to $S$ is the formal series\n",
    "$$\n",
    "H_S(x)= \\sum_{s\\in S} x^s.\n",
    "$$\n",
    "Also, for every $n\\in S\\setminus\\{0\\}$\n",
    "$$\n",
    "H_S(x)= \\frac{1}{1-x^n} \\sum_{w\\in \\operatorname{Ap}(S,n)} x^w.\n",
    "$$\n",
    "\n",
    "Thus, if $S=a_1S_1+a_2S_2$ is a gluing, then \n",
    "$$\n",
    "H_S(x) = (1-x^{a_1a_2})H_{S_1}(x^{a_1})H_{S_2}(x^{a_2}).\n",
    "$$\n",
    "\n",
    "Define the polynomial associated to $S$ as \n",
    "$$\n",
    "P_S(x) = (1-x)H_S(x)= 1+(1-x)\\sum_{g\\in \\mathbb{N}\\setminus S} x^g.\n",
    "$$"
   ]
  },
  {
   "cell_type": "code",
   "execution_count": 168,
   "id": "0de3c06b",
   "metadata": {},
   "outputs": [
    {
     "data": {
      "text/plain": [
       "x^12-x^11+x^8-x^7+x^6-x^5+x^4-x+1"
      ]
     },
     "execution_count": 168,
     "metadata": {
      "text/plain": ""
     },
     "output_type": "execute_result"
    }
   ],
   "source": [
    "s:=NumericalSemigroup(4,6,9);;\n",
    "p:=NumericalSemigroupPolynomial(s,x);"
   ]
  },
  {
   "cell_type": "code",
   "execution_count": 169,
   "id": "f69299d9",
   "metadata": {},
   "outputs": [
    {
     "name": "stdout",
     "output_type": "stream",
     "text": [
      "x^12-x^11+x^8-x^7+x^6-x^5+x^4-x+1"
     ]
    }
   ],
   "source": [
    "Print(p);"
   ]
  },
  {
   "cell_type": "markdown",
   "id": "77712183",
   "metadata": {},
   "source": [
    "If $S$ is a complete intersection, then \n",
    "$$\n",
    "H_S(x)= \\frac{\\prod_{b\\in \\operatorname{Betti}(S)} (1-x^b)^{nrc(b)-1}}{\\prod_{i=1}^d (1-x^{n_i})},\n",
    "$$\n",
    "where $nrc(b)$ is the number of $R$-classes of $b$. Thus, \n",
    "$$\n",
    "P_S(x)=\\frac{(1-x)\\prod_{b\\in \\operatorname{Betti}(S)} (1-x^b)^{nrc(b)-1}}{\\prod_{i=1}^d (1-x^{n_i})}.\n",
    "$$\n",
    "Since all the roots of $P_S(x)$ are in the unit circle, by Kronecker's theorem $P_S$ is a product of cyclotomic polynomial.\n",
    "\n",
    "A numerical semigroup is cyclotomic if $P_S(x)$ is a product of cyclotomic polynomials. Consequently, every complete intersection is cyclotomic."
   ]
  },
  {
   "cell_type": "code",
   "execution_count": 170,
   "id": "4c923edc",
   "metadata": {},
   "outputs": [
    {
     "data": {
      "text/plain": [
       "true"
      ]
     },
     "execution_count": 170,
     "metadata": {
      "text/plain": ""
     },
     "output_type": "execute_result"
    }
   ],
   "source": [
    "IsCyclotomicNumericalSemigroup(s);"
   ]
  },
  {
   "cell_type": "code",
   "execution_count": 171,
   "id": "cafef707",
   "metadata": {},
   "outputs": [
    {
     "data": {
      "text/plain": [
       "true"
      ]
     },
     "execution_count": 171,
     "metadata": {
      "text/plain": ""
     },
     "output_type": "execute_result"
    }
   ],
   "source": [
    "IsKroneckerPolynomial(p);"
   ]
  },
  {
   "cell_type": "markdown",
   "id": "0868426b",
   "metadata": {},
   "source": [
    "For every numerical semigroup $S$, the polynomial $P_S(x)$ can be expressed in the following form (uniquely)\n",
    "$$\n",
    "P_S(x)= \\prod_{d\\in \\mathbb{N}\\setminus\\{0\\}}(1-x^d)^{e_d}.\n",
    "$$\n",
    "The sequence $(e_1,e_2,\\dots)$ is known as the cyclotomic exponent sequence associated to $S$."
   ]
  },
  {
   "cell_type": "code",
   "execution_count": 172,
   "id": "111164ba",
   "metadata": {},
   "outputs": [
    {
     "data": {
      "text/plain": [
       "[ 1, 0, 0, -1, 0, -1, 0, 0, -1, 0, 0, 1, 0, 0, 0, 0, 0, 1 ]"
      ]
     },
     "execution_count": 172,
     "metadata": {
      "text/plain": ""
     },
     "output_type": "execute_result"
    }
   ],
   "source": [
    "CyclotomicExponentSequence(s,40);"
   ]
  },
  {
   "cell_type": "code",
   "execution_count": 173,
   "id": "f0bb6482",
   "metadata": {},
   "outputs": [
    {
     "data": {
      "text/plain": [
       "[ 1, 0, 0, -1, 0, -1, 0, 0, -1, 0, 0, 1, 0, 0, 0, 0, 0, 1, 0, 0, 0, 0, 0, 0,   0, 0, 0, 0, 0, 0, 0, 0, 0, 0, 0, 0, 0, 0, 0, 0 ]"
      ]
     },
     "execution_count": 173,
     "metadata": {
      "text/plain": ""
     },
     "output_type": "execute_result"
    }
   ],
   "source": [
    "WittCoefficients(p,40);"
   ]
  },
  {
   "cell_type": "markdown",
   "id": "f3afa49e",
   "metadata": {},
   "source": [
    "The numerical semigroup $S$ is cyclotomic if and only if its cyclotomic exponent sequence has finite support."
   ]
  },
  {
   "cell_type": "code",
   "execution_count": 176,
   "id": "7d4f32e7",
   "metadata": {},
   "outputs": [
    {
     "data": {
      "text/plain": [
       "[ 1, 0, -1, 0, -1, 0, -1, 0, 0, 1, 0, 1, 0, 1, 0, 0, -1, 0, -1, 0, 0, 1, 0,   1, 0, 1, -1, 0, -2, 0, -2, 1, -1, 3, 0, 3, -1, 3, -3, 1, -5, 1, -5, 3, -3,   7, -2, 8, -4, 7, -9, 4, -14, 6, -14, 12, -10, 22, -9, 25, -16, 23, -30, 17,   -42, 23, -43, 41, -36, 66, -37, 76, -60, 73, -100, 66, -133, 91, -139, 148,   -129, 219, -146, 252, -222, 252, -340, 255, -438, 346, -469, 524, -473,   731, -564, 846, -820, 887, -1183, 973, -1488, 1309, -1635, 1889, -1756,   2530, -2157, 2947, -3026, 3214, -4181, 3701, -5187, 4922, -5839, 6834,   -6563, 8905, -8200, 10467, -11195, 11807, -14992, 14052, -18463, 18510,   -21237, 24982, -24675, 31960, -31101, 37904, -41573, 43905, -54450, 53343,   -66840, 69606, -78312, 91968, -93176, 116272, -117909, 139142, -155059,   164573, -199918, 202659, -245305, 262345 ]"
      ]
     },
     "execution_count": 176,
     "metadata": {
      "text/plain": ""
     },
     "output_type": "execute_result"
    }
   ],
   "source": [
    "s:=NumericalSemigroup(3,5,7);;\n",
    "p:=NumericalSemigroupPolynomial(s,x);;\n",
    "WittCoefficients(p,150);"
   ]
  },
  {
   "cell_type": "markdown",
   "id": "32b29361",
   "metadata": {},
   "source": [
    "We still do not know if every cyclotomic polynomial is a complete intersection."
   ]
  }
 ],
 "metadata": {
  "kernelspec": {
   "display_name": "GAP 4",
   "language": "gap",
   "name": "gap-4"
  },
  "language_info": {
   "codemirror_mode": "gap",
   "file_extension": ".g",
   "mimetype": "text/x-gap",
   "name": "GAP 4",
   "nbconvert_exporter": "",
   "pygments_lexer": "gap",
   "version": "4.12.2"
  }
 },
 "nbformat": 4,
 "nbformat_minor": 5
}
